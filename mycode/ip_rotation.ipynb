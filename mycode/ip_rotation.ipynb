{
 "cells": [
  {
   "cell_type": "markdown",
   "metadata": {},
   "source": [
    "Little IP Rotation Example from\n",
    "https://stackoverflow.com/questions/59409418/how-to-rotate-selenium-webrowser-ip-address"
   ]
  },
  {
   "cell_type": "code",
   "execution_count": 2,
   "metadata": {},
   "outputs": [
    {
     "name": "stdout",
     "output_type": "stream",
     "text": [
      "[{'IP Address': '109.202.219.167', 'Port': '8080', 'Code': 'CH', 'Country': 'Switzerland', 'Anonymity': 'elite proxy', 'Google': 'yes', 'Https': 'yes', 'Last Checked': '16 secs ago'}, {'IP Address': '178.128.110.95', 'Port': '38875', 'Code': 'SG', 'Country': 'Singapore', 'Anonymity': 'elite proxy', 'Google': 'no', 'Https': 'yes', 'Last Checked': '23 secs ago'}, {'IP Address': '193.242.138.1', 'Port': '3128', 'Code': 'PL', 'Country': 'Poland', 'Anonymity': 'elite proxy', 'Google': 'no', 'Https': 'yes', 'Last Checked': '23 secs ago'}, {'IP Address': '177.12.238.1', 'Port': '3128', 'Code': 'BR', 'Country': 'Brazil', 'Anonymity': 'elite proxy', 'Google': 'no', 'Https': 'yes', 'Last Checked': '23 secs ago'}, {'IP Address': '177.12.238.100', 'Port': '3128', 'Code': 'BR', 'Country': 'Brazil', 'Anonymity': 'elite proxy', 'Google': 'no', 'Https': 'yes', 'Last Checked': '23 secs ago'}, {'IP Address': '104.244.88.247', 'Port': '1091', 'Code': 'US', 'Country': 'United States', 'Anonymity': 'elite proxy', 'Google': 'no', 'Https': 'yes', 'Last Checked': '1 min ago'}, {'IP Address': '151.181.91.10', 'Port': '80', 'Code': 'US', 'Country': 'United States', 'Anonymity': 'elite proxy', 'Google': 'yes', 'Https': 'yes', 'Last Checked': '1 min ago'}, {'IP Address': '85.159.214.61', 'Port': '1080', 'Code': 'GB', 'Country': 'United Kingdom', 'Anonymity': 'elite proxy', 'Google': 'no', 'Https': 'yes', 'Last Checked': '1 min ago'}, {'IP Address': '47.253.105.175', 'Port': '5566', 'Code': 'US', 'Country': 'United States', 'Anonymity': 'elite proxy', 'Google': 'no', 'Https': 'yes', 'Last Checked': '10 mins ago'}, {'IP Address': '47.91.56.120', 'Port': '8080', 'Code': 'AU', 'Country': 'Australia', 'Anonymity': 'elite proxy', 'Google': 'no', 'Https': 'yes', 'Last Checked': '10 mins ago'}, {'IP Address': '193.122.71.184', 'Port': '3128', 'Code': 'SA', 'Country': 'Saudi Arabia', 'Anonymity': 'anonymous', 'Google': 'no', 'Https': 'yes', 'Last Checked': '10 mins ago'}, {'IP Address': '192.53.163.144', 'Port': '3128', 'Code': 'US', 'Country': 'United States', 'Anonymity': 'elite proxy', 'Google': 'no', 'Https': 'yes', 'Last Checked': '10 mins ago'}, {'IP Address': '51.250.80.131', 'Port': '80', 'Code': 'RU', 'Country': 'Russian Federation', 'Anonymity': 'anonymous', 'Google': 'no', 'Https': 'yes', 'Last Checked': '10 mins ago'}, {'IP Address': '68.183.191.179', 'Port': '44290', 'Code': 'SG', 'Country': 'Singapore', 'Anonymity': 'elite proxy', 'Google': 'no', 'Https': 'yes', 'Last Checked': '20 mins ago'}, {'IP Address': '107.172.73.179', 'Port': '7890', 'Code': 'US', 'Country': 'United States', 'Anonymity': 'elite proxy', 'Google': 'no', 'Https': 'yes', 'Last Checked': '20 mins ago'}, {'IP Address': '45.79.111.38', 'Port': '9994', 'Code': 'US', 'Country': 'United States', 'Anonymity': 'elite proxy', 'Google': 'no', 'Https': 'yes', 'Last Checked': '20 mins ago'}, {'IP Address': '167.71.199.211', 'Port': '33349', 'Code': 'SG', 'Country': 'Singapore', 'Anonymity': 'elite proxy', 'Google': 'no', 'Https': 'yes', 'Last Checked': '20 mins ago'}, {'IP Address': '47.252.1.180', 'Port': '3128', 'Code': 'US', 'Country': 'United States', 'Anonymity': 'elite proxy', 'Google': 'no', 'Https': 'yes', 'Last Checked': '20 mins ago'}, {'IP Address': '170.187.141.197', 'Port': '8080', 'Code': 'US', 'Country': 'United States', 'Anonymity': 'elite proxy', 'Google': 'no', 'Https': 'yes', 'Last Checked': '20 mins ago'}, {'IP Address': '198.11.175.180', 'Port': '8080', 'Code': 'US', 'Country': 'United States', 'Anonymity': 'elite proxy', 'Google': 'no', 'Https': 'yes', 'Last Checked': '20 mins ago'}, {'IP Address': '45.56.98.229', 'Port': '49857', 'Code': 'US', 'Country': 'United States', 'Anonymity': 'elite proxy', 'Google': '', 'Https': 'yes', 'Last Checked': '30 mins ago'}, {'IP Address': '45.169.162.1', 'Port': '3128', 'Code': 'BR', 'Country': 'Brazil', 'Anonymity': 'elite proxy', 'Google': 'no', 'Https': 'yes', 'Last Checked': '30 mins ago'}, {'IP Address': '45.79.208.64', 'Port': '44554', 'Code': 'US', 'Country': 'United States', 'Anonymity': 'elite proxy', 'Google': '', 'Https': 'yes', 'Last Checked': '30 mins ago'}, {'IP Address': '80.66.81.40', 'Port': '8080', 'Code': 'UA', 'Country': 'Ukraine', 'Anonymity': 'elite proxy', 'Google': '', 'Https': 'yes', 'Last Checked': '40 mins ago'}, {'IP Address': '213.230.66.38', 'Port': '8080', 'Code': 'UZ', 'Country': 'Uzbekistan', 'Anonymity': 'elite proxy', 'Google': 'no', 'Https': 'yes', 'Last Checked': '41 mins ago'}, {'IP Address': '110.238.74.184', 'Port': '8080', 'Code': 'MX', 'Country': 'Mexico', 'Anonymity': 'elite proxy', 'Google': 'no', 'Https': 'yes', 'Last Checked': '41 mins ago'}, {'IP Address': '147.139.164.26', 'Port': '8080', 'Code': 'ID', 'Country': 'Indonesia', 'Anonymity': 'elite proxy', 'Google': 'no', 'Https': 'yes', 'Last Checked': '41 mins ago'}, {'IP Address': '110.34.3.229', 'Port': '3128', 'Code': 'NP', 'Country': 'Nepal', 'Anonymity': 'anonymous', 'Google': '', 'Https': 'yes', 'Last Checked': '41 mins ago'}, {'IP Address': '181.176.211.168', 'Port': '8080', 'Code': 'PE', 'Country': 'Peru', 'Anonymity': 'anonymous', 'Google': '', 'Https': 'yes', 'Last Checked': '41 mins ago'}, {'IP Address': '200.60.87.202', 'Port': '999', 'Code': 'PE', 'Country': 'Peru', 'Anonymity': 'anonymous', 'Google': '', 'Https': 'yes', 'Last Checked': '41 mins ago'}, {'IP Address': '204.185.204.64', 'Port': '8080', 'Code': 'US', 'Country': 'United States', 'Anonymity': 'anonymous', 'Google': '', 'Https': 'yes', 'Last Checked': '41 mins ago'}, {'IP Address': '157.230.34.219', 'Port': '3128', 'Code': 'SG', 'Country': 'Singapore', 'Anonymity': 'anonymous', 'Google': '', 'Https': 'yes', 'Last Checked': '41 mins ago'}, {'IP Address': '89.38.96.219', 'Port': '3128', 'Code': 'NL', 'Country': 'Netherlands', 'Anonymity': 'anonymous', 'Google': '', 'Https': 'yes', 'Last Checked': '41 mins ago'}, {'IP Address': '201.71.2.97', 'Port': '999', 'Code': 'VE', 'Country': 'Venezuela', 'Anonymity': 'anonymous', 'Google': '', 'Https': 'yes', 'Last Checked': '41 mins ago'}, {'IP Address': '157.100.12.138', 'Port': '999', 'Code': 'EC', 'Country': 'Ecuador', 'Anonymity': 'anonymous', 'Google': 'yes', 'Https': 'yes', 'Last Checked': '41 mins ago'}, {'IP Address': '110.39.165.10', 'Port': '8080', 'Code': 'PK', 'Country': 'Pakistan', 'Anonymity': 'anonymous', 'Google': '', 'Https': 'yes', 'Last Checked': '41 mins ago'}, {'IP Address': '45.79.27.210', 'Port': '44554', 'Code': 'US', 'Country': 'United States', 'Anonymity': 'anonymous', 'Google': '', 'Https': 'yes', 'Last Checked': '41 mins ago'}, {'IP Address': '181.57.131.122', 'Port': '8080', 'Code': 'CO', 'Country': 'Colombia', 'Anonymity': 'anonymous', 'Google': '', 'Https': 'yes', 'Last Checked': '41 mins ago'}, {'IP Address': '162.248.241.210', 'Port': '3128', 'Code': 'US', 'Country': 'United States', 'Anonymity': 'anonymous', 'Google': '', 'Https': 'yes', 'Last Checked': '41 mins ago'}, {'IP Address': '217.147.172.65', 'Port': '8118', 'Code': 'PL', 'Country': 'Poland', 'Anonymity': 'anonymous', 'Google': '', 'Https': 'yes', 'Last Checked': '41 mins ago'}, {'IP Address': '115.75.70.79', 'Port': '4100', 'Code': 'VN', 'Country': 'Vietnam', 'Anonymity': 'anonymous', 'Google': '', 'Https': 'yes', 'Last Checked': '41 mins ago'}, {'IP Address': '161.82.183.156', 'Port': '80', 'Code': 'TH', 'Country': 'Thailand', 'Anonymity': 'anonymous', 'Google': '', 'Https': 'yes', 'Last Checked': '41 mins ago'}, {'IP Address': '47.254.237.222', 'Port': '8080', 'Code': 'MY', 'Country': 'Malaysia', 'Anonymity': 'anonymous', 'Google': '', 'Https': 'yes', 'Last Checked': '41 mins ago'}, {'IP Address': '45.174.78.64', 'Port': '999', 'Code': 'MX', 'Country': 'Mexico', 'Anonymity': 'anonymous', 'Google': '', 'Https': 'yes', 'Last Checked': '41 mins ago'}, {'IP Address': '182.191.84.39', 'Port': '80', 'Code': 'PK', 'Country': 'Pakistan', 'Anonymity': 'anonymous', 'Google': '', 'Https': 'yes', 'Last Checked': '41 mins ago'}, {'IP Address': '80.84.176.110', 'Port': '8080', 'Code': 'UA', 'Country': 'Ukraine', 'Anonymity': 'anonymous', 'Google': '', 'Https': 'yes', 'Last Checked': '41 mins ago'}, {'IP Address': '118.100.182.176', 'Port': '8080', 'Code': 'MY', 'Country': 'Malaysia', 'Anonymity': 'anonymous', 'Google': '', 'Https': 'yes', 'Last Checked': '41 mins ago'}, {'IP Address': '155.4.244.218', 'Port': '80', 'Code': 'SE', 'Country': 'Sweden', 'Anonymity': 'anonymous', 'Google': '', 'Https': 'yes', 'Last Checked': '41 mins ago'}, {'IP Address': '78.186.99.208', 'Port': '10001', 'Code': 'TR', 'Country': 'Turkey', 'Anonymity': 'anonymous', 'Google': '', 'Https': 'yes', 'Last Checked': '41 mins ago'}, {'IP Address': '45.79.158.235', 'Port': '44554', 'Code': 'US', 'Country': 'United States', 'Anonymity': 'anonymous', 'Google': '', 'Https': 'yes', 'Last Checked': '41 mins ago'}, {'IP Address': '47.254.47.61', 'Port': '8080', 'Code': 'US', 'Country': 'United States', 'Anonymity': 'anonymous', 'Google': '', 'Https': 'yes', 'Last Checked': '41 mins ago'}, {'IP Address': '181.23.144.100', 'Port': '999', 'Code': 'AR', 'Country': 'Argentina', 'Anonymity': 'anonymous', 'Google': '', 'Https': 'yes', 'Last Checked': '41 mins ago'}, {'IP Address': '70.90.138.109', 'Port': '8080', 'Code': 'US', 'Country': 'United States', 'Anonymity': 'anonymous', 'Google': '', 'Https': 'yes', 'Last Checked': '41 mins ago'}, {'IP Address': '180.178.188.126', 'Port': '8080', 'Code': 'PK', 'Country': 'Pakistan', 'Anonymity': 'anonymous', 'Google': '', 'Https': 'yes', 'Last Checked': '41 mins ago'}, {'IP Address': '198.59.191.234', 'Port': '8080', 'Code': 'US', 'Country': 'United States', 'Anonymity': 'anonymous', 'Google': '', 'Https': 'yes', 'Last Checked': '41 mins ago'}, {'IP Address': '222.252.156.61', 'Port': '62694', 'Code': 'VN', 'Country': 'Vietnam', 'Anonymity': 'anonymous', 'Google': '', 'Https': 'yes', 'Last Checked': '41 mins ago'}, {'IP Address': '183.89.166.156', 'Port': '8080', 'Code': 'TH', 'Country': 'Thailand', 'Anonymity': 'anonymous', 'Google': '', 'Https': 'yes', 'Last Checked': '41 mins ago'}, {'IP Address': '118.70.186.173', 'Port': '4007', 'Code': 'VN', 'Country': 'Vietnam', 'Anonymity': 'anonymous', 'Google': '', 'Https': 'yes', 'Last Checked': '41 mins ago'}, {'IP Address': '88.255.102.32', 'Port': '8080', 'Code': 'TR', 'Country': 'Turkey', 'Anonymity': 'anonymous', 'Google': '', 'Https': 'yes', 'Last Checked': '41 mins ago'}, {'IP Address': '212.175.98.171', 'Port': '8080', 'Code': 'TR', 'Country': 'Turkey', 'Anonymity': 'anonymous', 'Google': '', 'Https': 'yes', 'Last Checked': '41 mins ago'}, {'IP Address': '189.148.149.113', 'Port': '999', 'Code': 'MX', 'Country': 'Mexico', 'Anonymity': 'anonymous', 'Google': '', 'Https': 'yes', 'Last Checked': '41 mins ago'}, {'IP Address': '94.181.48.249', 'Port': '1256', 'Code': 'RU', 'Country': 'Russian Federation', 'Anonymity': 'anonymous', 'Google': '', 'Https': 'yes', 'Last Checked': '41 mins ago'}, {'IP Address': '188.132.222.7', 'Port': '8080', 'Code': 'TR', 'Country': 'Turkey', 'Anonymity': 'anonymous', 'Google': '', 'Https': 'yes', 'Last Checked': '41 mins ago'}, {'IP Address': '38.49.128.114', 'Port': '999', 'Code': 'MX', 'Country': 'Mexico', 'Anonymity': 'anonymous', 'Google': '', 'Https': 'yes', 'Last Checked': '41 mins ago'}, {'IP Address': '206.189.37.48', 'Port': '8080', 'Code': 'SG', 'Country': 'Singapore', 'Anonymity': 'anonymous', 'Google': '', 'Https': 'yes', 'Last Checked': '41 mins ago'}, {'IP Address': '105.112.133.154', 'Port': '8080', 'Code': 'NG', 'Country': 'Nigeria', 'Anonymity': 'anonymous', 'Google': '', 'Https': 'yes', 'Last Checked': '41 mins ago'}, {'IP Address': '113.160.214.209', 'Port': '19132', 'Code': 'VN', 'Country': 'Vietnam', 'Anonymity': 'anonymous', 'Google': '', 'Https': 'yes', 'Last Checked': '41 mins ago'}, {'IP Address': '173.212.219.228', 'Port': '80', 'Code': 'DE', 'Country': 'Germany', 'Anonymity': 'anonymous', 'Google': '', 'Https': 'yes', 'Last Checked': '41 mins ago'}, {'IP Address': '174.138.16.96', 'Port': '8888', 'Code': 'SG', 'Country': 'Singapore', 'Anonymity': 'anonymous', 'Google': '', 'Https': 'yes', 'Last Checked': '41 mins ago'}, {'IP Address': '38.49.131.150', 'Port': '999', 'Code': 'MX', 'Country': 'Mexico', 'Anonymity': 'anonymous', 'Google': '', 'Https': 'yes', 'Last Checked': '41 mins ago'}, {'IP Address': '35.131.26.94', 'Port': '3129', 'Code': 'US', 'Country': 'United States', 'Anonymity': 'anonymous', 'Google': '', 'Https': 'yes', 'Last Checked': '41 mins ago'}, {'IP Address': '74.82.50.155', 'Port': '3128', 'Code': 'US', 'Country': 'United States', 'Anonymity': 'anonymous', 'Google': '', 'Https': 'yes', 'Last Checked': '41 mins ago'}, {'IP Address': '201.163.47.2', 'Port': '999', 'Code': 'MX', 'Country': 'Mexico', 'Anonymity': 'anonymous', 'Google': '', 'Https': 'yes', 'Last Checked': '41 mins ago'}, {'IP Address': '105.112.133.146', 'Port': '8080', 'Code': 'NG', 'Country': 'Nigeria', 'Anonymity': 'anonymous', 'Google': '', 'Https': 'yes', 'Last Checked': '41 mins ago'}, {'IP Address': '201.150.119.96', 'Port': '999', 'Code': 'MX', 'Country': 'Mexico', 'Anonymity': 'anonymous', 'Google': '', 'Https': 'yes', 'Last Checked': '41 mins ago'}, {'IP Address': '89.107.197.165', 'Port': '3128', 'Code': 'RU', 'Country': 'Russian Federation', 'Anonymity': 'anonymous', 'Google': '', 'Https': 'yes', 'Last Checked': '41 mins ago'}, {'IP Address': '181.129.49.214', 'Port': '999', 'Code': 'CO', 'Country': 'Colombia', 'Anonymity': 'anonymous', 'Google': '', 'Https': 'yes', 'Last Checked': '41 mins ago'}, {'IP Address': '205.134.235.132', 'Port': '3129', 'Code': 'US', 'Country': 'United States', 'Anonymity': 'anonymous', 'Google': '', 'Https': 'yes', 'Last Checked': '41 mins ago'}, {'IP Address': '212.112.127.20', 'Port': '8080', 'Code': 'KG', 'Country': 'Kyrgyzstan', 'Anonymity': 'anonymous', 'Google': '', 'Https': 'yes', 'Last Checked': '41 mins ago'}, {'IP Address': '212.108.144.67', 'Port': '8080', 'Code': 'CY', 'Country': 'Cyprus', 'Anonymity': 'anonymous', 'Google': '', 'Https': 'yes', 'Last Checked': '41 mins ago'}, {'IP Address': '47.74.226.8', 'Port': '5001', 'Code': 'SG', 'Country': 'Singapore', 'Anonymity': 'anonymous', 'Google': '', 'Https': 'yes', 'Last Checked': '41 mins ago'}, {'IP Address': '143.198.182.218', 'Port': '80', 'Code': 'US', 'Country': 'United States', 'Anonymity': 'anonymous', 'Google': '', 'Https': 'yes', 'Last Checked': '41 mins ago'}, {'IP Address': '111.90.188.206', 'Port': '8080', 'Code': 'KH', 'Country': 'Cambodia', 'Anonymity': 'anonymous', 'Google': '', 'Https': 'yes', 'Last Checked': '41 mins ago'}, {'IP Address': '122.155.165.191', 'Port': '3128', 'Code': 'TH', 'Country': 'Thailand', 'Anonymity': 'anonymous', 'Google': '', 'Https': 'yes', 'Last Checked': '41 mins ago'}, {'IP Address': '201.221.187.209', 'Port': '999', 'Code': 'CO', 'Country': 'Colombia', 'Anonymity': 'anonymous', 'Google': '', 'Https': 'yes', 'Last Checked': '41 mins ago'}, {'IP Address': '148.244.249.194', 'Port': '999', 'Code': 'MX', 'Country': 'Mexico', 'Anonymity': 'anonymous', 'Google': '', 'Https': 'yes', 'Last Checked': '41 mins ago'}, {'IP Address': '200.82.188.47', 'Port': '999', 'Code': 'VE', 'Country': 'Venezuela', 'Anonymity': 'anonymous', 'Google': '', 'Https': 'yes', 'Last Checked': '41 mins ago'}, {'IP Address': '41.161.92.138', 'Port': '8080', 'Code': 'ZA', 'Country': 'South Africa', 'Anonymity': 'anonymous', 'Google': '', 'Https': 'yes', 'Last Checked': '41 mins ago'}, {'IP Address': '49.48.98.71', 'Port': '8080', 'Code': 'TH', 'Country': 'Thailand', 'Anonymity': 'anonymous', 'Google': '', 'Https': 'yes', 'Last Checked': '41 mins ago'}, {'IP Address': '180.183.116.205', 'Port': '8080', 'Code': 'TH', 'Country': 'Thailand', 'Anonymity': 'anonymous', 'Google': '', 'Https': 'yes', 'Last Checked': '41 mins ago'}, {'IP Address': '8.209.68.1', 'Port': '8080', 'Code': 'DE', 'Country': 'Germany', 'Anonymity': 'elite proxy', 'Google': 'no', 'Https': 'yes', 'Last Checked': '50 mins ago'}, {'IP Address': '47.245.34.161', 'Port': '8080', 'Code': 'JP', 'Country': 'Japan', 'Anonymity': 'elite proxy', 'Google': 'no', 'Https': 'yes', 'Last Checked': '50 mins ago'}, {'IP Address': '45.56.83.46', 'Port': '8012', 'Code': 'US', 'Country': 'United States', 'Anonymity': 'elite proxy', 'Google': 'no', 'Https': 'yes', 'Last Checked': '50 mins ago'}, {'IP Address': '172.105.25.190', 'Port': '8020', 'Code': 'CA', 'Country': 'Canada', 'Anonymity': 'elite proxy', 'Google': 'no', 'Https': 'yes', 'Last Checked': '50 mins ago'}, {'IP Address': '194.195.216.153', 'Port': '4145', 'Code': 'US', 'Country': 'United States', 'Anonymity': 'elite proxy', 'Google': 'no', 'Https': 'yes', 'Last Checked': '50 mins ago'}, {'IP Address': '167.235.236.0', 'Port': '9090', 'Code': 'DE', 'Country': 'Germany', 'Anonymity': 'anonymous', 'Google': 'no', 'Https': 'yes', 'Last Checked': '50 mins ago'}, {'IP Address': '194.195.213.197', 'Port': '1080', 'Code': 'US', 'Country': 'United States', 'Anonymity': 'elite proxy', 'Google': 'no', 'Https': 'yes', 'Last Checked': '50 mins ago'}, {'IP Address': '85.183.140.35', 'Port': '8080', 'Code': 'DE', 'Country': 'Germany', 'Anonymity': 'anonymous', 'Google': '', 'Https': 'yes', 'Last Checked': '1 hour ago'}, {'IP Address': '5.254.34.4', 'Port': '3129', 'Code': 'US', 'Country': 'United States', 'Anonymity': 'elite proxy', 'Google': 'no', 'Https': 'yes', 'Last Checked': '1 hour ago'}, {'IP Address': '178.128.55.68', 'Port': '41477', 'Code': 'SG', 'Country': 'Singapore', 'Anonymity': 'anonymous', 'Google': '', 'Https': 'yes', 'Last Checked': '1 hour ago'}]\n"
     ]
    }
   ],
   "source": [
    "from selenium import webdriver\n",
    "from selenium.webdriver.common.by import By\n",
    "import chromedriver_autoinstaller # install chromedriver_autoinstaller\n",
    "\n",
    "chromedriver_autoinstaller.install() # To update your chromedriver automatically\n",
    "driver = webdriver.Chrome()\n",
    "\n",
    "# Get free proxies for rotating\n",
    "def get_free_proxies(driver):\n",
    "    driver.get('https://sslproxies.org')\n",
    "\n",
    "    table = driver.find_element(By.TAG_NAME, 'table')\n",
    "    thead = table.find_element(By.TAG_NAME, 'thead').find_elements(By.TAG_NAME, 'th')\n",
    "    tbody = table.find_element(By.TAG_NAME, 'tbody').find_elements(By.TAG_NAME, 'tr')\n",
    "\n",
    "    headers = []\n",
    "    for th in thead:\n",
    "        headers.append(th.text.strip())\n",
    "\n",
    "    proxies = []\n",
    "    for tr in tbody:\n",
    "        proxy_data = {}\n",
    "        tds = tr.find_elements(By.TAG_NAME, 'td')\n",
    "        for i in range(len(headers)):\n",
    "            proxy_data[headers[i]] = tds[i].text.strip()\n",
    "        proxies.append(proxy_data)\n",
    "    \n",
    "    return proxies\n",
    "\n",
    "\n",
    "free_proxies = get_free_proxies(driver)\n",
    "\n",
    "print(free_proxies)"
   ]
  },
  {
   "cell_type": "markdown",
   "metadata": {},
   "source": [
    "Use of Proxybroker\n",
    "Little Example"
   ]
  },
  {
   "cell_type": "code",
   "execution_count": 1,
   "metadata": {},
   "outputs": [
    {
     "name": "stderr",
     "output_type": "stream",
     "text": [
      "c:\\Users\\lange\\anaconda3\\envs\\handelreg\\lib\\site-packages\\proxybroker\\api.py:97: DeprecationWarning: The loop argument is deprecated since Python 3.8, and scheduled for removal in Python 3.10.\n",
      "  self._on_check = asyncio.Queue(maxsize=max_conn, loop=self._loop)\n",
      "c:\\Users\\lange\\anaconda3\\envs\\handelreg\\lib\\asyncio\\queues.py:49: DeprecationWarning: The loop argument is deprecated since Python 3.8, and scheduled for removal in Python 3.10.\n",
      "  self._finished = locks.Event(loop=loop)\n"
     ]
    },
    {
     "ename": "RuntimeError",
     "evalue": "This event loop is already running",
     "output_type": "error",
     "traceback": [
      "\u001b[1;31m---------------------------------------------------------------------------\u001b[0m",
      "\u001b[1;31mRuntimeError\u001b[0m                              Traceback (most recent call last)",
      "\u001b[1;32mc:\\Users\\lange\\OneDrive\\Dokumente\\Studium\\06_Abschlussarbeiten\\Seminar\\hareg-nlp\\mycode\\ip_rotation.ipynb Zelle 4\u001b[0m in \u001b[0;36m<cell line: 17>\u001b[1;34m()\u001b[0m\n\u001b[0;32m     <a href='vscode-notebook-cell:/c%3A/Users/lange/OneDrive/Dokumente/Studium/06_Abschlussarbeiten/Seminar/hareg-nlp/mycode/ip_rotation.ipynb#W3sZmlsZQ%3D%3D?line=11'>12</a>\u001b[0m tasks \u001b[39m=\u001b[39m asyncio\u001b[39m.\u001b[39mgather(\n\u001b[0;32m     <a href='vscode-notebook-cell:/c%3A/Users/lange/OneDrive/Dokumente/Studium/06_Abschlussarbeiten/Seminar/hareg-nlp/mycode/ip_rotation.ipynb#W3sZmlsZQ%3D%3D?line=12'>13</a>\u001b[0m     broker\u001b[39m.\u001b[39mfind(types\u001b[39m=\u001b[39m[\u001b[39m'\u001b[39m\u001b[39mHTTP\u001b[39m\u001b[39m'\u001b[39m, \u001b[39m'\u001b[39m\u001b[39mHTTPS\u001b[39m\u001b[39m'\u001b[39m], limit\u001b[39m=\u001b[39m\u001b[39m10\u001b[39m),\n\u001b[0;32m     <a href='vscode-notebook-cell:/c%3A/Users/lange/OneDrive/Dokumente/Studium/06_Abschlussarbeiten/Seminar/hareg-nlp/mycode/ip_rotation.ipynb#W3sZmlsZQ%3D%3D?line=13'>14</a>\u001b[0m     show(proxies))\n\u001b[0;32m     <a href='vscode-notebook-cell:/c%3A/Users/lange/OneDrive/Dokumente/Studium/06_Abschlussarbeiten/Seminar/hareg-nlp/mycode/ip_rotation.ipynb#W3sZmlsZQ%3D%3D?line=15'>16</a>\u001b[0m loop \u001b[39m=\u001b[39m asyncio\u001b[39m.\u001b[39mget_event_loop()\n\u001b[1;32m---> <a href='vscode-notebook-cell:/c%3A/Users/lange/OneDrive/Dokumente/Studium/06_Abschlussarbeiten/Seminar/hareg-nlp/mycode/ip_rotation.ipynb#W3sZmlsZQ%3D%3D?line=16'>17</a>\u001b[0m loop\u001b[39m.\u001b[39;49mrun_until_complete(tasks)\n",
      "File \u001b[1;32mc:\\Users\\lange\\anaconda3\\envs\\handelreg\\lib\\asyncio\\base_events.py:623\u001b[0m, in \u001b[0;36mBaseEventLoop.run_until_complete\u001b[1;34m(self, future)\u001b[0m\n\u001b[0;32m    612\u001b[0m \u001b[39m\"\"\"Run until the Future is done.\u001b[39;00m\n\u001b[0;32m    613\u001b[0m \n\u001b[0;32m    614\u001b[0m \u001b[39mIf the argument is a coroutine, it is wrapped in a Task.\u001b[39;00m\n\u001b[1;32m   (...)\u001b[0m\n\u001b[0;32m    620\u001b[0m \u001b[39mReturn the Future's result, or raise its exception.\u001b[39;00m\n\u001b[0;32m    621\u001b[0m \u001b[39m\"\"\"\u001b[39;00m\n\u001b[0;32m    622\u001b[0m \u001b[39mself\u001b[39m\u001b[39m.\u001b[39m_check_closed()\n\u001b[1;32m--> 623\u001b[0m \u001b[39mself\u001b[39;49m\u001b[39m.\u001b[39;49m_check_running()\n\u001b[0;32m    625\u001b[0m new_task \u001b[39m=\u001b[39m \u001b[39mnot\u001b[39;00m futures\u001b[39m.\u001b[39misfuture(future)\n\u001b[0;32m    626\u001b[0m future \u001b[39m=\u001b[39m tasks\u001b[39m.\u001b[39mensure_future(future, loop\u001b[39m=\u001b[39m\u001b[39mself\u001b[39m)\n",
      "File \u001b[1;32mc:\\Users\\lange\\anaconda3\\envs\\handelreg\\lib\\asyncio\\base_events.py:583\u001b[0m, in \u001b[0;36mBaseEventLoop._check_running\u001b[1;34m(self)\u001b[0m\n\u001b[0;32m    581\u001b[0m \u001b[39mdef\u001b[39;00m \u001b[39m_check_running\u001b[39m(\u001b[39mself\u001b[39m):\n\u001b[0;32m    582\u001b[0m     \u001b[39mif\u001b[39;00m \u001b[39mself\u001b[39m\u001b[39m.\u001b[39mis_running():\n\u001b[1;32m--> 583\u001b[0m         \u001b[39mraise\u001b[39;00m \u001b[39mRuntimeError\u001b[39;00m(\u001b[39m'\u001b[39m\u001b[39mThis event loop is already running\u001b[39m\u001b[39m'\u001b[39m)\n\u001b[0;32m    584\u001b[0m     \u001b[39mif\u001b[39;00m events\u001b[39m.\u001b[39m_get_running_loop() \u001b[39mis\u001b[39;00m \u001b[39mnot\u001b[39;00m \u001b[39mNone\u001b[39;00m:\n\u001b[0;32m    585\u001b[0m         \u001b[39mraise\u001b[39;00m \u001b[39mRuntimeError\u001b[39;00m(\n\u001b[0;32m    586\u001b[0m             \u001b[39m'\u001b[39m\u001b[39mCannot run the event loop while another loop is running\u001b[39m\u001b[39m'\u001b[39m)\n",
      "\u001b[1;31mRuntimeError\u001b[0m: This event loop is already running"
     ]
    }
   ],
   "source": [
    "import asyncio\n",
    "from proxybroker import Broker\n",
    "\n",
    "async def show(proxies):\n",
    "    while True:\n",
    "        proxy = await proxies.get()\n",
    "        if proxy is None: break\n",
    "        print('Found proxy: %s' % proxy)\n",
    "\n",
    "proxies = asyncio.Queue()\n",
    "broker = Broker(proxies)\n",
    "tasks = asyncio.gather(\n",
    "    broker.find(types=['HTTP', 'HTTPS'], limit=10),\n",
    "    show(proxies))\n",
    "\n",
    "loop = asyncio.get_event_loop()\n",
    "loop.run_until_complete(tasks)"
   ]
  }
 ],
 "metadata": {
  "kernelspec": {
   "display_name": "Python 3.9.13 ('handelreg')",
   "language": "python",
   "name": "python3"
  },
  "language_info": {
   "codemirror_mode": {
    "name": "ipython",
    "version": 3
   },
   "file_extension": ".py",
   "mimetype": "text/x-python",
   "name": "python",
   "nbconvert_exporter": "python",
   "pygments_lexer": "ipython3",
   "version": "3.9.13"
  },
  "orig_nbformat": 4,
  "vscode": {
   "interpreter": {
    "hash": "8ecc71f0c805e7b0299b362458c917069b40f45b7a664663fd15581e0a2e2c8e"
   }
  }
 },
 "nbformat": 4,
 "nbformat_minor": 2
}
