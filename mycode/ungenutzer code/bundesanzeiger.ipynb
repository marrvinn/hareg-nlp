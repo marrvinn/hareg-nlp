{
 "cells": [
  {
   "cell_type": "code",
   "execution_count": 4,
   "metadata": {},
   "outputs": [
    {
     "name": "stdout",
     "output_type": "stream",
     "text": [
      "dict_keys(['Jahresabschluss zum Geschäftsjahr vom 01.01.2020 bis zum 31.12.2020', 'Jahresabschluss zum Geschäftsjahr vom 01.01.2019 bis zum 31.12.2019', 'Jahresabschluss zum Geschäftsjahr vom 01.01.2018 bis zum 31.12.2018'])\n"
     ]
    }
   ],
   "source": [
    "from deutschland.bundesanzeiger import Bundesanzeiger\n",
    "ba = Bundesanzeiger()\n",
    "# search term\n",
    "data = ba.get_reports(\"snapaddy\")\n",
    "# returns a dictionary with all reports found as fulltext reports\n",
    "print(data.keys())"
   ]
  }
 ],
 "metadata": {
  "kernelspec": {
   "display_name": "Python 3.9.13 ('handelreg')",
   "language": "python",
   "name": "python3"
  },
  "language_info": {
   "codemirror_mode": {
    "name": "ipython",
    "version": 3
   },
   "file_extension": ".py",
   "mimetype": "text/x-python",
   "name": "python",
   "nbconvert_exporter": "python",
   "pygments_lexer": "ipython3",
   "version": "3.9.13"
  },
  "orig_nbformat": 4,
  "vscode": {
   "interpreter": {
    "hash": "8ecc71f0c805e7b0299b362458c917069b40f45b7a664663fd15581e0a2e2c8e"
   }
  }
 },
 "nbformat": 4,
 "nbformat_minor": 2
}
