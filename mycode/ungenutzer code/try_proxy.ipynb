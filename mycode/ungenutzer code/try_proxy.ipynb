{
 "cells": [
  {
   "cell_type": "markdown",
   "metadata": {},
   "source": [
    "# Import"
   ]
  },
  {
   "cell_type": "code",
   "execution_count": 5,
   "metadata": {},
   "outputs": [],
   "source": [
    "# general\n",
    "import pandas as pd\n",
    "\n",
    "# waits\n",
    "import random\n",
    "from time import sleep\n",
    "\n",
    "# driver\n",
    "import undetected_chromedriver.v2 as uc\n",
    "from selenium import webdriver\n",
    "import chromedriver_autoinstaller\n",
    "\n",
    "# selenium\n",
    "from selenium.webdriver.common.keys import Keys\n",
    "from selenium.webdriver.common.by import By\n",
    "from selenium.webdriver.support.ui import WebDriverWait\n",
    "from selenium.webdriver.support import expected_conditions as EC\n",
    "\n",
    "# other\n",
    "# from ssl import Options\n",
    "\n",
    "# multi\n",
    "from concurrent import futures"
   ]
  },
  {
   "cell_type": "markdown",
   "metadata": {},
   "source": [
    "# Go"
   ]
  },
  {
   "cell_type": "code",
   "execution_count": 17,
   "metadata": {},
   "outputs": [
    {
     "name": "stdout",
     "output_type": "stream",
     "text": [
      "input_swort: <selenium.webdriver.remote.webelement.WebElement (session=\"002d5b9ed4bd918e2f12cf433b0c129b\", element=\"dca61359-d9b5-484f-9758-3426dbe33715\")> input_nsitz: <selenium.webdriver.remote.webelement.WebElement (session=\"002d5b9ed4bd918e2f12cf433b0c129b\", element=\"06f7cf20-56ca-4b43-a625-8c9d6154a905\")>\n"
     ]
    }
   ],
   "source": [
    "chrome_options = uc.ChromeOptions()\n",
    "# PROXY = \"185.199.231.45:8382\"\n",
    "# chrome_options.add_argument('--proxy-server=http://%s' % PROXY)\n",
    "driver = uc.Chrome(options=chrome_options)\n",
    "driver.maximize_window()\n",
    "\n",
    "URL = \"https://www.handelsregister.de/rp_web/erweitertesuche.xhtml\"\n",
    "# URL = \"https://bot.sannysoft.com/\"    # test site for bot detection\n",
    "# URL = \"https://nowsecure.nl\"          # test site with max anti-bot protection\n",
    "driver.get(URL)\n",
    "\n",
    "# input\n",
    "input_swort = WebDriverWait(driver, 20).until(EC.visibility_of_element_located((By.XPATH, '//*[@id=\"form:schlagwoerter\"]')))\n",
    "input_nsitz = WebDriverWait(driver, 20).until(EC.visibility_of_element_located((By.XPATH, '//*[@id=\"form:NiederlassungSitz\"]')))\n",
    "input_swort.clear()\n",
    "input_nsitz.clear()\n",
    "\n",
    "print(\"input_swort: {} input_nsitz: {}\".format(input_swort, input_nsitz))\n",
    "\n",
    "input_swort.send_keys(\"snapaddy\")\n",
    "sleep(round(random.uniform(0.31, 2.11), 2))\n",
    "input_nsitz.send_keys(\"würzburg\")\n",
    "sleep(round(random.uniform(0.31, 2.11), 2))\n",
    "\n",
    "# submit does not work, so click button\n",
    "driver.execute_script(\"window.scrollTo(0, document.body.scrollHeight);\")\n",
    "sleep(round(random.uniform(0.31, 2.11), 2))\n",
    "# btn_suche = driver.find_element_by_xpath(xpath=\"//*[contains(text(),'Suchen')]\")\n",
    "driver.find_element(By.ID, \"form:btnSuche\").click()\n",
    "sleep(round(random.uniform(0.31, 2.11), 2))\n",
    "# extract and click clickable elements\n",
    "elements = WebDriverWait(driver, 20).until(EC.visibility_of_all_elements_located((By.LINK_TEXT, \"AD\")))\n",
    "sleep(round(random.uniform(0.31, 2.11), 2))"
   ]
  },
  {
   "cell_type": "code",
   "execution_count": null,
   "metadata": {},
   "outputs": [],
   "source": []
  }
 ],
 "metadata": {
  "kernelspec": {
   "display_name": "Python 3.9.13 ('handelreg')",
   "language": "python",
   "name": "python3"
  },
  "language_info": {
   "codemirror_mode": {
    "name": "ipython",
    "version": 3
   },
   "file_extension": ".py",
   "mimetype": "text/x-python",
   "name": "python",
   "nbconvert_exporter": "python",
   "pygments_lexer": "ipython3",
   "version": "3.9.13"
  },
  "orig_nbformat": 4,
  "vscode": {
   "interpreter": {
    "hash": "8ecc71f0c805e7b0299b362458c917069b40f45b7a664663fd15581e0a2e2c8e"
   }
  }
 },
 "nbformat": 4,
 "nbformat_minor": 2
}
