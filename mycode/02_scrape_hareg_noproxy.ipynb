{
 "cells": [
  {
   "cell_type": "markdown",
   "metadata": {},
   "source": [
    "# Importe"
   ]
  },
  {
   "cell_type": "code",
   "execution_count": 7,
   "metadata": {},
   "outputs": [],
   "source": [
    "# general\n",
    "import pandas as pd\n",
    "\n",
    "# waits\n",
    "import random\n",
    "from time import sleep\n",
    "\n",
    "# driver\n",
    "import undetected_chromedriver.v2 as uc\n",
    "from selenium import webdriver\n",
    "import chromedriver_autoinstaller\n",
    "\n",
    "# selenium\n",
    "from selenium.webdriver.common.keys import Keys\n",
    "from selenium.webdriver.common.by import By\n",
    "from selenium.webdriver.support.ui import WebDriverWait\n",
    "from selenium.webdriver.support import expected_conditions as EC\n",
    "from selenium.webdriver.support.ui import Select\n",
    "\n",
    "# other\n",
    "# from ssl import Options\n",
    "\n",
    "# multi\n",
    "from concurrent import futures\n"
   ]
  },
  {
   "cell_type": "markdown",
   "metadata": {},
   "source": [
    "# Driver"
   ]
  },
  {
   "cell_type": "code",
   "execution_count": 8,
   "metadata": {},
   "outputs": [],
   "source": [
    "def get_driver(ip=\"\", port=\"\", flag_proxy=False):\n",
    "    # PATH = \"C:\\Program Files (x86)\\chromedriver.exe\"\n",
    "    chrome_options = uc.ChromeOptions()\n",
    "\n",
    "    # Removes navigator.webdriver flag\n",
    "    chrome_options.add_argument(\"--disable-blink-features=AutomationControlled\")\n",
    "\n",
    "    # prevent bugs and skip popups\n",
    "    chrome_options.add_argument('--no-first-run --no-service-autorun --password-store=basic')\n",
    "    chrome_options.add_argument(\"--disable-extensions\")\n",
    "\n",
    "    # uc - user agent\n",
    "    # bot detection can determine if os in user-agent differs from real os\n",
    "    # chrome_options.add_argument(\"Mozilla/5.0 (Macintosh; Intel Mac OS X 10_15_7) AppleWebKit/605.1.15 (KHTML, like Gecko) Version/15.5 Safari/605.1.15\")\n",
    "    # chrome_options.add_argument(\"user-agent=Mozilla/5.0 (Windows NT 10.0; Win64; x64) AppleWebKit/537.36 (KHTML, like Gecko) Chrome/74.0.3729.169 Safari/537.36\")\n",
    "\n",
    "    # add multiple download flag\n",
    "    dl_multi = {'profile.default_content_setting_values.automatic_downloads': 1}\n",
    "    chrome_options.add_experimental_option(\"prefs\", dl_multi)\n",
    "\n",
    "    # add download location\n",
    "    dl_path = {\"download.default_directory\" : \"C:\\\\Users\\\\lange\\\\OneDrive\\\\Dokumente\\\\Studium\\\\06_Abschlussarbeiten\\\\Seminar\\\\02_Download\"}\n",
    "    chrome_options.add_experimental_option(\"prefs\", dl_path)\n",
    "\n",
    "    # add profile\n",
    "    # uc.Chrome(user_data_dir='C:\\\\Users\\\\lange\\\\AppData\\\\Local\\\\Google\\\\Chrome\\\\User Data\\\\Default')\n",
    "    \n",
    "    # add proxy if True\n",
    "    # -1 to use first element after use of driver to scrape proxies\n",
    "    if flag_proxy == True:       \n",
    "        PROXY = str(ip + \":\" + port)\n",
    "        print(PROXY)\n",
    "        chrome_options.add_argument('--proxy-server=http://%s' % PROXY)\n",
    "\n",
    "    # # be careful with headless browsing\n",
    "    # chrome_options.add_argument(\"--headless\")\n",
    "    \n",
    "    # # additional options to allow downloading while in headless mode\n",
    "    # prefs = {\n",
    "    # \"download.default_directory\": \"C:\\\\Users\\\\lange\\\\OneDrive\\\\Dokumente\\\\Studium\\\\06_Abschlussarbeiten\\\\Seminar\\\\02_Download\",\n",
    "    # \"download.directory_upgrade\": True,\n",
    "    # \"download.prompt_for_download\": False,\n",
    "    # \"plugins.always_open_pdf_externally\": True,\n",
    "    # \"profile.default_content_settings.popups\": \"0\",\n",
    "    # \"profile.content_settings.exceptions.automatic_downloads.*.setting\": \"1\"\n",
    "    # }\n",
    "    # args = [\"--no-sandbox\",\n",
    "    #         \"--disable-dev-shm-usage\"]\n",
    "    \n",
    "    # chrome_options.add_experimental_option(\"prefs\", prefs)\n",
    "    # chrome_options.add_experimental_option(\"args\", args)\n",
    "    # # chrome_options.add_experimental_option('useAutomationExtension', False)\n",
    "\n",
    "    # webdriver vs. undetected chromedriver\n",
    "    # driver = webdriver.Chrome(executable_path=PATH, options=chrome_options)\n",
    "    driver = uc.Chrome(options=chrome_options)\n",
    "    driver.maximize_window()\n",
    "    \n",
    "    return driver"
   ]
  },
  {
   "cell_type": "markdown",
   "metadata": {},
   "source": [
    "# Scraper"
   ]
  },
  {
   "cell_type": "code",
   "execution_count": 9,
   "metadata": {},
   "outputs": [],
   "source": [
    "def scrape(driver, URL, regart, regnum, regricht):\n",
    "   \n",
    "    driver.implicitly_wait(10)\n",
    "    driver.get(URL)\n",
    "    driver.execute_script(\"window.scrollTo(0, document.body.scrollHeight);\")\n",
    "\n",
    "    try:       \n",
    "        # Input Felder bestimmen\n",
    "        input_regart = WebDriverWait(driver, 20).until(EC.visibility_of_element_located((By.ID, \"form:registerArt_label\")))\n",
    "        input_regnum = WebDriverWait(driver, 20).until(EC.visibility_of_element_located((By.ID, \"form:registerNummer\")))\n",
    "        input_regricht = WebDriverWait(driver, 20).until(EC.visibility_of_element_located((By.ID, \"form:registergericht_label\")))\n",
    "        \n",
    "        # Dropdown regart\n",
    "        input_regart.click()\n",
    "        drops_regart = driver.find_elements(By.XPATH, \"/html/body/div[4]/div/ul/li\")\n",
    "        \n",
    "        sleep(round(random.uniform(1.31, 3.11), 2))\n",
    "        for element in drops_regart:\n",
    "            innerhtml = element.get_attribute('innerHTML')\n",
    "            if innerhtml == regart:\n",
    "                element.click()\n",
    "                break\n",
    "        \n",
    "        # Input Registernummer\n",
    "        sleep(round(random.uniform(1.31, 3.11), 2))\n",
    "        input_regnum.clear()\n",
    "        input_regnum.send_keys(regnum)\n",
    "        \n",
    "        # Dropdown regricht\n",
    "        input_regricht.click()\n",
    "        drops_regricht = driver.find_elements(By.XPATH, \"/html/body/div[5]/div[2]/ul/li\")\n",
    "        \n",
    "        sleep(round(random.uniform(1.31, 3.11), 2))\n",
    "        for element in drops_regricht:\n",
    "            innerhtml = element.get_attribute('innerHTML')\n",
    "            if innerhtml == regricht:\n",
    "                element.click()\n",
    "                break\n",
    "\n",
    "        # submit funktioniert nicht, daher über Suche Button\n",
    "        sleep(round(random.uniform(1.31, 3.11), 2))\n",
    "        driver.find_element(By.ID, \"form:btnSuche\").click()\n",
    "\n",
    "        # durch Suche nach\n",
    "        sleep(round(random.uniform(1.31, 3.11), 2))\n",
    "        WebDriverWait(driver, 20).until(EC.visibility_of_element_located((By.LINK_TEXT, \"AD\"))).click()\n",
    "        sleep(round(random.uniform(1.31, 3.11), 2))\n",
    "        driver.find_element(By.ID, \"form:kostenpflichtigabrufen\").click()       \n",
    "        status = 1\n",
    "        \n",
    "    except Exception as exc:\n",
    "        print(\"ERROR Scraper\\nregart: {0}\\nregnum: {1}\\nregricht: {2}\\n{3}\".format(regart, regnum, regricht, exc))\n",
    "        status = 0\n",
    "        sleep(round(random.uniform(10.31, 20.11), 2))\n",
    "        return driver, status\n",
    "    \n",
    "    sleep(round(random.uniform(10.31, 20.11), 2))\n",
    "    return driver, status"
   ]
  },
  {
   "cell_type": "markdown",
   "metadata": {},
   "source": [
    "# Data"
   ]
  },
  {
   "cell_type": "code",
   "execution_count": 10,
   "metadata": {},
   "outputs": [],
   "source": [
    "# Einlesen der gelabelten URLs, samt Registerinformationen zur Suche im Handelsregister\n",
    "# df_firms = pd.read_excel(\"C:\\\\Users\\\\lange\\\\OneDrive\\\\Dokumente\\\\Studium\\\\06_Abschlussarbeiten\\\\Seminar\\\\UN_Branche_Sample.xlsx\")\n",
    "df_firms = pd.read_excel(\"C:\\\\Users\\\\lange\\\\OneDrive\\\\Dokumente\\\\Studium\\\\06_Abschlussarbeiten\\\\Seminar\\\\UN_HRB.xlsx\")"
   ]
  },
  {
   "cell_type": "code",
   "execution_count": 11,
   "metadata": {},
   "outputs": [
    {
     "data": {
      "text/plain": [
       "name        object\n",
       "regricht    object\n",
       "regart      object\n",
       "regnum      object\n",
       "url         object\n",
       "label       object\n",
       "dtype: object"
      ]
     },
     "execution_count": 11,
     "metadata": {},
     "output_type": "execute_result"
    }
   ],
   "source": [
    "df_firms.dtypes"
   ]
  },
  {
   "cell_type": "code",
   "execution_count": 12,
   "metadata": {},
   "outputs": [
    {
     "data": {
      "text/plain": [
       "name        114\n",
       "regricht    114\n",
       "regart      114\n",
       "regnum      114\n",
       "url         114\n",
       "label       114\n",
       "dtype: int64"
      ]
     },
     "execution_count": 12,
     "metadata": {},
     "output_type": "execute_result"
    }
   ],
   "source": [
    "df_firms.count()"
   ]
  },
  {
   "cell_type": "code",
   "execution_count": 13,
   "metadata": {},
   "outputs": [],
   "source": [
    "# prepare df_firms\n",
    "df_firms[\"download\"] = \"\"\n",
    "\n",
    "df_firms = df_firms.apply(lambda x: x.apply(str) if x.dtype == 'object' else x)\n",
    "df_firms = df_firms.apply(lambda x: x.str.strip() if x.dtype == 'object' else x)"
   ]
  },
  {
   "cell_type": "markdown",
   "metadata": {},
   "source": [
    "# Calls"
   ]
  },
  {
   "cell_type": "code",
   "execution_count": 14,
   "metadata": {},
   "outputs": [
    {
     "ename": "KeyboardInterrupt",
     "evalue": "",
     "output_type": "error",
     "traceback": [
      "\u001b[1;31m---------------------------------------------------------------------------\u001b[0m",
      "\u001b[1;31mKeyboardInterrupt\u001b[0m                         Traceback (most recent call last)",
      "\u001b[1;32mc:\\Users\\lange\\OneDrive\\Dokumente\\Studium\\06_Abschlussarbeiten\\Seminar\\hareg-nlp\\mycode\\02_scrape_hareg_noproxy.ipynb Cell 13\u001b[0m in \u001b[0;36m<cell line: 8>\u001b[1;34m()\u001b[0m\n\u001b[0;32m      <a href='vscode-notebook-cell:/c%3A/Users/lange/OneDrive/Dokumente/Studium/06_Abschlussarbeiten/Seminar/hareg-nlp/mycode/02_scrape_hareg_noproxy.ipynb#X15sZmlsZQ%3D%3D?line=7'>8</a>\u001b[0m \u001b[39mfor\u001b[39;00m index, row \u001b[39min\u001b[39;00m df_firms\u001b[39m.\u001b[39miterrows():\n\u001b[0;32m      <a href='vscode-notebook-cell:/c%3A/Users/lange/OneDrive/Dokumente/Studium/06_Abschlussarbeiten/Seminar/hareg-nlp/mycode/02_scrape_hareg_noproxy.ipynb#X15sZmlsZQ%3D%3D?line=8'>9</a>\u001b[0m     status \u001b[39m=\u001b[39m \u001b[39m2\u001b[39m\n\u001b[1;32m---> <a href='vscode-notebook-cell:/c%3A/Users/lange/OneDrive/Dokumente/Studium/06_Abschlussarbeiten/Seminar/hareg-nlp/mycode/02_scrape_hareg_noproxy.ipynb#X15sZmlsZQ%3D%3D?line=9'>10</a>\u001b[0m     driver, status \u001b[39m=\u001b[39m scrape(driver, URL, regart\u001b[39m=\u001b[39;49mrow[\u001b[39m\"\u001b[39;49m\u001b[39mregart\u001b[39;49m\u001b[39m\"\u001b[39;49m], regnum\u001b[39m=\u001b[39;49mrow[\u001b[39m\"\u001b[39;49m\u001b[39mregnum\u001b[39;49m\u001b[39m\"\u001b[39;49m], regricht\u001b[39m=\u001b[39;49mrow[\u001b[39m\"\u001b[39;49m\u001b[39mregricht\u001b[39;49m\u001b[39m\"\u001b[39;49m])\n\u001b[0;32m     <a href='vscode-notebook-cell:/c%3A/Users/lange/OneDrive/Dokumente/Studium/06_Abschlussarbeiten/Seminar/hareg-nlp/mycode/02_scrape_hareg_noproxy.ipynb#X15sZmlsZQ%3D%3D?line=10'>11</a>\u001b[0m     row[\u001b[39m\"\u001b[39m\u001b[39mdownload\u001b[39m\u001b[39m\"\u001b[39m] \u001b[39m=\u001b[39m status\n\u001b[0;32m     <a href='vscode-notebook-cell:/c%3A/Users/lange/OneDrive/Dokumente/Studium/06_Abschlussarbeiten/Seminar/hareg-nlp/mycode/02_scrape_hareg_noproxy.ipynb#X15sZmlsZQ%3D%3D?line=12'>13</a>\u001b[0m driver\u001b[39m.\u001b[39mquit()\n",
      "\u001b[1;32mc:\\Users\\lange\\OneDrive\\Dokumente\\Studium\\06_Abschlussarbeiten\\Seminar\\hareg-nlp\\mycode\\02_scrape_hareg_noproxy.ipynb Cell 13\u001b[0m in \u001b[0;36mscrape\u001b[1;34m(driver, URL, regart, regnum, regricht)\u001b[0m\n\u001b[0;32m     <a href='vscode-notebook-cell:/c%3A/Users/lange/OneDrive/Dokumente/Studium/06_Abschlussarbeiten/Seminar/hareg-nlp/mycode/02_scrape_hareg_noproxy.ipynb#X15sZmlsZQ%3D%3D?line=53'>54</a>\u001b[0m     sleep(\u001b[39mround\u001b[39m(random\u001b[39m.\u001b[39muniform(\u001b[39m10.31\u001b[39m, \u001b[39m20.11\u001b[39m), \u001b[39m2\u001b[39m))\n\u001b[0;32m     <a href='vscode-notebook-cell:/c%3A/Users/lange/OneDrive/Dokumente/Studium/06_Abschlussarbeiten/Seminar/hareg-nlp/mycode/02_scrape_hareg_noproxy.ipynb#X15sZmlsZQ%3D%3D?line=54'>55</a>\u001b[0m     \u001b[39mreturn\u001b[39;00m driver, status\n\u001b[1;32m---> <a href='vscode-notebook-cell:/c%3A/Users/lange/OneDrive/Dokumente/Studium/06_Abschlussarbeiten/Seminar/hareg-nlp/mycode/02_scrape_hareg_noproxy.ipynb#X15sZmlsZQ%3D%3D?line=56'>57</a>\u001b[0m sleep(\u001b[39mround\u001b[39;49m(random\u001b[39m.\u001b[39;49muniform(\u001b[39m10.31\u001b[39;49m, \u001b[39m20.11\u001b[39;49m), \u001b[39m2\u001b[39;49m))\n\u001b[0;32m     <a href='vscode-notebook-cell:/c%3A/Users/lange/OneDrive/Dokumente/Studium/06_Abschlussarbeiten/Seminar/hareg-nlp/mycode/02_scrape_hareg_noproxy.ipynb#X15sZmlsZQ%3D%3D?line=57'>58</a>\u001b[0m \u001b[39mreturn\u001b[39;00m driver, status\n",
      "\u001b[1;31mKeyboardInterrupt\u001b[0m: "
     ]
    }
   ],
   "source": [
    "# call\n",
    "\n",
    "driver = get_driver()\n",
    "URL = \"https://www.handelsregister.de/rp_web/erweitertesuche.xhtml\"\n",
    "# URL = \"https://bot.sannysoft.com/\"    # test site for bot detection\n",
    "# URL = \"https://nowsecure.nl\"          # test site with max anti-bot protection\n",
    "\n",
    "for index, row in df_firms.iterrows():\n",
    "    status = 2\n",
    "    driver, status = scrape(driver, URL, regart=row[\"regart\"], regnum=row[\"regnum\"], regricht=row[\"regricht\"])\n",
    "    row[\"download\"] = status\n",
    "    \n",
    "driver.quit()"
   ]
  }
 ],
 "metadata": {
  "kernelspec": {
   "display_name": "Python 3.9.13 ('handelreg')",
   "language": "python",
   "name": "python3"
  },
  "language_info": {
   "codemirror_mode": {
    "name": "ipython",
    "version": 3
   },
   "file_extension": ".py",
   "mimetype": "text/x-python",
   "name": "python",
   "nbconvert_exporter": "python",
   "pygments_lexer": "ipython3",
   "version": "3.9.13"
  },
  "orig_nbformat": 4,
  "vscode": {
   "interpreter": {
    "hash": "8ecc71f0c805e7b0299b362458c917069b40f45b7a664663fd15581e0a2e2c8e"
   }
  }
 },
 "nbformat": 4,
 "nbformat_minor": 2
}
