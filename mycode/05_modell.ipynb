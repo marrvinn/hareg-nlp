{
 "cells": [
  {
   "cell_type": "markdown",
   "metadata": {},
   "source": [
    "# Importe"
   ]
  },
  {
   "cell_type": "code",
   "execution_count": 4,
   "metadata": {},
   "outputs": [],
   "source": [
    "# Data\n",
    "import pandas as pd\n",
    "import sqlite3\n",
    "\n",
    "# Modelling\n",
    "import torch\n",
    "from transformers import pipeline\n"
   ]
  },
  {
   "cell_type": "markdown",
   "metadata": {},
   "source": [
    "# Data"
   ]
  },
  {
   "cell_type": "code",
   "execution_count": 23,
   "metadata": {},
   "outputs": [
    {
     "data": {
      "text/html": [
       "<div>\n",
       "<style scoped>\n",
       "    .dataframe tbody tr th:only-of-type {\n",
       "        vertical-align: middle;\n",
       "    }\n",
       "\n",
       "    .dataframe tbody tr th {\n",
       "        vertical-align: top;\n",
       "    }\n",
       "\n",
       "    .dataframe thead th {\n",
       "        text-align: right;\n",
       "    }\n",
       "</style>\n",
       "<table border=\"1\" class=\"dataframe\">\n",
       "  <thead>\n",
       "    <tr style=\"text-align: right;\">\n",
       "      <th></th>\n",
       "      <th>name</th>\n",
       "      <th>regricht</th>\n",
       "      <th>regart</th>\n",
       "      <th>regnum</th>\n",
       "      <th>url</th>\n",
       "      <th>label</th>\n",
       "      <th>text</th>\n",
       "      <th>gegenstand</th>\n",
       "      <th>capital</th>\n",
       "    </tr>\n",
       "  </thead>\n",
       "  <tbody>\n",
       "    <tr>\n",
       "      <th>0</th>\n",
       "      <td>AUDI AG</td>\n",
       "      <td>Ingolstadt</td>\n",
       "      <td>HRB</td>\n",
       "      <td>1</td>\n",
       "      <td>https://www.audi.de/</td>\n",
       "      <td>Automotive</td>\n",
       "      <td>\\nHandelsregister B des Abteilung B Nummer der...</td>\n",
       "      <td>Entwicklung, Herstellung und Vertrieb von Kraf...</td>\n",
       "      <td>110080000</td>\n",
       "    </tr>\n",
       "    <tr>\n",
       "      <th>1</th>\n",
       "      <td>Volkswagen AG</td>\n",
       "      <td>Wolfsburg</td>\n",
       "      <td>HRB</td>\n",
       "      <td>100484</td>\n",
       "      <td>https://www.volkswagen.de/</td>\n",
       "      <td>Automotive</td>\n",
       "      <td>\\nHandelsregister B des Abteilung B Nummer der...</td>\n",
       "      <td>Gegenstand des Unternehmens ist die Herstellun...</td>\n",
       "      <td>1283315873</td>\n",
       "    </tr>\n",
       "    <tr>\n",
       "      <th>2</th>\n",
       "      <td>ŠKODA AUTO Deutschland GmbH</td>\n",
       "      <td>Darmstadt</td>\n",
       "      <td>HRB</td>\n",
       "      <td>5242</td>\n",
       "      <td>https://www.skoda-auto.de/</td>\n",
       "      <td>Automotive</td>\n",
       "      <td>\\nHandelsregister B des Abteilung B Nummer der...</td>\n",
       "      <td>Ist der Import und der Vertrieb von Fahrzeugen...</td>\n",
       "      <td>2045200</td>\n",
       "    </tr>\n",
       "    <tr>\n",
       "      <th>3</th>\n",
       "      <td>Tesla Germany GmbH</td>\n",
       "      <td>Berlin (Charlottenburg)</td>\n",
       "      <td>HRB</td>\n",
       "      <td>235261</td>\n",
       "      <td>https://www.tesla.com/de_de/</td>\n",
       "      <td>Automotive</td>\n",
       "      <td>\\n- Wiedergabe des aktuellen Registerinhalts -...</td>\n",
       "      <td>Herstellung, Import, Vertrieb, Verkauf, Wartun...</td>\n",
       "      <td>25000</td>\n",
       "    </tr>\n",
       "    <tr>\n",
       "      <th>4</th>\n",
       "      <td>BMW AG</td>\n",
       "      <td>München</td>\n",
       "      <td>HRB</td>\n",
       "      <td>42243</td>\n",
       "      <td>https://www.bmw.de/</td>\n",
       "      <td>Automotive</td>\n",
       "      <td>\\nHandelsregister B des Abteilung B Nummer der...</td>\n",
       "      <td>Herstellung und Vertrieb von Motoren und damit...</td>\n",
       "      <td>661399500</td>\n",
       "    </tr>\n",
       "    <tr>\n",
       "      <th>...</th>\n",
       "      <td>...</td>\n",
       "      <td>...</td>\n",
       "      <td>...</td>\n",
       "      <td>...</td>\n",
       "      <td>...</td>\n",
       "      <td>...</td>\n",
       "      <td>...</td>\n",
       "      <td>...</td>\n",
       "      <td>...</td>\n",
       "    </tr>\n",
       "    <tr>\n",
       "      <th>109</th>\n",
       "      <td>METRO AG</td>\n",
       "      <td>Düsseldorf</td>\n",
       "      <td>HRB</td>\n",
       "      <td>79055</td>\n",
       "      <td>https://www.metroag.de/de</td>\n",
       "      <td>Wholesale</td>\n",
       "      <td>\\nHandelsregister B des Abteilung B Nummer der...</td>\n",
       "      <td>Die Leitung und Förderung von Handels- und Die...</td>\n",
       "      <td>363097253</td>\n",
       "    </tr>\n",
       "    <tr>\n",
       "      <th>110</th>\n",
       "      <td>BayWa AG</td>\n",
       "      <td>München</td>\n",
       "      <td>HRB</td>\n",
       "      <td>4921</td>\n",
       "      <td>https://www.baywa.com/</td>\n",
       "      <td>Wholesale</td>\n",
       "      <td>\\nHandelsregister B des Abteilung B Nummer der...</td>\n",
       "      <td>Die Gesellschaft leitet eine internationale Un...</td>\n",
       "      <td>91807715</td>\n",
       "    </tr>\n",
       "    <tr>\n",
       "      <th>111</th>\n",
       "      <td>Brenntag GmbH</td>\n",
       "      <td>Duisburg</td>\n",
       "      <td>HRB</td>\n",
       "      <td>8894</td>\n",
       "      <td>https://www.brenntag.com/de-de/</td>\n",
       "      <td>Wholesale</td>\n",
       "      <td>\\nHandelsregister B des Abteilung B Nummer der...</td>\n",
       "      <td>der Handel mit chemischen Erzeugnissen aller A...</td>\n",
       "      <td>3000000</td>\n",
       "    </tr>\n",
       "    <tr>\n",
       "      <th>112</th>\n",
       "      <td>Klöckner &amp; Co SE</td>\n",
       "      <td>Duisburg</td>\n",
       "      <td>HRB</td>\n",
       "      <td>20486</td>\n",
       "      <td>https://www.kloeckner.com/de</td>\n",
       "      <td>Wholesale</td>\n",
       "      <td>\\nHandelsregister B des Abteilung B Nummer der...</td>\n",
       "      <td>Gegenstand des Unternehmens ist (a) die Distri...</td>\n",
       "      <td>249375000</td>\n",
       "    </tr>\n",
       "    <tr>\n",
       "      <th>113</th>\n",
       "      <td>HRB-Grosshandel GmbH</td>\n",
       "      <td>Limburg</td>\n",
       "      <td>HRB</td>\n",
       "      <td>5268</td>\n",
       "      <td>https://www.hrb-shop.com/</td>\n",
       "      <td>Wholesale</td>\n",
       "      <td>\\nHandelsregister B des Abteilung B Nummer der...</td>\n",
       "      <td>Die Entwicklung, die Herstellung, der Handel u...</td>\n",
       "      <td>25000</td>\n",
       "    </tr>\n",
       "  </tbody>\n",
       "</table>\n",
       "<p>114 rows × 9 columns</p>\n",
       "</div>"
      ],
      "text/plain": [
       "                            name                 regricht regart  regnum  \\\n",
       "0                        AUDI AG               Ingolstadt    HRB       1   \n",
       "1                  Volkswagen AG                Wolfsburg    HRB  100484   \n",
       "2    ŠKODA AUTO Deutschland GmbH                Darmstadt    HRB    5242   \n",
       "3             Tesla Germany GmbH  Berlin (Charlottenburg)    HRB  235261   \n",
       "4                         BMW AG                  München    HRB   42243   \n",
       "..                           ...                      ...    ...     ...   \n",
       "109                     METRO AG               Düsseldorf    HRB   79055   \n",
       "110                     BayWa AG                  München    HRB    4921   \n",
       "111                Brenntag GmbH                 Duisburg    HRB    8894   \n",
       "112             Klöckner & Co SE                 Duisburg    HRB   20486   \n",
       "113         HRB-Grosshandel GmbH                  Limburg    HRB    5268   \n",
       "\n",
       "                                 url       label  \\\n",
       "0               https://www.audi.de/  Automotive   \n",
       "1         https://www.volkswagen.de/  Automotive   \n",
       "2         https://www.skoda-auto.de/  Automotive   \n",
       "3       https://www.tesla.com/de_de/  Automotive   \n",
       "4                https://www.bmw.de/  Automotive   \n",
       "..                               ...         ...   \n",
       "109        https://www.metroag.de/de   Wholesale   \n",
       "110           https://www.baywa.com/   Wholesale   \n",
       "111  https://www.brenntag.com/de-de/   Wholesale   \n",
       "112     https://www.kloeckner.com/de   Wholesale   \n",
       "113        https://www.hrb-shop.com/   Wholesale   \n",
       "\n",
       "                                                  text  \\\n",
       "0    \\nHandelsregister B des Abteilung B Nummer der...   \n",
       "1    \\nHandelsregister B des Abteilung B Nummer der...   \n",
       "2    \\nHandelsregister B des Abteilung B Nummer der...   \n",
       "3    \\n- Wiedergabe des aktuellen Registerinhalts -...   \n",
       "4    \\nHandelsregister B des Abteilung B Nummer der...   \n",
       "..                                                 ...   \n",
       "109  \\nHandelsregister B des Abteilung B Nummer der...   \n",
       "110  \\nHandelsregister B des Abteilung B Nummer der...   \n",
       "111  \\nHandelsregister B des Abteilung B Nummer der...   \n",
       "112  \\nHandelsregister B des Abteilung B Nummer der...   \n",
       "113  \\nHandelsregister B des Abteilung B Nummer der...   \n",
       "\n",
       "                                            gegenstand     capital  \n",
       "0    Entwicklung, Herstellung und Vertrieb von Kraf...   110080000  \n",
       "1    Gegenstand des Unternehmens ist die Herstellun...  1283315873  \n",
       "2    Ist der Import und der Vertrieb von Fahrzeugen...     2045200  \n",
       "3    Herstellung, Import, Vertrieb, Verkauf, Wartun...       25000  \n",
       "4    Herstellung und Vertrieb von Motoren und damit...   661399500  \n",
       "..                                                 ...         ...  \n",
       "109  Die Leitung und Förderung von Handels- und Die...   363097253  \n",
       "110  Die Gesellschaft leitet eine internationale Un...    91807715  \n",
       "111  der Handel mit chemischen Erzeugnissen aller A...     3000000  \n",
       "112  Gegenstand des Unternehmens ist (a) die Distri...   249375000  \n",
       "113  Die Entwicklung, die Herstellung, der Handel u...       25000  \n",
       "\n",
       "[114 rows x 9 columns]"
      ]
     },
     "execution_count": 23,
     "metadata": {},
     "output_type": "execute_result"
    }
   ],
   "source": [
    "DB_CONNECT = 'C:/Users/lange/OneDrive/Dokumente/Studium/06_Abschlussarbeiten/Seminar/03_Data/hareg.db'\n",
    "engine = sqlite3.connect(DB_CONNECT)\n",
    "sql = '''SELECT* FROM df_firms'''\n",
    "df = pd.read_sql(sql, engine)\n",
    "df"
   ]
  },
  {
   "cell_type": "markdown",
   "metadata": {},
   "source": [
    "# Prepare Input"
   ]
  },
  {
   "cell_type": "code",
   "execution_count": 5,
   "metadata": {},
   "outputs": [],
   "source": [
    "# label als dictionary\n",
    "di_label = {0: 'Telecommunications',\n",
    "            1: 'Legal Services',\n",
    "            2: 'Management Consulting',\n",
    "            3: 'Medical Practice',\n",
    "            4: 'Consumer Goods',\n",
    "            5: 'Leisure, Travel & Tourism',\n",
    "            6: 'Recreational Facilities and Services',\n",
    "            7: 'Insurance',\n",
    "            8: 'Financial Services',\n",
    "            9: 'Real Estate',\n",
    "            10: 'Construction',\n",
    "            11: 'Automotive',\n",
    "            12: 'Marketing and Advertising',\n",
    "            13: 'Information Technology and Services',\n",
    "            14: 'Logistics and Supply Chain',\n",
    "            15: 'Wholesale',\n",
    "            16: 'Mechanical or Industrial Engineering',\n",
    "            17: 'Human Resources',\n",
    "            18: 'Renewables & Environment'}"
   ]
  },
  {
   "cell_type": "code",
   "execution_count": null,
   "metadata": {},
   "outputs": [],
   "source": [
    "# \"gegenstand\" input text cleanen als Input in Modell\n",
    "# code"
   ]
  },
  {
   "cell_type": "markdown",
   "metadata": {},
   "source": [
    "# Prediction\n",
    "Install Pytorch: https://pytorch.org/get-started/locally/\n",
    "\n",
    "cuda ist notwendig, versuch mit CPU:\n",
    "`conda install pytorch torchvision torchaudio cpuonly -c pytorch`"
   ]
  },
  {
   "cell_type": "code",
   "execution_count": 7,
   "metadata": {},
   "outputs": [],
   "source": [
    "PATH = \"C:\\\\Users\\\\lange\\\\OneDrive\\\\Dokumente\\\\Studium\\\\06_Abschlussarbeiten\\\\Seminar\\\\04_Models\\\\pds_distilbert\""
   ]
  },
  {
   "cell_type": "code",
   "execution_count": 9,
   "metadata": {},
   "outputs": [],
   "source": [
    "def predict(txt_input):\n",
    "    pipe = pipeline('text-classification',\n",
    "                    model=PATH,\n",
    "                    device=0,\n",
    "                    truncation=True\n",
    "                    )\n",
    "    model_output = pipe(txt_input)\n",
    "    label_id = int(model_output[0]['label'].replace('LABEL_',''))\n",
    "    score = model_output[0]['score']*100\n",
    "    score = float(\"{:.2f}\".format(score))\n",
    "    label = di_label[label_id]\n",
    "    \n",
    "    return label, score"
   ]
  },
  {
   "cell_type": "code",
   "execution_count": 25,
   "metadata": {},
   "outputs": [
    {
     "ename": "AssertionError",
     "evalue": "Torch not compiled with CUDA enabled",
     "output_type": "error",
     "traceback": [
      "\u001b[1;31m---------------------------------------------------------------------------\u001b[0m",
      "\u001b[1;31mAssertionError\u001b[0m                            Traceback (most recent call last)",
      "\u001b[1;32mc:\\Users\\lange\\OneDrive\\Dokumente\\Studium\\06_Abschlussarbeiten\\Seminar\\hareg-nlp\\mycode\\04_modell.ipynb Zelle 11\u001b[0m in \u001b[0;36m<cell line: 2>\u001b[1;34m()\u001b[0m\n\u001b[0;32m      <a href='vscode-notebook-cell:/c%3A/Users/lange/OneDrive/Dokumente/Studium/06_Abschlussarbeiten/Seminar/hareg-nlp/mycode/04_modell.ipynb#X34sZmlsZQ%3D%3D?line=0'>1</a>\u001b[0m try_input \u001b[39m=\u001b[39m df\u001b[39m.\u001b[39mloc[\u001b[39m3\u001b[39m, \u001b[39m\"\u001b[39m\u001b[39mgegenstand\u001b[39m\u001b[39m\"\u001b[39m]\n\u001b[1;32m----> <a href='vscode-notebook-cell:/c%3A/Users/lange/OneDrive/Dokumente/Studium/06_Abschlussarbeiten/Seminar/hareg-nlp/mycode/04_modell.ipynb#X34sZmlsZQ%3D%3D?line=1'>2</a>\u001b[0m predict(try_input)\n",
      "\u001b[1;32mc:\\Users\\lange\\OneDrive\\Dokumente\\Studium\\06_Abschlussarbeiten\\Seminar\\hareg-nlp\\mycode\\04_modell.ipynb Zelle 11\u001b[0m in \u001b[0;36mpredict\u001b[1;34m(txt_input)\u001b[0m\n\u001b[0;32m      <a href='vscode-notebook-cell:/c%3A/Users/lange/OneDrive/Dokumente/Studium/06_Abschlussarbeiten/Seminar/hareg-nlp/mycode/04_modell.ipynb#X34sZmlsZQ%3D%3D?line=0'>1</a>\u001b[0m \u001b[39mdef\u001b[39;00m \u001b[39mpredict\u001b[39m(txt_input):\n\u001b[1;32m----> <a href='vscode-notebook-cell:/c%3A/Users/lange/OneDrive/Dokumente/Studium/06_Abschlussarbeiten/Seminar/hareg-nlp/mycode/04_modell.ipynb#X34sZmlsZQ%3D%3D?line=1'>2</a>\u001b[0m     pipe \u001b[39m=\u001b[39m pipeline(\u001b[39m'\u001b[39;49m\u001b[39mtext-classification\u001b[39;49m\u001b[39m'\u001b[39;49m,\n\u001b[0;32m      <a href='vscode-notebook-cell:/c%3A/Users/lange/OneDrive/Dokumente/Studium/06_Abschlussarbeiten/Seminar/hareg-nlp/mycode/04_modell.ipynb#X34sZmlsZQ%3D%3D?line=2'>3</a>\u001b[0m                     model\u001b[39m=\u001b[39;49mPATH,\n\u001b[0;32m      <a href='vscode-notebook-cell:/c%3A/Users/lange/OneDrive/Dokumente/Studium/06_Abschlussarbeiten/Seminar/hareg-nlp/mycode/04_modell.ipynb#X34sZmlsZQ%3D%3D?line=3'>4</a>\u001b[0m                     device\u001b[39m=\u001b[39;49m\u001b[39m0\u001b[39;49m,\n\u001b[0;32m      <a href='vscode-notebook-cell:/c%3A/Users/lange/OneDrive/Dokumente/Studium/06_Abschlussarbeiten/Seminar/hareg-nlp/mycode/04_modell.ipynb#X34sZmlsZQ%3D%3D?line=4'>5</a>\u001b[0m                     truncation\u001b[39m=\u001b[39;49m\u001b[39mTrue\u001b[39;49;00m\n\u001b[0;32m      <a href='vscode-notebook-cell:/c%3A/Users/lange/OneDrive/Dokumente/Studium/06_Abschlussarbeiten/Seminar/hareg-nlp/mycode/04_modell.ipynb#X34sZmlsZQ%3D%3D?line=5'>6</a>\u001b[0m                     )\n\u001b[0;32m      <a href='vscode-notebook-cell:/c%3A/Users/lange/OneDrive/Dokumente/Studium/06_Abschlussarbeiten/Seminar/hareg-nlp/mycode/04_modell.ipynb#X34sZmlsZQ%3D%3D?line=6'>7</a>\u001b[0m     model_output \u001b[39m=\u001b[39m pipe(txt_input)\n\u001b[0;32m      <a href='vscode-notebook-cell:/c%3A/Users/lange/OneDrive/Dokumente/Studium/06_Abschlussarbeiten/Seminar/hareg-nlp/mycode/04_modell.ipynb#X34sZmlsZQ%3D%3D?line=7'>8</a>\u001b[0m     label_id \u001b[39m=\u001b[39m \u001b[39mint\u001b[39m(model_output[\u001b[39m0\u001b[39m][\u001b[39m'\u001b[39m\u001b[39mlabel\u001b[39m\u001b[39m'\u001b[39m]\u001b[39m.\u001b[39mreplace(\u001b[39m'\u001b[39m\u001b[39mLABEL_\u001b[39m\u001b[39m'\u001b[39m,\u001b[39m'\u001b[39m\u001b[39m'\u001b[39m))\n",
      "File \u001b[1;32mc:\\Users\\lange\\anaconda3\\envs\\handelreg\\lib\\site-packages\\transformers\\pipelines\\__init__.py:873\u001b[0m, in \u001b[0;36mpipeline\u001b[1;34m(task, model, config, tokenizer, feature_extractor, framework, revision, use_fast, use_auth_token, device, device_map, torch_dtype, trust_remote_code, model_kwargs, pipeline_class, **kwargs)\u001b[0m\n\u001b[0;32m    870\u001b[0m \u001b[39mif\u001b[39;00m device \u001b[39mis\u001b[39;00m \u001b[39mnot\u001b[39;00m \u001b[39mNone\u001b[39;00m:\n\u001b[0;32m    871\u001b[0m     kwargs[\u001b[39m\"\u001b[39m\u001b[39mdevice\u001b[39m\u001b[39m\"\u001b[39m] \u001b[39m=\u001b[39m device\n\u001b[1;32m--> 873\u001b[0m \u001b[39mreturn\u001b[39;00m pipeline_class(model\u001b[39m=\u001b[39mmodel, framework\u001b[39m=\u001b[39mframework, task\u001b[39m=\u001b[39mtask, \u001b[39m*\u001b[39m\u001b[39m*\u001b[39mkwargs)\n",
      "File \u001b[1;32mc:\\Users\\lange\\anaconda3\\envs\\handelreg\\lib\\site-packages\\transformers\\pipelines\\text_classification.py:68\u001b[0m, in \u001b[0;36mTextClassificationPipeline.__init__\u001b[1;34m(self, **kwargs)\u001b[0m\n\u001b[0;32m     67\u001b[0m \u001b[39mdef\u001b[39;00m \u001b[39m__init__\u001b[39m(\u001b[39mself\u001b[39m, \u001b[39m*\u001b[39m\u001b[39m*\u001b[39mkwargs):\n\u001b[1;32m---> 68\u001b[0m     \u001b[39msuper\u001b[39m()\u001b[39m.\u001b[39m\u001b[39m__init__\u001b[39m(\u001b[39m*\u001b[39m\u001b[39m*\u001b[39mkwargs)\n\u001b[0;32m     70\u001b[0m     \u001b[39mself\u001b[39m\u001b[39m.\u001b[39mcheck_model_type(\n\u001b[0;32m     71\u001b[0m         TF_MODEL_FOR_SEQUENCE_CLASSIFICATION_MAPPING\n\u001b[0;32m     72\u001b[0m         \u001b[39mif\u001b[39;00m \u001b[39mself\u001b[39m\u001b[39m.\u001b[39mframework \u001b[39m==\u001b[39m \u001b[39m\"\u001b[39m\u001b[39mtf\u001b[39m\u001b[39m\"\u001b[39m\n\u001b[0;32m     73\u001b[0m         \u001b[39melse\u001b[39;00m MODEL_FOR_SEQUENCE_CLASSIFICATION_MAPPING\n\u001b[0;32m     74\u001b[0m     )\n",
      "File \u001b[1;32mc:\\Users\\lange\\anaconda3\\envs\\handelreg\\lib\\site-packages\\transformers\\pipelines\\base.py:778\u001b[0m, in \u001b[0;36mPipeline.__init__\u001b[1;34m(self, model, tokenizer, feature_extractor, modelcard, framework, task, args_parser, device, binary_output, **kwargs)\u001b[0m\n\u001b[0;32m    776\u001b[0m \u001b[39m# Special handling\u001b[39;00m\n\u001b[0;32m    777\u001b[0m \u001b[39mif\u001b[39;00m \u001b[39mself\u001b[39m\u001b[39m.\u001b[39mframework \u001b[39m==\u001b[39m \u001b[39m\"\u001b[39m\u001b[39mpt\u001b[39m\u001b[39m\"\u001b[39m \u001b[39mand\u001b[39;00m \u001b[39mself\u001b[39m\u001b[39m.\u001b[39mdevice\u001b[39m.\u001b[39mtype \u001b[39m!=\u001b[39m \u001b[39m\"\u001b[39m\u001b[39mcpu\u001b[39m\u001b[39m\"\u001b[39m:\n\u001b[1;32m--> 778\u001b[0m     \u001b[39mself\u001b[39m\u001b[39m.\u001b[39mmodel \u001b[39m=\u001b[39m \u001b[39mself\u001b[39;49m\u001b[39m.\u001b[39;49mmodel\u001b[39m.\u001b[39;49mto(\u001b[39mself\u001b[39;49m\u001b[39m.\u001b[39;49mdevice)\n\u001b[0;32m    780\u001b[0m \u001b[39m# Update config with task specific parameters\u001b[39;00m\n\u001b[0;32m    781\u001b[0m task_specific_params \u001b[39m=\u001b[39m \u001b[39mself\u001b[39m\u001b[39m.\u001b[39mmodel\u001b[39m.\u001b[39mconfig\u001b[39m.\u001b[39mtask_specific_params\n",
      "File \u001b[1;32mc:\\Users\\lange\\anaconda3\\envs\\handelreg\\lib\\site-packages\\torch\\nn\\modules\\module.py:899\u001b[0m, in \u001b[0;36mModule.to\u001b[1;34m(self, *args, **kwargs)\u001b[0m\n\u001b[0;32m    895\u001b[0m         \u001b[39mreturn\u001b[39;00m t\u001b[39m.\u001b[39mto(device, dtype \u001b[39mif\u001b[39;00m t\u001b[39m.\u001b[39mis_floating_point() \u001b[39mor\u001b[39;00m t\u001b[39m.\u001b[39mis_complex() \u001b[39melse\u001b[39;00m \u001b[39mNone\u001b[39;00m,\n\u001b[0;32m    896\u001b[0m                     non_blocking, memory_format\u001b[39m=\u001b[39mconvert_to_format)\n\u001b[0;32m    897\u001b[0m     \u001b[39mreturn\u001b[39;00m t\u001b[39m.\u001b[39mto(device, dtype \u001b[39mif\u001b[39;00m t\u001b[39m.\u001b[39mis_floating_point() \u001b[39mor\u001b[39;00m t\u001b[39m.\u001b[39mis_complex() \u001b[39melse\u001b[39;00m \u001b[39mNone\u001b[39;00m, non_blocking)\n\u001b[1;32m--> 899\u001b[0m \u001b[39mreturn\u001b[39;00m \u001b[39mself\u001b[39;49m\u001b[39m.\u001b[39;49m_apply(convert)\n",
      "File \u001b[1;32mc:\\Users\\lange\\anaconda3\\envs\\handelreg\\lib\\site-packages\\torch\\nn\\modules\\module.py:570\u001b[0m, in \u001b[0;36mModule._apply\u001b[1;34m(self, fn)\u001b[0m\n\u001b[0;32m    568\u001b[0m \u001b[39mdef\u001b[39;00m \u001b[39m_apply\u001b[39m(\u001b[39mself\u001b[39m, fn):\n\u001b[0;32m    569\u001b[0m     \u001b[39mfor\u001b[39;00m module \u001b[39min\u001b[39;00m \u001b[39mself\u001b[39m\u001b[39m.\u001b[39mchildren():\n\u001b[1;32m--> 570\u001b[0m         module\u001b[39m.\u001b[39;49m_apply(fn)\n\u001b[0;32m    572\u001b[0m     \u001b[39mdef\u001b[39;00m \u001b[39mcompute_should_use_set_data\u001b[39m(tensor, tensor_applied):\n\u001b[0;32m    573\u001b[0m         \u001b[39mif\u001b[39;00m torch\u001b[39m.\u001b[39m_has_compatible_shallow_copy_type(tensor, tensor_applied):\n\u001b[0;32m    574\u001b[0m             \u001b[39m# If the new tensor has compatible tensor type as the existing tensor,\u001b[39;00m\n\u001b[0;32m    575\u001b[0m             \u001b[39m# the current behavior is to change the tensor in-place using `.data =`,\u001b[39;00m\n\u001b[1;32m   (...)\u001b[0m\n\u001b[0;32m    580\u001b[0m             \u001b[39m# global flag to let the user control whether they want the future\u001b[39;00m\n\u001b[0;32m    581\u001b[0m             \u001b[39m# behavior of overwriting the existing tensor or not.\u001b[39;00m\n",
      "File \u001b[1;32mc:\\Users\\lange\\anaconda3\\envs\\handelreg\\lib\\site-packages\\torch\\nn\\modules\\module.py:570\u001b[0m, in \u001b[0;36mModule._apply\u001b[1;34m(self, fn)\u001b[0m\n\u001b[0;32m    568\u001b[0m \u001b[39mdef\u001b[39;00m \u001b[39m_apply\u001b[39m(\u001b[39mself\u001b[39m, fn):\n\u001b[0;32m    569\u001b[0m     \u001b[39mfor\u001b[39;00m module \u001b[39min\u001b[39;00m \u001b[39mself\u001b[39m\u001b[39m.\u001b[39mchildren():\n\u001b[1;32m--> 570\u001b[0m         module\u001b[39m.\u001b[39;49m_apply(fn)\n\u001b[0;32m    572\u001b[0m     \u001b[39mdef\u001b[39;00m \u001b[39mcompute_should_use_set_data\u001b[39m(tensor, tensor_applied):\n\u001b[0;32m    573\u001b[0m         \u001b[39mif\u001b[39;00m torch\u001b[39m.\u001b[39m_has_compatible_shallow_copy_type(tensor, tensor_applied):\n\u001b[0;32m    574\u001b[0m             \u001b[39m# If the new tensor has compatible tensor type as the existing tensor,\u001b[39;00m\n\u001b[0;32m    575\u001b[0m             \u001b[39m# the current behavior is to change the tensor in-place using `.data =`,\u001b[39;00m\n\u001b[1;32m   (...)\u001b[0m\n\u001b[0;32m    580\u001b[0m             \u001b[39m# global flag to let the user control whether they want the future\u001b[39;00m\n\u001b[0;32m    581\u001b[0m             \u001b[39m# behavior of overwriting the existing tensor or not.\u001b[39;00m\n",
      "File \u001b[1;32mc:\\Users\\lange\\anaconda3\\envs\\handelreg\\lib\\site-packages\\torch\\nn\\modules\\module.py:570\u001b[0m, in \u001b[0;36mModule._apply\u001b[1;34m(self, fn)\u001b[0m\n\u001b[0;32m    568\u001b[0m \u001b[39mdef\u001b[39;00m \u001b[39m_apply\u001b[39m(\u001b[39mself\u001b[39m, fn):\n\u001b[0;32m    569\u001b[0m     \u001b[39mfor\u001b[39;00m module \u001b[39min\u001b[39;00m \u001b[39mself\u001b[39m\u001b[39m.\u001b[39mchildren():\n\u001b[1;32m--> 570\u001b[0m         module\u001b[39m.\u001b[39;49m_apply(fn)\n\u001b[0;32m    572\u001b[0m     \u001b[39mdef\u001b[39;00m \u001b[39mcompute_should_use_set_data\u001b[39m(tensor, tensor_applied):\n\u001b[0;32m    573\u001b[0m         \u001b[39mif\u001b[39;00m torch\u001b[39m.\u001b[39m_has_compatible_shallow_copy_type(tensor, tensor_applied):\n\u001b[0;32m    574\u001b[0m             \u001b[39m# If the new tensor has compatible tensor type as the existing tensor,\u001b[39;00m\n\u001b[0;32m    575\u001b[0m             \u001b[39m# the current behavior is to change the tensor in-place using `.data =`,\u001b[39;00m\n\u001b[1;32m   (...)\u001b[0m\n\u001b[0;32m    580\u001b[0m             \u001b[39m# global flag to let the user control whether they want the future\u001b[39;00m\n\u001b[0;32m    581\u001b[0m             \u001b[39m# behavior of overwriting the existing tensor or not.\u001b[39;00m\n",
      "File \u001b[1;32mc:\\Users\\lange\\anaconda3\\envs\\handelreg\\lib\\site-packages\\torch\\nn\\modules\\module.py:593\u001b[0m, in \u001b[0;36mModule._apply\u001b[1;34m(self, fn)\u001b[0m\n\u001b[0;32m    589\u001b[0m \u001b[39m# Tensors stored in modules are graph leaves, and we don't want to\u001b[39;00m\n\u001b[0;32m    590\u001b[0m \u001b[39m# track autograd history of `param_applied`, so we have to use\u001b[39;00m\n\u001b[0;32m    591\u001b[0m \u001b[39m# `with torch.no_grad():`\u001b[39;00m\n\u001b[0;32m    592\u001b[0m \u001b[39mwith\u001b[39;00m torch\u001b[39m.\u001b[39mno_grad():\n\u001b[1;32m--> 593\u001b[0m     param_applied \u001b[39m=\u001b[39m fn(param)\n\u001b[0;32m    594\u001b[0m should_use_set_data \u001b[39m=\u001b[39m compute_should_use_set_data(param, param_applied)\n\u001b[0;32m    595\u001b[0m \u001b[39mif\u001b[39;00m should_use_set_data:\n",
      "File \u001b[1;32mc:\\Users\\lange\\anaconda3\\envs\\handelreg\\lib\\site-packages\\torch\\nn\\modules\\module.py:897\u001b[0m, in \u001b[0;36mModule.to.<locals>.convert\u001b[1;34m(t)\u001b[0m\n\u001b[0;32m    894\u001b[0m \u001b[39mif\u001b[39;00m convert_to_format \u001b[39mis\u001b[39;00m \u001b[39mnot\u001b[39;00m \u001b[39mNone\u001b[39;00m \u001b[39mand\u001b[39;00m t\u001b[39m.\u001b[39mdim() \u001b[39min\u001b[39;00m (\u001b[39m4\u001b[39m, \u001b[39m5\u001b[39m):\n\u001b[0;32m    895\u001b[0m     \u001b[39mreturn\u001b[39;00m t\u001b[39m.\u001b[39mto(device, dtype \u001b[39mif\u001b[39;00m t\u001b[39m.\u001b[39mis_floating_point() \u001b[39mor\u001b[39;00m t\u001b[39m.\u001b[39mis_complex() \u001b[39melse\u001b[39;00m \u001b[39mNone\u001b[39;00m,\n\u001b[0;32m    896\u001b[0m                 non_blocking, memory_format\u001b[39m=\u001b[39mconvert_to_format)\n\u001b[1;32m--> 897\u001b[0m \u001b[39mreturn\u001b[39;00m t\u001b[39m.\u001b[39;49mto(device, dtype \u001b[39mif\u001b[39;49;00m t\u001b[39m.\u001b[39;49mis_floating_point() \u001b[39mor\u001b[39;49;00m t\u001b[39m.\u001b[39;49mis_complex() \u001b[39melse\u001b[39;49;00m \u001b[39mNone\u001b[39;49;00m, non_blocking)\n",
      "File \u001b[1;32mc:\\Users\\lange\\anaconda3\\envs\\handelreg\\lib\\site-packages\\torch\\cuda\\__init__.py:208\u001b[0m, in \u001b[0;36m_lazy_init\u001b[1;34m()\u001b[0m\n\u001b[0;32m    204\u001b[0m     \u001b[39mraise\u001b[39;00m \u001b[39mRuntimeError\u001b[39;00m(\n\u001b[0;32m    205\u001b[0m         \u001b[39m\"\u001b[39m\u001b[39mCannot re-initialize CUDA in forked subprocess. To use CUDA with \u001b[39m\u001b[39m\"\u001b[39m\n\u001b[0;32m    206\u001b[0m         \u001b[39m\"\u001b[39m\u001b[39mmultiprocessing, you must use the \u001b[39m\u001b[39m'\u001b[39m\u001b[39mspawn\u001b[39m\u001b[39m'\u001b[39m\u001b[39m start method\u001b[39m\u001b[39m\"\u001b[39m)\n\u001b[0;32m    207\u001b[0m \u001b[39mif\u001b[39;00m \u001b[39mnot\u001b[39;00m \u001b[39mhasattr\u001b[39m(torch\u001b[39m.\u001b[39m_C, \u001b[39m'\u001b[39m\u001b[39m_cuda_getDeviceCount\u001b[39m\u001b[39m'\u001b[39m):\n\u001b[1;32m--> 208\u001b[0m     \u001b[39mraise\u001b[39;00m \u001b[39mAssertionError\u001b[39;00m(\u001b[39m\"\u001b[39m\u001b[39mTorch not compiled with CUDA enabled\u001b[39m\u001b[39m\"\u001b[39m)\n\u001b[0;32m    209\u001b[0m \u001b[39mif\u001b[39;00m _cudart \u001b[39mis\u001b[39;00m \u001b[39mNone\u001b[39;00m:\n\u001b[0;32m    210\u001b[0m     \u001b[39mraise\u001b[39;00m \u001b[39mAssertionError\u001b[39;00m(\n\u001b[0;32m    211\u001b[0m         \u001b[39m\"\u001b[39m\u001b[39mlibcudart functions unavailable. It looks like you have a broken build?\u001b[39m\u001b[39m\"\u001b[39m)\n",
      "\u001b[1;31mAssertionError\u001b[0m: Torch not compiled with CUDA enabled"
     ]
    }
   ],
   "source": [
    "try_input = df.loc[3, \"gegenstand\"]\n",
    "predict(try_input)"
   ]
  },
  {
   "cell_type": "code",
   "execution_count": 26,
   "metadata": {},
   "outputs": [
    {
     "name": "stdout",
     "output_type": "stream",
     "text": [
      "tensor([[0.2116, 0.1917, 0.2345],\n",
      "        [0.8577, 0.1812, 0.3066],\n",
      "        [0.3022, 0.7131, 0.3243],\n",
      "        [0.7264, 0.4793, 0.9055],\n",
      "        [0.8667, 0.4799, 0.3359]])\n"
     ]
    }
   ],
   "source": [
    "x = torch.rand(5, 3)\n",
    "print(x)"
   ]
  },
  {
   "cell_type": "code",
   "execution_count": 27,
   "metadata": {},
   "outputs": [
    {
     "data": {
      "text/plain": [
       "False"
      ]
     },
     "execution_count": 27,
     "metadata": {},
     "output_type": "execute_result"
    }
   ],
   "source": [
    "torch.cuda.is_available()"
   ]
  },
  {
   "cell_type": "markdown",
   "metadata": {},
   "source": [
    "# Colab\n",
    "An dieser Stelle: Wechsel zu Colab, da ich lokal aufgrund der Hardware (Intel Grafikkarte) nicht mit Cuda arbeiten kann."
   ]
  }
 ],
 "metadata": {
  "kernelspec": {
   "display_name": "Python 3.9.13 ('handelreg')",
   "language": "python",
   "name": "python3"
  },
  "language_info": {
   "codemirror_mode": {
    "name": "ipython",
    "version": 3
   },
   "file_extension": ".py",
   "mimetype": "text/x-python",
   "name": "python",
   "nbconvert_exporter": "python",
   "pygments_lexer": "ipython3",
   "version": "3.9.13"
  },
  "orig_nbformat": 4,
  "vscode": {
   "interpreter": {
    "hash": "8ecc71f0c805e7b0299b362458c917069b40f45b7a664663fd15581e0a2e2c8e"
   }
  }
 },
 "nbformat": 4,
 "nbformat_minor": 2
}
