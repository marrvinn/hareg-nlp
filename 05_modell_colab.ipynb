{
  "cells": [
    {
      "cell_type": "markdown",
      "metadata": {
        "id": "view-in-github",
        "colab_type": "text"
      },
      "source": [
        "<a href=\"https://colab.research.google.com/github/marrvinn/hareg-nlp/blob/master/05_modell_colab.ipynb\" target=\"_parent\"><img src=\"https://colab.research.google.com/assets/colab-badge.svg\" alt=\"Open In Colab\"/></a>"
      ]
    },
    {
      "cell_type": "markdown",
      "metadata": {
        "id": "-joGsuC54X_E"
      },
      "source": [
        "# Install and Import\n",
        "Wordcloud und Transformer laufen nicht mehr im gleichen Environment"
      ]
    },
    {
      "cell_type": "code",
      "execution_count": 124,
      "metadata": {
        "colab": {
          "base_uri": "https://localhost:8080/",
          "height": 270
        },
        "id": "lNxmPgOTJ8ge",
        "outputId": "49abce17-75c9-4989-de69-9e88a0640f0d"
      },
      "outputs": [
        {
          "output_type": "stream",
          "name": "stdout",
          "text": [
            "Looking in indexes: https://pypi.org/simple, https://us-python.pkg.dev/colab-wheels/public/simple/\n",
            "Collecting Pillow==9.0.0\n",
            "  Using cached Pillow-9.0.0-cp38-cp38-manylinux_2_17_x86_64.manylinux2014_x86_64.whl (4.3 MB)\n",
            "Installing collected packages: Pillow\n",
            "  Attempting uninstall: Pillow\n",
            "    Found existing installation: Pillow 9.3.0\n",
            "    Uninstalling Pillow-9.3.0:\n",
            "      Successfully uninstalled Pillow-9.3.0\n",
            "Successfully installed Pillow-9.0.0\n"
          ]
        },
        {
          "output_type": "display_data",
          "data": {
            "application/vnd.colab-display-data+json": {
              "pip_warning": {
                "packages": [
                  "PIL"
                ]
              }
            }
          },
          "metadata": {}
        }
      ],
      "source": [
        "!pip install Pillow==9.0.0"
      ]
    },
    {
      "cell_type": "code",
      "execution_count": 125,
      "metadata": {
        "colab": {
          "base_uri": "https://localhost:8080/"
        },
        "id": "mJ-12j-yzGHa",
        "outputId": "7dc8b4f8-5a40-4d93-86e8-e1fd6244c222"
      },
      "outputs": [
        {
          "output_type": "stream",
          "name": "stdout",
          "text": [
            "Looking in indexes: https://pypi.org/simple, https://us-python.pkg.dev/colab-wheels/public/simple/\n",
            "Requirement already satisfied: reportlab in /usr/local/lib/python3.8/dist-packages (3.6.12)\n",
            "Requirement already satisfied: pillow>=9.0.0 in /usr/local/lib/python3.8/dist-packages (from reportlab) (9.0.0)\n",
            "Looking in indexes: https://pypi.org/simple, https://us-python.pkg.dev/colab-wheels/public/simple/\n",
            "Collecting de-core-news-sm==3.4.0\n",
            "  Downloading https://github.com/explosion/spacy-models/releases/download/de_core_news_sm-3.4.0/de_core_news_sm-3.4.0-py3-none-any.whl (14.6 MB)\n",
            "\u001b[K     |████████████████████████████████| 14.6 MB 553 kB/s \n",
            "\u001b[?25hRequirement already satisfied: spacy<3.5.0,>=3.4.0 in /usr/local/lib/python3.8/dist-packages (from de-core-news-sm==3.4.0) (3.4.4)\n",
            "Requirement already satisfied: catalogue<2.1.0,>=2.0.6 in /usr/local/lib/python3.8/dist-packages (from spacy<3.5.0,>=3.4.0->de-core-news-sm==3.4.0) (2.0.8)\n",
            "Requirement already satisfied: cymem<2.1.0,>=2.0.2 in /usr/local/lib/python3.8/dist-packages (from spacy<3.5.0,>=3.4.0->de-core-news-sm==3.4.0) (2.0.7)\n",
            "Requirement already satisfied: pathy>=0.3.5 in /usr/local/lib/python3.8/dist-packages (from spacy<3.5.0,>=3.4.0->de-core-news-sm==3.4.0) (0.10.1)\n",
            "Requirement already satisfied: spacy-loggers<2.0.0,>=1.0.0 in /usr/local/lib/python3.8/dist-packages (from spacy<3.5.0,>=3.4.0->de-core-news-sm==3.4.0) (1.0.4)\n",
            "Requirement already satisfied: smart-open<7.0.0,>=5.2.1 in /usr/local/lib/python3.8/dist-packages (from spacy<3.5.0,>=3.4.0->de-core-news-sm==3.4.0) (6.3.0)\n",
            "Requirement already satisfied: packaging>=20.0 in /usr/local/lib/python3.8/dist-packages (from spacy<3.5.0,>=3.4.0->de-core-news-sm==3.4.0) (21.3)\n",
            "Requirement already satisfied: pydantic!=1.8,!=1.8.1,<1.11.0,>=1.7.4 in /usr/local/lib/python3.8/dist-packages (from spacy<3.5.0,>=3.4.0->de-core-news-sm==3.4.0) (1.10.2)\n",
            "Requirement already satisfied: tqdm<5.0.0,>=4.38.0 in /usr/local/lib/python3.8/dist-packages (from spacy<3.5.0,>=3.4.0->de-core-news-sm==3.4.0) (4.64.1)\n",
            "Requirement already satisfied: requests<3.0.0,>=2.13.0 in /usr/local/lib/python3.8/dist-packages (from spacy<3.5.0,>=3.4.0->de-core-news-sm==3.4.0) (2.23.0)\n",
            "Requirement already satisfied: murmurhash<1.1.0,>=0.28.0 in /usr/local/lib/python3.8/dist-packages (from spacy<3.5.0,>=3.4.0->de-core-news-sm==3.4.0) (1.0.9)\n",
            "Requirement already satisfied: srsly<3.0.0,>=2.4.3 in /usr/local/lib/python3.8/dist-packages (from spacy<3.5.0,>=3.4.0->de-core-news-sm==3.4.0) (2.4.5)\n",
            "Requirement already satisfied: numpy>=1.15.0 in /usr/local/lib/python3.8/dist-packages (from spacy<3.5.0,>=3.4.0->de-core-news-sm==3.4.0) (1.21.6)\n",
            "Requirement already satisfied: jinja2 in /usr/local/lib/python3.8/dist-packages (from spacy<3.5.0,>=3.4.0->de-core-news-sm==3.4.0) (2.11.3)\n",
            "Requirement already satisfied: langcodes<4.0.0,>=3.2.0 in /usr/local/lib/python3.8/dist-packages (from spacy<3.5.0,>=3.4.0->de-core-news-sm==3.4.0) (3.3.0)\n",
            "Requirement already satisfied: spacy-legacy<3.1.0,>=3.0.10 in /usr/local/lib/python3.8/dist-packages (from spacy<3.5.0,>=3.4.0->de-core-news-sm==3.4.0) (3.0.10)\n",
            "Requirement already satisfied: wasabi<1.1.0,>=0.9.1 in /usr/local/lib/python3.8/dist-packages (from spacy<3.5.0,>=3.4.0->de-core-news-sm==3.4.0) (0.10.1)\n",
            "Requirement already satisfied: setuptools in /usr/local/lib/python3.8/dist-packages (from spacy<3.5.0,>=3.4.0->de-core-news-sm==3.4.0) (57.4.0)\n",
            "Requirement already satisfied: thinc<8.2.0,>=8.1.0 in /usr/local/lib/python3.8/dist-packages (from spacy<3.5.0,>=3.4.0->de-core-news-sm==3.4.0) (8.1.5)\n",
            "Requirement already satisfied: typer<0.8.0,>=0.3.0 in /usr/local/lib/python3.8/dist-packages (from spacy<3.5.0,>=3.4.0->de-core-news-sm==3.4.0) (0.7.0)\n",
            "Requirement already satisfied: preshed<3.1.0,>=3.0.2 in /usr/local/lib/python3.8/dist-packages (from spacy<3.5.0,>=3.4.0->de-core-news-sm==3.4.0) (3.0.8)\n",
            "Requirement already satisfied: pyparsing!=3.0.5,>=2.0.2 in /usr/local/lib/python3.8/dist-packages (from packaging>=20.0->spacy<3.5.0,>=3.4.0->de-core-news-sm==3.4.0) (3.0.9)\n",
            "Requirement already satisfied: typing-extensions>=4.1.0 in /usr/local/lib/python3.8/dist-packages (from pydantic!=1.8,!=1.8.1,<1.11.0,>=1.7.4->spacy<3.5.0,>=3.4.0->de-core-news-sm==3.4.0) (4.4.0)\n",
            "Requirement already satisfied: chardet<4,>=3.0.2 in /usr/local/lib/python3.8/dist-packages (from requests<3.0.0,>=2.13.0->spacy<3.5.0,>=3.4.0->de-core-news-sm==3.4.0) (3.0.4)\n",
            "Requirement already satisfied: urllib3!=1.25.0,!=1.25.1,<1.26,>=1.21.1 in /usr/local/lib/python3.8/dist-packages (from requests<3.0.0,>=2.13.0->spacy<3.5.0,>=3.4.0->de-core-news-sm==3.4.0) (1.25.11)\n",
            "Requirement already satisfied: idna<3,>=2.5 in /usr/local/lib/python3.8/dist-packages (from requests<3.0.0,>=2.13.0->spacy<3.5.0,>=3.4.0->de-core-news-sm==3.4.0) (2.10)\n",
            "Requirement already satisfied: certifi>=2017.4.17 in /usr/local/lib/python3.8/dist-packages (from requests<3.0.0,>=2.13.0->spacy<3.5.0,>=3.4.0->de-core-news-sm==3.4.0) (2022.12.7)\n",
            "Requirement already satisfied: confection<1.0.0,>=0.0.1 in /usr/local/lib/python3.8/dist-packages (from thinc<8.2.0,>=8.1.0->spacy<3.5.0,>=3.4.0->de-core-news-sm==3.4.0) (0.0.3)\n",
            "Requirement already satisfied: blis<0.8.0,>=0.7.8 in /usr/local/lib/python3.8/dist-packages (from thinc<8.2.0,>=8.1.0->spacy<3.5.0,>=3.4.0->de-core-news-sm==3.4.0) (0.7.9)\n",
            "Requirement already satisfied: click<9.0.0,>=7.1.1 in /usr/local/lib/python3.8/dist-packages (from typer<0.8.0,>=0.3.0->spacy<3.5.0,>=3.4.0->de-core-news-sm==3.4.0) (7.1.2)\n",
            "Requirement already satisfied: MarkupSafe>=0.23 in /usr/local/lib/python3.8/dist-packages (from jinja2->spacy<3.5.0,>=3.4.0->de-core-news-sm==3.4.0) (2.0.1)\n",
            "\u001b[38;5;2m✔ Download and installation successful\u001b[0m\n",
            "You can now load the package via spacy.load('de_core_news_sm')\n",
            "Looking in indexes: https://pypi.org/simple, https://us-python.pkg.dev/colab-wheels/public/simple/\n",
            "Requirement already satisfied: nltk in /usr/local/lib/python3.8/dist-packages (3.7)\n",
            "Requirement already satisfied: regex>=2021.8.3 in /usr/local/lib/python3.8/dist-packages (from nltk) (2022.6.2)\n",
            "Requirement already satisfied: click in /usr/local/lib/python3.8/dist-packages (from nltk) (7.1.2)\n",
            "Requirement already satisfied: joblib in /usr/local/lib/python3.8/dist-packages (from nltk) (1.2.0)\n",
            "Requirement already satisfied: tqdm in /usr/local/lib/python3.8/dist-packages (from nltk) (4.64.1)\n",
            "Looking in indexes: https://pypi.org/simple, https://us-python.pkg.dev/colab-wheels/public/simple/\n",
            "Collecting de-core-news-md==3.4.0\n",
            "  Downloading https://github.com/explosion/spacy-models/releases/download/de_core_news_md-3.4.0/de_core_news_md-3.4.0-py3-none-any.whl (44.4 MB)\n",
            "\u001b[K     |████████████████████████████████| 44.4 MB 1.1 MB/s \n",
            "\u001b[?25hRequirement already satisfied: spacy<3.5.0,>=3.4.0 in /usr/local/lib/python3.8/dist-packages (from de-core-news-md==3.4.0) (3.4.4)\n",
            "Requirement already satisfied: numpy>=1.15.0 in /usr/local/lib/python3.8/dist-packages (from spacy<3.5.0,>=3.4.0->de-core-news-md==3.4.0) (1.21.6)\n",
            "Requirement already satisfied: requests<3.0.0,>=2.13.0 in /usr/local/lib/python3.8/dist-packages (from spacy<3.5.0,>=3.4.0->de-core-news-md==3.4.0) (2.23.0)\n",
            "Requirement already satisfied: srsly<3.0.0,>=2.4.3 in /usr/local/lib/python3.8/dist-packages (from spacy<3.5.0,>=3.4.0->de-core-news-md==3.4.0) (2.4.5)\n",
            "Requirement already satisfied: pathy>=0.3.5 in /usr/local/lib/python3.8/dist-packages (from spacy<3.5.0,>=3.4.0->de-core-news-md==3.4.0) (0.10.1)\n",
            "Requirement already satisfied: smart-open<7.0.0,>=5.2.1 in /usr/local/lib/python3.8/dist-packages (from spacy<3.5.0,>=3.4.0->de-core-news-md==3.4.0) (6.3.0)\n",
            "Requirement already satisfied: spacy-loggers<2.0.0,>=1.0.0 in /usr/local/lib/python3.8/dist-packages (from spacy<3.5.0,>=3.4.0->de-core-news-md==3.4.0) (1.0.4)\n",
            "Requirement already satisfied: spacy-legacy<3.1.0,>=3.0.10 in /usr/local/lib/python3.8/dist-packages (from spacy<3.5.0,>=3.4.0->de-core-news-md==3.4.0) (3.0.10)\n",
            "Requirement already satisfied: catalogue<2.1.0,>=2.0.6 in /usr/local/lib/python3.8/dist-packages (from spacy<3.5.0,>=3.4.0->de-core-news-md==3.4.0) (2.0.8)\n",
            "Requirement already satisfied: packaging>=20.0 in /usr/local/lib/python3.8/dist-packages (from spacy<3.5.0,>=3.4.0->de-core-news-md==3.4.0) (21.3)\n",
            "Requirement already satisfied: tqdm<5.0.0,>=4.38.0 in /usr/local/lib/python3.8/dist-packages (from spacy<3.5.0,>=3.4.0->de-core-news-md==3.4.0) (4.64.1)\n",
            "Requirement already satisfied: wasabi<1.1.0,>=0.9.1 in /usr/local/lib/python3.8/dist-packages (from spacy<3.5.0,>=3.4.0->de-core-news-md==3.4.0) (0.10.1)\n",
            "Requirement already satisfied: cymem<2.1.0,>=2.0.2 in /usr/local/lib/python3.8/dist-packages (from spacy<3.5.0,>=3.4.0->de-core-news-md==3.4.0) (2.0.7)\n",
            "Requirement already satisfied: typer<0.8.0,>=0.3.0 in /usr/local/lib/python3.8/dist-packages (from spacy<3.5.0,>=3.4.0->de-core-news-md==3.4.0) (0.7.0)\n",
            "Requirement already satisfied: langcodes<4.0.0,>=3.2.0 in /usr/local/lib/python3.8/dist-packages (from spacy<3.5.0,>=3.4.0->de-core-news-md==3.4.0) (3.3.0)\n",
            "Requirement already satisfied: murmurhash<1.1.0,>=0.28.0 in /usr/local/lib/python3.8/dist-packages (from spacy<3.5.0,>=3.4.0->de-core-news-md==3.4.0) (1.0.9)\n",
            "Requirement already satisfied: pydantic!=1.8,!=1.8.1,<1.11.0,>=1.7.4 in /usr/local/lib/python3.8/dist-packages (from spacy<3.5.0,>=3.4.0->de-core-news-md==3.4.0) (1.10.2)\n",
            "Requirement already satisfied: thinc<8.2.0,>=8.1.0 in /usr/local/lib/python3.8/dist-packages (from spacy<3.5.0,>=3.4.0->de-core-news-md==3.4.0) (8.1.5)\n",
            "Requirement already satisfied: setuptools in /usr/local/lib/python3.8/dist-packages (from spacy<3.5.0,>=3.4.0->de-core-news-md==3.4.0) (57.4.0)\n",
            "Requirement already satisfied: preshed<3.1.0,>=3.0.2 in /usr/local/lib/python3.8/dist-packages (from spacy<3.5.0,>=3.4.0->de-core-news-md==3.4.0) (3.0.8)\n",
            "Requirement already satisfied: jinja2 in /usr/local/lib/python3.8/dist-packages (from spacy<3.5.0,>=3.4.0->de-core-news-md==3.4.0) (2.11.3)\n",
            "Requirement already satisfied: pyparsing!=3.0.5,>=2.0.2 in /usr/local/lib/python3.8/dist-packages (from packaging>=20.0->spacy<3.5.0,>=3.4.0->de-core-news-md==3.4.0) (3.0.9)\n",
            "Requirement already satisfied: typing-extensions>=4.1.0 in /usr/local/lib/python3.8/dist-packages (from pydantic!=1.8,!=1.8.1,<1.11.0,>=1.7.4->spacy<3.5.0,>=3.4.0->de-core-news-md==3.4.0) (4.4.0)\n",
            "Requirement already satisfied: urllib3!=1.25.0,!=1.25.1,<1.26,>=1.21.1 in /usr/local/lib/python3.8/dist-packages (from requests<3.0.0,>=2.13.0->spacy<3.5.0,>=3.4.0->de-core-news-md==3.4.0) (1.25.11)\n",
            "Requirement already satisfied: idna<3,>=2.5 in /usr/local/lib/python3.8/dist-packages (from requests<3.0.0,>=2.13.0->spacy<3.5.0,>=3.4.0->de-core-news-md==3.4.0) (2.10)\n",
            "Requirement already satisfied: certifi>=2017.4.17 in /usr/local/lib/python3.8/dist-packages (from requests<3.0.0,>=2.13.0->spacy<3.5.0,>=3.4.0->de-core-news-md==3.4.0) (2022.12.7)\n",
            "Requirement already satisfied: chardet<4,>=3.0.2 in /usr/local/lib/python3.8/dist-packages (from requests<3.0.0,>=2.13.0->spacy<3.5.0,>=3.4.0->de-core-news-md==3.4.0) (3.0.4)\n",
            "Requirement already satisfied: confection<1.0.0,>=0.0.1 in /usr/local/lib/python3.8/dist-packages (from thinc<8.2.0,>=8.1.0->spacy<3.5.0,>=3.4.0->de-core-news-md==3.4.0) (0.0.3)\n",
            "Requirement already satisfied: blis<0.8.0,>=0.7.8 in /usr/local/lib/python3.8/dist-packages (from thinc<8.2.0,>=8.1.0->spacy<3.5.0,>=3.4.0->de-core-news-md==3.4.0) (0.7.9)\n",
            "Requirement already satisfied: click<9.0.0,>=7.1.1 in /usr/local/lib/python3.8/dist-packages (from typer<0.8.0,>=0.3.0->spacy<3.5.0,>=3.4.0->de-core-news-md==3.4.0) (7.1.2)\n",
            "Requirement already satisfied: MarkupSafe>=0.23 in /usr/local/lib/python3.8/dist-packages (from jinja2->spacy<3.5.0,>=3.4.0->de-core-news-md==3.4.0) (2.0.1)\n",
            "\u001b[38;5;2m✔ Download and installation successful\u001b[0m\n",
            "You can now load the package via spacy.load('de_core_news_md')\n",
            "Looking in indexes: https://pypi.org/simple, https://us-python.pkg.dev/colab-wheels/public/simple/\n",
            "Requirement already satisfied: pyspellchecker in /usr/local/lib/python3.8/dist-packages (0.7.1)\n",
            "Looking in indexes: https://pypi.org/simple, https://us-python.pkg.dev/colab-wheels/public/simple/\n",
            "Requirement already satisfied: datasets in /usr/local/lib/python3.8/dist-packages (2.8.0)\n",
            "Requirement already satisfied: fsspec[http]>=2021.11.1 in /usr/local/lib/python3.8/dist-packages (from datasets) (2022.11.0)\n",
            "Requirement already satisfied: pyyaml>=5.1 in /usr/local/lib/python3.8/dist-packages (from datasets) (6.0)\n",
            "Requirement already satisfied: numpy>=1.17 in /usr/local/lib/python3.8/dist-packages (from datasets) (1.21.6)\n",
            "Requirement already satisfied: responses<0.19 in /usr/local/lib/python3.8/dist-packages (from datasets) (0.18.0)\n",
            "Requirement already satisfied: tqdm>=4.62.1 in /usr/local/lib/python3.8/dist-packages (from datasets) (4.64.1)\n",
            "Requirement already satisfied: packaging in /usr/local/lib/python3.8/dist-packages (from datasets) (21.3)\n",
            "Requirement already satisfied: multiprocess in /usr/local/lib/python3.8/dist-packages (from datasets) (0.70.14)\n",
            "Requirement already satisfied: pyarrow>=6.0.0 in /usr/local/lib/python3.8/dist-packages (from datasets) (9.0.0)\n",
            "Requirement already satisfied: dill<0.3.7 in /usr/local/lib/python3.8/dist-packages (from datasets) (0.3.6)\n",
            "Requirement already satisfied: huggingface-hub<1.0.0,>=0.2.0 in /usr/local/lib/python3.8/dist-packages (from datasets) (0.11.1)\n",
            "Requirement already satisfied: aiohttp in /usr/local/lib/python3.8/dist-packages (from datasets) (3.8.3)\n",
            "Requirement already satisfied: xxhash in /usr/local/lib/python3.8/dist-packages (from datasets) (3.1.0)\n",
            "Requirement already satisfied: pandas in /usr/local/lib/python3.8/dist-packages (from datasets) (1.3.5)\n",
            "Requirement already satisfied: requests>=2.19.0 in /usr/local/lib/python3.8/dist-packages (from datasets) (2.23.0)\n",
            "Requirement already satisfied: aiosignal>=1.1.2 in /usr/local/lib/python3.8/dist-packages (from aiohttp->datasets) (1.3.1)\n",
            "Requirement already satisfied: multidict<7.0,>=4.5 in /usr/local/lib/python3.8/dist-packages (from aiohttp->datasets) (6.0.3)\n",
            "Requirement already satisfied: charset-normalizer<3.0,>=2.0 in /usr/local/lib/python3.8/dist-packages (from aiohttp->datasets) (2.1.1)\n",
            "Requirement already satisfied: frozenlist>=1.1.1 in /usr/local/lib/python3.8/dist-packages (from aiohttp->datasets) (1.3.3)\n",
            "Requirement already satisfied: attrs>=17.3.0 in /usr/local/lib/python3.8/dist-packages (from aiohttp->datasets) (22.1.0)\n",
            "Requirement already satisfied: yarl<2.0,>=1.0 in /usr/local/lib/python3.8/dist-packages (from aiohttp->datasets) (1.8.2)\n",
            "Requirement already satisfied: async-timeout<5.0,>=4.0.0a3 in /usr/local/lib/python3.8/dist-packages (from aiohttp->datasets) (4.0.2)\n",
            "Requirement already satisfied: filelock in /usr/local/lib/python3.8/dist-packages (from huggingface-hub<1.0.0,>=0.2.0->datasets) (3.8.2)\n",
            "Requirement already satisfied: typing-extensions>=3.7.4.3 in /usr/local/lib/python3.8/dist-packages (from huggingface-hub<1.0.0,>=0.2.0->datasets) (4.4.0)\n",
            "Requirement already satisfied: pyparsing!=3.0.5,>=2.0.2 in /usr/local/lib/python3.8/dist-packages (from packaging->datasets) (3.0.9)\n",
            "Requirement already satisfied: chardet<4,>=3.0.2 in /usr/local/lib/python3.8/dist-packages (from requests>=2.19.0->datasets) (3.0.4)\n",
            "Requirement already satisfied: certifi>=2017.4.17 in /usr/local/lib/python3.8/dist-packages (from requests>=2.19.0->datasets) (2022.12.7)\n",
            "Requirement already satisfied: urllib3!=1.25.0,!=1.25.1,<1.26,>=1.21.1 in /usr/local/lib/python3.8/dist-packages (from requests>=2.19.0->datasets) (1.25.11)\n",
            "Requirement already satisfied: idna<3,>=2.5 in /usr/local/lib/python3.8/dist-packages (from requests>=2.19.0->datasets) (2.10)\n",
            "Requirement already satisfied: pytz>=2017.3 in /usr/local/lib/python3.8/dist-packages (from pandas->datasets) (2022.6)\n",
            "Requirement already satisfied: python-dateutil>=2.7.3 in /usr/local/lib/python3.8/dist-packages (from pandas->datasets) (2.8.2)\n",
            "Requirement already satisfied: six>=1.5 in /usr/local/lib/python3.8/dist-packages (from python-dateutil>=2.7.3->pandas->datasets) (1.15.0)\n",
            "Looking in indexes: https://pypi.org/simple, https://us-python.pkg.dev/colab-wheels/public/simple/\n",
            "Requirement already satisfied: transformers in /usr/local/lib/python3.8/dist-packages (4.25.1)\n",
            "Requirement already satisfied: pyyaml>=5.1 in /usr/local/lib/python3.8/dist-packages (from transformers) (6.0)\n",
            "Requirement already satisfied: tokenizers!=0.11.3,<0.14,>=0.11.1 in /usr/local/lib/python3.8/dist-packages (from transformers) (0.13.2)\n",
            "Requirement already satisfied: numpy>=1.17 in /usr/local/lib/python3.8/dist-packages (from transformers) (1.21.6)\n",
            "Requirement already satisfied: regex!=2019.12.17 in /usr/local/lib/python3.8/dist-packages (from transformers) (2022.6.2)\n",
            "Requirement already satisfied: filelock in /usr/local/lib/python3.8/dist-packages (from transformers) (3.8.2)\n",
            "Requirement already satisfied: requests in /usr/local/lib/python3.8/dist-packages (from transformers) (2.23.0)\n",
            "Requirement already satisfied: tqdm>=4.27 in /usr/local/lib/python3.8/dist-packages (from transformers) (4.64.1)\n",
            "Requirement already satisfied: packaging>=20.0 in /usr/local/lib/python3.8/dist-packages (from transformers) (21.3)\n",
            "Requirement already satisfied: huggingface-hub<1.0,>=0.10.0 in /usr/local/lib/python3.8/dist-packages (from transformers) (0.11.1)\n",
            "Requirement already satisfied: typing-extensions>=3.7.4.3 in /usr/local/lib/python3.8/dist-packages (from huggingface-hub<1.0,>=0.10.0->transformers) (4.4.0)\n",
            "Requirement already satisfied: pyparsing!=3.0.5,>=2.0.2 in /usr/local/lib/python3.8/dist-packages (from packaging>=20.0->transformers) (3.0.9)\n",
            "Requirement already satisfied: chardet<4,>=3.0.2 in /usr/local/lib/python3.8/dist-packages (from requests->transformers) (3.0.4)\n",
            "Requirement already satisfied: idna<3,>=2.5 in /usr/local/lib/python3.8/dist-packages (from requests->transformers) (2.10)\n",
            "Requirement already satisfied: certifi>=2017.4.17 in /usr/local/lib/python3.8/dist-packages (from requests->transformers) (2022.12.7)\n",
            "Requirement already satisfied: urllib3!=1.25.0,!=1.25.1,<1.26,>=1.21.1 in /usr/local/lib/python3.8/dist-packages (from requests->transformers) (1.25.11)\n",
            "Looking in indexes: https://pypi.org/simple, https://us-python.pkg.dev/colab-wheels/public/simple/\n",
            "Requirement already satisfied: fonttools in /usr/local/lib/python3.8/dist-packages (4.38.0)\n"
          ]
        }
      ],
      "source": [
        "!pip install reportlab\n",
        "!python -m spacy download de_core_news_sm\n",
        "!pip install nltk\n",
        "!python -m spacy download de_core_news_md\n",
        "!pip install pyspellchecker\n",
        "!pip install datasets\n",
        "!pip install transformers\n",
        "!pip install fonttools"
      ]
    },
    {
      "cell_type": "code",
      "execution_count": 126,
      "metadata": {
        "id": "PyXuxiZuy8tL"
      },
      "outputs": [],
      "source": [
        "# Data\n",
        "import pandas as pd\n",
        "import numpy as np\n",
        "import sqlite3\n",
        "from sklearn.model_selection import train_test_split\n",
        "import datasets\n",
        "from datasets import Dataset\n",
        "\n",
        "# NLP\n",
        "import regex as re\n",
        "import spacy\n",
        "from spellchecker import SpellChecker\n",
        "from bs4 import SoupStrainer, BeautifulSoup\n",
        "from bs4.element import Comment\n",
        "\n",
        "# Modelling\n",
        "from transformers import pipeline\n",
        "import os\n",
        "import torch\n",
        "from torch import nn\n",
        "from transformers import pipeline\n",
        "from transformers import AutoTokenizer, BertTokenizer, DistilBertTokenizer\n",
        "from transformers import AutoModelForSequenceClassification, RobertaForSequenceClassification\n",
        "from transformers import BertForSequenceClassification\n",
        "from transformers import TrainingArguments\n",
        "from transformers import Trainer\n",
        "from transformers import EarlyStoppingCallback\n",
        "from tqdm import tqdm\n",
        "\n",
        "# Evaluation\n",
        "from sklearn.metrics import precision_recall_fscore_support\n",
        "from sklearn.metrics import f1_score, precision_score, recall_score\n",
        "from sklearn.metrics import accuracy_score, balanced_accuracy_score\n",
        "from sklearn.metrics import classification_report\n",
        "from sklearn.metrics import confusion_matrix\n",
        "import matplotlib.pyplot as plt\n",
        "import seaborn as sns\n",
        "# from wordcloud import WordCloud\n",
        "import fontTools\n",
        "import fontTools.subset"
      ]
    },
    {
      "cell_type": "code",
      "execution_count": 127,
      "metadata": {
        "id": "7hFuTBjnSnaz"
      },
      "outputs": [],
      "source": [
        "tqdm.pandas()\n",
        "pd.options.mode.chained_assignment = None"
      ]
    },
    {
      "cell_type": "code",
      "execution_count": 128,
      "metadata": {
        "id": "NLecp94aVO2U"
      },
      "outputs": [],
      "source": [
        "# get traceback\n",
        "os.environ['CUDA_LAUNCH_BLOCKING'] = \"1\""
      ]
    },
    {
      "cell_type": "code",
      "execution_count": 129,
      "metadata": {
        "id": "qYyY76-Zychs",
        "colab": {
          "base_uri": "https://localhost:8080/"
        },
        "outputId": "7c0f2aa1-fc53-4de0-f69b-6d3f97821b5f"
      },
      "outputs": [
        {
          "output_type": "execute_result",
          "data": {
            "text/plain": [
              "True"
            ]
          },
          "metadata": {},
          "execution_count": 129
        }
      ],
      "source": [
        "torch.cuda.is_available()"
      ]
    },
    {
      "cell_type": "code",
      "execution_count": 130,
      "metadata": {
        "id": "JSXt2o4a0Kd0",
        "colab": {
          "base_uri": "https://localhost:8080/"
        },
        "outputId": "5cbe57bc-803c-4aea-e150-006ff6cd33a7"
      },
      "outputs": [
        {
          "output_type": "stream",
          "name": "stdout",
          "text": [
            "Mounted at /content/drive\n"
          ]
        }
      ],
      "source": [
        "from google.colab import drive\n",
        "drive.mount('/content/drive', force_remount=True)"
      ]
    },
    {
      "cell_type": "markdown",
      "metadata": {
        "id": "RwTfBdWVOgW0"
      },
      "source": [
        "# Data"
      ]
    },
    {
      "cell_type": "code",
      "execution_count": 131,
      "metadata": {
        "id": "YJI1wAmqzSmO",
        "colab": {
          "base_uri": "https://localhost:8080/",
          "height": 354
        },
        "outputId": "f78f9e3f-4ae2-4624-de09-88a82407ceba"
      },
      "outputs": [
        {
          "output_type": "execute_result",
          "data": {
            "text/plain": [
              "                          name                 regricht regart  regnum  \\\n",
              "0                      AUDI AG               Ingolstadt    HRB       1   \n",
              "1                Volkswagen AG                Wolfsburg    HRB  100484   \n",
              "2  ŠKODA AUTO Deutschland GmbH                Darmstadt    HRB    5242   \n",
              "3           Tesla Germany GmbH  Berlin (Charlottenburg)    HRB  235261   \n",
              "4                       BMW AG                  München    HRB   42243   \n",
              "\n",
              "                            url       label  \\\n",
              "0          https://www.audi.de/  Automotive   \n",
              "1    https://www.volkswagen.de/  Automotive   \n",
              "2    https://www.skoda-auto.de/  Automotive   \n",
              "3  https://www.tesla.com/de_de/  Automotive   \n",
              "4           https://www.bmw.de/  Automotive   \n",
              "\n",
              "                                                text  \\\n",
              "0  \\nHandelsregister B des Abteilung B Nummer der...   \n",
              "1  \\nHandelsregister B des Abteilung B Nummer der...   \n",
              "2  \\nHandelsregister B des Abteilung B Nummer der...   \n",
              "3  \\n- Wiedergabe des aktuellen Registerinhalts -...   \n",
              "4  \\nHandelsregister B des Abteilung B Nummer der...   \n",
              "\n",
              "                                          gegenstand        capital  \\\n",
              "0  Entwicklung, Herstellung und Vertrieb von Kraf...   110080000,00   \n",
              "1  Gegenstand des Unternehmens ist die Herstellun...  1283315873,28   \n",
              "2  Ist der Import und der Vertrieb von Fahrzeugen...     2045200,00   \n",
              "3  Herstellung, Import, Vertrieb, Verkauf, Wartun...       25000,00   \n",
              "4  Herstellung und Vertrieb von Motoren und damit...   661399500,00   \n",
              "\n",
              "                                             website  zeichen  \n",
              "0  b'<!DOCTYPE html>\\n<html lang=\"de\" class=\"nm-c...      179  \n",
              "1  b'\\n\\n\\n\\n<!DOCTYPE html>\\n<html lang=\"de\" dir...      551  \n",
              "2  b'<!DOCTYPE html>\\n<html dir=\"ltr\"  lang=\"de-D...      155  \n",
              "3  b'<!DOCTYPE html><html lang=\"de-DE\" dir=\"ltr\" ...     1074  \n",
              "4  b'<!DOCTYPE HTML><html lang=\"de-DE\" dir=\"ltr\" ...      248  "
            ],
            "text/html": [
              "\n",
              "  <div id=\"df-0ab36f10-b655-4cea-a460-60f5fe395259\">\n",
              "    <div class=\"colab-df-container\">\n",
              "      <div>\n",
              "<style scoped>\n",
              "    .dataframe tbody tr th:only-of-type {\n",
              "        vertical-align: middle;\n",
              "    }\n",
              "\n",
              "    .dataframe tbody tr th {\n",
              "        vertical-align: top;\n",
              "    }\n",
              "\n",
              "    .dataframe thead th {\n",
              "        text-align: right;\n",
              "    }\n",
              "</style>\n",
              "<table border=\"1\" class=\"dataframe\">\n",
              "  <thead>\n",
              "    <tr style=\"text-align: right;\">\n",
              "      <th></th>\n",
              "      <th>name</th>\n",
              "      <th>regricht</th>\n",
              "      <th>regart</th>\n",
              "      <th>regnum</th>\n",
              "      <th>url</th>\n",
              "      <th>label</th>\n",
              "      <th>text</th>\n",
              "      <th>gegenstand</th>\n",
              "      <th>capital</th>\n",
              "      <th>website</th>\n",
              "      <th>zeichen</th>\n",
              "    </tr>\n",
              "  </thead>\n",
              "  <tbody>\n",
              "    <tr>\n",
              "      <th>0</th>\n",
              "      <td>AUDI AG</td>\n",
              "      <td>Ingolstadt</td>\n",
              "      <td>HRB</td>\n",
              "      <td>1</td>\n",
              "      <td>https://www.audi.de/</td>\n",
              "      <td>Automotive</td>\n",
              "      <td>\\nHandelsregister B des Abteilung B Nummer der...</td>\n",
              "      <td>Entwicklung, Herstellung und Vertrieb von Kraf...</td>\n",
              "      <td>110080000,00</td>\n",
              "      <td>b'&lt;!DOCTYPE html&gt;\\n&lt;html lang=\"de\" class=\"nm-c...</td>\n",
              "      <td>179</td>\n",
              "    </tr>\n",
              "    <tr>\n",
              "      <th>1</th>\n",
              "      <td>Volkswagen AG</td>\n",
              "      <td>Wolfsburg</td>\n",
              "      <td>HRB</td>\n",
              "      <td>100484</td>\n",
              "      <td>https://www.volkswagen.de/</td>\n",
              "      <td>Automotive</td>\n",
              "      <td>\\nHandelsregister B des Abteilung B Nummer der...</td>\n",
              "      <td>Gegenstand des Unternehmens ist die Herstellun...</td>\n",
              "      <td>1283315873,28</td>\n",
              "      <td>b'\\n\\n\\n\\n&lt;!DOCTYPE html&gt;\\n&lt;html lang=\"de\" dir...</td>\n",
              "      <td>551</td>\n",
              "    </tr>\n",
              "    <tr>\n",
              "      <th>2</th>\n",
              "      <td>ŠKODA AUTO Deutschland GmbH</td>\n",
              "      <td>Darmstadt</td>\n",
              "      <td>HRB</td>\n",
              "      <td>5242</td>\n",
              "      <td>https://www.skoda-auto.de/</td>\n",
              "      <td>Automotive</td>\n",
              "      <td>\\nHandelsregister B des Abteilung B Nummer der...</td>\n",
              "      <td>Ist der Import und der Vertrieb von Fahrzeugen...</td>\n",
              "      <td>2045200,00</td>\n",
              "      <td>b'&lt;!DOCTYPE html&gt;\\n&lt;html dir=\"ltr\"  lang=\"de-D...</td>\n",
              "      <td>155</td>\n",
              "    </tr>\n",
              "    <tr>\n",
              "      <th>3</th>\n",
              "      <td>Tesla Germany GmbH</td>\n",
              "      <td>Berlin (Charlottenburg)</td>\n",
              "      <td>HRB</td>\n",
              "      <td>235261</td>\n",
              "      <td>https://www.tesla.com/de_de/</td>\n",
              "      <td>Automotive</td>\n",
              "      <td>\\n- Wiedergabe des aktuellen Registerinhalts -...</td>\n",
              "      <td>Herstellung, Import, Vertrieb, Verkauf, Wartun...</td>\n",
              "      <td>25000,00</td>\n",
              "      <td>b'&lt;!DOCTYPE html&gt;&lt;html lang=\"de-DE\" dir=\"ltr\" ...</td>\n",
              "      <td>1074</td>\n",
              "    </tr>\n",
              "    <tr>\n",
              "      <th>4</th>\n",
              "      <td>BMW AG</td>\n",
              "      <td>München</td>\n",
              "      <td>HRB</td>\n",
              "      <td>42243</td>\n",
              "      <td>https://www.bmw.de/</td>\n",
              "      <td>Automotive</td>\n",
              "      <td>\\nHandelsregister B des Abteilung B Nummer der...</td>\n",
              "      <td>Herstellung und Vertrieb von Motoren und damit...</td>\n",
              "      <td>661399500,00</td>\n",
              "      <td>b'&lt;!DOCTYPE HTML&gt;&lt;html lang=\"de-DE\" dir=\"ltr\" ...</td>\n",
              "      <td>248</td>\n",
              "    </tr>\n",
              "  </tbody>\n",
              "</table>\n",
              "</div>\n",
              "      <button class=\"colab-df-convert\" onclick=\"convertToInteractive('df-0ab36f10-b655-4cea-a460-60f5fe395259')\"\n",
              "              title=\"Convert this dataframe to an interactive table.\"\n",
              "              style=\"display:none;\">\n",
              "        \n",
              "  <svg xmlns=\"http://www.w3.org/2000/svg\" height=\"24px\"viewBox=\"0 0 24 24\"\n",
              "       width=\"24px\">\n",
              "    <path d=\"M0 0h24v24H0V0z\" fill=\"none\"/>\n",
              "    <path d=\"M18.56 5.44l.94 2.06.94-2.06 2.06-.94-2.06-.94-.94-2.06-.94 2.06-2.06.94zm-11 1L8.5 8.5l.94-2.06 2.06-.94-2.06-.94L8.5 2.5l-.94 2.06-2.06.94zm10 10l.94 2.06.94-2.06 2.06-.94-2.06-.94-.94-2.06-.94 2.06-2.06.94z\"/><path d=\"M17.41 7.96l-1.37-1.37c-.4-.4-.92-.59-1.43-.59-.52 0-1.04.2-1.43.59L10.3 9.45l-7.72 7.72c-.78.78-.78 2.05 0 2.83L4 21.41c.39.39.9.59 1.41.59.51 0 1.02-.2 1.41-.59l7.78-7.78 2.81-2.81c.8-.78.8-2.07 0-2.86zM5.41 20L4 18.59l7.72-7.72 1.47 1.35L5.41 20z\"/>\n",
              "  </svg>\n",
              "      </button>\n",
              "      \n",
              "  <style>\n",
              "    .colab-df-container {\n",
              "      display:flex;\n",
              "      flex-wrap:wrap;\n",
              "      gap: 12px;\n",
              "    }\n",
              "\n",
              "    .colab-df-convert {\n",
              "      background-color: #E8F0FE;\n",
              "      border: none;\n",
              "      border-radius: 50%;\n",
              "      cursor: pointer;\n",
              "      display: none;\n",
              "      fill: #1967D2;\n",
              "      height: 32px;\n",
              "      padding: 0 0 0 0;\n",
              "      width: 32px;\n",
              "    }\n",
              "\n",
              "    .colab-df-convert:hover {\n",
              "      background-color: #E2EBFA;\n",
              "      box-shadow: 0px 1px 2px rgba(60, 64, 67, 0.3), 0px 1px 3px 1px rgba(60, 64, 67, 0.15);\n",
              "      fill: #174EA6;\n",
              "    }\n",
              "\n",
              "    [theme=dark] .colab-df-convert {\n",
              "      background-color: #3B4455;\n",
              "      fill: #D2E3FC;\n",
              "    }\n",
              "\n",
              "    [theme=dark] .colab-df-convert:hover {\n",
              "      background-color: #434B5C;\n",
              "      box-shadow: 0px 1px 3px 1px rgba(0, 0, 0, 0.15);\n",
              "      filter: drop-shadow(0px 1px 2px rgba(0, 0, 0, 0.3));\n",
              "      fill: #FFFFFF;\n",
              "    }\n",
              "  </style>\n",
              "\n",
              "      <script>\n",
              "        const buttonEl =\n",
              "          document.querySelector('#df-0ab36f10-b655-4cea-a460-60f5fe395259 button.colab-df-convert');\n",
              "        buttonEl.style.display =\n",
              "          google.colab.kernel.accessAllowed ? 'block' : 'none';\n",
              "\n",
              "        async function convertToInteractive(key) {\n",
              "          const element = document.querySelector('#df-0ab36f10-b655-4cea-a460-60f5fe395259');\n",
              "          const dataTable =\n",
              "            await google.colab.kernel.invokeFunction('convertToInteractive',\n",
              "                                                     [key], {});\n",
              "          if (!dataTable) return;\n",
              "\n",
              "          const docLinkHtml = 'Like what you see? Visit the ' +\n",
              "            '<a target=\"_blank\" href=https://colab.research.google.com/notebooks/data_table.ipynb>data table notebook</a>'\n",
              "            + ' to learn more about interactive tables.';\n",
              "          element.innerHTML = '';\n",
              "          dataTable['output_type'] = 'display_data';\n",
              "          await google.colab.output.renderOutput(dataTable, element);\n",
              "          const docLink = document.createElement('div');\n",
              "          docLink.innerHTML = docLinkHtml;\n",
              "          element.appendChild(docLink);\n",
              "        }\n",
              "      </script>\n",
              "    </div>\n",
              "  </div>\n",
              "  "
            ]
          },
          "metadata": {},
          "execution_count": 131
        }
      ],
      "source": [
        "DB_CONNECT = \"/content/drive/MyDrive/hareg_nlp/03_Data/hareg.db\"\n",
        "engine = sqlite3.connect(DB_CONNECT)\n",
        "sql = '''SELECT* FROM df_firms'''\n",
        "df = pd.read_sql(sql, engine)\n",
        "df.head()"
      ]
    },
    {
      "cell_type": "markdown",
      "metadata": {
        "id": "h-gbKW8ztLgI"
      },
      "source": [
        "## Label"
      ]
    },
    {
      "cell_type": "code",
      "execution_count": 132,
      "metadata": {
        "id": "14xLpvhE1SvQ"
      },
      "outputs": [],
      "source": [
        "# dictionary mit label und integer als key\n",
        "di_int_to_label = {0: 'Telecommunications',\n",
        "                   1: 'Legal Services',\n",
        "                   2: 'Management Consulting',\n",
        "                   3: 'Medical Practice',\n",
        "                   4: 'Consumer Goods',\n",
        "                   5: 'Leisure, Travel & Tourism',\n",
        "                   6: 'Recreational Facilities and Services',\n",
        "                   7: 'Insurance',\n",
        "                   8: 'Financial Services',\n",
        "                   9: 'Real Estate',\n",
        "                   10: 'Construction',\n",
        "                   11: 'Automotive',\n",
        "                   12: 'Marketing and Advertising',\n",
        "                   13: 'Information Technology and Services',\n",
        "                   14: 'Logistics and Supply Chain',\n",
        "                   15: 'Wholesale',\n",
        "                   16: 'Mechanical or Industrial Engineering',\n",
        "                   17: 'Human Resources',\n",
        "                   18: 'Renewables & Environment'}"
      ]
    },
    {
      "cell_type": "code",
      "execution_count": 133,
      "metadata": {
        "id": "TrgD3DKgYR7t"
      },
      "outputs": [],
      "source": [
        "# dictionary mit labelkeys als value und label als key\n",
        "di_label_to_int = {'Telecommunications': 0,\n",
        "                   'Legal Services': 1,\n",
        "                   'Management Consulting': 2,\n",
        "                   'Medical Practice': 3,\n",
        "                   'Consumer Goods': 4,\n",
        "                   'Leisure, Travel & Tourism': 5,\n",
        "                   'Recreational Facilities and Services': 6,\n",
        "                   'Insurance': 7,\n",
        "                   'Financial Services': 8,\n",
        "                   'Real Estate': 9,\n",
        "                   'Construction': 10,\n",
        "                   'Automotive': 11,\n",
        "                   'Marketing and Advertising': 12,\n",
        "                   'Information Technology and Services': 13,\n",
        "                   'Logistics and Supply Chain': 14,\n",
        "                   'Wholesale': 15,\n",
        "                   'Mechanical or Industrial Engineering': 16,\n",
        "                   'Human Resources': 17,\n",
        "                   'Renewables & Environment': 18}"
      ]
    },
    {
      "cell_type": "code",
      "execution_count": 134,
      "metadata": {
        "id": "VrPvaclGuaTX"
      },
      "outputs": [],
      "source": [
        "# change = di_int_to_label\n",
        "change = di_label_to_int\n",
        "df['label_int'] = df['label'].replace(change)"
      ]
    },
    {
      "cell_type": "markdown",
      "metadata": {
        "id": "1ddnar5NOxW9"
      },
      "source": [
        "## Cleaning"
      ]
    },
    {
      "cell_type": "code",
      "execution_count": 135,
      "metadata": {
        "id": "u49GD4sebdLV"
      },
      "outputs": [],
      "source": [
        "df['gegenstand_raw'] = df['gegenstand']"
      ]
    },
    {
      "cell_type": "code",
      "execution_count": 136,
      "metadata": {
        "id": "SI9HWxVFteCK"
      },
      "outputs": [],
      "source": [
        "# verbleibende Sonderzeichen ersetzen\n",
        "def clean_txt(text):\n",
        "  text = re.sub(\"'\", \"\",text)\n",
        "  text = re.sub(\"(\\W)+\",\" \",text)\n",
        "  return text"
      ]
    },
    {
      "cell_type": "code",
      "execution_count": 137,
      "metadata": {
        "id": "unAblqo8RMrM",
        "colab": {
          "base_uri": "https://localhost:8080/"
        },
        "outputId": "d6976158-0c3f-44ec-e41e-1dc7c3487f13"
      },
      "outputs": [
        {
          "output_type": "execute_result",
          "data": {
            "text/plain": [
              "count    114.000000\n",
              "mean      61.114035\n",
              "std       67.032915\n",
              "min        3.000000\n",
              "25%       22.000000\n",
              "50%       42.000000\n",
              "75%       71.750000\n",
              "max      463.000000\n",
              "Name: word_count, dtype: float64"
            ]
          },
          "metadata": {},
          "execution_count": 137
        }
      ],
      "source": [
        "# Anzahl Wörter vor Verarbeitung\n",
        "# Die maximal zulässige Inputsequenzlänge von 512 Tokens für BERT Modelle bei Klassifikation-Tasks wird nicht überschritten \n",
        "df['word_count'] = df['gegenstand'].str.split().apply(len)\n",
        "df.word_count.describe()"
      ]
    },
    {
      "cell_type": "code",
      "execution_count": 138,
      "metadata": {
        "id": "Jr-z590BTW7i"
      },
      "outputs": [],
      "source": [
        "df['gegenstand'] = df.gegenstand.apply(clean_txt)\n",
        "df['label'] = df.label.replace(di_label_to_int)\n",
        "df[\"tokens\"] = \"\""
      ]
    },
    {
      "cell_type": "code",
      "execution_count": 139,
      "metadata": {
        "id": "GUPhQi7Xs08V"
      },
      "outputs": [],
      "source": [
        "train, test = train_test_split(df, test_size=0.2, random_state=42, shuffle=True)\n",
        "train, valid = train_test_split(train, test_size=0.1, random_state=42, shuffle=True)"
      ]
    },
    {
      "cell_type": "code",
      "execution_count": 140,
      "metadata": {
        "id": "5G8XWXl9wAIl"
      },
      "outputs": [],
      "source": [
        "ds_train = Dataset.from_pandas(train)\n",
        "ds_test = Dataset.from_pandas(test)\n",
        "ds_valid = Dataset.from_pandas(valid)\n",
        "di_data = datasets.DatasetDict({'train': ds_train, 'test': ds_test, 'valid': ds_valid})"
      ]
    },
    {
      "cell_type": "markdown",
      "metadata": {
        "id": "tY2Mf9VTn1Gr"
      },
      "source": [
        "## Spacy\n",
        "\n",
        "Spacy StopWord Removal und (Lemmatization) trägt trotz Transformer Modell deutlich zur Verbesserung der Accuracy und F1 Scores bei."
      ]
    },
    {
      "cell_type": "code",
      "execution_count": 141,
      "metadata": {
        "id": "o-_Sn9kln2Ky"
      },
      "outputs": [],
      "source": [
        "# code 1:1 aus pds\n",
        "nlp = spacy.load(\"de_core_news_sm\", exclude=['tok2vec', 'tagger', 'morphologizer', 'parser', 'attribute_ruler', 'ner', 'senter'])\n",
        "\n",
        "def opt_preprocess(text):\n",
        "    remove_list = []\n",
        "\n",
        "    doc = nlp(text.lower())\n",
        "  \n",
        "    non_stop_lem = [token.lemma_ for token in doc if not token.is_stop if not token.is_punct]\n",
        "\n",
        "    for word in non_stop_lem:\n",
        "        if re.findall('[^a-zA-Z0-9_À-ÖØ-öø-ÿ]', word):\n",
        "            remove_list.append(word)\n",
        "\n",
        "    return \" \".join([word for word in non_stop_lem if word not in remove_list])"
      ]
    },
    {
      "cell_type": "code",
      "execution_count": 142,
      "metadata": {
        "id": "zdqHvj79pyK4",
        "colab": {
          "base_uri": "https://localhost:8080/"
        },
        "outputId": "9c41e20a-5161-43f2-e4cc-50ac5582341c"
      },
      "outputs": [
        {
          "output_type": "stream",
          "name": "stderr",
          "text": [
            "100%|██████████| 114/114 [00:00<00:00, 467.38it/s]\n"
          ]
        }
      ],
      "source": [
        "df['gegenstand'] = df.progress_apply(lambda row: opt_preprocess(row['gegenstand']), axis=1)"
      ]
    },
    {
      "cell_type": "code",
      "execution_count": 143,
      "metadata": {
        "id": "5isEchJ1d3nZ"
      },
      "outputs": [],
      "source": [
        "df['gegenstand'] = df.gegenstand.apply(lambda text: text.lower())"
      ]
    },
    {
      "cell_type": "markdown",
      "metadata": {
        "id": "7FttvccGb6iI"
      },
      "source": [
        "## Lemmatization (2)\n",
        "Beim betrachten der Daten fällt auf, dass die Lemmatization nicht richtig funktioniert hat. Daher wird diese erneut durchgeführt.\n",
        "Tatsächlich verschlechtert die korrekte Lemmatization die Vorhersagegenauigkeit um ~ 3% Accuracy/F1-Score. Daher wird diese nun doch nicht mehr ausgeführt."
      ]
    },
    {
      "cell_type": "code",
      "execution_count": 144,
      "metadata": {
        "id": "Wqf6SUDYb5j1"
      },
      "outputs": [],
      "source": [
        "nlp = spacy.load('de_core_news_md')\n",
        "\n",
        "def lemma(text):\n",
        "    doc = nlp(text.lower())\n",
        "    text = \" \".join(w.lemma_.lower() for w in doc) # if not w.is_stop if not w.is_punct)\n",
        "    return text"
      ]
    },
    {
      "cell_type": "code",
      "execution_count": 145,
      "metadata": {
        "id": "AE2HlkzFRK7G"
      },
      "outputs": [],
      "source": [
        "# df['gegenstand'] = df.progress_apply(lambda row: lemma(row['gegenstand']), axis=1)"
      ]
    },
    {
      "cell_type": "markdown",
      "metadata": {
        "id": "wh-1XDJojuuA"
      },
      "source": [
        "## Stop Words (2)\n",
        "\n",
        "Erweiterete Stopword Liste führt erwartungsgemäß zu schlechteren Ergebnisse. Daher nur einzelne Buchstaben entfernen, was mit einem Regex im Nachhinein betrachtet wohl einfacher gewesen wäre. Doch das entfernen der Buchstaben führt ebenfalls zu signifikanten Einbußen. Die einzelnen Buchstaben sind höchstwahrscheinlich Gliederungspunkte. Der Transformer kann mit Hilfe dieser Punkte anscheinend den Zusammenhang der einzelnen Absätze besser konstruieren. Daher werden diese nun doch nicht entfernt. Wiederum verbessert die Entfernung einzelner Buchstaben aus dem Webseiten Text die Klassifikation."
      ]
    },
    {
      "cell_type": "code",
      "execution_count": 146,
      "metadata": {
        "id": "9Kps5iKvQ0oz",
        "colab": {
          "base_uri": "https://localhost:8080/"
        },
        "outputId": "39f7a9d7-7cfd-41f3-e876-bf85d5fc8c27"
      },
      "outputs": [
        {
          "output_type": "stream",
          "name": "stdout",
          "text": [
            "['a', 'ab', 'aber', 'ach', 'acht', 'achte', 'achten', 'achter', 'achtes', 'ag', 'alle', 'allein', 'allem', 'allen', 'aller', 'allerdings', 'alles', 'allgemeinen', 'als', 'also', 'am', 'an', 'andere', 'anderen', 'andern', 'anders', 'au', 'auch', 'auf', 'aus', 'ausser', 'außer', 'ausserdem', 'außerdem', 'b', 'bald', 'bei', 'beide', 'beiden', 'beim', 'beispiel', 'bekannt', 'bereits', 'besonders', 'besser', 'besten', 'bin', 'bis', 'bisher', 'bist', 'c', 'd', 'da', 'dabei', 'dadurch', 'dafür', 'dagegen', 'daher', 'dahin', 'dahinter', 'damals', 'damit', 'danach', 'daneben', 'dank', 'dann', 'daran', 'darauf', 'daraus', 'darf', 'darfst', 'darin', 'darüber', 'darum', 'darunter', 'das', 'dasein', 'daselbst', 'dass', 'daß', 'dasselbe', 'davon', 'davor', 'dazu', 'dazwischen', 'dein', 'deine', 'deinem', 'deiner', 'dem', 'dementsprechend', 'demgegenüber', 'demgemäss', 'demgemäß', 'demselben', 'demzufolge', 'den', 'denen', 'denn', 'denselben', 'der', 'deren', 'derjenige', 'derjenigen', 'dermassen', 'dermaßen', 'derselbe', 'derselben', 'des', 'deshalb', 'desselben', 'dessen', 'deswegen', 'd.h', 'dich', 'die', 'diejenige', 'diejenigen', 'dies', 'diese', 'dieselbe', 'dieselben', 'diesem', 'diesen', 'dieser', 'dieses', 'dir', 'doch', 'dort', 'drei', 'drin', 'dritte', 'dritten', 'dritter', 'drittes', 'du', 'durch', 'durchaus', 'dürfen', 'dürft', 'durfte', 'durften', 'e', 'eben', 'ebenso', 'ehrlich', 'ei', 'ei,', 'eigen', 'eigene', 'eigenen', 'eigener', 'eigenes', 'ein', 'einander', 'eine', 'einem', 'einen', 'einer', 'eines', 'einige', 'einigen', 'einiger', 'einiges', 'einmal', 'eins', 'elf', 'en', 'ende', 'endlich', 'entweder', 'er', 'Ernst', 'erst', 'erste', 'ersten', 'erster', 'erstes', 'es', 'etwa', 'etwas', 'euch', 'f', 'früher', 'fünf', 'fünfte', 'fünften', 'fünfter', 'fünftes', 'für', 'g', 'gab', 'ganz', 'ganze', 'ganzen', 'ganzer', 'ganzes', 'gar', 'gedurft', 'gegen', 'gegenüber', 'gehabt', 'gehen', 'geht', 'gekannt', 'gekonnt', 'gemacht', 'gemocht', 'gemusst', 'genug', 'gerade', 'gern', 'gesagt', 'geschweige', 'gewesen', 'gewollt', 'geworden', 'gibt', 'ging', 'gleich', 'gott', 'gross', 'groß', 'grosse', 'große', 'grossen', 'großen', 'grosser', 'großer', 'grosses', 'großes', 'gut', 'gute', 'guter', 'gutes', 'h', 'habe', 'haben', 'habt', 'hast', 'hat', 'hatte', 'hätte', 'hatten', 'hätten', 'heisst', 'her', 'heute', 'hier', 'hin', 'hinter', 'hoch', 'i', 'ich', 'ihm', 'ihn', 'ihnen', 'ihr', 'ihre', 'ihrem', 'ihren', 'ihrer', 'ihres', 'im', 'immer', 'in', 'indem', 'infolgedessen', 'ins', 'irgend', 'ist', 'j', 'ja', 'jahr', 'jahre', 'jahren', 'je', 'jede', 'jedem', 'jeden', 'jeder', 'jedermann', 'jedermanns', 'jedoch', 'jemand', 'jemandem', 'jemanden', 'jene', 'jenem', 'jenen', 'jener', 'jenes', 'jetzt', 'k', 'kam', 'kann', 'kannst', 'kaum', 'kein', 'keine', 'keinem', 'keinen', 'keiner', 'kleine', 'kleinen', 'kleiner', 'kleines', 'kommen', 'kommt', 'können', 'könnt', 'konnte', 'könnte', 'konnten', 'kurz', 'l', 'lang', 'lange', 'leicht', 'leide', 'lieber', 'los', 'm', 'machen', 'macht', 'machte', 'mag', 'magst', 'mahn', 'man', 'manche', 'manchem', 'manchen', 'mancher', 'manches', 'mann', 'mehr', 'mein', 'meine', 'meinem', 'meinen', 'meiner', 'meines', 'mensch', 'menschen', 'mich', 'mir', 'mit', 'mittel', 'mochte', 'möchte', 'mochten', 'mögen', 'möglich', 'mögt', 'morgen', 'muss', 'muß', 'müssen', 'musst', 'müsst', 'musste', 'mussten', 'n', 'na', 'nach', 'nachdem', 'nahm', 'natürlich', 'neben', 'nein', 'neue', 'neuen', 'neun', 'neunte', 'neunten', 'neunter', 'neuntes', 'nicht', 'nichts', 'nie', 'niemand', 'niemandem', 'niemanden', 'noch', 'nun', 'nur', 'o', 'ob', 'oben', 'oder', 'offen', 'oft', 'ohne', 'Ordnung', 'p', 'q', 'r', 'recht', 'rechte', 'rechten', 'rechter', 'rechtes', 'richtig', 'rund', 's', 'sa', 'sache', 'sagt', 'sagte', 'sah', 'satt', 'schlecht', 'Schluss', 'schon', 'sechs', 'sechste', 'sechsten', 'sechster', 'sechstes', 'sehr', 'sei', 'seid', 'seien', 'sein', 'seine', 'seinem', 'seinen', 'seiner', 'seines', 'seit', 'seitdem', 'selbst', 'sich', 'sie', 'sieben', 'siebente', 'siebenten', 'siebenter', 'siebentes', 'sind', 'so', 'solang', 'solche', 'solchem', 'solchen', 'solcher', 'solches', 'soll', 'sollen', 'sollte', 'sollten', 'sondern', 'sonst', 'sowie', 'später', 'statt', 't', 'tag', 'tage', 'tagen', 'tat', 'teil', 'tel', 'tritt', 'trotzdem', 'tun', 'u', 'über', 'überhaupt', 'übrigens', 'uhr', 'um', 'und', 'und?', 'uns', 'unser', 'unsere', 'unserer', 'unter', 'v', 'vergangenen', 'viel', 'viele', 'vielem', 'vielen', 'vielleicht', 'vier', 'vierte', 'vierten', 'vierter', 'viertes', 'vom', 'von', 'vor', 'w', 'wahr?', 'während', 'währenddem', 'währenddessen', 'wann', 'war', 'wäre', 'waren', 'wart', 'warum', 'was', 'wegen', 'weil', 'weit', 'weiter', 'weitere', 'weiteren', 'weiteres', 'welche', 'welchem', 'welchen', 'welcher', 'welches', 'wem', 'wen', 'wenig', 'wenige', 'weniger', 'weniges', 'wenigstens', 'wenn', 'wer', 'werde', 'werden', 'werdet', 'wessen', 'wie', 'wieder', 'will', 'willst', 'wir', 'wird', 'wirklich', 'wirst', 'wo', 'wohl', 'wollen', 'wollt', 'wollte', 'wollten', 'worden', 'wurde', 'würde', 'wurden', 'würden', 'x', 'y', 'z', 'z.b', 'zehn', 'zehnte', 'zehnten', 'zehnter', 'zehntes', 'zeit', 'zu', 'zuerst', 'zugleich', 'zum', 'zunächst', 'zur', 'zurück', 'zusammen', 'zwanzig', 'zwar', 'zwei', 'zweite', 'zweiten', 'zweiter', 'zweites', 'zwischen', 'zwölf', 'euer', 'eure', 'hattest', 'hattet', 'jedes', 'mußt', 'müßt', 'sollst', 'sollt', 'soweit', 'weshalb', 'wieso', 'woher', 'wohin']\n"
          ]
        }
      ],
      "source": [
        "# stopword liste von https://countwordsfree.com/stopwords/german\n",
        "stopword_file = open(\"/content/drive/MyDrive/hareg_nlp/03_Data/stop_words_german.txt\", \"r\")\n",
        "stop_words_data = stopword_file.read()  \n",
        "customize_stop_words = stop_words_data.replace('\\n', ' ').split(\" \")\n",
        "stopword_file.close()\n",
        "print(customize_stop_words)"
      ]
    },
    {
      "cell_type": "code",
      "execution_count": 147,
      "metadata": {
        "id": "fTHW3FlXNzFs"
      },
      "outputs": [],
      "source": [
        "li_letter = ['a', 'b', 'c', 'd', 'e', 'f', 'g', 'h', 'i', 'j', 'k', 'l', 'm', 'n', 'o', 'p', 'q', 'r', 's', 't', 'u', 'v', 'w', 'x', 'y', 'z']"
      ]
    },
    {
      "cell_type": "code",
      "execution_count": 148,
      "metadata": {
        "id": "eFIpCykWKlWt",
        "colab": {
          "base_uri": "https://localhost:8080/"
        },
        "outputId": "3cb73813-975f-4578-cbef-cd163682f7b1"
      },
      "outputs": [
        {
          "output_type": "stream",
          "name": "stdout",
          "text": [
            "{'zehnten', 'alle', 'hier', 'diesem', 'aus', 'gibt', 'magst', 'viertes', 'bis', 'diesen', 'gut', 'allgemeinen', 'ihm', 'können', 'war', 'wie', 'großer', 'einen', 'ein', 'also', 'daselbst', 'dementsprechend', 'kommen', 'dem', 'ehrlich', 'anders', 'siebentes', 'worden', 'des', 'indem', 'kleiner', 'macht', 'demgemäß', 'kleinen', 'darunter', 'deiner', 'wirst', 'tat', 'sein', 'jemandem', 'müsst', 'wer', 'beiden', 'nein', 'ja', 'wurde', 'sah', 'kleines', 'gekonnt', 'vierter', 'siebte', 'sehr', 'gute', 'her', 'mit', 'gern', 'ihnen', 'welchem', 'bereits', 'beispiel', 'leicht', 'satt', 'keiner', 'ganz', 'dieselben', 'darfst', 'mein', 'großes', 'sonst', 'ins', 'einer', 'jene', 'ihn', 'besser', 'keinem', 'zusammen', 'sollte', 'jemanden', 'vierte', 'ende', 'erst', 'ersten', 'jahren', 'oft', 'uhr', 'dein', 'niemandem', 'statt', 'ausserdem', 'habe', 'eigen', 'besonders', 'sollten', 'mehr', 'zeit', 'richtig', 'durch', 'dahinter', 'lieber', 'ach', 'meines', 'dadurch', 'wir', 'tagen', 'waren', 'darum', 'heisst', 'erstes', 'hatte', 'außerdem', 'je', 'lange', 'wenn', 'muß', 'ganzer', 'anderen', 'beide', 'sagt', 'davon', 'rechtes', 'hatten', 'trotzdem', 'damit', 'dahin', 'drin', 'sechster', 'soll', 'manchen', 'fünften', 'aber', 'damals', 'gegenüber', 'hast', 'demgemäss', 'überhaupt', 'zurück', 'sechs', 'mussten', 'neun', 'erster', 'darf', 'einmal', 'gemocht', 'machte', 'sondern', 'durften', 'neunter', 'nur', 'währenddessen', 'weniger', 'welche', 'ihre', 'meinen', 'ab', 'daraus', 'gleich', 'entweder', 'auch', 'gutes', 'sowie', 'wenige', 'doch', 'selbst', 'mancher', 'ich', 'seid', 'nie', 'sind', 'bekannt', 'müssen', 'gab', 'mag', 'siebtes', 'schlecht', 'zehntes', 'grosses', 'ihren', 'der', 'warum', 'weiteren', 'dürfen', 'grossen', 'wo', 'gehen', 'werdet', 'allerdings', 'seien', 'sich', 'darauf', 'außer', 'eigenen', 'wurden', 'haben', 'fünfter', 'dies', 'gemacht', 'konnte', 'neue', 'vom', 'siebenter', 'unser', 'musste', 'hätten', 'konnten', 'fünftes', 'kurz', 'einigen', 'an', 'hin', 'gar', 'aller', 'dafür', 'mir', 'genug', 'mich', 'recht', 'nichts', 'kleine', 'den', 'wahr', 'gemusst', 'gewollt', 'zweites', 'jedem', 'früher', 'könnt', 'zwar', 'fünfte', 'ist', 'manchem', 'deshalb', 'von', 'bisher', 'jahr', 'einiges', 'seine', 'keine', 'unter', 'hätte', 'irgend', 'mittel', 'nun', 'zugleich', 'ihrem', 'noch', 'derselben', 'was', 'viel', 'eines', 'die', 'drei', 'siebten', 'deine', 'drittes', 'zunächst', 'siebter', 'achtes', 'vielen', 'endlich', 'uns', 'übrigens', 'möchte', 'elf', 'zehnter', 'jedoch', 'seinem', 'solchem', 'seiner', 'zu', 'daher', 'ihres', 'jedermanns', 'habt', 'wenigstens', 'erste', 'a', 'derjenigen', 'etwa', 'möglich', 'daß', 'solche', 'einiger', 'sechste', 'rechten', 'groß', 'kam', 'währenddem', 'welchen', 'diese', 'daran', 'diejenigen', 'ausser', 'beim', 'seit', 'dieselbe', 'ganzen', 'wenig', 'á', 'man', 'acht', 'eigene', 'gewesen', 'am', 'sei', 'jedermann', 'ohne', 'eigenes', 'meiner', 'demselben', 'immer', 'vier', 'seitdem', 'rechte', 'sechsten', 'eine', 'deren', 'weitere', 'da', 'wollten', 'hat', 'mochten', 'achter', 'du', 'mochte', 'tun', 'einige', 'seinen', 'meine', 'los', 'wen', 'durfte', 'jede', 'welcher', 'nicht', 'musst', 'eigener', 'gerade', 'könnte', 'dank', 'neunten', 'tel', 'natürlich', 'allem', 'gehabt', 'bald', 'dagegen', 'solang', 'zwanzig', 'wieder', 'zwischen', 'diejenige', 'um', 'vielleicht', 'werden', 'sieben', 'niemand', 'würde', 'deinem', 'gedurft', 'wegen', 'siebenten', 'jenen', 'kann', 'jener', 'euch', 'später', 'so', 'es', 'sie', 'welches', 'geschweige', 'großen', 'dort', 'sechstes', 'fünf', 'heißt', 'neuen', 'unserer', 'nahm', 'vor', 'hoch', 'geworden', 'grosse', 'dasselbe', 'gross', 'meinem', 'derselbe', 'solcher', 'schon', 'wollt', 'ihrer', 'will', 'vergangenen', 'ebenso', 'morgen', 'dich', 'jahre', 'vielem', 'nach', 'weil', 'weiter', 'allen', 'wohl', 'geht', 'kein', 'wird', 'für', 'jeder', 'daneben', 'zweite', 'solches', 'wirklich', 'jetzt', 'weit', 'würden', 'denen', 'achten', 'bei', 'jeden', 'unsere', 'ganzes', 'kannst', 'wann', 'über', 'derjenige', 'ganze', 'guter', 'werde', 'zehnte', 'jemand', 'auf', 'oben', 'das', 'als', 'gesagt', 'dir', 'jenem', 'andern', 'dritter', 'ag', 'dabei', 'wollen', 'zum', 'offen', 'rund', 'vergangene', 'jenes', 'wäre', 'oder', 'er', 'demzufolge', 'seines', 'willst', 'zweiter', 'mögt', 'dazwischen', 'eben', 'grosser', 'dann', 'einem', 'davor', 'etwas', 'dazu', 'dritten', 'darin', 'leider', 'besten', 'denn', 'keinen', 'alles', 'ging', 'dürft', 'bist', 'muss', 'machen', 'im', 'vierten', 'wollte', 'neuntes', 'manches', 'zuerst', 'dermaßen', 'neben', 'kommt', 'lang', 'wem', 'dessen', 'infolgedessen', 'zur', 'und', 'zehn', 'na', 'zweiten', 'in', 'hinter', 'solchen', 'tage', 'sagte', 'desselben', 'bin', 'einander', 'andere', 'dieses', 'kaum', 'durchaus', 'manche', 'weniges', 'wart', 'dermassen', 'wessen', 'gekannt', 'große', 'nachdem', 'demgegenüber', 'mögen', 'ob', 'rechter', 'während', 'gegen', 'niemanden', 'siebente', 'viele', 'dieser', 'sollen', 'denselben', 'neunte', 'danach', 'deswegen', 'dasein', 'en', 'allein', 'dritte', 'heute', 'einmaleins', 'achte', 'anderem', 'darüber', 'zwei', 'tag', 'dass', 'ihr', 'weiteres', 'teil'}\n"
          ]
        }
      ],
      "source": [
        "print(nlp.Defaults.stop_words)"
      ]
    },
    {
      "cell_type": "code",
      "execution_count": 149,
      "metadata": {
        "id": "oiioD0m-LdUo"
      },
      "outputs": [],
      "source": [
        "nlp = spacy.load('de_core_news_md')"
      ]
    },
    {
      "cell_type": "code",
      "execution_count": 150,
      "metadata": {
        "id": "-4gNaU7Ojwn_"
      },
      "outputs": [],
      "source": [
        "def remove_stop_words(text):\n",
        "\n",
        "    # add custom stop words\n",
        "    for word in customize_stop_words:\n",
        "        lex = nlp.vocab[word]\n",
        "        lex.is_stop = True\n",
        "\n",
        "    lst=[]\n",
        "    stopwords = nlp.Defaults.stop_words\n",
        "\n",
        "    for w in text.split():\n",
        "        if w.lower() not in stopwords:    #checking whether the word is not \n",
        "            lst.append(w)                    #present in the stopword list.\n",
        "\n",
        "    new_text = ' '.join(lst)        \n",
        "    return new_text"
      ]
    },
    {
      "cell_type": "code",
      "execution_count": 151,
      "metadata": {
        "id": "jt7R5H7aV7XG"
      },
      "outputs": [],
      "source": [
        "def remove_letter(text):\n",
        "    \n",
        "    # add custom stop words\n",
        "    for word in li_letter:\n",
        "        lex = nlp.vocab[word]\n",
        "        lex.is_stop = True\n",
        "\n",
        "    lst=[]\n",
        "    stopwords = nlp.Defaults.stop_words\n",
        "\n",
        "    for w in text.split():\n",
        "        if w.lower() not in stopwords:    #checking whether the word is not \n",
        "            lst.append(w)                    #present in the stopword list.\n",
        "\n",
        "    new_text = ' '.join(lst)        \n",
        "    return new_text "
      ]
    },
    {
      "cell_type": "code",
      "execution_count": 152,
      "metadata": {
        "id": "hDvB5iPKjwqR"
      },
      "outputs": [],
      "source": [
        "# df['gegenstand_wordcloud'] = df.progress_apply(lambda row: remove_stop_words(row['gegenstand']), axis=1)"
      ]
    },
    {
      "cell_type": "markdown",
      "metadata": {
        "id": "x-fWkQel90Vp"
      },
      "source": [
        "## Spellchecker"
      ]
    },
    {
      "cell_type": "code",
      "execution_count": 153,
      "metadata": {
        "id": "ItqmDMQP91xx"
      },
      "outputs": [],
      "source": [
        "spell = SpellChecker(language='de')\n",
        "\n",
        "def spellcheck(text):\n",
        "    text = text.split()\n",
        "    # find those words that may be misspelled\n",
        "    misspelled = spell.unknown(text)\n",
        "\n",
        "    for word in misspelled:\n",
        "        correction = spell.correction(word)\n",
        "        # print(correction)\n",
        "        text = [(w.replace(w, correction) if ((w == word) & (correction is not None)) else w) for w in text]\n",
        "    \n",
        "    print(text)\n",
        "    text = \" \".join(text)\n",
        "    return text"
      ]
    },
    {
      "cell_type": "code",
      "execution_count": 154,
      "metadata": {
        "id": "YFQcV2sY-xLT",
        "colab": {
          "base_uri": "https://localhost:8080/",
          "height": 54
        },
        "outputId": "05d22e8c-72dd-4999-ff3e-4ad475aae58f"
      },
      "outputs": [
        {
          "output_type": "stream",
          "name": "stdout",
          "text": [
            "['hier', 'ist', 'was', 'faul', 'und', 'es', 'stimmt', 'noch', 'mehr', 'nicht']\n"
          ]
        },
        {
          "output_type": "execute_result",
          "data": {
            "text/plain": [
              "'hier ist was faul und es stimmt noch mehr nicht'"
            ],
            "application/vnd.google.colaboratory.intrinsic+json": {
              "type": "string"
            }
          },
          "metadata": {},
          "execution_count": 154
        }
      ],
      "source": [
        "text = \"hier ist was fual udn es stimmt nohc mehr nihct\"\n",
        "spellcheck(text)"
      ]
    },
    {
      "cell_type": "markdown",
      "metadata": {
        "id": "_Go42tNDRN3Q"
      },
      "source": [
        "Der Unternehmensgegenstand ist nahezu fehlerfrei. Daher neigt der Spellchecker zur Verschlimmbesserung und vermindert dadurch Accuracy und F1-Score."
      ]
    },
    {
      "cell_type": "code",
      "execution_count": 155,
      "metadata": {
        "id": "hDqrpt_fBKB-"
      },
      "outputs": [],
      "source": [
        "# df['gegenstand'] = df.progress_apply(lambda row: spellcheck(row['gegenstand']), axis=1)"
      ]
    },
    {
      "cell_type": "markdown",
      "metadata": {
        "id": "3v3CTAIQ-ymS"
      },
      "source": [
        "## Preprocessing Ideas"
      ]
    },
    {
      "cell_type": "code",
      "execution_count": 156,
      "metadata": {
        "id": "qt4cnUQt6k7i"
      },
      "outputs": [],
      "source": [
        "# noch nicht umgesetzte Ideen:\n",
        "# zusammengesetzte nomen aufsplitten und sowohl die komponenten als auch das urspgl. nomen behalten\n",
        "# n/bigrams\n",
        "# enhance sentences\n",
        "# einzelne englishe wörter nach deutsch Übersetzen\n",
        "\n",
        "# für html - umlaute welche in html durch code dargestellt werden vor stop word removal wiederherstellen\n",
        "# sieh dazu auch https://stackoverflow.com/questions/46613734/how-do-i-replace-xc3-etc-with-umlauts\n",
        "# spellchekcer nutzen, um aus Versehen getrennte Worte nach utf-8 umlaut wieder zusammenzuführen"
      ]
    },
    {
      "cell_type": "code",
      "execution_count": 157,
      "metadata": {
        "id": "eIPfeNRzPbdn"
      },
      "outputs": [],
      "source": [
        "DB_CONNECT = '/content/drive/MyDrive/hareg_nlp/03_Data/hareg.db'\n",
        "engine = sqlite3.connect(DB_CONNECT)\n",
        "### df.to_sql('df_spellcheck', con=engine, if_exists='fail', index = False, chunksize=10000)"
      ]
    },
    {
      "cell_type": "markdown",
      "metadata": {
        "id": "CXnPPQETg_rL"
      },
      "source": [
        "## Tokenization\n",
        "try to train custom tokenizer \n",
        "https://www.youtube.com/watch?v=DJimQynXZsQ\n",
        "https://www.youtube.com/watch?v=MR8tZm5ViWU&list=PLo2EIpI_JMQvWfQndUesu0nPBAtZ9gP1o&index=55"
      ]
    },
    {
      "cell_type": "code",
      "execution_count": 158,
      "metadata": {
        "id": "P_Jf4sE9dAVA",
        "colab": {
          "base_uri": "https://localhost:8080/"
        },
        "outputId": "68f4306c-eff3-4644-a487-510328dccd25"
      },
      "outputs": [
        {
          "output_type": "stream",
          "name": "stderr",
          "text": [
            "loading file vocab.txt from cache at /root/.cache/huggingface/hub/models--distilbert-base-uncased/snapshots/1c4513b2eedbda136f57676a34eea67aba266e5c/vocab.txt\n",
            "loading file added_tokens.json from cache at None\n",
            "loading file special_tokens_map.json from cache at None\n",
            "loading file tokenizer_config.json from cache at /root/.cache/huggingface/hub/models--distilbert-base-uncased/snapshots/1c4513b2eedbda136f57676a34eea67aba266e5c/tokenizer_config.json\n",
            "loading configuration file config.json from cache at /root/.cache/huggingface/hub/models--distilbert-base-uncased/snapshots/1c4513b2eedbda136f57676a34eea67aba266e5c/config.json\n",
            "Model config DistilBertConfig {\n",
            "  \"_name_or_path\": \"distilbert-base-uncased\",\n",
            "  \"activation\": \"gelu\",\n",
            "  \"architectures\": [\n",
            "    \"DistilBertForMaskedLM\"\n",
            "  ],\n",
            "  \"attention_dropout\": 0.1,\n",
            "  \"dim\": 768,\n",
            "  \"dropout\": 0.1,\n",
            "  \"hidden_dim\": 3072,\n",
            "  \"initializer_range\": 0.02,\n",
            "  \"max_position_embeddings\": 512,\n",
            "  \"model_type\": \"distilbert\",\n",
            "  \"n_heads\": 12,\n",
            "  \"n_layers\": 6,\n",
            "  \"pad_token_id\": 0,\n",
            "  \"qa_dropout\": 0.1,\n",
            "  \"seq_classif_dropout\": 0.2,\n",
            "  \"sinusoidal_pos_embds\": false,\n",
            "  \"tie_weights_\": true,\n",
            "  \"transformers_version\": \"4.25.1\",\n",
            "  \"vocab_size\": 30522\n",
            "}\n",
            "\n"
          ]
        }
      ],
      "source": [
        "# distilbert-base-uncased\n",
        "# tokenizer = AutoTokenizer.from_pretrained('distilbert-base-uncased')\n",
        "tokenizer = DistilBertTokenizer.from_pretrained('distilbert-base-uncased')"
      ]
    },
    {
      "cell_type": "code",
      "execution_count": 159,
      "metadata": {
        "id": "ZFuyvUYRwZxq"
      },
      "outputs": [],
      "source": [
        "# df['tokens'] = df['gegenstand'].apply(lambda row: tokenizer(row, padding='max_length', truncation=True))\n",
        "def make_tokens(data):\n",
        "    return tokenizer(data['text'], padding='max_length', truncation=True)"
      ]
    },
    {
      "cell_type": "code",
      "execution_count": 160,
      "metadata": {
        "id": "4gVJJgDNiR0O",
        "colab": {
          "base_uri": "https://localhost:8080/",
          "height": 113,
          "referenced_widgets": [
            "5581484eb62b4f5d8404e0314894a42d",
            "af23b2a55f5b4e498a634fac3c7cbd4d",
            "de18180a054d48e1a5d315e89d89d8d6",
            "557fc67e21e64592835636abfcad117b",
            "00ae432028ba4e4bbeed2c5c1bea4507",
            "bc8f8e812a8d40f7947e3dff9d7365ac",
            "9e6c57bb9f214b14ba33c37c91944605",
            "612284e1c46642b7b1d32ef9f95869d9",
            "bb1969f5f9f4451aa457d086913530a1",
            "d2f1381339ab4b97bdaded27bc3cb8c4",
            "15057dd2fad84792b29afa548cef03f1",
            "93620ee33a9b4fe4a99bf8db286383fe",
            "d6d1545e708a4c30a54419196bd60a07",
            "7929fa67823e4eaf97be05cd82a0bfdd",
            "05129919a697416bbb09653b14c602b7",
            "706087f2e2f44c0ea1649f9fe9b3cc93",
            "439bdbf98f9442c68b655397d509a984",
            "1288d949c22746f194b8f07f0ab5d5ef",
            "5220c7c56525456f85baf90864474155",
            "e357de9aa97543019304a67bff3c77fb",
            "1eafbfcabe53459994bf9cd14f3427b1",
            "6a78adc1ac1b4bd0a843591f0f68ff31",
            "adef53b290e245f1812703babcff3f43",
            "eb717b687c544da182c04dd38964092f",
            "37bffb1cfd2a466992df3a516be40334",
            "b81f5303d3b446c8ac1e981782c00703",
            "94888cc43a3046408e9091cbd719624e",
            "7f3c4c7550744ec188aabbd3994cc3a6",
            "ca2d0b71270248a0ac5ad3fc5cfa9ab0",
            "d1c43029fd694a9fb322fd5687ea4229",
            "91c42d8bfbf649f19d10df2078798c68",
            "42ab50b96f21439fad9a16b584a65759",
            "441b5f0b0d484e15a22821f62ecc9782"
          ]
        },
        "outputId": "4ff0c4ab-a4a2-4a6e-9f16-cce5a0f0689f"
      },
      "outputs": [
        {
          "output_type": "display_data",
          "data": {
            "text/plain": [
              "  0%|          | 0/1 [00:00<?, ?ba/s]"
            ],
            "application/vnd.jupyter.widget-view+json": {
              "version_major": 2,
              "version_minor": 0,
              "model_id": "5581484eb62b4f5d8404e0314894a42d"
            }
          },
          "metadata": {}
        },
        {
          "output_type": "display_data",
          "data": {
            "text/plain": [
              "  0%|          | 0/1 [00:00<?, ?ba/s]"
            ],
            "application/vnd.jupyter.widget-view+json": {
              "version_major": 2,
              "version_minor": 0,
              "model_id": "93620ee33a9b4fe4a99bf8db286383fe"
            }
          },
          "metadata": {}
        },
        {
          "output_type": "display_data",
          "data": {
            "text/plain": [
              "  0%|          | 0/1 [00:00<?, ?ba/s]"
            ],
            "application/vnd.jupyter.widget-view+json": {
              "version_major": 2,
              "version_minor": 0,
              "model_id": "adef53b290e245f1812703babcff3f43"
            }
          },
          "metadata": {}
        }
      ],
      "source": [
        "di_data = di_data.map(make_tokens, batched=True)"
      ]
    },
    {
      "cell_type": "code",
      "execution_count": 161,
      "metadata": {
        "id": "F1dHUq0e33w0"
      },
      "outputs": [],
      "source": [
        "ds_train = di_data[\"train\"]\n",
        "ds_test = di_data[\"test\"]\n",
        "ds_valid = di_data[\"valid\"]"
      ]
    },
    {
      "cell_type": "markdown",
      "metadata": {
        "id": "a6QCmmf-o_hA"
      },
      "source": [
        "## Class Weights"
      ]
    },
    {
      "cell_type": "code",
      "execution_count": 162,
      "metadata": {
        "colab": {
          "base_uri": "https://localhost:8080/"
        },
        "id": "f8CTgsFOo3Gs",
        "outputId": "f00ea620-fb2d-4849-8eec-e0e0548a82aa"
      },
      "outputs": [
        {
          "output_type": "execute_result",
          "data": {
            "text/plain": [
              "tensor([0.9506, 0.9506, 0.9383, 0.9753, 0.9506, 0.9383, 0.9630, 0.9506, 0.9383,\n",
              "        0.9259, 0.9630, 0.9506, 0.9630, 0.9383, 0.9259, 0.9506, 0.9383, 0.9506,\n",
              "        0.9383], device='cuda:0')"
            ]
          },
          "metadata": {},
          "execution_count": 162
        }
      ],
      "source": [
        "class_weights = (1- (train['label'].value_counts().sort_index()/len(train))).values\n",
        "class_weights = torch.from_numpy(class_weights).float().to('cuda')\n",
        "class_weights"
      ]
    },
    {
      "cell_type": "markdown",
      "metadata": {
        "id": "07Xu0tCD9346"
      },
      "source": [
        "# new distil-BERT\n",
        "\n",
        "Vor der Klassifikation könnte zudem ein binäres Klassifikationsmodell eingesetzt werden, um Holding-Gesellschaften herauszufiltern."
      ]
    },
    {
      "cell_type": "markdown",
      "metadata": {
        "id": "qgbfLE2HOzav"
      },
      "source": [
        "## Fine-Tune "
      ]
    },
    {
      "cell_type": "code",
      "execution_count": 163,
      "metadata": {
        "colab": {
          "base_uri": "https://localhost:8080/"
        },
        "id": "RiKzCSHgdc-u",
        "outputId": "b0dfe59b-6e65-4419-bef4-4ff1693a432c"
      },
      "outputs": [
        {
          "output_type": "stream",
          "name": "stderr",
          "text": [
            "loading configuration file config.json from cache at /root/.cache/huggingface/hub/models--distilbert-base-uncased/snapshots/1c4513b2eedbda136f57676a34eea67aba266e5c/config.json\n",
            "You are using a model of type distilbert to instantiate a model of type bert. This is not supported for all configurations of models and can yield errors.\n",
            "Model config BertConfig {\n",
            "  \"activation\": \"gelu\",\n",
            "  \"architectures\": [\n",
            "    \"DistilBertForMaskedLM\"\n",
            "  ],\n",
            "  \"attention_dropout\": 0.1,\n",
            "  \"attention_probs_dropout_prob\": 0.1,\n",
            "  \"classifier_dropout\": null,\n",
            "  \"dim\": 768,\n",
            "  \"dropout\": 0.1,\n",
            "  \"hidden_act\": \"gelu\",\n",
            "  \"hidden_dim\": 3072,\n",
            "  \"hidden_dropout_prob\": 0.1,\n",
            "  \"hidden_size\": 768,\n",
            "  \"id2label\": {\n",
            "    \"0\": \"LABEL_0\",\n",
            "    \"1\": \"LABEL_1\",\n",
            "    \"2\": \"LABEL_2\",\n",
            "    \"3\": \"LABEL_3\",\n",
            "    \"4\": \"LABEL_4\",\n",
            "    \"5\": \"LABEL_5\",\n",
            "    \"6\": \"LABEL_6\",\n",
            "    \"7\": \"LABEL_7\",\n",
            "    \"8\": \"LABEL_8\",\n",
            "    \"9\": \"LABEL_9\",\n",
            "    \"10\": \"LABEL_10\",\n",
            "    \"11\": \"LABEL_11\",\n",
            "    \"12\": \"LABEL_12\",\n",
            "    \"13\": \"LABEL_13\",\n",
            "    \"14\": \"LABEL_14\",\n",
            "    \"15\": \"LABEL_15\",\n",
            "    \"16\": \"LABEL_16\",\n",
            "    \"17\": \"LABEL_17\",\n",
            "    \"18\": \"LABEL_18\"\n",
            "  },\n",
            "  \"initializer_range\": 0.02,\n",
            "  \"intermediate_size\": 3072,\n",
            "  \"label2id\": {\n",
            "    \"LABEL_0\": 0,\n",
            "    \"LABEL_1\": 1,\n",
            "    \"LABEL_10\": 10,\n",
            "    \"LABEL_11\": 11,\n",
            "    \"LABEL_12\": 12,\n",
            "    \"LABEL_13\": 13,\n",
            "    \"LABEL_14\": 14,\n",
            "    \"LABEL_15\": 15,\n",
            "    \"LABEL_16\": 16,\n",
            "    \"LABEL_17\": 17,\n",
            "    \"LABEL_18\": 18,\n",
            "    \"LABEL_2\": 2,\n",
            "    \"LABEL_3\": 3,\n",
            "    \"LABEL_4\": 4,\n",
            "    \"LABEL_5\": 5,\n",
            "    \"LABEL_6\": 6,\n",
            "    \"LABEL_7\": 7,\n",
            "    \"LABEL_8\": 8,\n",
            "    \"LABEL_9\": 9\n",
            "  },\n",
            "  \"layer_norm_eps\": 1e-12,\n",
            "  \"max_position_embeddings\": 512,\n",
            "  \"model_type\": \"bert\",\n",
            "  \"n_heads\": 12,\n",
            "  \"n_layers\": 6,\n",
            "  \"num_attention_heads\": 12,\n",
            "  \"num_hidden_layers\": 12,\n",
            "  \"pad_token_id\": 0,\n",
            "  \"position_embedding_type\": \"absolute\",\n",
            "  \"qa_dropout\": 0.1,\n",
            "  \"seq_classif_dropout\": 0.2,\n",
            "  \"sinusoidal_pos_embds\": false,\n",
            "  \"tie_weights_\": true,\n",
            "  \"transformers_version\": \"4.25.1\",\n",
            "  \"type_vocab_size\": 2,\n",
            "  \"use_cache\": true,\n",
            "  \"vocab_size\": 30522\n",
            "}\n",
            "\n",
            "loading weights file pytorch_model.bin from cache at /root/.cache/huggingface/hub/models--distilbert-base-uncased/snapshots/1c4513b2eedbda136f57676a34eea67aba266e5c/pytorch_model.bin\n",
            "Some weights of the model checkpoint at distilbert-base-uncased were not used when initializing BertForSequenceClassification: ['distilbert.transformer.layer.2.output_layer_norm.bias', 'distilbert.embeddings.position_embeddings.weight', 'distilbert.transformer.layer.4.ffn.lin1.weight', 'distilbert.transformer.layer.2.attention.k_lin.bias', 'vocab_projector.bias', 'distilbert.transformer.layer.5.ffn.lin2.weight', 'distilbert.transformer.layer.1.sa_layer_norm.weight', 'distilbert.transformer.layer.1.sa_layer_norm.bias', 'distilbert.transformer.layer.0.ffn.lin2.weight', 'distilbert.transformer.layer.5.attention.k_lin.bias', 'distilbert.transformer.layer.0.ffn.lin1.weight', 'distilbert.transformer.layer.0.attention.out_lin.bias', 'distilbert.transformer.layer.5.output_layer_norm.bias', 'distilbert.transformer.layer.2.sa_layer_norm.bias', 'distilbert.transformer.layer.4.output_layer_norm.bias', 'distilbert.transformer.layer.1.ffn.lin2.weight', 'distilbert.transformer.layer.1.output_layer_norm.weight', 'distilbert.transformer.layer.5.attention.v_lin.weight', 'distilbert.transformer.layer.3.sa_layer_norm.bias', 'distilbert.transformer.layer.4.sa_layer_norm.weight', 'distilbert.transformer.layer.4.output_layer_norm.weight', 'distilbert.transformer.layer.4.ffn.lin2.weight', 'distilbert.transformer.layer.5.ffn.lin1.weight', 'distilbert.transformer.layer.1.attention.k_lin.bias', 'distilbert.embeddings.LayerNorm.bias', 'distilbert.transformer.layer.5.output_layer_norm.weight', 'distilbert.transformer.layer.0.attention.k_lin.weight', 'distilbert.transformer.layer.1.ffn.lin2.bias', 'distilbert.transformer.layer.3.attention.q_lin.weight', 'distilbert.transformer.layer.3.sa_layer_norm.weight', 'distilbert.transformer.layer.3.attention.k_lin.bias', 'distilbert.transformer.layer.4.attention.q_lin.weight', 'distilbert.transformer.layer.1.ffn.lin1.weight', 'distilbert.transformer.layer.4.attention.q_lin.bias', 'distilbert.transformer.layer.0.attention.q_lin.weight', 'distilbert.transformer.layer.5.attention.k_lin.weight', 'distilbert.transformer.layer.1.attention.q_lin.bias', 'distilbert.transformer.layer.3.attention.k_lin.weight', 'distilbert.transformer.layer.4.attention.k_lin.weight', 'distilbert.transformer.layer.0.attention.k_lin.bias', 'vocab_layer_norm.weight', 'distilbert.transformer.layer.3.attention.out_lin.bias', 'distilbert.transformer.layer.4.attention.out_lin.bias', 'distilbert.transformer.layer.5.ffn.lin2.bias', 'distilbert.transformer.layer.5.attention.v_lin.bias', 'distilbert.transformer.layer.0.output_layer_norm.weight', 'distilbert.transformer.layer.5.sa_layer_norm.weight', 'distilbert.transformer.layer.3.attention.v_lin.bias', 'distilbert.transformer.layer.1.ffn.lin1.bias', 'distilbert.transformer.layer.0.ffn.lin2.bias', 'distilbert.transformer.layer.1.attention.out_lin.weight', 'distilbert.embeddings.LayerNorm.weight', 'distilbert.transformer.layer.0.attention.out_lin.weight', 'distilbert.transformer.layer.5.ffn.lin1.bias', 'distilbert.transformer.layer.2.output_layer_norm.weight', 'distilbert.embeddings.word_embeddings.weight', 'distilbert.transformer.layer.1.attention.v_lin.weight', 'distilbert.transformer.layer.5.attention.q_lin.bias', 'distilbert.transformer.layer.4.attention.v_lin.bias', 'distilbert.transformer.layer.4.attention.out_lin.weight', 'distilbert.transformer.layer.2.attention.q_lin.weight', 'distilbert.transformer.layer.1.attention.out_lin.bias', 'vocab_transform.weight', 'distilbert.transformer.layer.4.ffn.lin2.bias', 'distilbert.transformer.layer.2.attention.v_lin.weight', 'distilbert.transformer.layer.2.attention.out_lin.bias', 'distilbert.transformer.layer.3.attention.out_lin.weight', 'distilbert.transformer.layer.0.attention.v_lin.bias', 'distilbert.transformer.layer.2.ffn.lin1.bias', 'distilbert.transformer.layer.5.attention.out_lin.bias', 'distilbert.transformer.layer.4.attention.v_lin.weight', 'distilbert.transformer.layer.2.attention.q_lin.bias', 'distilbert.transformer.layer.0.attention.v_lin.weight', 'distilbert.transformer.layer.3.output_layer_norm.weight', 'distilbert.transformer.layer.0.sa_layer_norm.weight', 'distilbert.transformer.layer.3.attention.q_lin.bias', 'distilbert.transformer.layer.1.output_layer_norm.bias', 'distilbert.transformer.layer.3.ffn.lin1.weight', 'distilbert.transformer.layer.2.ffn.lin2.weight', 'distilbert.transformer.layer.2.attention.out_lin.weight', 'distilbert.transformer.layer.2.attention.k_lin.weight', 'distilbert.transformer.layer.2.attention.v_lin.bias', 'distilbert.transformer.layer.0.ffn.lin1.bias', 'vocab_transform.bias', 'distilbert.transformer.layer.2.ffn.lin1.weight', 'distilbert.transformer.layer.4.ffn.lin1.bias', 'distilbert.transformer.layer.5.attention.q_lin.weight', 'vocab_projector.weight', 'distilbert.transformer.layer.5.attention.out_lin.weight', 'distilbert.transformer.layer.0.attention.q_lin.bias', 'distilbert.transformer.layer.1.attention.v_lin.bias', 'distilbert.transformer.layer.5.sa_layer_norm.bias', 'distilbert.transformer.layer.3.ffn.lin1.bias', 'distilbert.transformer.layer.0.output_layer_norm.bias', 'distilbert.transformer.layer.3.attention.v_lin.weight', 'distilbert.transformer.layer.4.sa_layer_norm.bias', 'distilbert.transformer.layer.0.sa_layer_norm.bias', 'distilbert.transformer.layer.2.ffn.lin2.bias', 'vocab_layer_norm.bias', 'distilbert.transformer.layer.3.ffn.lin2.bias', 'distilbert.transformer.layer.1.attention.k_lin.weight', 'distilbert.transformer.layer.4.attention.k_lin.bias', 'distilbert.transformer.layer.3.ffn.lin2.weight', 'distilbert.transformer.layer.1.attention.q_lin.weight', 'distilbert.transformer.layer.2.sa_layer_norm.weight', 'distilbert.transformer.layer.3.output_layer_norm.bias']\n",
            "- This IS expected if you are initializing BertForSequenceClassification from the checkpoint of a model trained on another task or with another architecture (e.g. initializing a BertForSequenceClassification model from a BertForPreTraining model).\n",
            "- This IS NOT expected if you are initializing BertForSequenceClassification from the checkpoint of a model that you expect to be exactly identical (initializing a BertForSequenceClassification model from a BertForSequenceClassification model).\n",
            "Some weights of BertForSequenceClassification were not initialized from the model checkpoint at distilbert-base-uncased and are newly initialized: ['encoder.layer.7.output.dense.bias', 'encoder.layer.3.attention.output.dense.weight', 'encoder.layer.3.attention.self.key.weight', 'encoder.layer.11.attention.output.dense.bias', 'encoder.layer.8.output.dense.weight', 'encoder.layer.7.attention.self.value.weight', 'encoder.layer.10.attention.self.key.bias', 'encoder.layer.1.output.LayerNorm.weight', 'encoder.layer.6.attention.self.key.bias', 'encoder.layer.9.intermediate.dense.bias', 'encoder.layer.0.output.dense.weight', 'encoder.layer.7.intermediate.dense.bias', 'encoder.layer.3.attention.self.value.weight', 'encoder.layer.3.attention.output.LayerNorm.weight', 'encoder.layer.0.attention.output.dense.weight', 'encoder.layer.6.attention.self.value.weight', 'encoder.layer.3.attention.self.query.weight', 'encoder.layer.8.attention.self.key.weight', 'encoder.layer.9.output.LayerNorm.weight', 'encoder.layer.6.attention.output.dense.weight', 'encoder.layer.9.attention.self.query.bias', 'encoder.layer.4.attention.self.value.weight', 'encoder.layer.6.attention.self.query.bias', 'encoder.layer.5.attention.output.dense.bias', 'pooler.dense.weight', 'encoder.layer.1.attention.self.query.weight', 'encoder.layer.4.attention.self.key.weight', 'encoder.layer.0.attention.output.dense.bias', 'encoder.layer.2.output.dense.bias', 'encoder.layer.8.attention.output.LayerNorm.bias', 'encoder.layer.10.attention.output.LayerNorm.bias', 'encoder.layer.10.intermediate.dense.weight', 'encoder.layer.0.attention.self.key.weight', 'encoder.layer.4.intermediate.dense.weight', 'encoder.layer.11.output.dense.bias', 'encoder.layer.7.attention.output.dense.weight', 'encoder.layer.8.intermediate.dense.weight', 'encoder.layer.0.attention.self.value.bias', 'encoder.layer.9.attention.output.dense.weight', 'embeddings.LayerNorm.bias', 'encoder.layer.11.output.LayerNorm.bias', 'encoder.layer.6.attention.output.dense.bias', 'encoder.layer.2.intermediate.dense.bias', 'encoder.layer.11.attention.self.query.bias', 'encoder.layer.11.intermediate.dense.bias', 'encoder.layer.9.attention.output.LayerNorm.bias', 'encoder.layer.0.attention.output.LayerNorm.weight', 'encoder.layer.3.attention.output.dense.bias', 'encoder.layer.1.intermediate.dense.bias', 'encoder.layer.0.output.dense.bias', 'encoder.layer.11.attention.output.dense.weight', 'encoder.layer.5.output.LayerNorm.weight', 'encoder.layer.10.attention.self.query.weight', 'encoder.layer.9.attention.self.key.weight', 'encoder.layer.10.attention.output.dense.weight', 'encoder.layer.0.attention.self.query.weight', 'encoder.layer.2.output.dense.weight', 'encoder.layer.7.attention.self.key.bias', 'encoder.layer.5.attention.self.key.bias', 'encoder.layer.1.attention.output.LayerNorm.bias', 'encoder.layer.8.output.LayerNorm.bias', 'encoder.layer.5.attention.output.LayerNorm.bias', 'encoder.layer.2.attention.self.query.weight', 'encoder.layer.11.output.dense.weight', 'encoder.layer.8.intermediate.dense.bias', 'encoder.layer.9.attention.self.value.weight', 'encoder.layer.3.attention.output.LayerNorm.bias', 'encoder.layer.4.output.LayerNorm.weight', 'encoder.layer.5.output.LayerNorm.bias', 'encoder.layer.6.attention.self.value.bias', 'embeddings.position_embeddings.weight', 'encoder.layer.1.output.dense.bias', 'encoder.layer.4.attention.self.query.weight', 'encoder.layer.0.attention.output.LayerNorm.bias', 'encoder.layer.1.attention.output.LayerNorm.weight', 'encoder.layer.1.intermediate.dense.weight', 'encoder.layer.6.intermediate.dense.bias', 'encoder.layer.7.output.LayerNorm.weight', 'encoder.layer.6.attention.self.key.weight', 'encoder.layer.3.output.LayerNorm.bias', 'encoder.layer.1.attention.output.dense.weight', 'encoder.layer.3.intermediate.dense.bias', 'encoder.layer.2.attention.output.dense.weight', 'pooler.dense.bias', 'encoder.layer.0.output.LayerNorm.weight', 'embeddings.token_type_embeddings.weight', 'encoder.layer.1.attention.self.value.bias', 'encoder.layer.3.attention.self.query.bias', 'encoder.layer.7.output.LayerNorm.bias', 'encoder.layer.7.attention.self.query.weight', 'encoder.layer.10.attention.output.LayerNorm.weight', 'encoder.layer.11.attention.output.LayerNorm.bias', 'encoder.layer.11.attention.self.query.weight', 'encoder.layer.10.attention.output.dense.bias', 'encoder.layer.4.attention.self.value.bias', 'encoder.layer.1.attention.self.value.weight', 'encoder.layer.6.output.LayerNorm.bias', 'encoder.layer.4.attention.output.dense.bias', 'encoder.layer.11.attention.self.value.weight', 'encoder.layer.3.output.dense.weight', 'encoder.layer.6.attention.output.LayerNorm.weight', 'encoder.layer.3.attention.self.key.bias', 'encoder.layer.11.attention.self.key.bias', 'encoder.layer.4.output.dense.bias', 'encoder.layer.7.attention.output.LayerNorm.weight', 'encoder.layer.9.output.dense.weight', 'encoder.layer.5.attention.output.LayerNorm.weight', 'encoder.layer.0.attention.self.value.weight', 'encoder.layer.1.attention.self.key.weight', 'encoder.layer.4.attention.output.dense.weight', 'encoder.layer.4.output.dense.weight', 'encoder.layer.4.attention.self.query.bias', 'encoder.layer.5.output.dense.bias', 'encoder.layer.5.intermediate.dense.bias', 'classifier.weight', 'encoder.layer.9.attention.output.dense.bias', 'encoder.layer.9.attention.output.LayerNorm.weight', 'encoder.layer.8.attention.output.dense.weight', 'encoder.layer.4.attention.self.key.bias', 'encoder.layer.5.attention.self.key.weight', 'encoder.layer.8.output.LayerNorm.weight', 'encoder.layer.8.output.dense.bias', 'encoder.layer.11.output.LayerNorm.weight', 'embeddings.LayerNorm.weight', 'encoder.layer.1.output.LayerNorm.bias', 'encoder.layer.3.output.dense.bias', 'encoder.layer.10.attention.self.key.weight', 'encoder.layer.10.output.LayerNorm.bias', 'encoder.layer.10.output.LayerNorm.weight', 'encoder.layer.9.output.dense.bias', 'encoder.layer.5.attention.self.value.bias', 'encoder.layer.4.intermediate.dense.bias', 'encoder.layer.2.attention.output.dense.bias', 'encoder.layer.6.attention.output.LayerNorm.bias', 'encoder.layer.2.attention.self.value.bias', 'encoder.layer.0.attention.self.query.bias', 'encoder.layer.4.output.LayerNorm.bias', 'encoder.layer.7.attention.output.LayerNorm.bias', 'encoder.layer.3.intermediate.dense.weight', 'encoder.layer.9.attention.self.value.bias', 'encoder.layer.6.output.dense.bias', 'encoder.layer.10.attention.self.value.weight', 'encoder.layer.6.intermediate.dense.weight', 'encoder.layer.4.attention.output.LayerNorm.bias', 'encoder.layer.11.intermediate.dense.weight', 'encoder.layer.5.attention.self.query.weight', 'encoder.layer.1.attention.output.dense.bias', 'encoder.layer.0.attention.self.key.bias', 'encoder.layer.4.attention.output.LayerNorm.weight', 'encoder.layer.9.output.LayerNorm.bias', 'encoder.layer.9.intermediate.dense.weight', 'encoder.layer.10.attention.self.value.bias', 'encoder.layer.10.output.dense.weight', 'encoder.layer.2.attention.self.key.weight', 'encoder.layer.11.attention.output.LayerNorm.weight', 'encoder.layer.5.attention.self.query.bias', 'encoder.layer.0.intermediate.dense.bias', 'encoder.layer.0.intermediate.dense.weight', 'encoder.layer.2.output.LayerNorm.bias', 'encoder.layer.10.attention.self.query.bias', 'encoder.layer.10.intermediate.dense.bias', 'encoder.layer.1.output.dense.weight', 'encoder.layer.7.attention.self.key.weight', 'encoder.layer.5.attention.self.value.weight', 'encoder.layer.2.intermediate.dense.weight', 'encoder.layer.6.output.dense.weight', 'encoder.layer.10.output.dense.bias', 'encoder.layer.7.intermediate.dense.weight', 'encoder.layer.2.output.LayerNorm.weight', 'encoder.layer.8.attention.self.query.weight', 'encoder.layer.3.output.LayerNorm.weight', 'encoder.layer.2.attention.output.LayerNorm.weight', 'encoder.layer.8.attention.self.value.weight', 'encoder.layer.8.attention.output.LayerNorm.weight', 'encoder.layer.7.attention.output.dense.bias', 'encoder.layer.9.attention.self.key.bias', 'encoder.layer.2.attention.output.LayerNorm.bias', 'embeddings.word_embeddings.weight', 'encoder.layer.5.intermediate.dense.weight', 'encoder.layer.0.output.LayerNorm.bias', 'encoder.layer.2.attention.self.key.bias', 'encoder.layer.5.attention.output.dense.weight', 'encoder.layer.8.attention.output.dense.bias', 'encoder.layer.6.attention.self.query.weight', 'encoder.layer.11.attention.self.value.bias', 'encoder.layer.5.output.dense.weight', 'encoder.layer.7.attention.self.value.bias', 'encoder.layer.7.attention.self.query.bias', 'encoder.layer.2.attention.self.query.bias', 'encoder.layer.8.attention.self.key.bias', 'encoder.layer.7.output.dense.weight', 'encoder.layer.2.attention.self.value.weight', 'encoder.layer.1.attention.self.query.bias', 'classifier.bias', 'encoder.layer.1.attention.self.key.bias', 'encoder.layer.3.attention.self.value.bias', 'encoder.layer.6.output.LayerNorm.weight', 'encoder.layer.8.attention.self.value.bias', 'encoder.layer.9.attention.self.query.weight', 'encoder.layer.11.attention.self.key.weight', 'encoder.layer.8.attention.self.query.bias']\n",
            "You should probably TRAIN this model on a down-stream task to be able to use it for predictions and inference.\n"
          ]
        }
      ],
      "source": [
        "# model = AutoModelForSequenceClassification.from_pretrained('distilbert-base-uncased', num_labels=19)\n",
        "model = BertForSequenceClassification.from_pretrained('distilbert-base-uncased', num_labels=19)"
      ]
    },
    {
      "cell_type": "code",
      "execution_count": 164,
      "metadata": {
        "id": "CdnXk-XlhgIv",
        "colab": {
          "base_uri": "https://localhost:8080/"
        },
        "outputId": "8a548885-d9e8-43ba-aa41-6b8fd0d1f998"
      },
      "outputs": [
        {
          "output_type": "stream",
          "name": "stderr",
          "text": [
            "PyTorch: setting up devices\n",
            "The default value for the training argument `--report_to` will change in v5 (from all installed integrations to none). In v5, you will need to use `--report_to all` to get the same behavior as now. You should start updating your code and make this info disappear :-).\n"
          ]
        }
      ],
      "source": [
        "training_args = TrainingArguments(output_dir='trainer',\n",
        "                                  evaluation_strategy='steps',\n",
        "                                  eval_steps = 250,\n",
        "                                  save_total_limit = 5,\n",
        "                                  num_train_epochs=8,\n",
        "                                  per_device_train_batch_size = 16,\n",
        "                                  gradient_accumulation_steps = 2,\n",
        "                                  logging_dir='./logs',\n",
        "                                  logging_steps=1,\n",
        "                                  metric_for_best_model = 'f1',\n",
        "                                  load_best_model_at_end=True)"
      ]
    },
    {
      "cell_type": "code",
      "execution_count": 165,
      "metadata": {
        "id": "z4KX3q4bhnJ9"
      },
      "outputs": [],
      "source": [
        "# Trainer class from https://huggingface.co/docs/transformers/v4.24.0/en/main_classes/trainer#transformers.Trainer\n",
        "class CustomTrainer(Trainer):\n",
        "    def compute_loss(self, model, inputs, return_outputs=False):\n",
        "        labels = inputs.get(\"labels\")\n",
        "        # forward pass\n",
        "        outputs = model(**inputs)\n",
        "        logits = outputs.get(\"logits\")\n",
        "        # compute custom loss (suppose one has 3 labels with different weights)\n",
        "        loss_fct = nn.CrossEntropyLoss(weight=class_weights)\n",
        "        loss = loss_fct(logits.view(-1, self.model.config.num_labels), labels.view(-1))\n",
        "        return (loss, outputs) if return_outputs else loss"
      ]
    },
    {
      "cell_type": "code",
      "execution_count": 166,
      "metadata": {
        "id": "ocD6ZH_gh2nY"
      },
      "outputs": [],
      "source": [
        "def compute_metrics(pred):\n",
        "    labels = pred.label_ids\n",
        "    preds = pred.predictions.argmax(-1)\n",
        "    precision, recall, f1, _ = precision_recall_fscore_support(labels, preds, average='weighted')\n",
        "    acc = accuracy_score(labels, preds)\n",
        "    return {\n",
        "        'accuracy': acc,\n",
        "        'f1': f1,\n",
        "        'precision': precision,\n",
        "        'recall': recall\n",
        "    }"
      ]
    },
    {
      "cell_type": "code",
      "execution_count": 167,
      "metadata": {
        "id": "p8m6SQ0jh3t1"
      },
      "outputs": [],
      "source": [
        "trainer = CustomTrainer(model = model,\n",
        "                        args = training_args, \n",
        "                        train_dataset = ds_train, \n",
        "                        eval_dataset = ds_valid, \n",
        "                        compute_metrics = compute_metrics,\n",
        "                        tokenizer = tokenizer,\n",
        "                        callbacks = [EarlyStoppingCallback(early_stopping_patience=3)])"
      ]
    },
    {
      "cell_type": "code",
      "execution_count": 168,
      "metadata": {
        "colab": {
          "base_uri": "https://localhost:8080/",
          "height": 421
        },
        "id": "Di78cuwah5r2",
        "outputId": "f520c266-f17b-49ac-834e-d238c79b5751"
      },
      "outputs": [
        {
          "output_type": "stream",
          "name": "stderr",
          "text": [
            "The following columns in the training set don't have a corresponding argument in `BertForSequenceClassification.forward` and have been ignored: regnum, website, url, tokens, regricht, capital, __index_level_0__, name, gegenstand, word_count, label_int, text, zeichen, gegenstand_raw, regart. If regnum, website, url, tokens, regricht, capital, __index_level_0__, name, gegenstand, word_count, label_int, text, zeichen, gegenstand_raw, regart are not expected by `BertForSequenceClassification.forward`,  you can safely ignore this message.\n",
            "/usr/local/lib/python3.8/dist-packages/transformers/optimization.py:306: FutureWarning: This implementation of AdamW is deprecated and will be removed in a future version. Use the PyTorch implementation torch.optim.AdamW instead, or set `no_deprecation_warning=True` to disable this warning\n",
            "  warnings.warn(\n",
            "***** Running training *****\n",
            "  Num examples = 81\n",
            "  Num Epochs = 8\n",
            "  Instantaneous batch size per device = 16\n",
            "  Total train batch size (w. parallel, distributed & accumulation) = 32\n",
            "  Gradient Accumulation steps = 2\n",
            "  Total optimization steps = 24\n",
            "  Number of trainable parameters = 109496851\n"
          ]
        },
        {
          "output_type": "display_data",
          "data": {
            "text/plain": [
              "<IPython.core.display.HTML object>"
            ],
            "text/html": [
              "\n",
              "    <div>\n",
              "      \n",
              "      <progress value='24' max='24' style='width:300px; height:20px; vertical-align: middle;'></progress>\n",
              "      [24/24 00:57, Epoch 8/8]\n",
              "    </div>\n",
              "    <table border=\"1\" class=\"dataframe\">\n",
              "  <thead>\n",
              " <tr style=\"text-align: left;\">\n",
              "      <th>Step</th>\n",
              "      <th>Training Loss</th>\n",
              "      <th>Validation Loss</th>\n",
              "    </tr>\n",
              "  </thead>\n",
              "  <tbody>\n",
              "  </tbody>\n",
              "</table><p>"
            ]
          },
          "metadata": {}
        },
        {
          "output_type": "stream",
          "name": "stderr",
          "text": [
            "\n",
            "\n",
            "Training completed. Do not forget to share your model on huggingface.co/models =)\n",
            "\n",
            "\n"
          ]
        },
        {
          "output_type": "execute_result",
          "data": {
            "text/plain": [
              "TrainOutput(global_step=24, training_loss=2.980625649293264, metrics={'train_runtime': 60.5251, 'train_samples_per_second': 10.706, 'train_steps_per_second': 0.397, 'total_flos': 170521987719168.0, 'train_loss': 2.980625649293264, 'epoch': 8.0})"
            ]
          },
          "metadata": {},
          "execution_count": 168
        }
      ],
      "source": [
        "trainer.train()"
      ]
    },
    {
      "cell_type": "code",
      "execution_count": 169,
      "metadata": {
        "id": "0BhvlRfeskkl",
        "colab": {
          "base_uri": "https://localhost:8080/"
        },
        "outputId": "dbecac5e-4744-4b50-c768-ec687b84d5ea"
      },
      "outputs": [
        {
          "output_type": "stream",
          "name": "stderr",
          "text": [
            "Saving model checkpoint to /content/drive/MyDrive/hareg_nlp/04_Models/dist_bert\n",
            "Configuration saved in /content/drive/MyDrive/hareg_nlp/04_Models/dist_bert/config.json\n",
            "Model weights saved in /content/drive/MyDrive/hareg_nlp/04_Models/dist_bert/pytorch_model.bin\n",
            "tokenizer config file saved in /content/drive/MyDrive/hareg_nlp/04_Models/dist_bert/tokenizer_config.json\n",
            "Special tokens file saved in /content/drive/MyDrive/hareg_nlp/04_Models/dist_bert/special_tokens_map.json\n"
          ]
        }
      ],
      "source": [
        "trainer.save_model(\"/content/drive/MyDrive/hareg_nlp/04_Models/dist_bert\")"
      ]
    },
    {
      "cell_type": "code",
      "execution_count": 239,
      "metadata": {
        "id": "j5UYnp-f0Xke"
      },
      "outputs": [],
      "source": [
        "# tokenized input\n",
        "# ds_train[0]"
      ]
    },
    {
      "cell_type": "code",
      "execution_count": 240,
      "metadata": {
        "id": "L1mxmtJ0CYBN"
      },
      "outputs": [],
      "source": [
        "# show hidden embedding\n",
        "# model.bert.embeddings.word_embeddings.weight"
      ]
    },
    {
      "cell_type": "markdown",
      "metadata": {
        "id": "bOOpojEm98Lh"
      },
      "source": [
        "## Predict"
      ]
    },
    {
      "cell_type": "code",
      "execution_count": 172,
      "metadata": {
        "id": "05KKbVtXB-Eu",
        "colab": {
          "base_uri": "https://localhost:8080/"
        },
        "outputId": "444b8a89-c308-42a2-c426-cbed0a23a449"
      },
      "outputs": [
        {
          "output_type": "stream",
          "name": "stderr",
          "text": [
            "loading configuration file /content/drive/MyDrive/hareg_nlp/04_Models/dist_bert/config.json\n",
            "Model config BertConfig {\n",
            "  \"_name_or_path\": \"/content/drive/MyDrive/hareg_nlp/04_Models/dist_bert\",\n",
            "  \"activation\": \"gelu\",\n",
            "  \"architectures\": [\n",
            "    \"BertForSequenceClassification\"\n",
            "  ],\n",
            "  \"attention_dropout\": 0.1,\n",
            "  \"attention_probs_dropout_prob\": 0.1,\n",
            "  \"classifier_dropout\": null,\n",
            "  \"dim\": 768,\n",
            "  \"dropout\": 0.1,\n",
            "  \"hidden_act\": \"gelu\",\n",
            "  \"hidden_dim\": 3072,\n",
            "  \"hidden_dropout_prob\": 0.1,\n",
            "  \"hidden_size\": 768,\n",
            "  \"id2label\": {\n",
            "    \"0\": \"LABEL_0\",\n",
            "    \"1\": \"LABEL_1\",\n",
            "    \"2\": \"LABEL_2\",\n",
            "    \"3\": \"LABEL_3\",\n",
            "    \"4\": \"LABEL_4\",\n",
            "    \"5\": \"LABEL_5\",\n",
            "    \"6\": \"LABEL_6\",\n",
            "    \"7\": \"LABEL_7\",\n",
            "    \"8\": \"LABEL_8\",\n",
            "    \"9\": \"LABEL_9\",\n",
            "    \"10\": \"LABEL_10\",\n",
            "    \"11\": \"LABEL_11\",\n",
            "    \"12\": \"LABEL_12\",\n",
            "    \"13\": \"LABEL_13\",\n",
            "    \"14\": \"LABEL_14\",\n",
            "    \"15\": \"LABEL_15\",\n",
            "    \"16\": \"LABEL_16\",\n",
            "    \"17\": \"LABEL_17\",\n",
            "    \"18\": \"LABEL_18\"\n",
            "  },\n",
            "  \"initializer_range\": 0.02,\n",
            "  \"intermediate_size\": 3072,\n",
            "  \"label2id\": {\n",
            "    \"LABEL_0\": 0,\n",
            "    \"LABEL_1\": 1,\n",
            "    \"LABEL_10\": 10,\n",
            "    \"LABEL_11\": 11,\n",
            "    \"LABEL_12\": 12,\n",
            "    \"LABEL_13\": 13,\n",
            "    \"LABEL_14\": 14,\n",
            "    \"LABEL_15\": 15,\n",
            "    \"LABEL_16\": 16,\n",
            "    \"LABEL_17\": 17,\n",
            "    \"LABEL_18\": 18,\n",
            "    \"LABEL_2\": 2,\n",
            "    \"LABEL_3\": 3,\n",
            "    \"LABEL_4\": 4,\n",
            "    \"LABEL_5\": 5,\n",
            "    \"LABEL_6\": 6,\n",
            "    \"LABEL_7\": 7,\n",
            "    \"LABEL_8\": 8,\n",
            "    \"LABEL_9\": 9\n",
            "  },\n",
            "  \"layer_norm_eps\": 1e-12,\n",
            "  \"max_position_embeddings\": 512,\n",
            "  \"model_type\": \"bert\",\n",
            "  \"n_heads\": 12,\n",
            "  \"n_layers\": 6,\n",
            "  \"num_attention_heads\": 12,\n",
            "  \"num_hidden_layers\": 12,\n",
            "  \"pad_token_id\": 0,\n",
            "  \"position_embedding_type\": \"absolute\",\n",
            "  \"problem_type\": \"single_label_classification\",\n",
            "  \"qa_dropout\": 0.1,\n",
            "  \"seq_classif_dropout\": 0.2,\n",
            "  \"sinusoidal_pos_embds\": false,\n",
            "  \"tie_weights_\": true,\n",
            "  \"torch_dtype\": \"float32\",\n",
            "  \"transformers_version\": \"4.25.1\",\n",
            "  \"type_vocab_size\": 2,\n",
            "  \"use_cache\": true,\n",
            "  \"vocab_size\": 30522\n",
            "}\n",
            "\n",
            "loading configuration file /content/drive/MyDrive/hareg_nlp/04_Models/dist_bert/config.json\n",
            "Model config BertConfig {\n",
            "  \"_name_or_path\": \"/content/drive/MyDrive/hareg_nlp/04_Models/dist_bert\",\n",
            "  \"activation\": \"gelu\",\n",
            "  \"architectures\": [\n",
            "    \"BertForSequenceClassification\"\n",
            "  ],\n",
            "  \"attention_dropout\": 0.1,\n",
            "  \"attention_probs_dropout_prob\": 0.1,\n",
            "  \"classifier_dropout\": null,\n",
            "  \"dim\": 768,\n",
            "  \"dropout\": 0.1,\n",
            "  \"hidden_act\": \"gelu\",\n",
            "  \"hidden_dim\": 3072,\n",
            "  \"hidden_dropout_prob\": 0.1,\n",
            "  \"hidden_size\": 768,\n",
            "  \"id2label\": {\n",
            "    \"0\": \"LABEL_0\",\n",
            "    \"1\": \"LABEL_1\",\n",
            "    \"2\": \"LABEL_2\",\n",
            "    \"3\": \"LABEL_3\",\n",
            "    \"4\": \"LABEL_4\",\n",
            "    \"5\": \"LABEL_5\",\n",
            "    \"6\": \"LABEL_6\",\n",
            "    \"7\": \"LABEL_7\",\n",
            "    \"8\": \"LABEL_8\",\n",
            "    \"9\": \"LABEL_9\",\n",
            "    \"10\": \"LABEL_10\",\n",
            "    \"11\": \"LABEL_11\",\n",
            "    \"12\": \"LABEL_12\",\n",
            "    \"13\": \"LABEL_13\",\n",
            "    \"14\": \"LABEL_14\",\n",
            "    \"15\": \"LABEL_15\",\n",
            "    \"16\": \"LABEL_16\",\n",
            "    \"17\": \"LABEL_17\",\n",
            "    \"18\": \"LABEL_18\"\n",
            "  },\n",
            "  \"initializer_range\": 0.02,\n",
            "  \"intermediate_size\": 3072,\n",
            "  \"label2id\": {\n",
            "    \"LABEL_0\": 0,\n",
            "    \"LABEL_1\": 1,\n",
            "    \"LABEL_10\": 10,\n",
            "    \"LABEL_11\": 11,\n",
            "    \"LABEL_12\": 12,\n",
            "    \"LABEL_13\": 13,\n",
            "    \"LABEL_14\": 14,\n",
            "    \"LABEL_15\": 15,\n",
            "    \"LABEL_16\": 16,\n",
            "    \"LABEL_17\": 17,\n",
            "    \"LABEL_18\": 18,\n",
            "    \"LABEL_2\": 2,\n",
            "    \"LABEL_3\": 3,\n",
            "    \"LABEL_4\": 4,\n",
            "    \"LABEL_5\": 5,\n",
            "    \"LABEL_6\": 6,\n",
            "    \"LABEL_7\": 7,\n",
            "    \"LABEL_8\": 8,\n",
            "    \"LABEL_9\": 9\n",
            "  },\n",
            "  \"layer_norm_eps\": 1e-12,\n",
            "  \"max_position_embeddings\": 512,\n",
            "  \"model_type\": \"bert\",\n",
            "  \"n_heads\": 12,\n",
            "  \"n_layers\": 6,\n",
            "  \"num_attention_heads\": 12,\n",
            "  \"num_hidden_layers\": 12,\n",
            "  \"pad_token_id\": 0,\n",
            "  \"position_embedding_type\": \"absolute\",\n",
            "  \"problem_type\": \"single_label_classification\",\n",
            "  \"qa_dropout\": 0.1,\n",
            "  \"seq_classif_dropout\": 0.2,\n",
            "  \"sinusoidal_pos_embds\": false,\n",
            "  \"tie_weights_\": true,\n",
            "  \"torch_dtype\": \"float32\",\n",
            "  \"transformers_version\": \"4.25.1\",\n",
            "  \"type_vocab_size\": 2,\n",
            "  \"use_cache\": true,\n",
            "  \"vocab_size\": 30522\n",
            "}\n",
            "\n",
            "loading weights file /content/drive/MyDrive/hareg_nlp/04_Models/dist_bert/pytorch_model.bin\n",
            "All model checkpoint weights were used when initializing BertForSequenceClassification.\n",
            "\n",
            "All the weights of BertForSequenceClassification were initialized from the model checkpoint at /content/drive/MyDrive/hareg_nlp/04_Models/dist_bert.\n",
            "If your task is similar to the task the model of the checkpoint was trained on, you can already use BertForSequenceClassification for predictions without further training.\n",
            "loading file vocab.txt\n",
            "loading file tokenizer.json\n",
            "loading file added_tokens.json\n",
            "loading file special_tokens_map.json\n",
            "loading file tokenizer_config.json\n"
          ]
        }
      ],
      "source": [
        "path = \"/content/drive/MyDrive/hareg_nlp/04_Models/dist_bert\"\n",
        "\n",
        "pipe = pipeline('text-classification',\n",
        "    model=path,\n",
        "    device=0,\n",
        "    truncation=True)"
      ]
    },
    {
      "cell_type": "code",
      "execution_count": 173,
      "metadata": {
        "id": "H0-TvtlB99Kf",
        "colab": {
          "base_uri": "https://localhost:8080/"
        },
        "outputId": "f4dd9539-5042-4e13-9312-face1d1fb45a"
      },
      "outputs": [
        {
          "output_type": "stream",
          "name": "stderr",
          "text": [
            " 48%|████▊     | 11/23 [00:00<00:00, 51.00it/s]/usr/local/lib/python3.8/dist-packages/transformers/pipelines/base.py:1043: UserWarning: You seem to be using the pipelines sequentially on GPU. In order to maximize efficiency please use a dataset\n",
            "  warnings.warn(\n",
            "100%|██████████| 23/23 [00:00<00:00, 53.41it/s]\n"
          ]
        }
      ],
      "source": [
        "test['label_pred'] = test.progress_apply(lambda row: pipe(row['gegenstand'])[0]['label'].replace('LABEL_',''), axis=1)\n",
        "test.label_pred = test.label_pred.astype(int)"
      ]
    },
    {
      "cell_type": "markdown",
      "metadata": {
        "id": "uiuOQFczO1mM"
      },
      "source": [
        "## Evaluate"
      ]
    },
    {
      "cell_type": "code",
      "execution_count": 174,
      "metadata": {
        "id": "AWyR6nv68QVv",
        "colab": {
          "base_uri": "https://localhost:8080/",
          "height": 365
        },
        "outputId": "c44fb12d-cc75-44a6-91b2-7462ae428b60"
      },
      "outputs": [
        {
          "output_type": "stream",
          "name": "stderr",
          "text": [
            "The following columns in the evaluation set don't have a corresponding argument in `BertForSequenceClassification.forward` and have been ignored: regnum, website, url, tokens, regricht, capital, __index_level_0__, name, gegenstand, word_count, label_int, text, zeichen, gegenstand_raw, regart. If regnum, website, url, tokens, regricht, capital, __index_level_0__, name, gegenstand, word_count, label_int, text, zeichen, gegenstand_raw, regart are not expected by `BertForSequenceClassification.forward`,  you can safely ignore this message.\n",
            "***** Running Evaluation *****\n",
            "  Num examples = 10\n",
            "  Batch size = 8\n"
          ]
        },
        {
          "output_type": "display_data",
          "data": {
            "text/plain": [
              "<IPython.core.display.HTML object>"
            ],
            "text/html": [
              "\n",
              "    <div>\n",
              "      \n",
              "      <progress value='2' max='2' style='width:300px; height:20px; vertical-align: middle;'></progress>\n",
              "      [2/2 00:00]\n",
              "    </div>\n",
              "    "
            ]
          },
          "metadata": {}
        },
        {
          "output_type": "stream",
          "name": "stderr",
          "text": [
            "/usr/local/lib/python3.8/dist-packages/sklearn/metrics/_classification.py:1318: UndefinedMetricWarning: Precision and F-score are ill-defined and being set to 0.0 in labels with no predicted samples. Use `zero_division` parameter to control this behavior.\n",
            "  _warn_prf(average, modifier, msg_start, len(result))\n",
            "/usr/local/lib/python3.8/dist-packages/sklearn/metrics/_classification.py:1318: UndefinedMetricWarning: Recall and F-score are ill-defined and being set to 0.0 in labels with no true samples. Use `zero_division` parameter to control this behavior.\n",
            "  _warn_prf(average, modifier, msg_start, len(result))\n"
          ]
        },
        {
          "output_type": "execute_result",
          "data": {
            "text/plain": [
              "{'eval_loss': 3.120272636413574,\n",
              " 'eval_accuracy': 0.0,\n",
              " 'eval_f1': 0.0,\n",
              " 'eval_precision': 0.0,\n",
              " 'eval_recall': 0.0,\n",
              " 'eval_runtime': 0.3212,\n",
              " 'eval_samples_per_second': 31.129,\n",
              " 'eval_steps_per_second': 6.226,\n",
              " 'epoch': 8.0}"
            ]
          },
          "metadata": {},
          "execution_count": 174
        }
      ],
      "source": [
        "trainer.evaluate()"
      ]
    },
    {
      "cell_type": "code",
      "execution_count": 175,
      "metadata": {
        "id": "NrN1wlb69Ps_",
        "colab": {
          "base_uri": "https://localhost:8080/"
        },
        "outputId": "408d8a73-0eb0-49df-b849-f5ad05ed825e"
      },
      "outputs": [
        {
          "output_type": "stream",
          "name": "stdout",
          "text": [
            "Balanced Accuracy: 0.0000\n",
            "F1-score: 0.0000\n",
            "Precision: 0.0000\n",
            "Recall: 0.0000\n"
          ]
        },
        {
          "output_type": "stream",
          "name": "stderr",
          "text": [
            "/usr/local/lib/python3.8/dist-packages/sklearn/metrics/_classification.py:1987: UserWarning: y_pred contains classes not in y_true\n",
            "  warnings.warn(\"y_pred contains classes not in y_true\")\n",
            "/usr/local/lib/python3.8/dist-packages/sklearn/metrics/_classification.py:1318: UndefinedMetricWarning: Precision is ill-defined and being set to 0.0 in labels with no predicted samples. Use `zero_division` parameter to control this behavior.\n",
            "  _warn_prf(average, modifier, msg_start, len(result))\n",
            "/usr/local/lib/python3.8/dist-packages/sklearn/metrics/_classification.py:1318: UndefinedMetricWarning: Recall is ill-defined and being set to 0.0 in labels with no true samples. Use `zero_division` parameter to control this behavior.\n",
            "  _warn_prf(average, modifier, msg_start, len(result))\n"
          ]
        }
      ],
      "source": [
        "y_true = test['label']\n",
        "y_pred = test['label_pred']\n",
        "\n",
        "accuracy = balanced_accuracy_score(y_true, y_pred)\n",
        "f1_metric = f1_score(y_true, y_pred, average='weighted')\n",
        "precision = precision_score(y_true, y_pred, average='weighted')\n",
        "recall = recall_score(y_true, y_pred, average='weighted')\n",
        "\n",
        "print(\"Balanced Accuracy: {:.4f}\".format(accuracy))\n",
        "print(\"F1-score: {:.4f}\".format(f1_metric))\n",
        "print(\"Precision: {:.4f}\".format(precision))\n",
        "print(\"Recall: {:.4f}\".format(recall))"
      ]
    },
    {
      "cell_type": "markdown",
      "metadata": {
        "id": "EGTVb5z_qci1"
      },
      "source": [
        "# new ger-BERT"
      ]
    },
    {
      "cell_type": "markdown",
      "metadata": {
        "id": "2rdSnI6g4ih5"
      },
      "source": [
        "## Fine-Tune"
      ]
    },
    {
      "cell_type": "code",
      "execution_count": 176,
      "metadata": {
        "colab": {
          "base_uri": "https://localhost:8080/"
        },
        "id": "2h2roys65B9e",
        "outputId": "0598b860-e392-43d5-ef7b-5d0dfc6f16ab"
      },
      "outputs": [
        {
          "output_type": "stream",
          "name": "stderr",
          "text": [
            "loading configuration file config.json from cache at /root/.cache/huggingface/hub/models--distilbert-base-german-cased/snapshots/06b1dc5ba050ddbf462d060df38f906eedb31b01/config.json\n",
            "Model config DistilBertConfig {\n",
            "  \"_name_or_path\": \"distilbert-base-german-cased\",\n",
            "  \"activation\": \"gelu\",\n",
            "  \"architectures\": [\n",
            "    \"DistilBertForMaskedLM\"\n",
            "  ],\n",
            "  \"attention_dropout\": 0.1,\n",
            "  \"dim\": 768,\n",
            "  \"dropout\": 0.1,\n",
            "  \"hidden_dim\": 3072,\n",
            "  \"id2label\": {\n",
            "    \"0\": \"LABEL_0\",\n",
            "    \"1\": \"LABEL_1\",\n",
            "    \"2\": \"LABEL_2\",\n",
            "    \"3\": \"LABEL_3\",\n",
            "    \"4\": \"LABEL_4\",\n",
            "    \"5\": \"LABEL_5\",\n",
            "    \"6\": \"LABEL_6\",\n",
            "    \"7\": \"LABEL_7\",\n",
            "    \"8\": \"LABEL_8\",\n",
            "    \"9\": \"LABEL_9\",\n",
            "    \"10\": \"LABEL_10\",\n",
            "    \"11\": \"LABEL_11\",\n",
            "    \"12\": \"LABEL_12\",\n",
            "    \"13\": \"LABEL_13\",\n",
            "    \"14\": \"LABEL_14\",\n",
            "    \"15\": \"LABEL_15\",\n",
            "    \"16\": \"LABEL_16\",\n",
            "    \"17\": \"LABEL_17\",\n",
            "    \"18\": \"LABEL_18\"\n",
            "  },\n",
            "  \"initializer_range\": 0.02,\n",
            "  \"label2id\": {\n",
            "    \"LABEL_0\": 0,\n",
            "    \"LABEL_1\": 1,\n",
            "    \"LABEL_10\": 10,\n",
            "    \"LABEL_11\": 11,\n",
            "    \"LABEL_12\": 12,\n",
            "    \"LABEL_13\": 13,\n",
            "    \"LABEL_14\": 14,\n",
            "    \"LABEL_15\": 15,\n",
            "    \"LABEL_16\": 16,\n",
            "    \"LABEL_17\": 17,\n",
            "    \"LABEL_18\": 18,\n",
            "    \"LABEL_2\": 2,\n",
            "    \"LABEL_3\": 3,\n",
            "    \"LABEL_4\": 4,\n",
            "    \"LABEL_5\": 5,\n",
            "    \"LABEL_6\": 6,\n",
            "    \"LABEL_7\": 7,\n",
            "    \"LABEL_8\": 8,\n",
            "    \"LABEL_9\": 9\n",
            "  },\n",
            "  \"max_position_embeddings\": 512,\n",
            "  \"model_type\": \"distilbert\",\n",
            "  \"n_heads\": 12,\n",
            "  \"n_layers\": 6,\n",
            "  \"output_past\": true,\n",
            "  \"pad_token_id\": 0,\n",
            "  \"qa_dropout\": 0.1,\n",
            "  \"seq_classif_dropout\": 0.2,\n",
            "  \"sinusoidal_pos_embds\": true,\n",
            "  \"tie_weights_\": true,\n",
            "  \"transformers_version\": \"4.25.1\",\n",
            "  \"vocab_size\": 31102\n",
            "}\n",
            "\n",
            "loading weights file pytorch_model.bin from cache at /root/.cache/huggingface/hub/models--distilbert-base-german-cased/snapshots/06b1dc5ba050ddbf462d060df38f906eedb31b01/pytorch_model.bin\n",
            "Some weights of the model checkpoint at distilbert-base-german-cased were not used when initializing DistilBertForSequenceClassification: ['vocab_layer_norm.bias', 'vocab_layer_norm.weight', 'vocab_transform.weight', 'vocab_projector.bias', 'vocab_projector.weight', 'vocab_transform.bias']\n",
            "- This IS expected if you are initializing DistilBertForSequenceClassification from the checkpoint of a model trained on another task or with another architecture (e.g. initializing a BertForSequenceClassification model from a BertForPreTraining model).\n",
            "- This IS NOT expected if you are initializing DistilBertForSequenceClassification from the checkpoint of a model that you expect to be exactly identical (initializing a BertForSequenceClassification model from a BertForSequenceClassification model).\n",
            "Some weights of DistilBertForSequenceClassification were not initialized from the model checkpoint at distilbert-base-german-cased and are newly initialized: ['pre_classifier.bias', 'pre_classifier.weight', 'classifier.bias', 'classifier.weight']\n",
            "You should probably TRAIN this model on a down-stream task to be able to use it for predictions and inference.\n"
          ]
        }
      ],
      "source": [
        "model = AutoModelForSequenceClassification.from_pretrained('distilbert-base-german-cased', num_labels=19)"
      ]
    },
    {
      "cell_type": "code",
      "execution_count": 177,
      "metadata": {
        "id": "YJYcmpFH5wuL"
      },
      "outputs": [],
      "source": [
        "trainer = CustomTrainer(model = model,\n",
        "                        args = training_args, \n",
        "                        train_dataset = ds_train, \n",
        "                        eval_dataset = ds_valid, \n",
        "                        compute_metrics = compute_metrics,\n",
        "                        tokenizer = tokenizer,\n",
        "                        callbacks = [EarlyStoppingCallback(early_stopping_patience=3)])"
      ]
    },
    {
      "cell_type": "code",
      "execution_count": 178,
      "metadata": {
        "colab": {
          "base_uri": "https://localhost:8080/",
          "height": 421
        },
        "id": "Yb9ttTYF5mNv",
        "outputId": "b1aafa76-9dfc-43ca-8729-e25b6efb52a8"
      },
      "outputs": [
        {
          "output_type": "stream",
          "name": "stderr",
          "text": [
            "The following columns in the training set don't have a corresponding argument in `DistilBertForSequenceClassification.forward` and have been ignored: regnum, website, url, tokens, regricht, capital, __index_level_0__, name, gegenstand, word_count, label_int, text, zeichen, gegenstand_raw, regart. If regnum, website, url, tokens, regricht, capital, __index_level_0__, name, gegenstand, word_count, label_int, text, zeichen, gegenstand_raw, regart are not expected by `DistilBertForSequenceClassification.forward`,  you can safely ignore this message.\n",
            "/usr/local/lib/python3.8/dist-packages/transformers/optimization.py:306: FutureWarning: This implementation of AdamW is deprecated and will be removed in a future version. Use the PyTorch implementation torch.optim.AdamW instead, or set `no_deprecation_warning=True` to disable this warning\n",
            "  warnings.warn(\n",
            "***** Running training *****\n",
            "  Num examples = 81\n",
            "  Num Epochs = 8\n",
            "  Instantaneous batch size per device = 16\n",
            "  Total train batch size (w. parallel, distributed & accumulation) = 32\n",
            "  Gradient Accumulation steps = 2\n",
            "  Total optimization steps = 24\n",
            "  Number of trainable parameters = 67020307\n"
          ]
        },
        {
          "output_type": "display_data",
          "data": {
            "text/plain": [
              "<IPython.core.display.HTML object>"
            ],
            "text/html": [
              "\n",
              "    <div>\n",
              "      \n",
              "      <progress value='24' max='24' style='width:300px; height:20px; vertical-align: middle;'></progress>\n",
              "      [24/24 00:29, Epoch 8/8]\n",
              "    </div>\n",
              "    <table border=\"1\" class=\"dataframe\">\n",
              "  <thead>\n",
              " <tr style=\"text-align: left;\">\n",
              "      <th>Step</th>\n",
              "      <th>Training Loss</th>\n",
              "      <th>Validation Loss</th>\n",
              "    </tr>\n",
              "  </thead>\n",
              "  <tbody>\n",
              "  </tbody>\n",
              "</table><p>"
            ]
          },
          "metadata": {}
        },
        {
          "output_type": "stream",
          "name": "stderr",
          "text": [
            "\n",
            "\n",
            "Training completed. Do not forget to share your model on huggingface.co/models =)\n",
            "\n",
            "\n"
          ]
        },
        {
          "output_type": "execute_result",
          "data": {
            "text/plain": [
              "TrainOutput(global_step=24, training_loss=2.9219478964805603, metrics={'train_runtime': 31.1784, 'train_samples_per_second': 20.784, 'train_steps_per_second': 0.77, 'total_flos': 85864898174976.0, 'train_loss': 2.9219478964805603, 'epoch': 8.0})"
            ]
          },
          "metadata": {},
          "execution_count": 178
        }
      ],
      "source": [
        "trainer.train()"
      ]
    },
    {
      "cell_type": "code",
      "execution_count": 179,
      "metadata": {
        "colab": {
          "base_uri": "https://localhost:8080/"
        },
        "id": "GjM7D0DH5mQd",
        "outputId": "c348e7c7-434e-475c-f3f8-2db658ea4a67"
      },
      "outputs": [
        {
          "output_type": "stream",
          "name": "stderr",
          "text": [
            "Saving model checkpoint to /content/drive/MyDrive/hareg_nlp/04_Models/ger_bert\n",
            "Configuration saved in /content/drive/MyDrive/hareg_nlp/04_Models/ger_bert/config.json\n",
            "Model weights saved in /content/drive/MyDrive/hareg_nlp/04_Models/ger_bert/pytorch_model.bin\n",
            "tokenizer config file saved in /content/drive/MyDrive/hareg_nlp/04_Models/ger_bert/tokenizer_config.json\n",
            "Special tokens file saved in /content/drive/MyDrive/hareg_nlp/04_Models/ger_bert/special_tokens_map.json\n"
          ]
        }
      ],
      "source": [
        "trainer.save_model(\"/content/drive/MyDrive/hareg_nlp/04_Models/ger_bert\")"
      ]
    },
    {
      "cell_type": "markdown",
      "metadata": {
        "id": "0WB0WoF94i4R"
      },
      "source": [
        "## Predict"
      ]
    },
    {
      "cell_type": "code",
      "execution_count": 180,
      "metadata": {
        "colab": {
          "base_uri": "https://localhost:8080/"
        },
        "id": "90KUdhRV5CYy",
        "outputId": "ce6b9573-18f2-4436-c6dd-f309bcfbc356"
      },
      "outputs": [
        {
          "output_type": "stream",
          "name": "stderr",
          "text": [
            "loading configuration file /content/drive/MyDrive/hareg_nlp/04_Models/ger_bert/config.json\n",
            "Model config DistilBertConfig {\n",
            "  \"_name_or_path\": \"/content/drive/MyDrive/hareg_nlp/04_Models/ger_bert\",\n",
            "  \"activation\": \"gelu\",\n",
            "  \"architectures\": [\n",
            "    \"DistilBertForSequenceClassification\"\n",
            "  ],\n",
            "  \"attention_dropout\": 0.1,\n",
            "  \"dim\": 768,\n",
            "  \"dropout\": 0.1,\n",
            "  \"hidden_dim\": 3072,\n",
            "  \"id2label\": {\n",
            "    \"0\": \"LABEL_0\",\n",
            "    \"1\": \"LABEL_1\",\n",
            "    \"2\": \"LABEL_2\",\n",
            "    \"3\": \"LABEL_3\",\n",
            "    \"4\": \"LABEL_4\",\n",
            "    \"5\": \"LABEL_5\",\n",
            "    \"6\": \"LABEL_6\",\n",
            "    \"7\": \"LABEL_7\",\n",
            "    \"8\": \"LABEL_8\",\n",
            "    \"9\": \"LABEL_9\",\n",
            "    \"10\": \"LABEL_10\",\n",
            "    \"11\": \"LABEL_11\",\n",
            "    \"12\": \"LABEL_12\",\n",
            "    \"13\": \"LABEL_13\",\n",
            "    \"14\": \"LABEL_14\",\n",
            "    \"15\": \"LABEL_15\",\n",
            "    \"16\": \"LABEL_16\",\n",
            "    \"17\": \"LABEL_17\",\n",
            "    \"18\": \"LABEL_18\"\n",
            "  },\n",
            "  \"initializer_range\": 0.02,\n",
            "  \"label2id\": {\n",
            "    \"LABEL_0\": 0,\n",
            "    \"LABEL_1\": 1,\n",
            "    \"LABEL_10\": 10,\n",
            "    \"LABEL_11\": 11,\n",
            "    \"LABEL_12\": 12,\n",
            "    \"LABEL_13\": 13,\n",
            "    \"LABEL_14\": 14,\n",
            "    \"LABEL_15\": 15,\n",
            "    \"LABEL_16\": 16,\n",
            "    \"LABEL_17\": 17,\n",
            "    \"LABEL_18\": 18,\n",
            "    \"LABEL_2\": 2,\n",
            "    \"LABEL_3\": 3,\n",
            "    \"LABEL_4\": 4,\n",
            "    \"LABEL_5\": 5,\n",
            "    \"LABEL_6\": 6,\n",
            "    \"LABEL_7\": 7,\n",
            "    \"LABEL_8\": 8,\n",
            "    \"LABEL_9\": 9\n",
            "  },\n",
            "  \"max_position_embeddings\": 512,\n",
            "  \"model_type\": \"distilbert\",\n",
            "  \"n_heads\": 12,\n",
            "  \"n_layers\": 6,\n",
            "  \"output_past\": true,\n",
            "  \"pad_token_id\": 0,\n",
            "  \"problem_type\": \"single_label_classification\",\n",
            "  \"qa_dropout\": 0.1,\n",
            "  \"seq_classif_dropout\": 0.2,\n",
            "  \"sinusoidal_pos_embds\": true,\n",
            "  \"tie_weights_\": true,\n",
            "  \"torch_dtype\": \"float32\",\n",
            "  \"transformers_version\": \"4.25.1\",\n",
            "  \"vocab_size\": 31102\n",
            "}\n",
            "\n",
            "loading configuration file /content/drive/MyDrive/hareg_nlp/04_Models/ger_bert/config.json\n",
            "Model config DistilBertConfig {\n",
            "  \"_name_or_path\": \"/content/drive/MyDrive/hareg_nlp/04_Models/ger_bert\",\n",
            "  \"activation\": \"gelu\",\n",
            "  \"architectures\": [\n",
            "    \"DistilBertForSequenceClassification\"\n",
            "  ],\n",
            "  \"attention_dropout\": 0.1,\n",
            "  \"dim\": 768,\n",
            "  \"dropout\": 0.1,\n",
            "  \"hidden_dim\": 3072,\n",
            "  \"id2label\": {\n",
            "    \"0\": \"LABEL_0\",\n",
            "    \"1\": \"LABEL_1\",\n",
            "    \"2\": \"LABEL_2\",\n",
            "    \"3\": \"LABEL_3\",\n",
            "    \"4\": \"LABEL_4\",\n",
            "    \"5\": \"LABEL_5\",\n",
            "    \"6\": \"LABEL_6\",\n",
            "    \"7\": \"LABEL_7\",\n",
            "    \"8\": \"LABEL_8\",\n",
            "    \"9\": \"LABEL_9\",\n",
            "    \"10\": \"LABEL_10\",\n",
            "    \"11\": \"LABEL_11\",\n",
            "    \"12\": \"LABEL_12\",\n",
            "    \"13\": \"LABEL_13\",\n",
            "    \"14\": \"LABEL_14\",\n",
            "    \"15\": \"LABEL_15\",\n",
            "    \"16\": \"LABEL_16\",\n",
            "    \"17\": \"LABEL_17\",\n",
            "    \"18\": \"LABEL_18\"\n",
            "  },\n",
            "  \"initializer_range\": 0.02,\n",
            "  \"label2id\": {\n",
            "    \"LABEL_0\": 0,\n",
            "    \"LABEL_1\": 1,\n",
            "    \"LABEL_10\": 10,\n",
            "    \"LABEL_11\": 11,\n",
            "    \"LABEL_12\": 12,\n",
            "    \"LABEL_13\": 13,\n",
            "    \"LABEL_14\": 14,\n",
            "    \"LABEL_15\": 15,\n",
            "    \"LABEL_16\": 16,\n",
            "    \"LABEL_17\": 17,\n",
            "    \"LABEL_18\": 18,\n",
            "    \"LABEL_2\": 2,\n",
            "    \"LABEL_3\": 3,\n",
            "    \"LABEL_4\": 4,\n",
            "    \"LABEL_5\": 5,\n",
            "    \"LABEL_6\": 6,\n",
            "    \"LABEL_7\": 7,\n",
            "    \"LABEL_8\": 8,\n",
            "    \"LABEL_9\": 9\n",
            "  },\n",
            "  \"max_position_embeddings\": 512,\n",
            "  \"model_type\": \"distilbert\",\n",
            "  \"n_heads\": 12,\n",
            "  \"n_layers\": 6,\n",
            "  \"output_past\": true,\n",
            "  \"pad_token_id\": 0,\n",
            "  \"problem_type\": \"single_label_classification\",\n",
            "  \"qa_dropout\": 0.1,\n",
            "  \"seq_classif_dropout\": 0.2,\n",
            "  \"sinusoidal_pos_embds\": true,\n",
            "  \"tie_weights_\": true,\n",
            "  \"torch_dtype\": \"float32\",\n",
            "  \"transformers_version\": \"4.25.1\",\n",
            "  \"vocab_size\": 31102\n",
            "}\n",
            "\n",
            "loading weights file /content/drive/MyDrive/hareg_nlp/04_Models/ger_bert/pytorch_model.bin\n",
            "All model checkpoint weights were used when initializing DistilBertForSequenceClassification.\n",
            "\n",
            "All the weights of DistilBertForSequenceClassification were initialized from the model checkpoint at /content/drive/MyDrive/hareg_nlp/04_Models/ger_bert.\n",
            "If your task is similar to the task the model of the checkpoint was trained on, you can already use DistilBertForSequenceClassification for predictions without further training.\n",
            "loading file vocab.txt\n",
            "loading file tokenizer.json\n",
            "loading file added_tokens.json\n",
            "loading file special_tokens_map.json\n",
            "loading file tokenizer_config.json\n"
          ]
        }
      ],
      "source": [
        "path = \"/content/drive/MyDrive/hareg_nlp/04_Models/ger_bert\"\n",
        "\n",
        "pipe = pipeline('text-classification',\n",
        "    model=path,\n",
        "    device=0,\n",
        "    truncation=True)"
      ]
    },
    {
      "cell_type": "code",
      "execution_count": 181,
      "metadata": {
        "colab": {
          "base_uri": "https://localhost:8080/"
        },
        "id": "cwZ-wkYM5CbB",
        "outputId": "cdf92752-fe02-4103-8109-3fdf33fd0ec3"
      },
      "outputs": [
        {
          "output_type": "stream",
          "name": "stderr",
          "text": [
            " 35%|███▍      | 8/23 [00:00<00:00, 75.19it/s]/usr/local/lib/python3.8/dist-packages/transformers/pipelines/base.py:1043: UserWarning: You seem to be using the pipelines sequentially on GPU. In order to maximize efficiency please use a dataset\n",
            "  warnings.warn(\n",
            "100%|██████████| 23/23 [00:00<00:00, 81.57it/s]\n"
          ]
        }
      ],
      "source": [
        "test['label_pred'] = test.progress_apply(lambda row: pipe(row['gegenstand'])[0]['label'].replace('LABEL_',''), axis=1)\n",
        "test.label_pred = test.label_pred.astype(int)"
      ]
    },
    {
      "cell_type": "markdown",
      "metadata": {
        "id": "xjKoYlHd4i6U"
      },
      "source": [
        "## Evaluate"
      ]
    },
    {
      "cell_type": "code",
      "execution_count": 182,
      "metadata": {
        "colab": {
          "base_uri": "https://localhost:8080/",
          "height": 365
        },
        "id": "jry-FqKQ8L6j",
        "outputId": "e4b442a0-f1b5-40b5-9feb-fde65d765baa"
      },
      "outputs": [
        {
          "output_type": "stream",
          "name": "stderr",
          "text": [
            "The following columns in the evaluation set don't have a corresponding argument in `DistilBertForSequenceClassification.forward` and have been ignored: regnum, website, url, tokens, regricht, capital, __index_level_0__, name, gegenstand, word_count, label_int, text, zeichen, gegenstand_raw, regart. If regnum, website, url, tokens, regricht, capital, __index_level_0__, name, gegenstand, word_count, label_int, text, zeichen, gegenstand_raw, regart are not expected by `DistilBertForSequenceClassification.forward`,  you can safely ignore this message.\n",
            "***** Running Evaluation *****\n",
            "  Num examples = 10\n",
            "  Batch size = 8\n"
          ]
        },
        {
          "output_type": "display_data",
          "data": {
            "text/plain": [
              "<IPython.core.display.HTML object>"
            ],
            "text/html": [
              "\n",
              "    <div>\n",
              "      \n",
              "      <progress value='2' max='2' style='width:300px; height:20px; vertical-align: middle;'></progress>\n",
              "      [2/2 00:00]\n",
              "    </div>\n",
              "    "
            ]
          },
          "metadata": {}
        },
        {
          "output_type": "stream",
          "name": "stderr",
          "text": [
            "/usr/local/lib/python3.8/dist-packages/sklearn/metrics/_classification.py:1318: UndefinedMetricWarning: Precision and F-score are ill-defined and being set to 0.0 in labels with no predicted samples. Use `zero_division` parameter to control this behavior.\n",
            "  _warn_prf(average, modifier, msg_start, len(result))\n",
            "/usr/local/lib/python3.8/dist-packages/sklearn/metrics/_classification.py:1318: UndefinedMetricWarning: Recall and F-score are ill-defined and being set to 0.0 in labels with no true samples. Use `zero_division` parameter to control this behavior.\n",
            "  _warn_prf(average, modifier, msg_start, len(result))\n"
          ]
        },
        {
          "output_type": "execute_result",
          "data": {
            "text/plain": [
              "{'eval_loss': 3.1117424964904785,\n",
              " 'eval_accuracy': 0.0,\n",
              " 'eval_f1': 0.0,\n",
              " 'eval_precision': 0.0,\n",
              " 'eval_recall': 0.0,\n",
              " 'eval_runtime': 0.1733,\n",
              " 'eval_samples_per_second': 57.71,\n",
              " 'eval_steps_per_second': 11.542,\n",
              " 'epoch': 8.0}"
            ]
          },
          "metadata": {},
          "execution_count": 182
        }
      ],
      "source": [
        "trainer.evaluate()"
      ]
    },
    {
      "cell_type": "code",
      "execution_count": 183,
      "metadata": {
        "colab": {
          "base_uri": "https://localhost:8080/"
        },
        "id": "KsHUeJLJ5C6k",
        "outputId": "2fa96db6-f025-4e87-922e-38784fe7ceae"
      },
      "outputs": [
        {
          "output_type": "stream",
          "name": "stderr",
          "text": [
            "/usr/local/lib/python3.8/dist-packages/sklearn/metrics/_classification.py:1987: UserWarning: y_pred contains classes not in y_true\n",
            "  warnings.warn(\"y_pred contains classes not in y_true\")\n"
          ]
        },
        {
          "output_type": "stream",
          "name": "stdout",
          "text": [
            "Accuracy: 0.0000\n",
            "F1-score: 0.0000\n",
            "Precision: 0.0000\n",
            "Recall: 0.0000\n"
          ]
        },
        {
          "output_type": "stream",
          "name": "stderr",
          "text": [
            "/usr/local/lib/python3.8/dist-packages/sklearn/metrics/_classification.py:1318: UndefinedMetricWarning: Precision is ill-defined and being set to 0.0 in labels with no predicted samples. Use `zero_division` parameter to control this behavior.\n",
            "  _warn_prf(average, modifier, msg_start, len(result))\n",
            "/usr/local/lib/python3.8/dist-packages/sklearn/metrics/_classification.py:1318: UndefinedMetricWarning: Recall is ill-defined and being set to 0.0 in labels with no true samples. Use `zero_division` parameter to control this behavior.\n",
            "  _warn_prf(average, modifier, msg_start, len(result))\n"
          ]
        }
      ],
      "source": [
        "y_true = test['label']\n",
        "y_pred = test['label_pred']\n",
        "\n",
        "accuracy = balanced_accuracy_score(y_true, y_pred)\n",
        "f1_metric = f1_score(y_true, y_pred, average='weighted')\n",
        "precision = precision_score(y_true, y_pred, average='weighted')\n",
        "recall = recall_score(y_true, y_pred, average='weighted')\n",
        "\n",
        "print(\"Accuracy: {:.4f}\".format(accuracy))\n",
        "print(\"F1-score: {:.4f}\".format(f1_metric))\n",
        "print(\"Precision: {:.4f}\".format(precision))\n",
        "print(\"Recall: {:.4f}\".format(recall))"
      ]
    },
    {
      "cell_type": "markdown",
      "metadata": {
        "id": "OMOB_6FcOjNt"
      },
      "source": [
        "# old distil-BERT"
      ]
    },
    {
      "cell_type": "code",
      "execution_count": 184,
      "metadata": {
        "id": "repF7Nd1lrKZ"
      },
      "outputs": [],
      "source": [
        "path_old_model = \"/content/drive/MyDrive/capstoneproject/models/transformer/distilbert_overlap_chunking_checkpoint-2500\""
      ]
    },
    {
      "cell_type": "markdown",
      "metadata": {
        "id": "QgVI0e4P_9QX"
      },
      "source": [
        "## Single Predictions"
      ]
    },
    {
      "cell_type": "code",
      "execution_count": 185,
      "metadata": {
        "id": "oP-AxKqP__GO"
      },
      "outputs": [],
      "source": [
        "def old_predict(txt_input):\n",
        "    pipe = pipeline('text-classification',\n",
        "                    model=path_old_model,\n",
        "                    device=0,\n",
        "                    truncation=True\n",
        "                    )\n",
        "    model_output = pipe(txt_input)\n",
        "    label_id = int(model_output[0]['label'].replace('LABEL_',''))\n",
        "    score = model_output[0]['score']*100\n",
        "    score = float(\"{:.2f}\".format(score))\n",
        "    label = di_int_to_label[label_id]\n",
        "    \n",
        "    return label, score"
      ]
    },
    {
      "cell_type": "code",
      "execution_count": 186,
      "metadata": {
        "colab": {
          "base_uri": "https://localhost:8080/"
        },
        "id": "uLnBML_XALQE",
        "outputId": "52c2f312-3b70-4d24-84ab-d1908313d3b5"
      },
      "outputs": [
        {
          "output_type": "stream",
          "name": "stderr",
          "text": [
            "loading configuration file /content/drive/MyDrive/capstoneproject/models/transformer/distilbert_overlap_chunking_checkpoint-2500/config.json\n",
            "Model config DistilBertConfig {\n",
            "  \"_name_or_path\": \"/content/drive/MyDrive/capstoneproject/models/transformer/distilbert_overlap_chunking_checkpoint-2500\",\n",
            "  \"activation\": \"gelu\",\n",
            "  \"architectures\": [\n",
            "    \"DistilBertForSequenceClassification\"\n",
            "  ],\n",
            "  \"attention_dropout\": 0.1,\n",
            "  \"dim\": 768,\n",
            "  \"dropout\": 0.1,\n",
            "  \"hidden_dim\": 3072,\n",
            "  \"id2label\": {\n",
            "    \"0\": \"LABEL_0\",\n",
            "    \"1\": \"LABEL_1\",\n",
            "    \"2\": \"LABEL_2\",\n",
            "    \"3\": \"LABEL_3\",\n",
            "    \"4\": \"LABEL_4\",\n",
            "    \"5\": \"LABEL_5\",\n",
            "    \"6\": \"LABEL_6\",\n",
            "    \"7\": \"LABEL_7\",\n",
            "    \"8\": \"LABEL_8\",\n",
            "    \"9\": \"LABEL_9\",\n",
            "    \"10\": \"LABEL_10\",\n",
            "    \"11\": \"LABEL_11\",\n",
            "    \"12\": \"LABEL_12\",\n",
            "    \"13\": \"LABEL_13\",\n",
            "    \"14\": \"LABEL_14\",\n",
            "    \"15\": \"LABEL_15\",\n",
            "    \"16\": \"LABEL_16\",\n",
            "    \"17\": \"LABEL_17\",\n",
            "    \"18\": \"LABEL_18\"\n",
            "  },\n",
            "  \"initializer_range\": 0.02,\n",
            "  \"label2id\": {\n",
            "    \"LABEL_0\": 0,\n",
            "    \"LABEL_1\": 1,\n",
            "    \"LABEL_10\": 10,\n",
            "    \"LABEL_11\": 11,\n",
            "    \"LABEL_12\": 12,\n",
            "    \"LABEL_13\": 13,\n",
            "    \"LABEL_14\": 14,\n",
            "    \"LABEL_15\": 15,\n",
            "    \"LABEL_16\": 16,\n",
            "    \"LABEL_17\": 17,\n",
            "    \"LABEL_18\": 18,\n",
            "    \"LABEL_2\": 2,\n",
            "    \"LABEL_3\": 3,\n",
            "    \"LABEL_4\": 4,\n",
            "    \"LABEL_5\": 5,\n",
            "    \"LABEL_6\": 6,\n",
            "    \"LABEL_7\": 7,\n",
            "    \"LABEL_8\": 8,\n",
            "    \"LABEL_9\": 9\n",
            "  },\n",
            "  \"max_position_embeddings\": 512,\n",
            "  \"model_type\": \"distilbert\",\n",
            "  \"n_heads\": 12,\n",
            "  \"n_layers\": 6,\n",
            "  \"output_past\": true,\n",
            "  \"pad_token_id\": 0,\n",
            "  \"problem_type\": \"single_label_classification\",\n",
            "  \"qa_dropout\": 0.1,\n",
            "  \"seq_classif_dropout\": 0.2,\n",
            "  \"sinusoidal_pos_embds\": true,\n",
            "  \"tie_weights_\": true,\n",
            "  \"torch_dtype\": \"float32\",\n",
            "  \"transformers_version\": \"4.25.1\",\n",
            "  \"vocab_size\": 31102\n",
            "}\n",
            "\n",
            "loading configuration file /content/drive/MyDrive/capstoneproject/models/transformer/distilbert_overlap_chunking_checkpoint-2500/config.json\n",
            "Model config DistilBertConfig {\n",
            "  \"_name_or_path\": \"/content/drive/MyDrive/capstoneproject/models/transformer/distilbert_overlap_chunking_checkpoint-2500\",\n",
            "  \"activation\": \"gelu\",\n",
            "  \"architectures\": [\n",
            "    \"DistilBertForSequenceClassification\"\n",
            "  ],\n",
            "  \"attention_dropout\": 0.1,\n",
            "  \"dim\": 768,\n",
            "  \"dropout\": 0.1,\n",
            "  \"hidden_dim\": 3072,\n",
            "  \"id2label\": {\n",
            "    \"0\": \"LABEL_0\",\n",
            "    \"1\": \"LABEL_1\",\n",
            "    \"2\": \"LABEL_2\",\n",
            "    \"3\": \"LABEL_3\",\n",
            "    \"4\": \"LABEL_4\",\n",
            "    \"5\": \"LABEL_5\",\n",
            "    \"6\": \"LABEL_6\",\n",
            "    \"7\": \"LABEL_7\",\n",
            "    \"8\": \"LABEL_8\",\n",
            "    \"9\": \"LABEL_9\",\n",
            "    \"10\": \"LABEL_10\",\n",
            "    \"11\": \"LABEL_11\",\n",
            "    \"12\": \"LABEL_12\",\n",
            "    \"13\": \"LABEL_13\",\n",
            "    \"14\": \"LABEL_14\",\n",
            "    \"15\": \"LABEL_15\",\n",
            "    \"16\": \"LABEL_16\",\n",
            "    \"17\": \"LABEL_17\",\n",
            "    \"18\": \"LABEL_18\"\n",
            "  },\n",
            "  \"initializer_range\": 0.02,\n",
            "  \"label2id\": {\n",
            "    \"LABEL_0\": 0,\n",
            "    \"LABEL_1\": 1,\n",
            "    \"LABEL_10\": 10,\n",
            "    \"LABEL_11\": 11,\n",
            "    \"LABEL_12\": 12,\n",
            "    \"LABEL_13\": 13,\n",
            "    \"LABEL_14\": 14,\n",
            "    \"LABEL_15\": 15,\n",
            "    \"LABEL_16\": 16,\n",
            "    \"LABEL_17\": 17,\n",
            "    \"LABEL_18\": 18,\n",
            "    \"LABEL_2\": 2,\n",
            "    \"LABEL_3\": 3,\n",
            "    \"LABEL_4\": 4,\n",
            "    \"LABEL_5\": 5,\n",
            "    \"LABEL_6\": 6,\n",
            "    \"LABEL_7\": 7,\n",
            "    \"LABEL_8\": 8,\n",
            "    \"LABEL_9\": 9\n",
            "  },\n",
            "  \"max_position_embeddings\": 512,\n",
            "  \"model_type\": \"distilbert\",\n",
            "  \"n_heads\": 12,\n",
            "  \"n_layers\": 6,\n",
            "  \"output_past\": true,\n",
            "  \"pad_token_id\": 0,\n",
            "  \"problem_type\": \"single_label_classification\",\n",
            "  \"qa_dropout\": 0.1,\n",
            "  \"seq_classif_dropout\": 0.2,\n",
            "  \"sinusoidal_pos_embds\": true,\n",
            "  \"tie_weights_\": true,\n",
            "  \"torch_dtype\": \"float32\",\n",
            "  \"transformers_version\": \"4.25.1\",\n",
            "  \"vocab_size\": 31102\n",
            "}\n",
            "\n",
            "loading weights file /content/drive/MyDrive/capstoneproject/models/transformer/distilbert_overlap_chunking_checkpoint-2500/pytorch_model.bin\n",
            "All model checkpoint weights were used when initializing DistilBertForSequenceClassification.\n",
            "\n",
            "All the weights of DistilBertForSequenceClassification were initialized from the model checkpoint at /content/drive/MyDrive/capstoneproject/models/transformer/distilbert_overlap_chunking_checkpoint-2500.\n",
            "If your task is similar to the task the model of the checkpoint was trained on, you can already use DistilBertForSequenceClassification for predictions without further training.\n",
            "loading file vocab.txt\n",
            "loading file tokenizer.json\n",
            "loading file added_tokens.json\n",
            "loading file special_tokens_map.json\n",
            "loading file tokenizer_config.json\n"
          ]
        },
        {
          "output_type": "stream",
          "name": "stdout",
          "text": [
            "('Renewables & Environment', 48.57) \n",
            " gegenstand gesellschaft forschung maßnahmen initiativen sicherung klimasituation verbesserung umwelt energieeinsparung zweck gesellschaft förderung wissenschaft forschung weiterbildung umweltschutzes aufgabe arbeitsgebieten schnittstelle wissenschaftlicher erkenntnissuche praktischer umsetzung tätig forschungsergebnisse strategien initiativen schutz klima umwelt umzusetzen leistungsfähigkeit wissenschaftlichen ansprüchen genügen\n"
          ]
        }
      ],
      "source": [
        "try_input = df.loc[100, \"gegenstand\"]\n",
        "print(old_predict(try_input),\"\\n\",try_input)"
      ]
    },
    {
      "cell_type": "code",
      "execution_count": 187,
      "metadata": {
        "colab": {
          "base_uri": "https://localhost:8080/"
        },
        "id": "5ZSFN-rXvLjO",
        "outputId": "ae653e73-8bc8-4553-9da2-b55512956ec6"
      },
      "outputs": [
        {
          "output_type": "stream",
          "name": "stderr",
          "text": [
            "loading configuration file /content/drive/MyDrive/capstoneproject/models/transformer/distilbert_overlap_chunking_checkpoint-2500/config.json\n",
            "Model config DistilBertConfig {\n",
            "  \"_name_or_path\": \"/content/drive/MyDrive/capstoneproject/models/transformer/distilbert_overlap_chunking_checkpoint-2500\",\n",
            "  \"activation\": \"gelu\",\n",
            "  \"architectures\": [\n",
            "    \"DistilBertForSequenceClassification\"\n",
            "  ],\n",
            "  \"attention_dropout\": 0.1,\n",
            "  \"dim\": 768,\n",
            "  \"dropout\": 0.1,\n",
            "  \"hidden_dim\": 3072,\n",
            "  \"id2label\": {\n",
            "    \"0\": \"LABEL_0\",\n",
            "    \"1\": \"LABEL_1\",\n",
            "    \"2\": \"LABEL_2\",\n",
            "    \"3\": \"LABEL_3\",\n",
            "    \"4\": \"LABEL_4\",\n",
            "    \"5\": \"LABEL_5\",\n",
            "    \"6\": \"LABEL_6\",\n",
            "    \"7\": \"LABEL_7\",\n",
            "    \"8\": \"LABEL_8\",\n",
            "    \"9\": \"LABEL_9\",\n",
            "    \"10\": \"LABEL_10\",\n",
            "    \"11\": \"LABEL_11\",\n",
            "    \"12\": \"LABEL_12\",\n",
            "    \"13\": \"LABEL_13\",\n",
            "    \"14\": \"LABEL_14\",\n",
            "    \"15\": \"LABEL_15\",\n",
            "    \"16\": \"LABEL_16\",\n",
            "    \"17\": \"LABEL_17\",\n",
            "    \"18\": \"LABEL_18\"\n",
            "  },\n",
            "  \"initializer_range\": 0.02,\n",
            "  \"label2id\": {\n",
            "    \"LABEL_0\": 0,\n",
            "    \"LABEL_1\": 1,\n",
            "    \"LABEL_10\": 10,\n",
            "    \"LABEL_11\": 11,\n",
            "    \"LABEL_12\": 12,\n",
            "    \"LABEL_13\": 13,\n",
            "    \"LABEL_14\": 14,\n",
            "    \"LABEL_15\": 15,\n",
            "    \"LABEL_16\": 16,\n",
            "    \"LABEL_17\": 17,\n",
            "    \"LABEL_18\": 18,\n",
            "    \"LABEL_2\": 2,\n",
            "    \"LABEL_3\": 3,\n",
            "    \"LABEL_4\": 4,\n",
            "    \"LABEL_5\": 5,\n",
            "    \"LABEL_6\": 6,\n",
            "    \"LABEL_7\": 7,\n",
            "    \"LABEL_8\": 8,\n",
            "    \"LABEL_9\": 9\n",
            "  },\n",
            "  \"max_position_embeddings\": 512,\n",
            "  \"model_type\": \"distilbert\",\n",
            "  \"n_heads\": 12,\n",
            "  \"n_layers\": 6,\n",
            "  \"output_past\": true,\n",
            "  \"pad_token_id\": 0,\n",
            "  \"problem_type\": \"single_label_classification\",\n",
            "  \"qa_dropout\": 0.1,\n",
            "  \"seq_classif_dropout\": 0.2,\n",
            "  \"sinusoidal_pos_embds\": true,\n",
            "  \"tie_weights_\": true,\n",
            "  \"torch_dtype\": \"float32\",\n",
            "  \"transformers_version\": \"4.25.1\",\n",
            "  \"vocab_size\": 31102\n",
            "}\n",
            "\n",
            "loading configuration file /content/drive/MyDrive/capstoneproject/models/transformer/distilbert_overlap_chunking_checkpoint-2500/config.json\n",
            "Model config DistilBertConfig {\n",
            "  \"_name_or_path\": \"/content/drive/MyDrive/capstoneproject/models/transformer/distilbert_overlap_chunking_checkpoint-2500\",\n",
            "  \"activation\": \"gelu\",\n",
            "  \"architectures\": [\n",
            "    \"DistilBertForSequenceClassification\"\n",
            "  ],\n",
            "  \"attention_dropout\": 0.1,\n",
            "  \"dim\": 768,\n",
            "  \"dropout\": 0.1,\n",
            "  \"hidden_dim\": 3072,\n",
            "  \"id2label\": {\n",
            "    \"0\": \"LABEL_0\",\n",
            "    \"1\": \"LABEL_1\",\n",
            "    \"2\": \"LABEL_2\",\n",
            "    \"3\": \"LABEL_3\",\n",
            "    \"4\": \"LABEL_4\",\n",
            "    \"5\": \"LABEL_5\",\n",
            "    \"6\": \"LABEL_6\",\n",
            "    \"7\": \"LABEL_7\",\n",
            "    \"8\": \"LABEL_8\",\n",
            "    \"9\": \"LABEL_9\",\n",
            "    \"10\": \"LABEL_10\",\n",
            "    \"11\": \"LABEL_11\",\n",
            "    \"12\": \"LABEL_12\",\n",
            "    \"13\": \"LABEL_13\",\n",
            "    \"14\": \"LABEL_14\",\n",
            "    \"15\": \"LABEL_15\",\n",
            "    \"16\": \"LABEL_16\",\n",
            "    \"17\": \"LABEL_17\",\n",
            "    \"18\": \"LABEL_18\"\n",
            "  },\n",
            "  \"initializer_range\": 0.02,\n",
            "  \"label2id\": {\n",
            "    \"LABEL_0\": 0,\n",
            "    \"LABEL_1\": 1,\n",
            "    \"LABEL_10\": 10,\n",
            "    \"LABEL_11\": 11,\n",
            "    \"LABEL_12\": 12,\n",
            "    \"LABEL_13\": 13,\n",
            "    \"LABEL_14\": 14,\n",
            "    \"LABEL_15\": 15,\n",
            "    \"LABEL_16\": 16,\n",
            "    \"LABEL_17\": 17,\n",
            "    \"LABEL_18\": 18,\n",
            "    \"LABEL_2\": 2,\n",
            "    \"LABEL_3\": 3,\n",
            "    \"LABEL_4\": 4,\n",
            "    \"LABEL_5\": 5,\n",
            "    \"LABEL_6\": 6,\n",
            "    \"LABEL_7\": 7,\n",
            "    \"LABEL_8\": 8,\n",
            "    \"LABEL_9\": 9\n",
            "  },\n",
            "  \"max_position_embeddings\": 512,\n",
            "  \"model_type\": \"distilbert\",\n",
            "  \"n_heads\": 12,\n",
            "  \"n_layers\": 6,\n",
            "  \"output_past\": true,\n",
            "  \"pad_token_id\": 0,\n",
            "  \"problem_type\": \"single_label_classification\",\n",
            "  \"qa_dropout\": 0.1,\n",
            "  \"seq_classif_dropout\": 0.2,\n",
            "  \"sinusoidal_pos_embds\": true,\n",
            "  \"tie_weights_\": true,\n",
            "  \"torch_dtype\": \"float32\",\n",
            "  \"transformers_version\": \"4.25.1\",\n",
            "  \"vocab_size\": 31102\n",
            "}\n",
            "\n",
            "loading weights file /content/drive/MyDrive/capstoneproject/models/transformer/distilbert_overlap_chunking_checkpoint-2500/pytorch_model.bin\n",
            "All model checkpoint weights were used when initializing DistilBertForSequenceClassification.\n",
            "\n",
            "All the weights of DistilBertForSequenceClassification were initialized from the model checkpoint at /content/drive/MyDrive/capstoneproject/models/transformer/distilbert_overlap_chunking_checkpoint-2500.\n",
            "If your task is similar to the task the model of the checkpoint was trained on, you can already use DistilBertForSequenceClassification for predictions without further training.\n",
            "loading file vocab.txt\n",
            "loading file tokenizer.json\n",
            "loading file added_tokens.json\n",
            "loading file special_tokens_map.json\n",
            "loading file tokenizer_config.json\n"
          ]
        }
      ],
      "source": [
        "pipe_old = pipeline('text-classification',\n",
        "           model=path_old_model,\n",
        "           device=0,\n",
        "           truncation=True)"
      ]
    },
    {
      "cell_type": "markdown",
      "metadata": {
        "id": "nydgV3Hb1W7Z"
      },
      "source": [
        "## Test Sample"
      ]
    },
    {
      "cell_type": "code",
      "execution_count": 188,
      "metadata": {
        "colab": {
          "base_uri": "https://localhost:8080/"
        },
        "id": "RkhDy7hcvLly",
        "outputId": "b8e828f5-658c-4ac4-be82-e55f1c4c80b6"
      },
      "outputs": [
        {
          "output_type": "stream",
          "name": "stderr",
          "text": [
            " 39%|███▉      | 9/23 [00:00<00:00, 85.61it/s]/usr/local/lib/python3.8/dist-packages/transformers/pipelines/base.py:1043: UserWarning: You seem to be using the pipelines sequentially on GPU. In order to maximize efficiency please use a dataset\n",
            "  warnings.warn(\n",
            "100%|██████████| 23/23 [00:00<00:00, 80.71it/s]\n"
          ]
        }
      ],
      "source": [
        "test['label_pred'] = \"\"\n",
        "test['label_pred'] = test.progress_apply(lambda row: pipe_old(row['gegenstand'])[0]['label'].replace('LABEL_',''), axis=1)\n",
        "test.label_pred = test.label_pred.astype(int)"
      ]
    },
    {
      "cell_type": "code",
      "execution_count": 189,
      "metadata": {
        "colab": {
          "base_uri": "https://localhost:8080/"
        },
        "id": "xG4QsBZfvLoO",
        "outputId": "6d2ccbb8-dcbc-48a6-fba9-cbb878d0fbb5"
      },
      "outputs": [
        {
          "output_type": "stream",
          "name": "stdout",
          "text": [
            "Accuracy: 0.5111\n",
            "F1-score: 0.6406\n",
            "Precision: 0.6957\n",
            "Recall: 0.6087\n"
          ]
        },
        {
          "output_type": "stream",
          "name": "stderr",
          "text": [
            "/usr/local/lib/python3.8/dist-packages/sklearn/metrics/_classification.py:1987: UserWarning: y_pred contains classes not in y_true\n",
            "  warnings.warn(\"y_pred contains classes not in y_true\")\n",
            "/usr/local/lib/python3.8/dist-packages/sklearn/metrics/_classification.py:1318: UndefinedMetricWarning: Precision is ill-defined and being set to 0.0 in labels with no predicted samples. Use `zero_division` parameter to control this behavior.\n",
            "  _warn_prf(average, modifier, msg_start, len(result))\n",
            "/usr/local/lib/python3.8/dist-packages/sklearn/metrics/_classification.py:1318: UndefinedMetricWarning: Recall is ill-defined and being set to 0.0 in labels with no true samples. Use `zero_division` parameter to control this behavior.\n",
            "  _warn_prf(average, modifier, msg_start, len(result))\n"
          ]
        }
      ],
      "source": [
        "y_true = test['label']\n",
        "y_pred = test['label_pred']\n",
        "\n",
        "accuracy = balanced_accuracy_score(y_true, y_pred)\n",
        "f1_metric = f1_score(y_true, y_pred, average='weighted')\n",
        "precision = precision_score(y_true, y_pred, average='weighted')\n",
        "recall = recall_score(y_true, y_pred, average='weighted')\n",
        "\n",
        "print(\"Accuracy: {:.4f}\".format(accuracy))\n",
        "print(\"F1-score: {:.4f}\".format(f1_metric))\n",
        "print(\"Precision: {:.4f}\".format(precision))\n",
        "print(\"Recall: {:.4f}\".format(recall))"
      ]
    },
    {
      "cell_type": "markdown",
      "metadata": {
        "id": "7yR9s3Ce1bKx"
      },
      "source": [
        "## Whole Sample"
      ]
    },
    {
      "cell_type": "code",
      "execution_count": 190,
      "metadata": {
        "id": "1naJpaaEJkn8"
      },
      "outputs": [],
      "source": [
        "df_all = df"
      ]
    },
    {
      "cell_type": "code",
      "execution_count": 191,
      "metadata": {
        "colab": {
          "base_uri": "https://localhost:8080/"
        },
        "id": "iQYOo4u8xBKQ",
        "outputId": "f8f88c00-73ad-44f5-ead1-72b4115ce2fd"
      },
      "outputs": [
        {
          "output_type": "stream",
          "name": "stderr",
          "text": [
            "\r  0%|          | 0/114 [00:00<?, ?it/s]/usr/local/lib/python3.8/dist-packages/transformers/pipelines/base.py:1043: UserWarning: You seem to be using the pipelines sequentially on GPU. In order to maximize efficiency please use a dataset\n",
            "  warnings.warn(\n",
            "100%|██████████| 114/114 [00:00<00:00, 118.13it/s]\n"
          ]
        }
      ],
      "source": [
        "df_all['label_pred'] = \"\"\n",
        "df_all['label_pred'] = df_all.progress_apply(lambda row: pipe_old(row['gegenstand'])[0]['label'].replace('LABEL_',''), axis=1)\n",
        "df_all.label_pred = df_all.label_pred.astype(int)"
      ]
    },
    {
      "cell_type": "code",
      "execution_count": 192,
      "metadata": {
        "colab": {
          "base_uri": "https://localhost:8080/"
        },
        "id": "dV5mKxJTxBM0",
        "outputId": "8e679c85-6eaf-4071-d225-ebd4226d92ca"
      },
      "outputs": [
        {
          "output_type": "stream",
          "name": "stdout",
          "text": [
            "Accuracy: 0.6316\n",
            "F1-score: 0.5995\n",
            "Precision: 0.6523\n",
            "Recall: 0.6316\n"
          ]
        }
      ],
      "source": [
        "y_true = df_all['label']\n",
        "y_pred = df_all['label_pred']\n",
        "\n",
        "# average = weighted -> impliziert accuracy = recall\n",
        "accuracy = balanced_accuracy_score(y_true, y_pred)\n",
        "f1_metric = f1_score(y_true, y_pred, average='weighted')\n",
        "precision = precision_score(y_true, y_pred, average='weighted')\n",
        "recall = recall_score(y_true, y_pred, average='weighted')\n",
        "\n",
        "print(\"Accuracy: {:.4f}\".format(accuracy))\n",
        "print(\"F1-score: {:.4f}\".format(f1_metric))\n",
        "print(\"Precision: {:.4f}\".format(precision))\n",
        "print(\"Recall: {:.4f}\".format(recall))"
      ]
    },
    {
      "cell_type": "markdown",
      "metadata": {
        "id": "JO0VjakQAxCO"
      },
      "source": [
        "### Classification Report"
      ]
    },
    {
      "cell_type": "code",
      "execution_count": 193,
      "metadata": {
        "id": "2JD8UFSgA1HW"
      },
      "outputs": [],
      "source": [
        "df_all['label_pred_txt'] = df_all['label_pred'].replace(di_int_to_label)\n",
        "\n",
        "change = di_int_to_label\n",
        "# change = di_label_to_int\n",
        "df_all['label_pred'] = df_all['label_pred'].replace(change)\n",
        "df_all['label'] = df_all['label'].replace(change)"
      ]
    },
    {
      "cell_type": "code",
      "execution_count": 194,
      "metadata": {
        "colab": {
          "base_uri": "https://localhost:8080/"
        },
        "id": "dF3YZUlJA9C-",
        "outputId": "577e514b-a0d1-425c-ecbe-cb762f37ea69"
      },
      "outputs": [
        {
          "output_type": "stream",
          "name": "stdout",
          "text": [
            "                                      precision    recall  f1-score   support\n",
            "\n",
            "                          Automotive       0.62      0.83      0.71         6\n",
            "                        Construction       0.80      0.67      0.73         6\n",
            "                      Consumer Goods       0.00      0.00      0.00         6\n",
            "                  Financial Services       1.00      0.83      0.91         6\n",
            "                     Human Resources       1.00      0.17      0.29         6\n",
            " Information Technology and Services       0.56      0.83      0.67         6\n",
            "                           Insurance       1.00      1.00      1.00         6\n",
            "                      Legal Services       0.67      0.67      0.67         6\n",
            "           Leisure, Travel & Tourism       0.50      0.17      0.25         6\n",
            "          Logistics and Supply Chain       0.71      0.83      0.77         6\n",
            "               Management Consulting       0.38      0.83      0.53         6\n",
            "           Marketing and Advertising       0.60      1.00      0.75         6\n",
            "Mechanical or Industrial Engineering       0.20      0.17      0.18         6\n",
            "                    Medical Practice       0.60      1.00      0.75         6\n",
            "                         Real Estate       0.80      0.67      0.73         6\n",
            "Recreational Facilities and Services       1.00      0.33      0.50         6\n",
            "            Renewables & Environment       0.71      0.83      0.77         6\n",
            "                  Telecommunications       0.83      0.83      0.83         6\n",
            "                           Wholesale       0.40      0.33      0.36         6\n",
            "\n",
            "                            accuracy                           0.63       114\n",
            "                           macro avg       0.65      0.63      0.60       114\n",
            "                        weighted avg       0.65      0.63      0.60       114\n",
            "\n"
          ]
        }
      ],
      "source": [
        "print(classification_report(df_all['label'].to_list(), df_all['label_pred'].to_list()))"
      ]
    },
    {
      "cell_type": "markdown",
      "metadata": {
        "id": "A2Y25c53AE1V"
      },
      "source": [
        "### Confusion Matrix"
      ]
    },
    {
      "cell_type": "code",
      "execution_count": 195,
      "metadata": {
        "colab": {
          "base_uri": "https://localhost:8080/",
          "height": 892
        },
        "id": "9_9CAdje_5nP",
        "outputId": "9b55b178-5009-41a5-da1f-1f88368c7199"
      },
      "outputs": [
        {
          "output_type": "display_data",
          "data": {
            "text/plain": [
              "<Figure size 864x864 with 2 Axes>"
            ],
            "image/png": "[encoded data removed]"
          },
          "metadata": {
            "needs_background": "light"
          }
        }
      ],
      "source": [
        "labels = list(di_int_to_label.values())\n",
        "fig, ax = plt.subplots(figsize=(12,12)) \n",
        "cm = confusion_matrix(df_all['label'], df_all['label_pred'] )\n",
        "f = sns.heatmap(cm, annot=True, fmt='d', linewidths=0.0, xticklabels=labels, yticklabels=labels)\n",
        "plt.ylabel('Actual')\n",
        "plt.xlabel('Predicted')\n",
        "plt.savefig('cm_whole.svg', bbox_inches='tight',\n",
        "            dpi=300)\n"
      ]
    },
    {
      "cell_type": "code",
      "execution_count": 196,
      "metadata": {
        "id": "vHyHYhN86CxJ"
      },
      "outputs": [],
      "source": [
        "labels = list(di_int_to_label.values())\n",
        "cm = confusion_matrix(df_all['label'], df_all['label_pred'])\n",
        "cmn = (cm.astype('float') / cm.sum(axis=1)[:, np.newaxis])*100"
      ]
    },
    {
      "cell_type": "code",
      "execution_count": 197,
      "metadata": {
        "colab": {
          "base_uri": "https://localhost:8080/",
          "height": 892
        },
        "id": "eA1_A6wgfly4",
        "outputId": "ab7b84e3-4d63-418f-a449-971c4a0ac5fd"
      },
      "outputs": [
        {
          "output_type": "display_data",
          "data": {
            "text/plain": [
              "<Figure size 864x864 with 2 Axes>"
            ],
            "image/png": "[encoded data removed]"
          },
          "metadata": {
            "needs_background": "light"
          }
        }
      ],
      "source": [
        "fig, ax = plt.subplots(figsize=(12,12))\n",
        "\n",
        "f = sns.heatmap(cmn, annot=True, fmt='.0f', xticklabels=labels, yticklabels=labels)\n",
        "plt.ylabel('Actual')\n",
        "plt.xlabel('Predicted')\n",
        "plt.savefig('cm_whole_relative.svg', bbox_inches='tight')"
      ]
    },
    {
      "cell_type": "markdown",
      "metadata": {
        "id": "lxpgXqdaJbAj"
      },
      "source": [
        "## Whole Sample Only Long\n",
        "Durch die EDA wissen wir, dass die durchschnittliche Anzahl Zeichen ~520 beträgt. Der Median liegt bei ~344. Es existieren also viele Texte die kürzer als der Durchnittswert sind, aber auch einige lange Texte, welche die Verteilung positiv verzerren (positively skewed).\n",
        "Wir filtern willkürlich bei einem Wert leicht unterhalb des Medians und beobachten, dass sowohl Accuracy als auch F1-Score um gut 7 bis 8 Prozentpunkte ansteigen.\n"
      ]
    },
    {
      "cell_type": "code",
      "execution_count": 198,
      "metadata": {
        "colab": {
          "base_uri": "https://localhost:8080/",
          "height": 300
        },
        "id": "jfsNK-7IPXZ7",
        "outputId": "7430762c-8232-4a02-f89c-013fd9f791e9"
      },
      "outputs": [
        {
          "output_type": "execute_result",
          "data": {
            "text/plain": [
              "           zeichen  label_int  word_count\n",
              "count    65.000000  65.000000   65.000000\n",
              "mean    780.707692   8.876923   91.523077\n",
              "std     629.717216   5.663777   75.427761\n",
              "min     303.000000   0.000000   31.000000\n",
              "25%     420.000000   3.000000   50.000000\n",
              "50%     582.000000   9.000000   69.000000\n",
              "75%     817.000000  14.000000   89.000000\n",
              "max    3907.000000  18.000000  463.000000"
            ],
            "text/html": [
              "\n",
              "  <div id=\"df-6452590f-64b3-47e6-ab62-300795ba82d5\">\n",
              "    <div class=\"colab-df-container\">\n",
              "      <div>\n",
              "<style scoped>\n",
              "    .dataframe tbody tr th:only-of-type {\n",
              "        vertical-align: middle;\n",
              "    }\n",
              "\n",
              "    .dataframe tbody tr th {\n",
              "        vertical-align: top;\n",
              "    }\n",
              "\n",
              "    .dataframe thead th {\n",
              "        text-align: right;\n",
              "    }\n",
              "</style>\n",
              "<table border=\"1\" class=\"dataframe\">\n",
              "  <thead>\n",
              "    <tr style=\"text-align: right;\">\n",
              "      <th></th>\n",
              "      <th>zeichen</th>\n",
              "      <th>label_int</th>\n",
              "      <th>word_count</th>\n",
              "    </tr>\n",
              "  </thead>\n",
              "  <tbody>\n",
              "    <tr>\n",
              "      <th>count</th>\n",
              "      <td>65.000000</td>\n",
              "      <td>65.000000</td>\n",
              "      <td>65.000000</td>\n",
              "    </tr>\n",
              "    <tr>\n",
              "      <th>mean</th>\n",
              "      <td>780.707692</td>\n",
              "      <td>8.876923</td>\n",
              "      <td>91.523077</td>\n",
              "    </tr>\n",
              "    <tr>\n",
              "      <th>std</th>\n",
              "      <td>629.717216</td>\n",
              "      <td>5.663777</td>\n",
              "      <td>75.427761</td>\n",
              "    </tr>\n",
              "    <tr>\n",
              "      <th>min</th>\n",
              "      <td>303.000000</td>\n",
              "      <td>0.000000</td>\n",
              "      <td>31.000000</td>\n",
              "    </tr>\n",
              "    <tr>\n",
              "      <th>25%</th>\n",
              "      <td>420.000000</td>\n",
              "      <td>3.000000</td>\n",
              "      <td>50.000000</td>\n",
              "    </tr>\n",
              "    <tr>\n",
              "      <th>50%</th>\n",
              "      <td>582.000000</td>\n",
              "      <td>9.000000</td>\n",
              "      <td>69.000000</td>\n",
              "    </tr>\n",
              "    <tr>\n",
              "      <th>75%</th>\n",
              "      <td>817.000000</td>\n",
              "      <td>14.000000</td>\n",
              "      <td>89.000000</td>\n",
              "    </tr>\n",
              "    <tr>\n",
              "      <th>max</th>\n",
              "      <td>3907.000000</td>\n",
              "      <td>18.000000</td>\n",
              "      <td>463.000000</td>\n",
              "    </tr>\n",
              "  </tbody>\n",
              "</table>\n",
              "</div>\n",
              "      <button class=\"colab-df-convert\" onclick=\"convertToInteractive('df-6452590f-64b3-47e6-ab62-300795ba82d5')\"\n",
              "              title=\"Convert this dataframe to an interactive table.\"\n",
              "              style=\"display:none;\">\n",
              "        \n",
              "  <svg xmlns=\"http://www.w3.org/2000/svg\" height=\"24px\"viewBox=\"0 0 24 24\"\n",
              "       width=\"24px\">\n",
              "    <path d=\"M0 0h24v24H0V0z\" fill=\"none\"/>\n",
              "    <path d=\"M18.56 5.44l.94 2.06.94-2.06 2.06-.94-2.06-.94-.94-2.06-.94 2.06-2.06.94zm-11 1L8.5 8.5l.94-2.06 2.06-.94-2.06-.94L8.5 2.5l-.94 2.06-2.06.94zm10 10l.94 2.06.94-2.06 2.06-.94-2.06-.94-.94-2.06-.94 2.06-2.06.94z\"/><path d=\"M17.41 7.96l-1.37-1.37c-.4-.4-.92-.59-1.43-.59-.52 0-1.04.2-1.43.59L10.3 9.45l-7.72 7.72c-.78.78-.78 2.05 0 2.83L4 21.41c.39.39.9.59 1.41.59.51 0 1.02-.2 1.41-.59l7.78-7.78 2.81-2.81c.8-.78.8-2.07 0-2.86zM5.41 20L4 18.59l7.72-7.72 1.47 1.35L5.41 20z\"/>\n",
              "  </svg>\n",
              "      </button>\n",
              "      \n",
              "  <style>\n",
              "    .colab-df-container {\n",
              "      display:flex;\n",
              "      flex-wrap:wrap;\n",
              "      gap: 12px;\n",
              "    }\n",
              "\n",
              "    .colab-df-convert {\n",
              "      background-color: #E8F0FE;\n",
              "      border: none;\n",
              "      border-radius: 50%;\n",
              "      cursor: pointer;\n",
              "      display: none;\n",
              "      fill: #1967D2;\n",
              "      height: 32px;\n",
              "      padding: 0 0 0 0;\n",
              "      width: 32px;\n",
              "    }\n",
              "\n",
              "    .colab-df-convert:hover {\n",
              "      background-color: #E2EBFA;\n",
              "      box-shadow: 0px 1px 2px rgba(60, 64, 67, 0.3), 0px 1px 3px 1px rgba(60, 64, 67, 0.15);\n",
              "      fill: #174EA6;\n",
              "    }\n",
              "\n",
              "    [theme=dark] .colab-df-convert {\n",
              "      background-color: #3B4455;\n",
              "      fill: #D2E3FC;\n",
              "    }\n",
              "\n",
              "    [theme=dark] .colab-df-convert:hover {\n",
              "      background-color: #434B5C;\n",
              "      box-shadow: 0px 1px 3px 1px rgba(0, 0, 0, 0.15);\n",
              "      filter: drop-shadow(0px 1px 2px rgba(0, 0, 0, 0.3));\n",
              "      fill: #FFFFFF;\n",
              "    }\n",
              "  </style>\n",
              "\n",
              "      <script>\n",
              "        const buttonEl =\n",
              "          document.querySelector('#df-6452590f-64b3-47e6-ab62-300795ba82d5 button.colab-df-convert');\n",
              "        buttonEl.style.display =\n",
              "          google.colab.kernel.accessAllowed ? 'block' : 'none';\n",
              "\n",
              "        async function convertToInteractive(key) {\n",
              "          const element = document.querySelector('#df-6452590f-64b3-47e6-ab62-300795ba82d5');\n",
              "          const dataTable =\n",
              "            await google.colab.kernel.invokeFunction('convertToInteractive',\n",
              "                                                     [key], {});\n",
              "          if (!dataTable) return;\n",
              "\n",
              "          const docLinkHtml = 'Like what you see? Visit the ' +\n",
              "            '<a target=\"_blank\" href=https://colab.research.google.com/notebooks/data_table.ipynb>data table notebook</a>'\n",
              "            + ' to learn more about interactive tables.';\n",
              "          element.innerHTML = '';\n",
              "          dataTable['output_type'] = 'display_data';\n",
              "          await google.colab.output.renderOutput(dataTable, element);\n",
              "          const docLink = document.createElement('div');\n",
              "          docLink.innerHTML = docLinkHtml;\n",
              "          element.appendChild(docLink);\n",
              "        }\n",
              "      </script>\n",
              "    </div>\n",
              "  </div>\n",
              "  "
            ]
          },
          "metadata": {},
          "execution_count": 198
        }
      ],
      "source": [
        "df_long = df.loc[(df_all[\"zeichen\"] >= 300)]\n",
        "df_long.describe()"
      ]
    },
    {
      "cell_type": "code",
      "execution_count": 199,
      "metadata": {
        "colab": {
          "base_uri": "https://localhost:8080/"
        },
        "id": "iR_M9a_BNDKI",
        "outputId": "d5f44a96-eb5c-419e-f2d4-7f110b44ca30"
      },
      "outputs": [
        {
          "output_type": "stream",
          "name": "stderr",
          "text": [
            "  0%|          | 0/65 [00:00<?, ?it/s]/usr/local/lib/python3.8/dist-packages/transformers/pipelines/base.py:1043: UserWarning: You seem to be using the pipelines sequentially on GPU. In order to maximize efficiency please use a dataset\n",
            "  warnings.warn(\n",
            "100%|██████████| 65/65 [00:00<00:00, 122.22it/s]\n"
          ]
        }
      ],
      "source": [
        "df_long['label_pred'] = \"\"\n",
        "df_long['label_pred'] = df_long.progress_apply(lambda row: pipe_old(row['gegenstand'])[0]['label'].replace('LABEL_',''), axis=1)\n",
        "df_long.label_pred = df_long.label_pred.astype(int)"
      ]
    },
    {
      "cell_type": "code",
      "execution_count": 200,
      "metadata": {
        "id": "zmksROHnRNoD"
      },
      "outputs": [],
      "source": [
        "df_long['label_pred_txt'] = df_long['label_pred'].replace(di_int_to_label)\n",
        "\n",
        "# change = di_int_to_label\n",
        "change = di_label_to_int\n",
        "df_long['label_pred'] = df_long['label_pred'].replace(change)\n",
        "df_long['label'] = df_long['label'].replace(change)"
      ]
    },
    {
      "cell_type": "code",
      "execution_count": 201,
      "metadata": {
        "colab": {
          "base_uri": "https://localhost:8080/"
        },
        "id": "pLHKXmTGQY7Q",
        "outputId": "bbaa1751-1b04-48be-ec12-467467e80750"
      },
      "outputs": [
        {
          "output_type": "stream",
          "name": "stdout",
          "text": [
            "Accuracy: 0.6667\n",
            "F1-score: 0.6694\n",
            "Precision: 0.7497\n",
            "Recall: 0.6769\n"
          ]
        }
      ],
      "source": [
        "y_true = df_long['label']\n",
        "y_pred = df_long['label_pred']\n",
        "\n",
        "accuracy = balanced_accuracy_score(y_true, y_pred)\n",
        "f1_metric = f1_score(y_true, y_pred, average='weighted')\n",
        "precision = precision_score(y_true, y_pred, average='weighted')\n",
        "recall = recall_score(y_true, y_pred, average='weighted')\n",
        "\n",
        "print(\"Accuracy: {:.4f}\".format(accuracy))\n",
        "print(\"F1-score: {:.4f}\".format(f1_metric))\n",
        "print(\"Precision: {:.4f}\".format(precision))\n",
        "print(\"Recall: {:.4f}\".format(recall))"
      ]
    },
    {
      "cell_type": "markdown",
      "metadata": {
        "id": "dvf23XBdV0HO"
      },
      "source": [
        "### Class Report"
      ]
    },
    {
      "cell_type": "code",
      "execution_count": 202,
      "metadata": {
        "id": "jyxzkHADV2GJ"
      },
      "outputs": [],
      "source": [
        "df_long['label_pred_txt'] = df_long['label_pred'].replace(di_int_to_label)\n",
        "\n",
        "change = di_int_to_label\n",
        "# change = di_label_to_int\n",
        "df_long['label_pred'] = df_long['label_pred'].replace(change)\n",
        "df_long['label'] = df_long['label'].replace(change)"
      ]
    },
    {
      "cell_type": "code",
      "execution_count": 203,
      "metadata": {
        "colab": {
          "base_uri": "https://localhost:8080/"
        },
        "id": "Rk8C2mNuTtMu",
        "outputId": "b1af1dd7-8947-48a3-eab6-85fd43e0d2f2"
      },
      "outputs": [
        {
          "output_type": "stream",
          "name": "stdout",
          "text": [
            "                                      precision    recall  f1-score   support\n",
            "\n",
            "                          Automotive       0.50      0.67      0.57         3\n",
            "                        Construction       0.67      1.00      0.80         2\n",
            "                      Consumer Goods       0.00      0.00      0.00         2\n",
            "                  Financial Services       1.00      0.80      0.89         5\n",
            "                     Human Resources       1.00      0.50      0.67         2\n",
            " Information Technology and Services       0.50      0.67      0.57         3\n",
            "                           Insurance       1.00      1.00      1.00         4\n",
            "                      Legal Services       1.00      0.67      0.80         6\n",
            "           Leisure, Travel & Tourism       1.00      0.50      0.67         2\n",
            "          Logistics and Supply Chain       1.00      1.00      1.00         3\n",
            "               Management Consulting       0.50      1.00      0.67         2\n",
            "           Marketing and Advertising       0.50      1.00      0.67         3\n",
            "Mechanical or Industrial Engineering       0.00      0.00      0.00         4\n",
            "                    Medical Practice       0.75      1.00      0.86         6\n",
            "                         Real Estate       1.00      0.75      0.86         4\n",
            "Recreational Facilities and Services       1.00      0.50      0.67         2\n",
            "            Renewables & Environment       0.60      0.75      0.67         4\n",
            "                  Telecommunications       0.67      0.67      0.67         3\n",
            "                           Wholesale       1.00      0.20      0.33         5\n",
            "\n",
            "                            accuracy                           0.68        65\n",
            "                           macro avg       0.72      0.67      0.65        65\n",
            "                        weighted avg       0.75      0.68      0.67        65\n",
            "\n"
          ]
        }
      ],
      "source": [
        "print(classification_report(df_long['label'].to_list(), df_long['label_pred'].to_list()))"
      ]
    },
    {
      "cell_type": "markdown",
      "metadata": {
        "id": "e8o53zbKV4vR"
      },
      "source": [
        "### Conf Matrix"
      ]
    },
    {
      "cell_type": "code",
      "execution_count": 204,
      "metadata": {
        "colab": {
          "base_uri": "https://localhost:8080/",
          "height": 892
        },
        "id": "2yVrBAormhoK",
        "outputId": "ec588866-3a84-4e71-99e8-5f998e699b5a"
      },
      "outputs": [
        {
          "output_type": "display_data",
          "data": {
            "text/plain": [
              "<Figure size 864x864 with 2 Axes>"
            ],
            "image/png": "[encoded data removed]"
          },
          "metadata": {
            "needs_background": "light"
          }
        }
      ],
      "source": [
        "labels = list(di_int_to_label.values())\n",
        "fig, ax = plt.subplots(figsize=(12,12)) \n",
        "cm = confusion_matrix(df_long['label'], df_long['label_pred'] )\n",
        "f = sns.heatmap(cm, annot=True, fmt='d', xticklabels=labels, yticklabels=labels)\n",
        "plt.ylabel('Actual')\n",
        "plt.xlabel('Predicted')\n",
        "plt.savefig('cm_whole_long.svg', bbox_inches='tight',\n",
        "            dpi=300)"
      ]
    },
    {
      "cell_type": "code",
      "execution_count": 205,
      "metadata": {
        "id": "-eTPoYet6Qqw"
      },
      "outputs": [],
      "source": [
        "labels = list(di_int_to_label.values())\n",
        "cm = confusion_matrix(df_long['label'], df_long['label_pred'])\n",
        "cmn = (cm.astype('float') / cm.sum(axis=1)[:, np.newaxis])*100"
      ]
    },
    {
      "cell_type": "code",
      "execution_count": 206,
      "metadata": {
        "colab": {
          "base_uri": "https://localhost:8080/",
          "height": 892
        },
        "id": "8jo7vdRhwzzx",
        "outputId": "99274436-3aba-47c5-8111-8f7ef8de3d0c"
      },
      "outputs": [
        {
          "output_type": "display_data",
          "data": {
            "text/plain": [
              "<Figure size 864x864 with 2 Axes>"
            ],
            "image/png": "[encoded data removed]"
          },
          "metadata": {
            "needs_background": "light"
          }
        }
      ],
      "source": [
        "fig, ax = plt.subplots(figsize=(12,12))\n",
        "f = sns.heatmap(cmn, annot=True, fmt='.0f', xticklabels=labels, yticklabels=labels)\n",
        "plt.ylabel('Actual')\n",
        "plt.xlabel('Predicted')\n",
        "plt.savefig('cm_whole_long_relative.svg', bbox_inches='tight')"
      ]
    },
    {
      "cell_type": "markdown",
      "metadata": {
        "id": "fkH27DJWQcJX"
      },
      "source": [
        "# Website Classifier"
      ]
    },
    {
      "cell_type": "markdown",
      "metadata": {
        "id": "_0dXwD82kVoO"
      },
      "source": [
        "### Parsen"
      ]
    },
    {
      "cell_type": "code",
      "execution_count": 207,
      "metadata": {
        "id": "k5MVb7IwT2uw"
      },
      "outputs": [],
      "source": [
        "# code zu tag_visible und extract_text aus pds\n",
        "def tag_visible(element):\n",
        "  if element.parent.name in ['style', 'script', 'head', 'title', 'meta', '[document]']:\n",
        "      return False\n",
        "  if isinstance(element, Comment):\n",
        "      return False\n",
        "  return True\n",
        "\n",
        "def extract_text(raw_html):\n",
        "  raw_text = ''\n",
        "  description = ''\n",
        "  keywords = ''\n",
        "\n",
        "  try:\n",
        "    soup = BeautifulSoup(raw_html, 'lxml')\n",
        "    #text\n",
        "    text = soup.find_all(text=True)\n",
        "    visible_texts = filter(tag_visible, text)\n",
        "    text = u\"°\".join(t.strip() for t in visible_texts)\n",
        "    raw_text = re.sub(r\"(\\s\\s)+\", \" \", text)\n",
        "  except:\n",
        "    pass\n",
        "    \n",
        "  #meta\n",
        "  try:\n",
        "    description = soup.find(\"meta\", attrs={'name': 'description'})['content']\n",
        "  except:\n",
        "    try:\n",
        "      description = soup.find(\"meta\", property=\"og:description\")['content']\n",
        "    except:\n",
        "      pass\n",
        "  try:\n",
        "    keywords = soup.find(\"meta\", attrs={'name': 'keywords'})['content']\n",
        "  except:\n",
        "    pass\n",
        "\n",
        "\n",
        "  return raw_text, description, keywords"
      ]
    },
    {
      "cell_type": "code",
      "execution_count": 208,
      "metadata": {
        "colab": {
          "base_uri": "https://localhost:8080/"
        },
        "id": "DypbCWscjQSn",
        "outputId": "22555328-528c-4680-b183-d3f3708f390a"
      },
      "outputs": [
        {
          "output_type": "stream",
          "name": "stderr",
          "text": [
            "100%|██████████| 114/114 [00:04<00:00, 22.82it/s]\n"
          ]
        }
      ],
      "source": [
        "df[['site_text', 'description', 'keywords']] = df.progress_apply(lambda row: extract_text(row['website']), axis=1, result_type='expand')"
      ]
    },
    {
      "cell_type": "markdown",
      "metadata": {
        "id": "4pk15ByRkOAu"
      },
      "source": [
        "### Decode UTF-8\n",
        "Wrd aktuell nicht benötigt, die strings enthalten non ascii letter, daher ist die Dekodierung der Umlaute nicht ohne weiteres umzusetzen"
      ]
    },
    {
      "cell_type": "code",
      "execution_count": 209,
      "metadata": {
        "id": "wX2vn3btlMsK"
      },
      "outputs": [],
      "source": [
        "# zur besseren Verarbeitung schon mal bestimmte Sonderzeichen entfernen\n",
        "def clean_ascii(text):\n",
        "    text = re.sub('°', ' ', str(text))\n",
        "    text = re.sub(\"b' \", '', str(text))\n",
        "    text = str(text).replace('\\\\\\\\', '\\\\')\n",
        "    text = text.replace(':', '')\n",
        "    return text"
      ]
    },
    {
      "cell_type": "code",
      "execution_count": 210,
      "metadata": {
        "colab": {
          "base_uri": "https://localhost:8080/"
        },
        "id": "5yhZha_yYKWi",
        "outputId": "c244a682-b22b-4476-9dfb-3367a0f28334"
      },
      "outputs": [
        {
          "output_type": "stream",
          "name": "stdout",
          "text": [
            "b\"b'\\xb0HTML\\xb0Ihr Browser ist veraltet und m\\\\xc3\\\\xb6glicherweise nicht kompatibel mit unserer Website.\\xb0Bitte wechseln Sie zu einem anderen Browser, z.B.\\xb0Chrome\\xb0,\\xb0Firefox\\xb0oder\\xb0Safari\\xb0.\\xb0Schlie\\\\xc3\\\\x9fen\\xb0Login MyBMW\\xb0BMW Shop\\xb0Modelle\\xb0Beratung & Kauf\\xb0Elektromobilit\\\\xc3\\\\xa4t\\xb0Services\\xb0Entdecken\\xb0Suche\\xb0BMW Partner finden\\xb0Login MyBMW\\xb0BMW Shop\\xb0Freude\\xb0am Fahren\\xb0Willkommen bei MyBMW\\xb0Registrieren Sie sich und nutzen Sie die Vorteile:\\xb0Speichern Sie Ihre Fahrzeuge und Konfigurationen.\\xb0Buchen und nutzen Sie Connected Drive Online-Dienste.\\xb0Pflegen Sie Ihre Profildaten.\\xb0Login\\xb0Jetzt registrieren\\xb0Willkommen, {firstName}\\xb0Willkommen, {firstName}\\xb0Logout\\xb0Modelle\\xb0Alle\\xb0i\\xb0X\\xb0M\\xb08er\\xb07er\\xb06er\\xb05er\\xb04er\\xb03er\\xb02er\\xb01er\\xb0Z\\xb0Plug-in-Hybrid\\xb0Concept Cars\\xb0Limousine\\xb0Touring\\xb0Coup\\\\xc3\\\\xa9\\xb0Cabrio / Roadster\\xb0Sports Activity Vehicle\\xb0Sports Activity Coup\\\\xc3\\\\xa9\\xb0Gran Turismo\\xb0Multi Purpose Vehicle\\xb0Roadster\\xb0Kompakt\\xb0BMW i\\xb0Alle Modelle\\xb0Modell\\\\xc3\\\\xbcbersicht \\\\xc3\\\\xb6ffnen\\xb0Alle Modelle\\xb0Modell\\\\xc3\\\\xbcbersicht \\\\xc3\\\\xb6ffnen\\xb0Neu\\xb0BMW iX\\xb0Vollelektrisch\\xb0ab 77.300,00 \\\\xe2\\\\x82\\\\xac*\\xb0Sofort verf\\\\xc3\\\\xbcgbare BMW iX\\xb0Konfigurieren & Preise\\xb0Fahrzeuginformationen\\xb0Neu\\xb0BMW iX M60\\xb0Vollelektrisch\\xb0ab 136.100,00 \\\\xe2\\\\x82\\\\xac*\\xb0Konfigurieren & Preise\\xb0Fahrzeuginformationen\\xb0Neu\\xb0BMW i7\\xb0Vollelektrisch\\xb0ab 135.900,00 \\\\xe2\\\\x82\\\\xac*\\xb0Konfigurieren & Preise\\xb0Fahrzeuginformationen\\xb0Neu\\xb0BMW i4\\xb0Vollelektrisch\\xb0ab 56.500,00 \\\\xe2\\\\x82\\\\xac*\\xb0Konfigurieren & Preise\\xb0Fahrzeuginformationen\\xb0Neu\\xb0BMW i4 M50\\xb0Vollelektrisch\\xb0ab 70.800,00 \\\\xe2\\\\x82\\\\xac*\\xb0Konfigurieren & Preise\\xb0Fahrzeuginformationen\\xb0BMW i3\\xb0Vollelektrisch\\xb0Sofort verf\\\\xc3\\\\xbcgbare BMW i3\\xb0Fahrzeuginformationen\\xb0BMW iX3\\xb0Vollelektrisch\\xb0ab 67.300,00 \\\\xe2\\\\x82\\\\xac*\\xb0Sofort verf\\\\xc3\\\\xbcgbare BMW iX3\\xb0Konfigurieren & Preise\\xb0Fahrzeuginformationen\\xb0Neu\\xb0BMW iX1\\xb0Vollelektrisch\\xb0ab 55.000,00 \\\\xe2\\\\x82\\\\xac*\\xb0Konfigurieren & Preise\\xb0Fahrzeuginformationen\\xb0Neu\\xb0BMW XM\\xb0Plug-in-Hybrid\\xb0ab 170.000,00 \\\\xe2\\\\x82\\\\xac*\\xb0Konfigurieren & Preise\\xb0Fahrzeuginformationen\\xb0Neu\\xb0BMW X7\\xb0Benziner\\xb0\\\\xe2\\\\x80\\\\xa2\\xb0Diesel\\xb0ab 97.700,00 \\\\xe2\\\\x82\\\\xac*\\xb0Sofort verf\\\\xc3\\\\xbcgbare BMW X7\\xb0Konfigurieren & Preise\\xb0Fahrzeuginformationen\\xb0Neu\\xb0BMW X7 M Automobil\\xb0Benziner\\xb0ab 127.200,00 \\\\xe2\\\\x82\\\\xac*\\xb0Sofort verf\\\\xc3\\\\xbcgbare BMW X7 M\\xb0Konfigurieren & Preise\\xb0Fahrzeuginformationen\\xb0BMW X6\\xb0Benziner\\xb0\\\\xe2\\\\x80\\\\xa2\\xb0Diesel\\xb0ab 82.700,00 \\\\xe2\\\\x82\\\\xac*\\xb0Sofort verf\\\\xc3\\\\xbcgbare BMW X6\\xb0Konfigurieren & Preise\\xb0Fahrzeuginformationen\\xb0BMW X6 M Automobile\\xb0Benziner\\xb0ab 106.800,00 \\\\xe2\\\\x82\\\\xac*\\xb0Sofort verf\\\\xc3\\\\xbcgbare BMW X6 M\\xb0Konfigurieren & Preise\\xb0Fahrzeuginformationen\\xb0BMW X5\\xb0Benziner\\xb0\\\\xe2\\\\x80\\\\xa2\\xb0Diesel\\xb0\\\\xe2\\\\x80\\\\xa2\\xb0Plug-in-Hybrid\\xb0ab 73.200,00 \\\\xe2\\\\x82\\\\xac*\\xb0Sofort verf\\\\xc3\\\\xbcgbare BMW X5\\xb0Konfigurieren & Preise\\xb0Fahrzeuginformationen\\xb0BMW X5 M Automobile\\xb0Benziner\\xb0ab 104.000,00 \\\\xe2\\\\x82\\\\xac*\\xb0Sofort verf\\\\xc3\\\\xbcgbare BMW X5 M\\xb0Konfigurieren & Preise\\xb0Fahrzeuginformationen\\xb0BMW X4\\xb0Benziner\\xb0\\\\xe2\\\\x80\\\\xa2\\xb0Diesel\\xb0ab 57.050,00 \\\\xe2\\\\x82\\\\xac*\\xb0Sofort verf\\\\xc3\\\\xbcgbare BMW X4\\xb0Konfigurieren & Preise\\xb0Fahrzeuginformationen\\xb0BMW X4 M Automobile\\xb0Benziner\\xb0\\\\xe2\\\\x80\\\\xa2\\xb0Diesel\\xb0ab 77.850,00 \\\\xe2\\\\x82\\\\xac*\\xb0Sofort verf\\\\xc3\\\\xbcgbare BMW X4 M\\xb0Konfigurieren & Preise\\xb0Fahrzeuginformationen\\xb0BMW X3\\xb0Benziner\\xb0\\\\xe2\\\\x80\\\\xa2\\xb0Diesel\\xb0\\\\xe2\\\\x80\\\\xa2\\xb0Plug-in-Hybrid\\xb0ab 53.150,00 \\\\xe2\\\\x82\\\\xac*\\xb0Sofort verf\\\\xc3\\\\xbcgbare BMW X3\\xb0Konfigurieren & Preise\\xb0Fahrzeuginformationen\\xb0BMW X3 M Automobile\\xb0Benziner\\xb0\\\\xe2\\\\x80\\\\xa2\\xb0Diesel\\xb0ab 75.550,00 \\\\xe2\\\\x82\\\\xac*\\xb0Sofort verf\\\\xc3\\\\xbcgbare BMW X3 M\\xb0Konfigurieren & Preise\\xb0Fahrzeuginformationen\\xb0BMW X2\\xb0Benziner\\xb0\\\\xe2\\\\x80\\\\xa2\\xb0Diesel\\xb0\\\\xe2\\\\x80\\\\xa2\\xb0Plug-in-Hybrid\\xb0ab 36.150,00 \\\\xe2\\\\x82\\\\xac*\\xb0Sofort verf\\\\xc3\\\\xbcgbare BMW X2\\xb0Konfigurieren & Preise\\xb0Fahrzeuginformationen\\xb0BMW X2 M Automobil\\xb0Benziner\\xb0ab 58.200,00 \\\\xe2\\\\x82\\\\xac*\\xb0Sofort verf\\\\xc3\\\\xbcgbare BMW X2 M\\xb0Konfigurieren & Preise\\xb0Fahrzeuginformationen\\xb0Neu\\xb0BMW X1\\xb0Benziner\\xb0\\\\xe2\\\\x80\\\\xa2\\xb0Diesel\\xb0\\\\xe2\\\\x80\\\\xa2\\xb0Plug-in-Hybrid\\xb0ab 41.400,00 \\\\xe2\\\\x82\\\\xac*\\xb0Konfigurieren & Preise\\xb0Fahrzeuginformationen\\xb0Neu\\xb0BMW iX\\xb0Vollelektrisch\\xb0ab 77.300,00 \\\\xe2\\\\x82\\\\xac*\\xb0Sofort verf\\\\xc3\\\\xbcgbare BMW iX\\xb0Konfigurieren & Preise\\xb0Fahrzeuginformationen\\xb0Neu\\xb0BMW iX M60\\xb0Vollelektrisch\\xb0ab 136.100,00 \\\\xe2\\\\x82\\\\xac*\\xb0Konfigurieren & Preise\\xb0Fahrzeuginformationen\\xb0BMW iX3\\xb0Vollelektrisch\\xb0ab 67.300,00 \\\\xe2\\\\x82\\\\xac*\\xb0Sofort verf\\\\xc3\\\\xbcgbare BMW iX3\\xb0Konfigurieren & Preise\\xb0Fahrzeuginformationen\\xb0Neu\\xb0BMW iX1\\xb0Vollelektrisch\\xb0ab 55.000,00 \\\\xe2\\\\x82\\\\xac*\\xb0Konfigurieren & Preise\\xb0Fahrzeuginformationen\\xb0Neu\\xb0BMW XM\\xb0Plug-in-Hybrid\\xb0ab 170.000,00 \\\\xe2\\\\x82\\\\xac*\\xb0Konfigurieren & Preise\\xb0Fahrzeuginformationen\\xb0Neu\\xb0BMW X7 M Automobil\\xb0Benziner\\xb0ab 127.200,00 \\\\xe2\\\\x82\\\\xac*\\xb0Sofort verf\\\\xc3\\\\xbcgbare BMW X7 M\\xb0Konfigurieren & Preise\\xb0Fahrzeuginformationen\\xb0BMW X6 M Automobile\\xb0Benziner\\xb0ab 106.800,00 \\\\xe2\\\\x82\\\\xac*\\xb0Sofort verf\\\\xc3\\\\xbcgbare BMW X6 M\\xb0Konfigurieren & Preise\\xb0Fahrzeuginformationen\\xb0BMW X5 M Automobile\\xb0Benziner\\xb0ab 104.000,00 \\\\xe2\\\\x82\\\\xac*\\xb0Sofort verf\\\\xc3\\\\xbcgbare BMW X5 M\\xb0Konfigurieren & Preise\\xb0Fahrzeuginformationen\\xb0BMW X4 M Automobile\\xb0Benziner\\xb0\\\\xe2\\\\x80\\\\xa2\\xb0Diesel\\xb0ab 77.850,00 \\\\xe2\\\\x82\\\\xac*\\xb0Sofort verf\\\\xc3\\\\xbcgbare BMW X4 M\\xb0Konfigurieren & Preise\\xb0Fahrzeuginformationen\\xb0BMW X3 M Automobile\\xb0Benziner\\xb0\\\\xe2\\\\x80\\\\xa2\\xb0Diesel\\xb0ab 75.550,00 \\\\xe2\\\\x82\\\\xac*\\xb0Sofort verf\\\\xc3\\\\xbcgbare BMW X3 M\\xb0Konfigurieren & Preise\\xb0Fahrzeuginformationen\\xb0BMW X2 M Automobil\\xb0Benziner\\xb0ab 58.200,00 \\\\xe2\\\\x82\\\\xac*\\xb0Sofort verf\\\\xc3\\\\xbcgbare BMW X2 M\\xb0Konfigurieren & Preise\\xb0Fahrzeuginformationen\\xb0Neu\\xb0BMW 8er Gran Coup\\\\xc3\\\\xa9 M Automobile\\xb0Benziner\\xb0ab 129.000,00 \\\\xe2\\\\x82\\\\xac*\\xb0Sofort verf\\\\xc3\\\\xbcgbare BMW 8er Gran Coup\\\\xc3\\\\xa9 M\\xb0Konfigurieren & Preise\\xb0Fahrzeuginformationen\\xb0Neu\\xb0BMW 8er Cabriolet M Automobile\\xb0Benziner\\xb0ab 140.000,00 \\\\xe2\\\\x82\\\\xac*\\xb0Sofort verf\\\\xc3\\\\xbcgbare BMW 8er Cabriolet M\\xb0Konfigurieren & Preise\\xb0Fahrzeuginformationen\\xb0Neu\\xb0BMW 8er Coup\\\\xc3\\\\xa9 M Automobile\\xb0Benziner\\xb0ab 132.000,00 \\\\xe2\\\\x82\\\\xac*\\xb0Sofort verf\\\\xc3\\\\xbcgbare BMW 8er Coup\\\\xc3\\\\xa9 M\\xb0Konfigurieren & Preise\\xb0Fahrzeuginformationen\\xb0Neu\\xb0BMW 7er Limousine M Automobil\\xb0Plug-in-Hybrid\\xb0ab 144.000,00 \\\\xe2\\\\x82\\\\xac*\\xb0Konfigurieren & Preise\\xb0Fahrzeuginformationen\\xb0BMW 5er Limousine M Automobile\\xb0Benziner\\xb0ab 94.700,00 \\\\xe2\\\\x82\\\\xac*\\xb0Sofort verf\\\\xc3\\\\xbcgbare BMW 5er Limousine M\\xb0Konfigurieren & Preise\\xb0Fahrzeuginformationen\\xb0Neu\\xb0BMW 4er Gran Coup\\\\xc3\\\\xa9 M Automobil\\xb0Benziner\\xb0ab 68.900,00 \\\\xe2\\\\x82\\\\xac*\\xb0Sofort verf\\\\xc3\\\\xbcgbare BMW 4er Gran Coup\\\\xc3\\\\xa9 M\\xb0Konfigurieren & Preise\\xb0Fahrzeuginformationen\\xb0BMW 4er Cabrio M Automobile\\xb0Benziner\\xb0\\\\xe2\\\\x80\\\\xa2\\xb0Diesel\\xb0ab 76.400,00 \\\\xe2\\\\x82\\\\xac\\xb0Sofort verf\\\\xc3\\\\xbcgbare BMW 4er Cabrio M\\xb0Konfigurieren & Preise\\xb0Fahrzeuginformationen\\xb0Neu\\xb0BMW 4er Coup\\\\xc3\\\\xa9 M Automobile\\xb0Benziner\\xb0\\\\xe2\\\\x80\\\\xa2\\xb0Diesel\\xb0ab 68.900,00 \\\\xe2\\\\x82\\\\xac*\\xb0Sofort verf\\\\xc3\\\\xbcgbare BMW 4er Coup\\\\xc3\\\\xa9 M\\xb0Konfigurieren & Preise\\xb0Fahrzeuginformationen\\xb0Neu\\xb0BMW 3er Touring M Automobile\\xb0Benziner\\xb0\\\\xe2\\\\x80\\\\xa2\\xb0Diesel\\xb0ab 72.300,00 \\\\xe2\\\\x82\\\\xac*\\xb0Konfigurieren & Preise\\xb0Fahrzeuginformationen\\xb0Neu\\xb0BMW 3er Limousine M Automobile\\xb0Benziner\\xb0\\\\xe2\\\\x80\\\\xa2\\xb0Diesel\\xb0ab 71.300,00 \\\\xe2\\\\x82\\\\xac*\\xb0Konfigurieren & Preise\\xb0Fahrzeuginformationen\\xb0BMW 2er Gran Coup\\\\xc3\\\\xa9 M Automobil\\xb0Benziner\\xb0ab 56.450,00 \\\\xe2\\\\x82\\\\xac*\\xb0Sofort verf\\\\xc3\\\\xbcgbare BMW 2er Gran Coup\\\\xc3\\\\xa9 M\\xb0Konfigurieren & Preise\\xb0Fahrzeuginformationen\\xb0Neu\\xb0BMW 2er Coup\\\\xc3\\\\xa9 M Automobile\\xb0Benziner\\xb0ab 56.200,00 \\\\xe2\\\\x82\\\\xac*\\xb0Konfigurieren & Preise\\xb0Fahrzeuginformationen\\xb0BMW 1er M Automobil\\xb0Benziner\\xb0ab 53.650,00 \\\\xe2\\\\x82\\\\xac*\\xb0Sofort verf\\\\xc3\\\\xbcgbare BMW 1er M\\xb0Konfigurieren & Preise\\xb0Fahrzeuginformationen\\xb0Neu\\xb0BMW i4 M50\\xb0Vollelektrisch\\xb0ab 70.800,00 \\\\xe2\\\\x82\\\\xac*\\xb0Konfigurieren & Preise\\xb0Fahrzeuginformationen\\xb0Neu\\xb0BMW iX M60\\xb0Vollelektrisch\\xb0ab 136.100,00 \\\\xe2\\\\x82\\\\xac*\\xb0Konfigurieren & Preise\\xb0Fahrzeuginformationen\\xb0Neu\\xb0BMW Z4 M Automobil\\xb0Benziner\\xb0ab 66.900,00 \\\\xe2\\\\x82\\\\xac*\\xb0Konfigurieren & Preise\\xb0Fahrzeuginformationen\\xb0Neu\\xb0BMW 8er Coup\\\\xc3\\\\xa9\\xb0Benziner\\xb0\\\\xe2\\\\x80\\\\xa2\\xb0Diesel\\xb0ab 102.000,00 \\\\xe2\\\\x82\\\\xac*\\xb0Sofort verf\\\\xc3\\\\xbcgbare BMW 8er Coup\\\\xc3\\\\xa9\\xb0Konfigurieren & Preise\\xb0Fahrzeuginformationen\\xb0Neu\\xb0BMW 8er Coup\\\\xc3\\\\xa9 M Automobile\\xb0Benziner\\xb0ab 132.000,00 \\\\xe2\\\\x82\\\\xac*\\xb0Sofort verf\\\\xc3\\\\xbcgbare BMW 8er Coup\\\\xc3\\\\xa9 M\\xb0Konfigurieren & Preise\\xb0Fahrzeuginformationen\\xb0Neu\\xb0BMW 8er Cabriolet\\xb0Benziner\\xb0\\\\xe2\\\\x80\\\\xa2\\xb0Diesel\\xb0ab 110.000,00 \\\\xe2\\\\x82\\\\xac*\\xb0Sofort verf\\\\xc3\\\\xbcgbare BMW 8er Cabriolet\\xb0Konfigurieren & Preise\\xb0Fahrzeuginformationen\\xb0Neu\\xb0BMW 8er Cabriolet M Automobile\\xb0Benziner\\xb0ab 140.000,00 \\\\xe2\\\\x82\\\\xac*\\xb0Sofort verf\\\\xc3\\\\xbcgbare BMW 8er Cabriolet M\\xb0Konfigurieren & Preise\\xb0Fahrzeuginformationen\\xb0Neu\\xb0BMW 8er Gran Coup\\\\xc3\\\\xa9\\xb0Benziner\\xb0\\\\xe2\\\\x80\\\\xa2\\xb0Diesel\\xb0ab 99.000,00 \\\\xe2\\\\x82\\\\xac*\\xb0Sofort verf\\\\xc3\\\\xbcgbare BMW 8er Gran Coup\\\\xc3\\\\xa9\\xb0Konfigurieren & Preise\\xb0Fahrzeuginformationen\\xb0Neu\\xb0BMW 8er Gran Coup\\\\xc3\\\\xa9 M Automobile\\xb0Benziner\\xb0ab 129.000,00 \\\\xe2\\\\x82\\\\xac*\\xb0Sofort verf\\\\xc3\\\\xbcgbare BMW 8er Gran Coup\\\\xc3\\\\xa9 M\\xb0Konfigurieren & Preise\\xb0Fahrzeuginformationen\\xb0Neu\\xb0BMW 7er Limousine\\xb0Diesel\\xb0\\\\xe2\\\\x80\\\\xa2\\xb0Plug-in-Hybrid\\xb0ab 114.300,00 \\\\xe2\\\\x82\\\\xac\\xb0Konfigurieren & Preise\\xb0Fahrzeuginformationen\\xb0Neu\\xb0BMW 7er Limousine M Automobil\\xb0Plug-in-Hybrid\\xb0ab 144.000,00 \\\\xe2\\\\x82\\\\xac*\\xb0Konfigurieren & Preise\\xb0Fahrzeuginformationen\\xb0Neu\\xb0BMW i7\\xb0Vollelektrisch\\xb0ab 135.900,00 \\\\xe2\\\\x82\\\\xac*\\xb0Konfigurieren & Preise\\xb0Fahrzeuginformationen\\xb0BMW 6er Gran Turismo\\xb0Benziner\\xb0\\\\xe2\\\\x80\\\\xa2\\xb0Diesel\\xb0ab 67.300,00 \\\\xe2\\\\x82\\\\xac*\\xb0Sofort verf\\\\xc3\\\\xbcgbare BMW 6er Gran Turismo\\xb0Konfigurieren & Preise\\xb0Fahrzeuginformationen\\xb0BMW 5er Limousine\\xb0Benziner\\xb0\\\\xe2\\\\x80\\\\xa2\\xb0Diesel\\xb0\\\\xe2\\\\x80\\\\xa2\\xb0Plug-in-Hybrid\\xb0ab 53.700,00 \\\\xe2\\\\x82\\\\xac*\\xb0Sofort verf\\\\xc3\\\\xbcgbare BMW 5er Limousine\\xb0Konfigurieren & Preise\\xb0Fahrzeuginformationen\\xb0BMW 5er Limousine M Automobile\\xb0Benziner\\xb0ab 94.700,00 \\\\xe2\\\\x82\\\\xac*\\xb0Sofort verf\\\\xc3\\\\xbcgbare BMW 5er Limousine M\\xb0Konfigurieren & Preise\\xb0Fahrzeuginformationen\\xb0BMW 5er Touring\\xb0Benziner\\xb0\\\\xe2\\\\x80\\\\xa2\\xb0Diesel\\xb0\\\\xe2\\\\x80\\\\xa2\\xb0Plug-in-Hybrid\\xb0ab 55.900,00 \\\\xe2\\\\x82\\\\xac*\\xb0Sofort verf\\\\xc3\\\\xbcgbare BMW 5er Touring\\xb0Konfigurieren & Preise\\xb0Fahrzeuginformationen\\xb0BMW 4er Coup\\\\xc3\\\\xa9\\xb0Benziner\\xb0\\\\xe2\\\\x80\\\\xa2\\xb0Diesel\\xb0ab 49.200,00 \\\\xe2\\\\x82\\\\xac*\\xb0Sofort verf\\\\xc3\\\\xbcgbare BMW 4er Coup\\\\xc3\\\\xa9\\xb0Konfigurieren & Preise\\xb0Fahrzeuginformationen\\xb0Neu\\xb0BMW 4er Coup\\\\xc3\\\\xa9 M Automobile\\xb0Benziner\\xb0\\\\xe2\\\\x80\\\\xa2\\xb0Diesel\\xb0ab 68.900,00 \\\\xe2\\\\x82\\\\xac*\\xb0Sofort verf\\\\xc3\\\\xbcgbare BMW 4er Coup\\\\xc3\\\\xa9 M\\xb0Konfigurieren & Preise\\xb0Fahrzeuginformationen\\xb0BMW 4er Cabrio\\xb0Benziner\\xb0\\\\xe2\\\\x80\\\\xa2\\xb0Diesel\\xb0ab 56.700,00 \\\\xe2\\\\x82\\\\xac*\\xb0Sofort verf\\\\xc3\\\\xbcgbare BMW 4er Cabrio\\xb0Konfigurieren & Preise\\xb0Fahrzeuginformationen\\xb0BMW 4er Cabrio M Automobile\\xb0Benziner\\xb0\\\\xe2\\\\x80\\\\xa2\\xb0Diesel\\xb0ab 76.400,00 \\\\xe2\\\\x82\\\\xac\\xb0Sofort verf\\\\xc3\\\\xbcgbare BMW 4er Cabrio M\\xb0Konfigurieren & Preise\\xb0Fahrzeuginformationen\\xb0Neu\\xb0BMW 4er Gran Coup\\\\xc3\\\\xa9\\xb0Benziner\\xb0\\\\xe2\\\\x80\\\\xa2\\xb0Diesel\\xb0ab 49.500,00 \\\\xe2\\\\x82\\\\xac*\\xb0Sofort verf\\\\xc3\\\\xbcgbare BMW 4er Gran Coup\\\\xc3\\\\xa9\\xb0Konfigurieren & Preise\\xb0Fahrzeuginformationen\\xb0Neu\\xb0BMW 4er Gran Coup\\\\xc3\\\\xa9 M Automobil\\xb0Benziner\\xb0ab 68.900,00 \\\\xe2\\\\x82\\\\xac*\\xb0Sofort verf\\\\xc3\\\\xbcgbare BMW 4er Gran Coup\\\\xc3\\\\xa9 M\\xb0Konfigurieren & Preise\\xb0Fahrzeuginformationen\\xb0Neu\\xb0BMW i4\\xb0Vollelektrisch\\xb0ab 56.500,00 \\\\xe2\\\\x82\\\\xac*\\xb0Konfigurieren & Preise\\xb0Fahrzeuginformationen\\xb0Neu\\xb0BMW i4 M50\\xb0Vollelektrisch\\xb0ab 70.800,00 \\\\xe2\\\\x82\\\\xac*\\xb0Konfigurieren & Preise\\xb0Fahrzeuginformationen\\xb0Neu\\xb0BMW 3er Limousine\\xb0Benziner\\xb0\\\\xe2\\\\x80\\\\xa2\\xb0Diesel\\xb0\\\\xe2\\\\x80\\\\xa2\\xb0Plug-in-Hybrid\\xb0ab 43.900,00 \\\\xe2\\\\x82\\\\xac*\\xb0Konfigurieren & Preise\\xb0Fahrzeuginformationen\\xb0Neu\\xb0BMW 3er Limousine M Automobile\\xb0Benziner\\xb0\\\\xe2\\\\x80\\\\xa2\\xb0Diesel\\xb0ab 71.300,00 \\\\xe2\\\\x82\\\\xac*\\xb0Konfigurieren & Preise\\xb0Fahrzeuginformationen\\xb0Neu\\xb0BMW 3er Touring\\xb0Benziner\\xb0\\\\xe2\\\\x80\\\\xa2\\xb0Diesel\\xb0\\\\xe2\\\\x80\\\\xa2\\xb0Plug-in-Hybrid\\xb0ab 45.000,00 \\\\xe2\\\\x82\\\\xac\\xb0Konfigurieren & Preise\\xb0Fahrzeuginformationen\\xb0Neu\\xb0BMW 3er Touring M Automobile\\xb0Benziner\\xb0\\\\xe2\\\\x80\\\\xa2\\xb0Diesel\\xb0ab 72.300,00 \\\\xe2\\\\x82\\\\xac*\\xb0Konfigurieren & Preise\\xb0Fahrzeuginformationen\\xb0Neu\\xb0BMW 2er Coup\\\\xc3\\\\xa9\\xb0Benziner\\xb0\\\\xe2\\\\x80\\\\xa2\\xb0Diesel\\xb0ab 39.400,00 \\\\xe2\\\\x82\\\\xac*\\xb0Konfigurieren & Preise\\xb0Fahrzeuginformationen\\xb0Neu\\xb0BMW 2er Coup\\\\xc3\\\\xa9 M Automobile\\xb0Benziner\\xb0ab 56.200,00 \\\\xe2\\\\x82\\\\xac*\\xb0Konfigurieren & Preise\\xb0Fahrzeuginformationen\\xb0Neu\\xb0BMW 2er Gran Coup\\\\xc3\\\\xa9\\xb0Benziner\\xb0\\\\xe2\\\\x80\\\\xa2\\xb0Diesel\\xb0ab 35.100,00 \\\\xe2\\\\x82\\\\xac*\\xb0Sofort verf\\\\xc3\\\\xbcgbare BMW 2er Gran Coup\\\\xc3\\\\xa9\\xb0Konfigurieren & Preise\\xb0Fahrzeuginformationen\\xb0BMW 2er Gran Coup\\\\xc3\\\\xa9 M Automobil\\xb0Benziner\\xb0ab 56.450,00 \\\\xe2\\\\x82\\\\xac*\\xb0Sofort verf\\\\xc3\\\\xbcgbare BMW 2er Gran Coup\\\\xc3\\\\xa9 M\\xb0Konfigurieren & Preise\\xb0Fahrzeuginformationen\\xb0Neu\\xb0BMW 2er Active Tourer\\xb0Benziner\\xb0\\\\xe2\\\\x80\\\\xa2\\xb0Diesel\\xb0\\\\xe2\\\\x80\\\\xa2\\xb0Plug-in-Hybrid\\xb0ab 34.000,00 \\\\xe2\\\\x82\\\\xac*\\xb0Sofort verf\\\\xc3\\\\xbcgbare BMW 2er Active Tourer\\xb0Konfigurieren & Preise\\xb0Fahrzeuginformationen\\xb0BMW 2er Gran Tourer\\xb0Benziner\\xb0\\\\xe2\\\\x80\\\\xa2\\xb0Diesel\\xb0ab 31.000,00 \\\\xe2\\\\x82\\\\xac*\\xb0Sofort verf\\\\xc3\\\\xbcgbare BMW 2er Gran Tourer\\xb0Fahrzeuginformationen\\xb0Neu\\xb0BMW 1er\\xb0Benziner\\xb0\\\\xe2\\\\x80\\\\xa2\\xb0Diesel\\xb0ab 29.500,00 \\\\xe2\\\\x82\\\\xac*\\xb0Sofort verf\\\\xc3\\\\xbcgbare BMW 1er\\xb0Konfigurieren & Preise\\xb0Fahrzeuginformationen\\xb0BMW 1er M Automobil\\xb0Benziner\\xb0ab 53.650,00 \\\\xe2\\\\x82\\\\xac*\\xb0Sofort verf\\\\xc3\\\\xbcgbare BMW 1er M\\xb0Konfigurieren & Preise\\xb0Fahrzeuginformationen\\xb0Neu\\xb0BMW Z4 Roadster\\xb0Benziner\\xb0ab 48.500,00 \\\\xe2\\\\x82\\\\xac*\\xb0Konfigurieren & Preise\\xb0Fahrzeuginformationen\\xb0Neu\\xb0BMW Z4 M Automobil\\xb0Benziner\\xb0ab 66.900,00 \\\\xe2\\\\x82\\\\xac*\\xb0Konfigurieren & Preise\\xb0Fahrzeuginformationen\\xb0Neu\\xb0BMW 2er Active Tourer Plug-in-Hybride\\xb0Plug-in-Hybrid\\xb0ab 44.950,00 \\\\xe2\\\\x82\\\\xac*\\xb0Konfigurieren & Preise\\xb0Fahrzeuginformationen\\xb0Neu\\xb0BMW 3er Limousine Plug-in-Hybride\\xb0Plug-in-Hybrid\\xb0ab 52.300,00 \\\\xe2\\\\x82\\\\xac\\xb0Konfigurieren & Preise\\xb0Fahrzeuginformationen\\xb0Neu\\xb0BMW 3er Touring Plug-in-Hybride\\xb0Plug-in-Hybrid\\xb0ab 53.600,00 \\\\xe2\\\\x82\\\\xac\\xb0Konfigurieren & Preise\\xb0Fahrzeuginformationen\\xb0BMW 5er Limousine Plug-in-Hybride\\xb0Plug-in-Hybrid\\xb0ab 60.200,00 \\\\xe2\\\\x82\\\\xac*\\xb0Sofort verf\\\\xc3\\\\xbcgbare BMW 5er Limousine Plug-in-Hybride\\xb0Konfigurieren & Preise\\xb0Fahrzeuginformationen\\xb0BMW 5er Touring Plug-in-Hybride\\xb0Plug-in-Hybrid\\xb0ab 62.400,00 \\\\xe2\\\\x82\\\\xac*\\xb0Sofort verf\\\\xc3\\\\xbcgbare BMW 5er Touring Plug-in-Hybride\\xb0Konfigurieren & Preise\\xb0Fahrzeuginformationen\\xb0Neu\\xb0BMW 7er Limousine Plug-in-Hybrid (2022)\\xb0Plug-in-Hybrid\\xb0ab 116.500,00 \\\\xe2\\\\x82\\\\xac\\xb0Konfigurieren & Preise\\xb0Fahrzeuginformationen\\xb0BMW 7er Limousine Plug-in-Hybride\\xb0Plug-in-Hybrid\\xb0ab 111.400,00 \\\\xe2\\\\x82\\\\xac*\\xb0Sofort verf\\\\xc3\\\\xbcgbare BMW 7er Limousine Plug-in-Hybride\\xb0Fahrzeuginformationen\\xb0Neu\\xb0BMW 7er Limousine M Automobil mit M Hybrid\\xb0Plug-in-Hybrid\\xb0ab 139.800,00 \\\\xe2\\\\x82\\\\xac*\\xb0Konfigurieren & Preise\\xb0Fahrzeuginformationen\\xb0Neu\\xb0BMW X1 Plug-in-Hybrid\\xb0Plug-in-Hybrid\\xb0ab 47.550,00 \\\\xe2\\\\x82\\\\xac*\\xb0Konfigurieren & Preise\\xb0Fahrzeuginformationen\\xb0BMW X2 Plug-in-Hybrid\\xb0Plug-in-Hybrid\\xb0ab 48.650,00 \\\\xe2\\\\x82\\\\xac*\\xb0Sofort verf\\\\xc3\\\\xbcgbare BMW X2 Plug-in-Hybride\\xb0Konfigurieren & Preise\\xb0Fahrzeuginformationen\\xb0Neu\\xb0BMW X3 Plug-in-Hybrid\\xb0Plug-in-Hybrid\\xb0ab 62.150,00 \\\\xe2\\\\x82\\\\xac*\\xb0Sofort verf\\\\xc3\\\\xbcgbare BMW X3 Plug-in-Hybride\\xb0Konfigurieren & Preise\\xb0Fahrzeuginformationen\\xb0BMW X5 Plug-in-Hybrid\\xb0Plug-in-Hybrid\\xb0ab 80.000,00 \\\\xe2\\\\x82\\\\xac*\\xb0Sofort verf\\\\xc3\\\\xbcgbare BMW X5 Plug-in-Hybride\\xb0Konfigurieren & Preise\\xb0Fahrzeuginformationen\\xb0BMW Vision M NEXT\\xb0Fahrzeuginformationen\\xb0BMW i Vision Circular\\xb0Fahrzeuginformationen\\xb0Konfigurieren & Preise\\xb0Neuwagensuche\\xb0Infomaterial anfordern\\xb0Probefahrt vereinbaren\\xb0BMW Partner finden\\xb0Beratung & Kauf\\xb0\\\\xc3\\\\x9cberblick Online Shops\\xb0Konfigurator\\xb0Neuwagensuche\\xb0Gebrauchtwagensuche\\xb0BMW Inzahlungnahme\\xb0BMW ConnectedDrive Store\\xb0BMW Zubeh\\\\xc3\\\\xb6r Shop\\xb0BMW Lifestyle Shop\\xb0Finanzierung & Leasing\\xb0Gro\\\\xc3\\\\x9fkunden, Beh\\\\xc3\\\\xb6rden & Sonderkunden\\xb0\\\\xc3\\\\x9cberblick Online Shops\\xb0Infomaterial anfordern\\xb0Probefahrt vereinbaren\\xb0BMW Partner finden\\xb0Kundenbetreuung\\xb0Konfigurator\\xb0Infomaterial anfordern\\xb0Probefahrt vereinbaren\\xb0BMW Partner finden\\xb0Kundenbetreuung\\xb0Neuwagensuche\\xb0Zur Neuwagensuche\\xb0So geht Onlinekauf & -leasing\\xb0Infomaterial anfordern\\xb0Probefahrt vereinbaren\\xb0BMW Partner finden\\xb0Kundenbetreuung\\xb0Gebrauchtwagensuche\\xb0Zur Gebrauchtwagensuche\\xb0So geht Onlinekauf & -leasing\\xb0Infomaterial anfordern\\xb0Probefahrt vereinbaren\\xb0BMW Partner finden\\xb0Kundenbetreuung\\xb0BMW Inzahlungnahme\\xb0Unverbindliche Bewertung erhalten\\xb0Infomaterial anfordern\\xb0Probefahrt vereinbaren\\xb0BMW Partner finden\\xb0Kundenbetreuung\\xb0BMW ConnectedDrive Store\\xb0ConnectedDrive Week\\xb0Infomaterial anfordern\\xb0Probefahrt vereinbaren\\xb0BMW Partner finden\\xb0Kundenbetreuung\\xb0BMW Zubeh\\\\xc3\\\\xb6r Shop\\xb0Infomaterial anfordern\\xb0Probefahrt vereinbaren\\xb0BMW Partner finden\\xb0Kundenbetreuung\\xb0BMW Lifestyle Shop\\xb0Infomaterial anfordern\\xb0Probefahrt vereinbaren\\xb0BMW Partner finden\\xb0Kundenbetreuung\\xb0Finanzierung & Leasing\\xb0\\\\xc3\\\\x9cberblick\\xb0Finanzierung\\xb0Leasing\\xb0Versicherung\\xb0Bereits Kunde\\xb0BMW Kreditkarten\\xb0Formulare\\xb0Weitere Produkte der BMW Bank\\xb0Infomaterial anfordern\\xb0Probefahrt vereinbaren\\xb0BMW Partner finden\\xb0Kundenbetreuung\\xb0Gro\\\\xc3\\\\x9fkunden, Beh\\\\xc3\\\\xb6rden & Sonderkunden\\xb0Infomaterial anfordern\\xb0Probefahrt vereinbaren\\xb0BMW Partner finden\\xb0Kundenbetreuung\\xb0Elektromobilit\\\\xc3\\\\xa4t\\xb0Elektrofahrzeuge\\xb0Plug-in-Hybride\\xb0Laden\\xb0Umweltbonus & steuerliche Vorteile\\xb0Nachhaltigkeit\\xb0Elektrofahrzeuge\\xb0Konfigurieren & Preise\\xb0Neuwagensuche\\xb0Probefahrt vereinbaren\\xb0BMW Partner finden\\xb0Plug-in-Hybride\\xb0Konfigurieren & Preise\\xb0Neuwagensuche\\xb0Probefahrt vereinbaren\\xb0BMW Partner finden\\xb0Laden\\xb0Konfigurieren & Preise\\xb0Neuwagensuche\\xb0Probefahrt vereinbaren\\xb0BMW Partner finden\\xb0Umweltbonus & steuerliche Vorteile\\xb0Konfigurieren & Preise\\xb0Neuwagensuche\\xb0Probefahrt vereinbaren\\xb0BMW Partner finden\\xb0Nachhaltigkeit\\xb0Konfigurieren & Preise\\xb0Neuwagensuche\\xb0Probefahrt vereinbaren\\xb0BMW Partner finden\\xb0Services\\xb0BMW Service\\xb0Original BMW Teile\\xb0Original BMW Zubeh\\\\xc3\\\\xb6r\\xb0BMW ConnectedDrive\\xb0Remote Software Upgrade\\xb0Bluetooth-Kompatibilit\\\\xc3\\\\xa4t\\xb0BMW Apps\\xb0Gew\\\\xc3\\\\xa4hrleistung & Garantien\\xb0BMW Service\\xb0\\\\xc3\\\\x9cberblick\\xb0BMW Service Inclusive\\xb0BMW Service 5+ Angebot\\xb0Unfall- und Pannenhilfe\\xb0BMW Teleservices\\xb0Online Terminvereinbarung\\xb0R\\\\xc3\\\\xbcckrufe\\xb0Recycling\\xb0BMW Partner & Online Termin\\xb0BMW Shop\\xb0Kundenbetreuung\\xb0Original BMW Teile\\xb0Neuteile & wiederaufbereitete Teile\\xb0Classic Teile\\xb0BMW Partner & Online Termin\\xb0BMW Shop\\xb0R\\\\xc3\\\\xa4der konfigurieren\\xb0Original BMW Zubeh\\\\xc3\\\\xb6r\\xb0Sommerzubeh\\\\xc3\\\\xb6r\\xb0Winterzubeh\\\\xc3\\\\xb6r\\xb0R\\\\xc3\\\\xa4der / Reifen\\xb0BMW M Performance Parts\\xb0BMW Motoren\\\\xc3\\\\xb6l\\xb0BMW Partner & Online Termin\\xb0BMW Shop\\xb0R\\\\xc3\\\\xa4der konfigurieren\\xb0BMW ConnectedDrive\\xb0\\\\xc3\\\\x9cberblick\\xb0BMW iDrive\\xb0Amazon Alexa Car\\xb0Android Auto\\xb0Apple Car Play\\xb0BMW Digital Key\\xb0Personal eSIM\\xb0BMW Maps\\xb0BMW ConnectedDrive Shop\\xb0BMW ConnectedDrive FAQ\\xb0BMW ConnectedDrive Kundenbetreuung\\xb0Remote Software Upgrade\\xb0\\\\xc3\\\\x9cberblick\\xb0Remote Software Upgrade 22-07\\xb0Alle Remote Software Upgrades\\xb0BMW ConnectedDrive Store & Portal\\xb0Kundenbetreuung\\xb0BMW Partner finden\\xb0Bluetooth-Kompatibilit\\\\xc3\\\\xa4t\\xb0BMW Apps\\xb0\\\\xc3\\\\x9cberblick\\xb0My BMW App\\xb0Betriebsanleitungen\\xb0Mobility Services & Ausstattungen\\xb0BMW M & Motorsport\\xb0BMW ConnectedDrive Store & Portal\\xb0Kundenbetreuung\\xb0BMW Partner finden\\xb0Gew\\\\xc3\\\\xa4hrleistung & Garantien\\xb0Entdecken\\xb0BMW EfficientDynamics\\xb0Antriebsvariante finden\\xb0BMW Individual\\xb0BMW Luxusklasse\\xb0BMW xDrive\\xb0BMW erleben\\xb0Sport & Kultur\\xb0BMW EfficientDynamics\\xb0Effizientes Fahren\\xb0Verbrauch, Emissionen & Messverfahren\\xb0NEFZ & WLTP Wertetabelle\\xb0Reifenkennzeichnung\\xb0Effiziente Technologien\\xb0Konfigurieren & Preise\\xb0Kundenbetreuung\\xb0BMW Partner finden\\xb0BMW Genius\\xb0Antriebsvariante finden\\xb0Infomaterial anfordern\\xb0Probefahrt vereinbaren\\xb0BMW Partner finden\\xb0Kundenbetreuung\\xb0BMW Individual\\xb0Konfigurieren & Preise\\xb0Kundenbetreuung\\xb0BMW Partner finden\\xb0BMW Genius\\xb0BMW Luxusklasse\\xb0Konfigurieren & Preise\\xb0Kundenbetreuung\\xb0BMW Partner finden\\xb0BMW Genius\\xb0BMW xDrive\\xb0Konfigurieren & Preise\\xb0Kundenbetreuung\\xb0BMW Partner finden\\xb0BMW Genius\\xb0BMW erleben\\xb0BMW Welt & Werksf\\\\xc3\\\\xbchrung\\xb0BMW Driving Experience & BMW Rent I MINI Rent\\xb0BMW Gewinnspiele\\xb0Mein BMW Vorteilsprogramm\\xb0Kundenbetreuung\\xb0BMW Genius\\xb0BMW Partner finden\\xb0BMW Shop\\xb0Sport & Kultur\\xb0\\\\xc3\\\\x9cberblick\\xb0BMW Motorsport\\xb0BMW Laufsport\\xb0BMW Wintersport\\xb0BMW Golfsport\\xb0BMW Open\\xb0BMW Kultur\\xb0Kundenbetreuung\\xb0BMW Partner finden\\xb0BMW Ticketshop\\xb0Die Preisangabe bezieht sich auf den BMW iX\\xb0\\\\r\\\\nxDrive40.\\xb0\\\\r\\\\nAbbildungen zeigen Sonderausstattung gegen Mehrpreis. Bei den Preisangaben handelt es sich um unverbindliche Empfehlungen des Herstellers inkl. 19% MwSt. und exklusive \\\\xc3\\\\x9cberf\\\\xc3\\\\xbchrungskosten. \\\\xc3\\\\x84nderungen und Irrt\\\\xc3\\\\xbcmer vorbehalten. Verbindliche Preisausk\\\\xc3\\\\xbcnfte gibt Ihnen gern Ihr BMW Partner.\\xb0\\\\r\\\\n\\xb0\\\\r\\\\n\\xb0Abbildungen zeigen Sonderausstattung gegen Mehrpreis. Bei den Preisangaben handelt es sich um unverbindliche Empfehlungen des Herstellers inkl. 19% MwSt. und exklusive \\\\xc3\\\\x9cberf\\\\xc3\\\\xbchrungskosten. \\\\xc3\\\\x84nderungen und Irrt\\\\xc3\\\\xbcmer vorbehalten. Verbindliche Preisausk\\\\xc3\\\\xbcnfte gibt Ihnen gern Ihr BMW Partner.\\xb0\\\\r\\\\n\\xb0\\\\r\\\\n\\xb0Abbildungen zeigen Sonderausstattung gegen Mehrpreis. Bei den Preisangaben handelt es sich um unverbindliche Empfehlungen des Herstellers inkl. 19% MwSt. und exklusive \\\\xc3\\\\x9cberf\\\\xc3\\\\xbchrungskosten. \\\\xc3\\\\x84nderungen und Irrt\\\\xc3\\\\xbcmer vorbehalten. Verbindliche Preisausk\\\\xc3\\\\xbcnfte gibt Ihnen gern Ihr BMW Partner.\\xb0\\\\r\\\\n\\xb0\\\\r\\\\n\\xb0Die Preisangabe bezieht sich auf den BMW i4 eDrive35.\\xb0\\\\r\\\\nAbbildungen zeigen Sonderausstattung gegen Mehrpreis. Bei den Preisangaben handelt es sich um unverbindliche Empfehlungen des Herstellers inkl. 19% MwSt. und exklusive \\\\xc3\\\\x9cberf\\\\xc3\\\\xbchrungskosten. \\\\xc3\\\\x84nderungen und Irrt\\\\xc3\\\\xbcmer vorbehalten. Verbindliche Preisausk\\\\xc3\\\\xbcnfte gibt Ihnen gern Ihr BMW Partner.\\xb0\\\\r\\\\n\\xb0\\\\r\\\\n\\xb0Abbildungen zeigen Sonderausstattung gegen Mehrpreis. Bei den Preisangaben handelt es sich um unverbindliche Empfehlungen des Herstellers inkl. 19% MwSt. und exklusive \\\\xc3\\\\x9cberf\\\\xc3\\\\xbchrungskosten. \\\\xc3\\\\x84nderungen und Irrt\\\\xc3\\\\xbcmer vorbehalten. Verbindliche Preisausk\\\\xc3\\\\xbcnfte gibt Ihnen gern Ihr BMW Partner.\\xb0\\\\r\\\\n\\xb0\\\\r\\\\n\\xb0Die Preisangabe bezieht sich auf den BMW iX3 Modell \\\\xe2\\\\x80\\\\x9eInspiring\\\\xe2\\\\x80\\\\x9c.\\xb0\\\\r\\\\n\\xb0\\\\r\\\\nAbbildungen zeigen Sonderausstattungen gegen Mehrpreis. Bei den Preisangaben handelt es sich um unverbindliche Empfehlungen des Herstellers inkl. 19% MwSt. und exklusive \\\\xc3\\\\x9cberf\\\\xc3\\\\xbchrungskosten. \\\\xc3\\\\x84nderungen und Irrt\\\\xc3\\\\xbcmer vorbehalten. Verbindliche Preisausk\\\\xc3\\\\xbcnfte gibt Ihnen gern Ihr BMW Partner.\\xb0\\\\r\\\\n\\xb0Abbildungen zeigen Sonderausstattung gegen Mehrpreis. Bei den Preisangaben handelt es sich um unverbindliche Empfehlungen des Herstellers inkl. 19% MwSt. und exklusive \\\\xc3\\\\x9cberf\\\\xc3\\\\xbchrungskosten. \\\\xc3\\\\x84nderungen und Irrt\\\\xc3\\\\xbcmer vorbehalten. Verbindliche Preisausk\\\\xc3\\\\xbcnfte gibt Ihnen gern Ihr BMW Partner.\\xb0\\\\r\\\\n\\xb0\\\\r\\\\n\\xb0Abbildungen zeigen Sonderausstattung gegen Mehrpreis. Bei den Preisangaben handelt es sich um unverbindliche Empfehlungen des Herstellers inkl. 19% MwSt. und exklusive \\\\xc3\\\\x9cberf\\\\xc3\\\\xbchrungskosten. \\\\xc3\\\\x84nderungen und Irrt\\\\xc3\\\\xbcmer vorbehalten. Verbindliche Preisausk\\\\xc3\\\\xbcnfte gibt Ihnen gern Ihr BMW Partner.\\xb0\\\\r\\\\n\\xb0\\\\r\\\\n\\xb0Abbildungen zeigen Sonderausstattung gegen Mehrpreis. Bei den Preisangaben handelt es sich um unverbindliche Empfehlungen des Herstellers inkl. 19% MwSt. und exklusive \\\\xc3\\\\x9cberf\\\\xc3\\\\xbchrungskosten. \\\\xc3\\\\x84nderungen und Irrt\\\\xc3\\\\xbcmer vorbehalten. Verbindliche Preisausk\\\\xc3\\\\xbcnfte gibt Ihnen gern Ihr BMW Partner.\\xb0\\\\r\\\\n\\xb0\\\\r\\\\n\\xb0Abbildungen zeigen Sonderausstattung gegen Mehrpreis. Bei den Preisangaben handelt es sich um unverbindliche Empfehlungen des Herstellers inkl. 19% MwSt. und exklusive \\\\xc3\\\\x9cberf\\\\xc3\\\\xbchrungskosten. \\\\xc3\\\\x84nderungen und Irrt\\\\xc3\\\\xbcmer vorbehalten. Verbindliche Preisausk\\\\xc3\\\\xbcnfte gibt Ihnen gern Ihr BMW Partner.\\xb0\\\\r\\\\n\\xb0\\\\r\\\\n\\xb0Abbildungen zeigen Sonderausstattung gegen Mehrpreis. Bei den Preisangaben handelt es sich um unverbindliche Empfehlungen des Herstellers inkl. 19% MwSt. und exklusive \\\\xc3\\\\x9cberf\\\\xc3\\\\xbchrungskosten. \\\\xc3\\\\x84nderungen und Irrt\\\\xc3\\\\xbcmer vorbehalten. Verbindliche Preisausk\\\\xc3\\\\xbcnfte gibt Ihnen gern Ihr BMW Partner.\\xb0\\\\r\\\\n\\xb0\\\\r\\\\n\\xb0Abbildungen zeigen Sonderausstattung gegen Mehrpreis. Bei den Preisangaben handelt es sich um unverbindliche Empfehlungen des Herstellers inkl. 19% MwSt. und exklusive \\\\xc3\\\\x9cberf\\\\xc3\\\\xbchrungskosten. \\\\xc3\\\\x84nderungen und Irrt\\\\xc3\\\\xbcmer vorbehalten. Verbindliche Preisausk\\\\xc3\\\\xbcnfte gibt Ihnen gern Ihr BMW Partner.\\xb0\\\\r\\\\n\\xb0\\\\r\\\\n\\xb0Abbildungen zeigen Sonderausstattung gegen Mehrpreis. Bei den Preisangaben handelt es sich um unverbindliche Empfehlungen des Herstellers inkl. 19% MwSt. und exklusive \\\\xc3\\\\x9cberf\\\\xc3\\\\xbchrungskosten. \\\\xc3\\\\x84nderungen und Irrt\\\\xc3\\\\xbcmer vorbehalten. Verbindliche Preisausk\\\\xc3\\\\xbcnfte gibt Ihnen gern Ihr BMW Partner.\\xb0\\\\r\\\\n\\xb0\\\\r\\\\n\\xb0Abbildungen zeigen Sonderausstattung gegen Mehrpreis. Bei den Preisangaben handelt es sich um unverbindliche Empfehlungen des Herstellers inkl. 19% MwSt. und exklusive \\\\xc3\\\\x9cberf\\\\xc3\\\\xbchrungskosten. \\\\xc3\\\\x84nderungen und Irrt\\\\xc3\\\\xbcmer vorbehalten. Verbindliche Preisausk\\\\xc3\\\\xbcnfte gibt Ihnen gern Ihr BMW Partner.\\xb0\\\\r\\\\n\\xb0\\\\r\\\\n\\xb0Abbildungen zeigen Sonderausstattung gegen Mehrpreis. Bei den Preisangaben handelt es sich um unverbindliche Empfehlungen des Herstellers inkl. 19% MwSt. und exklusive \\\\xc3\\\\x9cberf\\\\xc3\\\\xbchrungskosten. \\\\xc3\\\\x84nderungen und Irrt\\\\xc3\\\\xbcmer vorbehalten. Verbindliche Preisausk\\\\xc3\\\\xbcnfte gibt Ihnen gern Ihr BMW Partner.\\xb0\\\\r\\\\n\\xb0\\\\r\\\\n\\xb0Abbildungen zeigen Sonderausstattung gegen Mehrpreis. Bei den Preisangaben handelt es sich um unverbindliche Empfehlungen des Herstellers inkl. 19% MwSt. und exklusive \\\\xc3\\\\x9cberf\\\\xc3\\\\xbchrungskosten. \\\\xc3\\\\x84nderungen und Irrt\\\\xc3\\\\xbcmer vorbehalten. Verbindliche Preisausk\\\\xc3\\\\xbcnfte gibt Ihnen gern Ihr BMW Partner.\\xb0\\\\r\\\\n\\xb0\\\\r\\\\n\\xb0Abbildungen zeigen Sonderausstattung gegen Mehrpreis. Bei den Preisangaben handelt es sich um unverbindliche Empfehlungen des Herstellers inkl. 19% MwSt. und exklusive \\\\xc3\\\\x9cberf\\\\xc3\\\\xbchrungskosten. \\\\xc3\\\\x84nderungen und Irrt\\\\xc3\\\\xbcmer vorbehalten. Verbindliche Preisausk\\\\xc3\\\\xbcnfte gibt Ihnen gern Ihr BMW Partner.\\xb0\\\\r\\\\n\\xb0\\\\r\\\\n\\xb0Abbildungen zeigen Sonderausstattung gegen Mehrpreis. Bei den Preisangaben handelt es sich um unverbindliche Empfehlungen des Herstellers inkl. 19% MwSt. und exklusive \\\\xc3\\\\x9cberf\\\\xc3\\\\xbchrungskosten. \\\\xc3\\\\x84nderungen und Irrt\\\\xc3\\\\xbcmer vorbehalten. Verbindliche Preisausk\\\\xc3\\\\xbcnfte gibt Ihnen gern Ihr BMW Partner.\\xb0\\\\r\\\\n\\xb0\\\\r\\\\n\\xb0Abbildungen zeigen Sonderausstattung gegen Mehrpreis. Bei den Preisangaben handelt es sich um unverbindliche Empfehlungen des Herstellers inkl. 19% MwSt. und exklusive \\\\xc3\\\\x9cberf\\\\xc3\\\\xbchrungskosten. \\\\xc3\\\\x84nderungen und Irrt\\\\xc3\\\\xbcmer vorbehalten. Verbindliche Preisausk\\\\xc3\\\\xbcnfte gibt Ihnen gern Ihr BMW Partner.\\xb0\\\\r\\\\n\\xb0\\\\r\\\\n\\xb0Abbildungen zeigen Sonderausstattung gegen Mehrpreis. Bei den Preisangaben handelt es sich um unverbindliche Empfehlungen des Herstellers inkl. 19% MwSt. und exklusive \\\\xc3\\\\x9cberf\\\\xc3\\\\xbchrungskosten. \\\\xc3\\\\x84nderungen und Irrt\\\\xc3\\\\xbcmer vorbehalten. Verbindliche Preisausk\\\\xc3\\\\xbcnfte gibt Ihnen gern Ihr BMW Partner.\\xb0\\\\r\\\\n\\xb0\\\\r\\\\n\\xb0Abbildungen zeigen Sonderausstattung gegen Mehrpreis. Bei den Preisangaben handelt es sich um unverbindliche Empfehlungen des Herstellers inkl. 19% MwSt. und exklusive \\\\xc3\\\\x9cberf\\\\xc3\\\\xbchrungskosten. \\\\xc3\\\\x84nderungen und Irrt\\\\xc3\\\\xbcmer vorbehalten. Verbindliche Preisausk\\\\xc3\\\\xbcnfte gibt Ihnen gern Ihr BMW Partner.\\xb0\\\\r\\\\n\\xb0\\\\r\\\\n\\xb0Die Preisangabe bezieht sich auf den BMW iX\\xb0\\\\r\\\\nxDrive40.\\xb0\\\\r\\\\nAbbildungen zeigen Sonderausstattung gegen Mehrpreis. Bei den Preisangaben handelt es sich um unverbindliche Empfehlungen des Herstellers inkl. 19% MwSt. und exklusive \\\\xc3\\\\x9cberf\\\\xc3\\\\xbchrungskosten. \\\\xc3\\\\x84nderungen und Irrt\\\\xc3\\\\xbcmer vorbehalten. Verbindliche Preisausk\\\\xc3\\\\xbcnfte gibt Ihnen gern Ihr BMW Partner.\\xb0\\\\r\\\\n\\xb0\\\\r\\\\n\\xb0Abbildungen zeigen Sonderausstattung gegen Mehrpreis. Bei den Preisangaben handelt es sich um unverbindliche Empfehlungen des Herstellers inkl. 19% MwSt. und exklusive \\\\xc3\\\\x9cberf\\\\xc3\\\\xbchrungskosten. \\\\xc3\\\\x84nderungen und Irrt\\\\xc3\\\\xbcmer vorbehalten. Verbindliche Preisausk\\\\xc3\\\\xbcnfte gibt Ihnen gern Ihr BMW Partner.\\xb0\\\\r\\\\n\\xb0\\\\r\\\\n\\xb0Die Preisangabe bezieht sich auf den BMW iX3 Modell \\\\xe2\\\\x80\\\\x9eInspiring\\\\xe2\\\\x80\\\\x9c.\\xb0\\\\r\\\\n\\xb0\\\\r\\\\nAbbildungen zeigen Sonderausstattungen gegen Mehrpreis. Bei den Preisangaben handelt es sich um unverbindliche Empfehlungen des Herstellers inkl. 19% MwSt. und exklusive \\\\xc3\\\\x9cberf\\\\xc3\\\\xbchrungskosten. \\\\xc3\\\\x84nderungen und Irrt\\\\xc3\\\\xbcmer vorbehalten. Verbindliche Preisausk\\\\xc3\\\\xbcnfte gibt Ihnen gern Ihr BMW Partner.\\xb0\\\\r\\\\n\\xb0Abbildungen zeigen Sonderausstattung gegen Mehrpreis. Bei den Preisangaben handelt es sich um unverbindliche Empfehlungen des Herstellers inkl. 19% MwSt. und exklusive \\\\xc3\\\\x9cberf\\\\xc3\\\\xbchrungskosten. \\\\xc3\\\\x84nderungen und Irrt\\\\xc3\\\\xbcmer vorbehalten. Verbindliche Preisausk\\\\xc3\\\\xbcnfte gibt Ihnen gern Ihr BMW Partner.\\xb0\\\\r\\\\n\\xb0\\\\r\\\\n\\xb0Abbildungen zeigen Sonderausstattung gegen Mehrpreis. Bei den Preisangaben handelt es sich um unverbindliche Empfehlungen des Herstellers inkl. 19% MwSt. und exklusive \\\\xc3\\\\x9cberf\\\\xc3\\\\xbchrungskosten. \\\\xc3\\\\x84nderungen und Irrt\\\\xc3\\\\xbcmer vorbehalten. Verbindliche Preisausk\\\\xc3\\\\xbcnfte gibt Ihnen gern Ihr BMW Partner.\\xb0\\\\r\\\\n\\xb0\\\\r\\\\n\\xb0Abbildungen zeigen Sonderausstattung gegen Mehrpreis. Bei den Preisangaben handelt es sich um unverbindliche Empfehlungen des Herstellers inkl. 19% MwSt. und exklusive \\\\xc3\\\\x9cberf\\\\xc3\\\\xbchrungskosten. \\\\xc3\\\\x84nderungen und Irrt\\\\xc3\\\\xbcmer vorbehalten. Verbindliche Preisausk\\\\xc3\\\\xbcnfte gibt Ihnen gern Ihr BMW Partner.\\xb0\\\\r\\\\n\\xb0\\\\r\\\\n\\xb0Abbildungen zeigen Sonderausstattung gegen Mehrpreis. Bei den Preisangaben handelt es sich um unverbindliche Empfehlungen des Herstellers inkl. 19% MwSt. und exklusive \\\\xc3\\\\x9cberf\\\\xc3\\\\xbchrungskosten. \\\\xc3\\\\x84nderungen und Irrt\\\\xc3\\\\xbcmer vorbehalten. Verbindliche Preisausk\\\\xc3\\\\xbcnfte gibt Ihnen gern Ihr BMW Partner.\\xb0\\\\r\\\\n\\xb0\\\\r\\\\n\\xb0Abbildungen zeigen Sonderausstattung gegen Mehrpreis. Bei den Preisangaben handelt es sich um unverbindliche Empfehlungen des Herstellers inkl. 19% MwSt. und exklusive \\\\xc3\\\\x9cberf\\\\xc3\\\\xbchrungskosten. \\\\xc3\\\\x84nderungen und Irrt\\\\xc3\\\\xbcmer vorbehalten. Verbindliche Preisausk\\\\xc3\\\\xbcnfte gibt Ihnen gern Ihr BMW Partner.\\xb0\\\\r\\\\n\\xb0\\\\r\\\\n\\xb0Abbildungen zeigen Sonderausstattung gegen Mehrpreis. Bei den Preisangaben handelt es sich um unverbindliche Empfehlungen des Herstellers inkl. 19% MwSt. und exklusive \\\\xc3\\\\x9cberf\\\\xc3\\\\xbchrungskosten. \\\\xc3\\\\x84nderungen und Irrt\\\\xc3\\\\xbcmer vorbehalten. Verbindliche Preisausk\\\\xc3\\\\xbcnfte gibt Ihnen gern Ihr BMW Partner.\\xb0\\\\r\\\\n\\xb0\\\\r\\\\n\\xb0Abbildungen zeigen Sonderausstattung gegen Mehrpreis. Bei den Preisangaben handelt es sich um unverbindliche Empfehlungen des Herstellers inkl. 19% MwSt. und exklusive \\\\xc3\\\\x9cberf\\\\xc3\\\\xbchrungskosten. \\\\xc3\\\\x84nderungen und Irrt\\\\xc3\\\\xbcmer vorbehalten. Verbindliche Preisausk\\\\xc3\\\\xbcnfte gibt Ihnen gern Ihr BMW Partner.\\xb0\\\\r\\\\n\\xb0\\\\r\\\\n\\xb0Abbildungen zeigen Sonderausstattung gegen Mehrpreis. Bei den Preisangaben handelt es sich um unverbindliche Empfehlungen des Herstellers inkl. 19% MwSt. und exklusive \\\\xc3\\\\x9cberf\\\\xc3\\\\xbchrungskosten. \\\\xc3\\\\x84nderungen und Irrt\\\\xc3\\\\xbcmer vorbehalten. Verbindliche Preisausk\\\\xc3\\\\xbcnfte gibt Ihnen gern Ihr BMW Partner.\\xb0\\\\r\\\\n\\xb0\\\\r\\\\n\\xb0Abbildungen zeigen Sonderausstattung gegen Mehrpreis. Bei den Preisangaben handelt es sich um unverbindliche Empfehlungen des Herstellers inkl. 19% MwSt. und exklusive \\\\xc3\\\\x9cberf\\\\xc3\\\\xbchrungskosten. \\\\xc3\\\\x84nderungen und Irrt\\\\xc3\\\\xbcmer vorbehalten. Verbindliche Preisausk\\\\xc3\\\\xbcnfte gibt Ihnen gern Ihr BMW Partner.\\xb0\\\\r\\\\n\\xb0\\\\r\\\\n\\xb0Abbildungen zeigen Sonderausstattung gegen Mehrpreis. Bei den Preisangaben handelt es sich um unverbindliche Empfehlungen des Herstellers inkl. 19% MwSt. und exklusive \\\\xc3\\\\x9cberf\\\\xc3\\\\xbchrungskosten. \\\\xc3\\\\x84nderungen und Irrt\\\\xc3\\\\xbcmer vorbehalten. Verbindliche Preisausk\\\\xc3\\\\xbcnfte gibt Ihnen gern Ihr BMW Partner.\\xb0\\\\r\\\\n\\xb0\\\\r\\\\n\\xb0Abbildungen zeigen Sonderausstattung gegen Mehrpreis. Bei den Preisangaben handelt es sich um unverbindliche Empfehlungen des Herstellers inkl. 19% MwSt. und exklusive \\\\xc3\\\\x9cberf\\\\xc3\\\\xbchrungskosten. \\\\xc3\\\\x84nderungen und Irrt\\\\xc3\\\\xbcmer vorbehalten. Verbindliche Preisausk\\\\xc3\\\\xbcnfte gibt Ihnen gern Ihr BMW Partner.\\xb0\\\\r\\\\n\\xb0\\\\r\\\\n\\xb0Abbildungen zeigen Sonderausstattung gegen Mehrpreis. Bei den Preisangaben handelt es sich um unverbindliche Empfehlungen des Herstellers inkl. 19% MwSt. und exklusive \\\\xc3\\\\x9cberf\\\\xc3\\\\xbchrungskosten. \\\\xc3\\\\x84nderungen und Irrt\\\\xc3\\\\xbcmer vorbehalten. Verbindliche Preisausk\\\\xc3\\\\xbcnfte gibt Ihnen gern Ihr BMW Partner.\\xb0\\\\r\\\\n\\xb0\\\\r\\\\n\\xb0Abbildungen zeigen Sonderausstattung gegen Mehrpreis. Bei den Preisangaben handelt es sich um unverbindliche Empfehlungen des Herstellers inkl. 19% MwSt. und exklusive \\\\xc3\\\\x9cberf\\\\xc3\\\\xbchrungskosten. \\\\xc3\\\\x84nderungen und Irrt\\\\xc3\\\\xbcmer vorbehalten. Verbindliche Preisausk\\\\xc3\\\\xbcnfte gibt Ihnen gern Ihr BMW Partner.\\xb0\\\\r\\\\n\\xb0\\\\r\\\\n\\xb0Abbildungen zeigen Sonderausstattung gegen Mehrpreis. Bei den Preisangaben handelt es sich um unverbindliche Empfehlungen des Herstellers inkl. 19% MwSt. und exklusive \\\\xc3\\\\x9cberf\\\\xc3\\\\xbchrungskosten. \\\\xc3\\\\x84nderungen und Irrt\\\\xc3\\\\xbcmer vorbehalten. Verbindliche Preisausk\\\\xc3\\\\xbcnfte gibt Ihnen gern Ihr BMW Partner.\\xb0\\\\r\\\\n\\xb0\\\\r\\\\n\\xb0Die Preisangabe bezieht sich auf das BMW\\xa0M440i xDrive\\xa0Cabrio.\\xb0\\\\r\\\\nAbbildungen zeigen Sonderausstattung gegen Mehrpreis. Bei den Preisangaben handelt es sich um unverbindliche Empfehlungen des Herstellers inkl. 19% MwSt. und exklusive \\\\xc3\\\\x9cberf\\\\xc3\\\\xbchrungskosten. \\\\xc3\\\\x84nderungen und Irrt\\\\xc3\\\\xbcmer vorbehalten. Verbindliche Preisausk\\\\xc3\\\\xbcnfte gibt Ihnen gern Ihr BMW Partner.\\xb0\\\\r\\\\n\\xb0\\\\r\\\\n\\xb0Abbildungen zeigen Sonderausstattung gegen Mehrpreis. Bei den Preisangaben handelt es sich um unverbindliche Empfehlungen des Herstellers inkl. 19% MwSt. und exklusive \\\\xc3\\\\x9cberf\\\\xc3\\\\xbchrungskosten. \\\\xc3\\\\x84nderungen und Irrt\\\\xc3\\\\xbcmer vorbehalten. Verbindliche Preisausk\\\\xc3\\\\xbcnfte gibt Ihnen gern Ihr BMW Partner.\\xb0\\\\r\\\\n\\xb0\\\\r\\\\n\\xb0Abbildungen zeigen Sonderausstattung gegen Mehrpreis. Bei den Preisangaben handelt es sich um unverbindliche Empfehlungen des Herstellers inkl. 19% MwSt. und exklusive \\\\xc3\\\\x9cberf\\\\xc3\\\\xbchrungskosten. \\\\xc3\\\\x84nderungen und Irrt\\\\xc3\\\\xbcmer vorbehalten. Verbindliche Preisausk\\\\xc3\\\\xbcnfte gibt Ihnen gern Ihr BMW Partner.\\xb0\\\\r\\\\n\\xb0\\\\r\\\\n\\xb0Abbildungen zeigen Sonderausstattung gegen Mehrpreis. Bei den Preisangaben handelt es sich um unverbindliche Empfehlungen des Herstellers inkl. 19% MwSt. und exklusive \\\\xc3\\\\x9cberf\\\\xc3\\\\xbchrungskosten. \\\\xc3\\\\x84nderungen und Irrt\\\\xc3\\\\xbcmer vorbehalten. Verbindliche Preisausk\\\\xc3\\\\xbcnfte gibt Ihnen gern Ihr BMW Partner.\\xb0\\\\r\\\\n\\xb0\\\\r\\\\n\\xb0Abbildungen zeigen Sonderausstattung gegen Mehrpreis. Bei den Preisangaben handelt es sich um unverbindliche Empfehlungen des Herstellers inkl. 19% MwSt. und exklusive \\\\xc3\\\\x9cberf\\\\xc3\\\\xbchrungskosten. \\\\xc3\\\\x84nderungen und Irrt\\\\xc3\\\\xbcmer vorbehalten. Verbindliche Preisausk\\\\xc3\\\\xbcnfte gibt Ihnen gern Ihr BMW Partner.\\xb0\\\\r\\\\n\\xb0\\\\r\\\\n\\xb0Abbildungen zeigen Sonderausstattung gegen Mehrpreis. Bei den Preisangaben handelt es sich um unverbindliche Empfehlungen des Herstellers inkl. 19% MwSt. und exklusive \\\\xc3\\\\x9cberf\\\\xc3\\\\xbchrungskosten. \\\\xc3\\\\x84nderungen und Irrt\\\\xc3\\\\xbcmer vorbehalten. Verbindliche Preisausk\\\\xc3\\\\xbcnfte gibt Ihnen gern Ihr BMW Partner.\\xb0\\\\r\\\\n\\xb0\\\\r\\\\n\\xb0Abbildungen zeigen Sonderausstattung gegen Mehrpreis. Bei den Preisangaben handelt es sich um unverbindliche Empfehlungen des Herstellers inkl. 19% MwSt. und exklusive \\\\xc3\\\\x9cberf\\\\xc3\\\\xbchrungskosten. \\\\xc3\\\\x84nderungen und Irrt\\\\xc3\\\\xbcmer vorbehalten. Verbindliche Preisausk\\\\xc3\\\\xbcnfte gibt Ihnen gern Ihr BMW Partner.\\xb0\\\\r\\\\n\\xb0\\\\r\\\\n\\xb0Abbildungen zeigen Sonderausstattung gegen Mehrpreis. Bei den Preisangaben handelt es sich um unverbindliche Empfehlungen des Herstellers inkl. 19% MwSt. und exklusive \\\\xc3\\\\x9cberf\\\\xc3\\\\xbchrungskosten. \\\\xc3\\\\x84nderungen und Irrt\\\\xc3\\\\xbcmer vorbehalten. Verbindliche Preisausk\\\\xc3\\\\xbcnfte gibt Ihnen gern Ihr BMW Partner.\\xb0\\\\r\\\\n\\xb0\\\\r\\\\n\\xb0Abbildungen zeigen Sonderausstattung gegen Mehrpreis. Bei den Preisangaben handelt es sich um unverbindliche Empfehlungen des Herstellers inkl. 19% MwSt. und exklusive \\\\xc3\\\\x9cberf\\\\xc3\\\\xbchrungskosten. \\\\xc3\\\\x84nderungen und Irrt\\\\xc3\\\\xbcmer vorbehalten. Verbindliche Preisausk\\\\xc3\\\\xbcnfte gibt Ihnen gern Ihr BMW Partner.\\xb0\\\\r\\\\n\\xb0\\\\r\\\\n\\xb0Abbildungen zeigen Sonderausstattung gegen Mehrpreis. Bei den Preisangaben handelt es sich um unverbindliche Empfehlungen des Herstellers inkl. 19% MwSt. und exklusive \\\\xc3\\\\x9cberf\\\\xc3\\\\xbchrungskosten. \\\\xc3\\\\x84nderungen und Irrt\\\\xc3\\\\xbcmer vorbehalten. Verbindliche Preisausk\\\\xc3\\\\xbcnfte gibt Ihnen gern Ihr BMW Partner.\\xb0\\\\r\\\\n\\xb0\\\\r\\\\n\\xb0Abbildungen zeigen Sonderausstattung gegen Mehrpreis. Bei den Preisangaben handelt es sich um unverbindliche Empfehlungen des Herstellers inkl. 19% MwSt. und exklusive \\\\xc3\\\\x9cberf\\\\xc3\\\\xbchrungskosten. \\\\xc3\\\\x84nderungen und Irrt\\\\xc3\\\\xbcmer vorbehalten. Verbindliche Preisausk\\\\xc3\\\\xbcnfte gibt Ihnen gern Ihr BMW Partner.\\xb0\\\\r\\\\n\\xb0\\\\r\\\\n\\xb0Abbildungen zeigen Sonderausstattung gegen Mehrpreis. Bei den Preisangaben handelt es sich um unverbindliche Empfehlungen des Herstellers inkl. 19% MwSt. und exklusive \\\\xc3\\\\x9cberf\\\\xc3\\\\xbchrungskosten. \\\\xc3\\\\x84nderungen und Irrt\\\\xc3\\\\xbcmer vorbehalten. Verbindliche Preisausk\\\\xc3\\\\xbcnfte gibt Ihnen gern Ihr BMW Partner.\\xb0\\\\r\\\\n\\xb0\\\\r\\\\n\\xb0Abbildungen zeigen Sonderausstattung gegen Mehrpreis. Bei den Preisangaben handelt es sich um unverbindliche Empfehlungen des Herstellers inkl. 19% MwSt. und exklusive \\\\xc3\\\\x9cberf\\\\xc3\\\\xbchrungskosten. \\\\xc3\\\\x84nderungen und Irrt\\\\xc3\\\\xbcmer vorbehalten. Verbindliche Preisausk\\\\xc3\\\\xbcnfte gibt Ihnen gern Ihr BMW Partner.\\xb0\\\\r\\\\n\\xb0\\\\r\\\\n\\xb0Abbildungen zeigen Sonderausstattung gegen Mehrpreis. Bei den Preisangaben handelt es sich um unverbindliche Empfehlungen des Herstellers inkl. 19% MwSt. und exklusive \\\\xc3\\\\x9cberf\\\\xc3\\\\xbchrungskosten. \\\\xc3\\\\x84nderungen und Irrt\\\\xc3\\\\xbcmer vorbehalten. Verbindliche Preisausk\\\\xc3\\\\xbcnfte gibt Ihnen gern Ihr BMW Partner.\\xb0\\\\r\\\\n\\xb0\\\\r\\\\n\\xb0Abbildungen zeigen Sonderausstattung gegen Mehrpreis. Bei den Preisangaben handelt es sich um unverbindliche Empfehlungen des Herstellers inkl. 19% MwSt. und exklusive \\\\xc3\\\\x9cberf\\\\xc3\\\\xbchrungskosten. \\\\xc3\\\\x84nderungen und Irrt\\\\xc3\\\\xbcmer vorbehalten. Verbindliche Preisausk\\\\xc3\\\\xbcnfte gibt Ihnen gern Ihr BMW Partner.\\xb0\\\\r\\\\n\\xb0\\\\r\\\\n\\xb0Abbildungen zeigen Sonderausstattung gegen Mehrpreis. Bei den Preisangaben handelt es sich um unverbindliche Empfehlungen des Herstellers inkl. 19% MwSt. und exklusive \\\\xc3\\\\x9cberf\\\\xc3\\\\xbchrungskosten. \\\\xc3\\\\x84nderungen und Irrt\\\\xc3\\\\xbcmer vorbehalten. Verbindliche Preisausk\\\\xc3\\\\xbcnfte gibt Ihnen gern Ihr BMW Partner.\\xb0\\\\r\\\\n\\xb0\\\\r\\\\n\\xb0Abbildungen zeigen Sonderausstattung gegen Mehrpreis. Bei den Preisangaben handelt es sich um unverbindliche Empfehlungen des Herstellers inkl. 19% MwSt. und exklusive \\\\xc3\\\\x9cberf\\\\xc3\\\\xbchrungskosten. \\\\xc3\\\\x84nderungen und Irrt\\\\xc3\\\\xbcmer vorbehalten. Verbindliche Preisausk\\\\xc3\\\\xbcnfte gibt Ihnen gern Ihr BMW Partner.\\xb0\\\\r\\\\n\\xb0\\\\r\\\\n\\xb0Abbildungen zeigen Sonderausstattung gegen Mehrpreis. Bei den Preisangaben handelt es sich um unverbindliche Empfehlungen des Herstellers inkl. 19% MwSt. und exklusive \\\\xc3\\\\x9cberf\\\\xc3\\\\xbchrungskosten. \\\\xc3\\\\x84nderungen und Irrt\\\\xc3\\\\xbcmer vorbehalten. Verbindliche Preisausk\\\\xc3\\\\xbcnfte gibt Ihnen gern Ihr BMW Partner.\\xb0\\\\r\\\\n\\xb0\\\\r\\\\n\\xb0Abbildungen zeigen Sonderausstattung gegen Mehrpreis. Bei den Preisangaben handelt es sich um unverbindliche Empfehlungen des Herstellers inkl. 19% MwSt. und exklusive \\\\xc3\\\\x9cberf\\\\xc3\\\\xbchrungskosten. \\\\xc3\\\\x84nderungen und Irrt\\\\xc3\\\\xbcmer vorbehalten. Verbindliche Preisausk\\\\xc3\\\\xbcnfte gibt Ihnen gern Ihr BMW Partner.\\xb0\\\\r\\\\n\\xb0\\\\r\\\\n\\xb0Abbildungen zeigen Sonderausstattung gegen Mehrpreis. Bei den Preisangaben handelt es sich um unverbindliche Empfehlungen des Herstellers inkl. 19% MwSt. und exklusive \\\\xc3\\\\x9cberf\\\\xc3\\\\xbchrungskosten. \\\\xc3\\\\x84nderungen und Irrt\\\\xc3\\\\xbcmer vorbehalten. Verbindliche Preisausk\\\\xc3\\\\xbcnfte gibt Ihnen gern Ihr BMW Partner.\\xb0\\\\r\\\\n\\xb0\\\\r\\\\n\\xb0Abbildungen zeigen Sonderausstattung gegen Mehrpreis. Bei den Preisangaben handelt es sich um unverbindliche Empfehlungen des Herstellers inkl. 19% MwSt. und exklusive \\\\xc3\\\\x9cberf\\\\xc3\\\\xbchrungskosten. \\\\xc3\\\\x84nderungen und Irrt\\\\xc3\\\\xbcmer vorbehalten. Verbindliche Preisausk\\\\xc3\\\\xbcnfte gibt Ihnen gern Ihr BMW Partner.\\xb0\\\\r\\\\n\\xb0\\\\r\\\\n\\xb0Abbildungen zeigen Sonderausstattung gegen Mehrpreis. Bei den Preisangaben handelt es sich um unverbindliche Empfehlungen des Herstellers inkl. 19% MwSt. und exklusive \\\\xc3\\\\x9cberf\\\\xc3\\\\xbchrungskosten. \\\\xc3\\\\x84nderungen und Irrt\\\\xc3\\\\xbcmer vorbehalten. Verbindliche Preisausk\\\\xc3\\\\xbcnfte gibt Ihnen gern Ihr BMW Partner.\\xb0\\\\r\\\\n\\xb0\\\\r\\\\n\\xb0Abbildungen zeigen Sonderausstattung gegen Mehrpreis. Bei den Preisangaben handelt es sich um unverbindliche Empfehlungen des Herstellers inkl. 19% MwSt. und exklusive \\\\xc3\\\\x9cberf\\\\xc3\\\\xbchrungskosten. \\\\xc3\\\\x84nderungen und Irrt\\\\xc3\\\\xbcmer vorbehalten. Verbindliche Preisausk\\\\xc3\\\\xbcnfte gibt Ihnen gern Ihr BMW Partner.\\xb0\\\\r\\\\n\\xb0\\\\r\\\\n\\xb0Abbildungen zeigen Sonderausstattung gegen Mehrpreis. Bei den Preisangaben handelt es sich um unverbindliche Empfehlungen des Herstellers inkl. 19% MwSt. und exklusive \\\\xc3\\\\x9cberf\\\\xc3\\\\xbchrungskosten. \\\\xc3\\\\x84nderungen und Irrt\\\\xc3\\\\xbcmer vorbehalten. Verbindliche Preisausk\\\\xc3\\\\xbcnfte gibt Ihnen gern Ihr BMW Partner.\\xb0\\\\r\\\\n\\xb0\\\\r\\\\n\\xb0Abbildungen zeigen Sonderausstattung gegen Mehrpreis. Bei den Preisangaben handelt es sich um unverbindliche Empfehlungen des Herstellers inkl. 19% MwSt. und exklusive \\\\xc3\\\\x9cberf\\\\xc3\\\\xbchrungskosten. \\\\xc3\\\\x84nderungen und Irrt\\\\xc3\\\\xbcmer vorbehalten. Verbindliche Preisausk\\\\xc3\\\\xbcnfte gibt Ihnen gern Ihr BMW Partner.\\xb0\\\\r\\\\n\\xb0\\\\r\\\\n\\xb0Abbildungen zeigen Sonderausstattung gegen Mehrpreis. Bei den Preisangaben handelt es sich um unverbindliche Empfehlungen des Herstellers inkl. 19% MwSt. und exklusive \\\\xc3\\\\x9cberf\\\\xc3\\\\xbchrungskosten. \\\\xc3\\\\x84nderungen und Irrt\\\\xc3\\\\xbcmer vorbehalten. Verbindliche Preisausk\\\\xc3\\\\xbcnfte gibt Ihnen gern Ihr BMW Partner.\\xb0\\\\r\\\\n\\xb0\\\\r\\\\n\\xb0Die Preisangabe bezieht sich auf das BMW\\xa0M440i xDrive\\xa0Cabrio.\\xb0\\\\r\\\\nAbbildungen zeigen Sonderausstattung gegen Mehrpreis. Bei den Preisangaben handelt es sich um unverbindliche Empfehlungen des Herstellers inkl. 19% MwSt. und exklusive \\\\xc3\\\\x9cberf\\\\xc3\\\\xbchrungskosten. \\\\xc3\\\\x84nderungen und Irrt\\\\xc3\\\\xbcmer vorbehalten. Verbindliche Preisausk\\\\xc3\\\\xbcnfte gibt Ihnen gern Ihr BMW Partner.\\xb0\\\\r\\\\n\\xb0\\\\r\\\\n\\xb0Abbildungen zeigen Sonderausstattung gegen Mehrpreis. Bei den Preisangaben handelt es sich um unverbindliche Empfehlungen des Herstellers inkl. 19% MwSt. und exklusive \\\\xc3\\\\x9cberf\\\\xc3\\\\xbchrungskosten. \\\\xc3\\\\x84nderungen und Irrt\\\\xc3\\\\xbcmer vorbehalten. Verbindliche Preisausk\\\\xc3\\\\xbcnfte gibt Ihnen gern Ihr BMW Partner.\\xb0\\\\r\\\\n\\xb0\\\\r\\\\n\\xb0Abbildungen zeigen Sonderausstattung gegen Mehrpreis. Bei den Preisangaben handelt es sich um unverbindliche Empfehlungen des Herstellers inkl. 19% MwSt. und exklusive \\\\xc3\\\\x9cberf\\\\xc3\\\\xbchrungskosten. \\\\xc3\\\\x84nderungen und Irrt\\\\xc3\\\\xbcmer vorbehalten. Verbindliche Preisausk\\\\xc3\\\\xbcnfte gibt Ihnen gern Ihr BMW Partner.\\xb0\\\\r\\\\n\\xb0\\\\r\\\\n\\xb0Abbildungen zeigen Sonderausstattung gegen Mehrpreis. Bei den Preisangaben handelt es sich um unverbindliche Empfehlungen des Herstellers inkl. 19% MwSt. und exklusive \\\\xc3\\\\x9cberf\\\\xc3\\\\xbchrungskosten. \\\\xc3\\\\x84nderungen und Irrt\\\\xc3\\\\xbcmer vorbehalten. Verbindliche Preisausk\\\\xc3\\\\xbcnfte gibt Ihnen gern Ihr BMW Partner.\\xb0\\\\r\\\\n\\xb0\\\\r\\\\n\\xb0Abbildungen zeigen Sonderausstattung gegen Mehrpreis. Bei den Preisangaben handelt es sich um unverbindliche Empfehlungen des Herstellers inkl. 19% MwSt. und exklusive \\\\xc3\\\\x9cberf\\\\xc3\\\\xbchrungskosten. \\\\xc3\\\\x84nderungen und Irrt\\\\xc3\\\\xbcmer vorbehalten. Verbindliche Preisausk\\\\xc3\\\\xbcnfte gibt Ihnen gern Ihr BMW Partner.\\xb0\\\\r\\\\n\\xb0\\\\r\\\\n\\xb0Abbildungen zeigen Sonderausstattung gegen Mehrpreis. Bei den Preisangaben handelt es sich um unverbindliche Empfehlungen des Herstellers inkl. 19% MwSt. und exklusive \\\\xc3\\\\x9cberf\\\\xc3\\\\xbchrungskosten. \\\\xc3\\\\x84nderungen und Irrt\\\\xc3\\\\xbcmer vorbehalten. Verbindliche Preisausk\\\\xc3\\\\xbcnfte gibt Ihnen gern Ihr BMW Partner.\\xb0\\\\r\\\\n\\xb0\\\\r\\\\n\\xb0Abbildungen zeigen Sonderausstattung gegen Mehrpreis. Bei den Preisangaben handelt es sich um unverbindliche Empfehlungen des Herstellers inkl. 19% MwSt. und exklusive \\\\xc3\\\\x9cberf\\\\xc3\\\\xbchrungskosten. \\\\xc3\\\\x84nderungen und Irrt\\\\xc3\\\\xbcmer vorbehalten. Verbindliche Preisausk\\\\xc3\\\\xbcnfte gibt Ihnen gern Ihr BMW Partner.\\xb0\\\\r\\\\n\\xb0\\\\r\\\\n\\xb0Abbildungen zeigen Sonderausstattung gegen Mehrpreis. Bei den Preisangaben handelt es sich um unverbindliche Empfehlungen des Herstellers inkl. 19% MwSt. und exklusive \\\\xc3\\\\x9cberf\\\\xc3\\\\xbchrungskosten. \\\\xc3\\\\x84nderungen und Irrt\\\\xc3\\\\xbcmer vorbehalten. Verbindliche Preisausk\\\\xc3\\\\xbcnfte gibt Ihnen gern Ihr BMW Partner.\\xb0\\\\r\\\\n\\xb0\\\\r\\\\n\\xb0Abbildungen zeigen Sonderausstattung gegen Mehrpreis. Bei den Preisangaben handelt es sich um unverbindliche Empfehlungen des Herstellers inkl. 19% MwSt. und exklusive \\\\xc3\\\\x9cberf\\\\xc3\\\\xbchrungskosten. \\\\xc3\\\\x84nderungen und Irrt\\\\xc3\\\\xbcmer vorbehalten. Verbindliche Preisausk\\\\xc3\\\\xbcnfte gibt Ihnen gern Ihr BMW Partner.\\xb0\\\\r\\\\n\\xb0\\\\r\\\\n\\xb0Abbildungen zeigen Sonderausstattung gegen Mehrpreis. Bei den Preisangaben handelt es sich um unverbindliche Empfehlungen des Herstellers inkl. 19% MwSt. und exklusive \\\\xc3\\\\x9cberf\\\\xc3\\\\xbchrungskosten. \\\\xc3\\\\x84nderungen und Irrt\\\\xc3\\\\xbcmer vorbehalten. Verbindliche Preisausk\\\\xc3\\\\xbcnfte gibt Ihnen gern Ihr BMW Partner.\\xb0\\\\r\\\\n\\xb0\\\\r\\\\n\\xb0Abbildungen zeigen Sonderausstattung gegen Mehrpreis. Bei den Preisangaben handelt es sich um unverbindliche Empfehlungen des Herstellers inkl. 19% MwSt. und exklusive \\\\xc3\\\\x9cberf\\\\xc3\\\\xbchrungskosten. \\\\xc3\\\\x84nderungen und Irrt\\\\xc3\\\\xbcmer vorbehalten. Verbindliche Preisausk\\\\xc3\\\\xbcnfte gibt Ihnen gern Ihr BMW Partner.\\xb0\\\\r\\\\n\\xb0\\\\r\\\\n\\xb0Abbildungen zeigen Sonderausstattung gegen Mehrpreis. Bei den Preisangaben handelt es sich um unverbindliche Empfehlungen des Herstellers inkl. 19% MwSt. und exklusive \\\\xc3\\\\x9cberf\\\\xc3\\\\xbchrungskosten. \\\\xc3\\\\x84nderungen und Irrt\\\\xc3\\\\xbcmer vorbehalten. Verbindliche Preisausk\\\\xc3\\\\xbcnfte gibt Ihnen gern Ihr BMW Partner.\\xb0\\\\r\\\\n\\xb0\\\\r\\\\n\\xb0Abbildungen zeigen Sonderausstattung gegen Mehrpreis. Bei den Preisangaben handelt es sich um unverbindliche Empfehlungen des Herstellers inkl. 19% MwSt. und exklusive \\\\xc3\\\\x9cberf\\\\xc3\\\\xbchrungskosten. \\\\xc3\\\\x84nderungen und Irrt\\\\xc3\\\\xbcmer vorbehalten. Verbindliche Preisausk\\\\xc3\\\\xbcnfte gibt Ihnen gern Ihr BMW Partner.\\xb0\\\\r\\\\n\\xb0\\\\r\\\\n\\xb0Die Plug-in-Hybrid Modelle BMW 225e xDrive und BMW\\xa0230e\\xa0xDrive Active\\xa0Tourer\\xa0sind\\xa0voraussichtlich ab 7/2022 verf\\\\xc3\\\\xbcgbar.\\xa0Abbildungen zeigen Sonderausstattung gegen Mehrpreis. Bei den Preisangaben handelt es sich um unverbindliche Empfehlungen des Herstellers inkl. 19% MwSt. und exklusive \\\\xc3\\\\x9cberf\\\\xc3\\\\xbchrungskosten. \\\\xc3\\\\x84nderungen und Irrt\\\\xc3\\\\xbcmer vorbehalten. Verbindliche Preisausk\\\\xc3\\\\xbcnfte gibt Ihnen gern Ihr BMW Partner.\\xb0\\\\r\\\\n\\xb0Abbildungen zeigen Sonderausstattung gegen Mehrpreis. Bei den Preisangaben handelt es sich um unverbindliche Empfehlungen des Herstellers inkl. 19% MwSt. und exklusive \\\\xc3\\\\x9cberf\\\\xc3\\\\xbchrungskosten. \\\\xc3\\\\x84nderungen und Irrt\\\\xc3\\\\xbcmer vorbehalten. Verbindliche Preisausk\\\\xc3\\\\xbcnfte gibt Ihnen gern Ihr BMW Partner.\\xb0\\\\r\\\\n\\xb0\\\\r\\\\n\\xb0Abbildungen zeigen Sonderausstattung gegen Mehrpreis. Bei den Preisangaben handelt es sich um unverbindliche Empfehlungen des Herstellers inkl. 19% MwSt. und exklusive \\\\xc3\\\\x9cberf\\\\xc3\\\\xbchrungskosten. \\\\xc3\\\\x84nderungen und Irrt\\\\xc3\\\\xbcmer vorbehalten. Verbindliche Preisausk\\\\xc3\\\\xbcnfte gibt Ihnen gern Ihr BMW Partner.\\xb0\\\\r\\\\n\\xb0\\\\r\\\\n\\xb0Abbildungen zeigen Sonderausstattung gegen Mehrpreis. Bei den Preisangaben handelt es sich um unverbindliche Empfehlungen des Herstellers inkl. 19% MwSt. und exklusive \\\\xc3\\\\x9cberf\\\\xc3\\\\xbchrungskosten. \\\\xc3\\\\x84nderungen und Irrt\\\\xc3\\\\xbcmer vorbehalten. Verbindliche Preisausk\\\\xc3\\\\xbcnfte gibt Ihnen gern Ihr BMW Partner.\\xb0\\\\r\\\\n\\xb0\\\\r\\\\n\\xb0Abbildungen zeigen Sonderausstattung gegen Mehrpreis. Bei den Preisangaben handelt es sich um unverbindliche Empfehlungen des Herstellers inkl. 19% MwSt. und exklusive \\\\xc3\\\\x9cberf\\\\xc3\\\\xbchrungskosten. \\\\xc3\\\\x84nderungen und Irrt\\\\xc3\\\\xbcmer vorbehalten. Verbindliche Preisausk\\\\xc3\\\\xbcnfte gibt Ihnen gern Ihr BMW Partner.\\xb0\\\\r\\\\n\\xb0\\\\r\\\\n\\xb0Abbildungen zeigen Sonderausstattung gegen Mehrpreis. Bei den Preisangaben handelt es sich um unverbindliche Empfehlungen des Herstellers inkl. 19% MwSt. und exklusive \\\\xc3\\\\x9cberf\\\\xc3\\\\xbchrungskosten. \\\\xc3\\\\x84nderungen und Irrt\\\\xc3\\\\xbcmer vorbehalten. Verbindliche Preisausk\\\\xc3\\\\xbcnfte gibt Ihnen gern Ihr BMW Partner.\\xb0\\\\r\\\\n\\xb0\\\\r\\\\n\\xb0Abbildungen zeigen Sonderausstattung gegen Mehrpreis. Bei den Preisangaben handelt es sich um unverbindliche Empfehlungen des Herstellers inkl. 19% MwSt. und exklusive \\\\xc3\\\\x9cberf\\\\xc3\\\\xbchrungskosten. \\\\xc3\\\\x84nderungen und Irrt\\\\xc3\\\\xbcmer vorbehalten. Verbindliche Preisausk\\\\xc3\\\\xbcnfte gibt Ihnen gern Ihr BMW Partner.\\xb0\\\\r\\\\n\\xb0\\\\r\\\\n\\xb0Abbildungen zeigen Sonderausstattung gegen Mehrpreis. Bei den Preisangaben handelt es sich um unverbindliche Empfehlungen des Herstellers inkl. 19% MwSt. und exklusive \\\\xc3\\\\x9cberf\\\\xc3\\\\xbchrungskosten. \\\\xc3\\\\x84nderungen und Irrt\\\\xc3\\\\xbcmer vorbehalten. Verbindliche Preisausk\\\\xc3\\\\xbcnfte gibt Ihnen gern Ihr BMW Partner.\\xb0\\\\r\\\\n\\xb0\\\\r\\\\n\\xb0Abbildungen zeigen Sonderausstattung gegen Mehrpreis. Bei den Preisangaben handelt es sich um unverbindliche Empfehlungen des Herstellers inkl. 19% MwSt. und exklusive \\\\xc3\\\\x9cberf\\\\xc3\\\\xbchrungskosten. \\\\xc3\\\\x84nderungen und Irrt\\\\xc3\\\\xbcmer vorbehalten. Verbindliche Preisausk\\\\xc3\\\\xbcnfte gibt Ihnen gern Ihr BMW Partner.\\xb0\\\\r\\\\n\\xb0\\\\r\\\\n\\xb0Abbildungen zeigen Sonderausstattung gegen Mehrpreis. Bei den Preisangaben handelt es sich um unverbindliche Empfehlungen des Herstellers inkl. 19% MwSt. und exklusive \\\\xc3\\\\x9cberf\\\\xc3\\\\xbchrungskosten. \\\\xc3\\\\x84nderungen und Irrt\\\\xc3\\\\xbcmer vorbehalten. Verbindliche Preisausk\\\\xc3\\\\xbcnfte gibt Ihnen gern Ihr BMW Partner.\\xb0\\\\r\\\\n\\xb0\\\\r\\\\n\\xb0Abbildungen zeigen Sonderausstattung gegen Mehrpreis. Bei den Preisangaben handelt es sich um unverbindliche Empfehlungen des Herstellers inkl. 19% MwSt. und exklusive \\\\xc3\\\\x9cberf\\\\xc3\\\\xbchrungskosten. \\\\xc3\\\\x84nderungen und Irrt\\\\xc3\\\\xbcmer vorbehalten. Verbindliche Preisausk\\\\xc3\\\\xbcnfte gibt Ihnen gern Ihr BMW Partner.\\xb0\\\\r\\\\n\\xb0\\\\r\\\\n\\xb0Abbildungen zeigen Sonderausstattung gegen Mehrpreis. Bei den Preisangaben handelt es sich um unverbindliche Empfehlungen des Herstellers inkl. 19% MwSt. und exklusive \\\\xc3\\\\x9cberf\\\\xc3\\\\xbchrungskosten. \\\\xc3\\\\x84nderungen und Irrt\\\\xc3\\\\xbcmer vorbehalten. Verbindliche Preisausk\\\\xc3\\\\xbcnfte gibt Ihnen gern Ihr BMW Partner.\\xb0\\\\r\\\\n\\xb0\\\\r\\\\n\\xb0Abbildungen zeigen Sonderausstattung gegen Mehrpreis. Bei den Preisangaben handelt es sich um unverbindliche Empfehlungen des Herstellers inkl. 19% MwSt. und exklusive \\\\xc3\\\\x9cberf\\\\xc3\\\\xbchrungskosten. \\\\xc3\\\\x84nderungen und Irrt\\\\xc3\\\\xbcmer vorbehalten. Verbindliche Preisausk\\\\xc3\\\\xbcnfte gibt Ihnen gern Ihr BMW Partner.\\xb0\\\\r\\\\n\\xb0\\\\r\\\\n\\xb0Abbildungen zeigen Sonderausstattung gegen Mehrpreis. Bei den Preisangaben handelt es sich um unverbindliche Empfehlungen des Herstellers inkl. 19% MwSt. und exklusive \\\\xc3\\\\x9cberf\\\\xc3\\\\xbchrungskosten. \\\\xc3\\\\x84nderungen und Irrt\\\\xc3\\\\xbcmer vorbehalten. Verbindliche Preisausk\\\\xc3\\\\xbcnfte gibt Ihnen gern Ihr BMW Partner.\\xb0\\\\r\\\\n\\xb0\\\\r\\\\n\\xb0Abbildungen zeigen Sonderausstattung gegen Mehrpreis. Bei den Preisangaben handelt es sich um unverbindliche Empfehlungen des Herstellers inkl. 19% MwSt. und exklusive \\\\xc3\\\\x9cberf\\\\xc3\\\\xbchrungskosten. \\\\xc3\\\\x84nderungen und Irrt\\\\xc3\\\\xbcmer vorbehalten. Verbindliche Preisausk\\\\xc3\\\\xbcnfte gibt Ihnen gern Ihr BMW Partner.\\xb0\\\\r\\\\n\\xb0\\\\r\\\\n\\xb0Abbildungen zeigen Sonderausstattung gegen Mehrpreis. Bei den Preisangaben handelt es sich um unverbindliche Empfehlungen des Herstellers inkl. 19% MwSt. und exklusive \\\\xc3\\\\x9cberf\\\\xc3\\\\xbchrungskosten. \\\\xc3\\\\x84nderungen und Irrt\\\\xc3\\\\xbcmer vorbehalten. Verbindliche Preisausk\\\\xc3\\\\xbcnfte gibt Ihnen gern Ihr BMW Partner.\\xb0\\\\r\\\\n\\xb0\\\\r\\\\n\\xb0Abbildungen zeigen Sonderausstattung gegen Mehrpreis. Bei den Preisangaben handelt es sich um unverbindliche Empfehlungen des Herstellers inkl. 19% MwSt. und exklusive \\\\xc3\\\\x9cberf\\\\xc3\\\\xbchrungskosten. \\\\xc3\\\\x84nderungen und Irrt\\\\xc3\\\\xbcmer vorbehalten. Verbindliche Preisausk\\\\xc3\\\\xbcnfte gibt Ihnen gern Ihr BMW Partner.\\xb0\\\\r\\\\n\\xb0\\\\r\\\\n\\xb0Abbildungen zeigen Sonderausstattung gegen Mehrpreis. Bei den Preisangaben handelt es sich um unverbindliche Empfehlungen des Herstellers inkl. 19% MwSt. und exklusive \\\\xc3\\\\x9cberf\\\\xc3\\\\xbchrungskosten. \\\\xc3\\\\x84nderungen und Irrt\\\\xc3\\\\xbcmer vorbehalten. Verbindliche Preisausk\\\\xc3\\\\xbcnfte gibt Ihnen gern Ihr BMW Partner.\\xb0\\\\r\\\\n\\xb0\\\\r\\\\n\\xb0ConnectedDrive Week.\\xb0Bis zu 20 % Rabatt.\\xb0Jetzt buchen\\xb0ConnectedDrive Week.\\xb0Bis zu 20 % Rabatt.\\xb0Jetzt buchen\\xb0THE iX\\xb0Mehr erfahren\\xb0THE iX\\xb0Mehr erfahren\\xb0BMW AUF DEM WEG IN EINE NACHHALTIGERE ZUKUNFT.\\xb0Mehr erfahren\\xb0BMW AUF DEM WEG IN EINE NACHHALTIGERE ZUKUNFT.\\xb0Mehr erfahren\\xb0Modelle\\xb0Bauformen\\xb0Alle\\xb0i\\xb0X\\xb0M\\xb08er\\xb07er\\xb06er\\xb05er\\xb04er\\xb03er\\xb02er\\xb01er\\xb0Z\\xb0Plug-in-Hybrid\\xb0Concept Cars\\xb0Limousine\\xb0Touring\\xb0Coup\\\\xc3\\\\xa9\\xb0Cabrio / Roadster\\xb0Sports Activity Vehicle\\xb0Sports Activity Coup\\\\xc3\\\\xa9\\xb0Gran Turismo\\xb0Multi Purpose Vehicle\\xb0Roadster\\xb0Kompakt\\xb0BMW i\\xb0Alle Modelle\\xb0Modell\\\\xc3\\\\xbcbersicht \\\\xc3\\\\xb6ffnen\\xb0Alle Modelle\\xb0Modell\\\\xc3\\\\xbcbersicht \\\\xc3\\\\xb6ffnen\\xb0Neu\\xb0BMW iX\\xb0Vollelektrisch\\xb0ab 77.300,00 \\\\xe2\\\\x82\\\\xac*\\xb0Sofort verf\\\\xc3\\\\xbcgbare BMW iX\\xb0Konfigurieren & Preise\\xb0Fahrzeuginformationen\\xb0Neu\\xb0BMW iX M60\\xb0Vollelektrisch\\xb0ab 136.100,00 \\\\xe2\\\\x82\\\\xac*\\xb0Konfigurieren & Preise\\xb0Fahrzeuginformationen\\xb0Neu\\xb0BMW i7\\xb0Vollelektrisch\\xb0ab 135.900,00 \\\\xe2\\\\x82\\\\xac*\\xb0Konfigurieren & Preise\\xb0Fahrzeuginformationen\\xb0Neu\\xb0BMW i4\\xb0Vollelektrisch\\xb0ab 56.500,00 \\\\xe2\\\\x82\\\\xac*\\xb0Konfigurieren & Preise\\xb0Fahrzeuginformationen\\xb0Neu\\xb0BMW i4 M50\\xb0Vollelektrisch\\xb0ab 70.800,00 \\\\xe2\\\\x82\\\\xac*\\xb0Konfigurieren & Preise\\xb0Fahrzeuginformationen\\xb0BMW i3\\xb0Vollelektrisch\\xb0Sofort verf\\\\xc3\\\\xbcgbare BMW i3\\xb0Fahrzeuginformationen\\xb0BMW iX3\\xb0Vollelektrisch\\xb0ab 67.300,00 \\\\xe2\\\\x82\\\\xac*\\xb0Sofort verf\\\\xc3\\\\xbcgbare BMW iX3\\xb0Konfigurieren & Preise\\xb0Fahrzeuginformationen\\xb0Neu\\xb0BMW iX1\\xb0Vollelektrisch\\xb0ab 55.000,00 \\\\xe2\\\\x82\\\\xac*\\xb0Konfigurieren & Preise\\xb0Fahrzeuginformationen\\xb0Neu\\xb0BMW XM\\xb0Plug-in-Hybrid\\xb0ab 170.000,00 \\\\xe2\\\\x82\\\\xac*\\xb0Konfigurieren & Preise\\xb0Fahrzeuginformationen\\xb0Neu\\xb0BMW X7\\xb0Benziner\\xb0\\\\xe2\\\\x80\\\\xa2\\xb0Diesel\\xb0ab 97.700,00 \\\\xe2\\\\x82\\\\xac*\\xb0Sofort verf\\\\xc3\\\\xbcgbare BMW X7\\xb0Konfigurieren & Preise\\xb0Fahrzeuginformationen\\xb0Neu\\xb0BMW X7 M Automobil\\xb0Benziner\\xb0ab 127.200,00 \\\\xe2\\\\x82\\\\xac*\\xb0Sofort verf\\\\xc3\\\\xbcgbare BMW X7 M\\xb0Konfigurieren & Preise\\xb0Fahrzeuginformationen\\xb0BMW X6\\xb0Benziner\\xb0\\\\xe2\\\\x80\\\\xa2\\xb0Diesel\\xb0ab 82.700,00 \\\\xe2\\\\x82\\\\xac*\\xb0Sofort verf\\\\xc3\\\\xbcgbare BMW X6\\xb0Konfigurieren & Preise\\xb0Fahrzeuginformationen\\xb0BMW X6 M Automobile\\xb0Benziner\\xb0ab 106.800,00 \\\\xe2\\\\x82\\\\xac*\\xb0Sofort verf\\\\xc3\\\\xbcgbare BMW X6 M\\xb0Konfigurieren & Preise\\xb0Fahrzeuginformationen\\xb0BMW X5\\xb0Benziner\\xb0\\\\xe2\\\\x80\\\\xa2\\xb0Diesel\\xb0\\\\xe2\\\\x80\\\\xa2\\xb0Plug-in-Hybrid\\xb0ab 73.200,00 \\\\xe2\\\\x82\\\\xac*\\xb0Sofort verf\\\\xc3\\\\xbcgbare BMW X5\\xb0Konfigurieren & Preise\\xb0Fahrzeuginformationen\\xb0BMW X5 M Automobile\\xb0Benziner\\xb0ab 104.000,00 \\\\xe2\\\\x82\\\\xac*\\xb0Sofort verf\\\\xc3\\\\xbcgbare BMW X5 M\\xb0Konfigurieren & Preise\\xb0Fahrzeuginformationen\\xb0BMW X4\\xb0Benziner\\xb0\\\\xe2\\\\x80\\\\xa2\\xb0Diesel\\xb0ab 57.050,00 \\\\xe2\\\\x82\\\\xac*\\xb0Sofort verf\\\\xc3\\\\xbcgbare BMW X4\\xb0Konfigurieren & Preise\\xb0Fahrzeuginformationen\\xb0BMW X4 M Automobile\\xb0Benziner\\xb0\\\\xe2\\\\x80\\\\xa2\\xb0Diesel\\xb0ab 77.850,00 \\\\xe2\\\\x82\\\\xac*\\xb0Sofort verf\\\\xc3\\\\xbcgbare BMW X4 M\\xb0Konfigurieren & Preise\\xb0Fahrzeuginformationen\\xb0BMW X3\\xb0Benziner\\xb0\\\\xe2\\\\x80\\\\xa2\\xb0Diesel\\xb0\\\\xe2\\\\x80\\\\xa2\\xb0Plug-in-Hybrid\\xb0ab 53.150,00 \\\\xe2\\\\x82\\\\xac*\\xb0Sofort verf\\\\xc3\\\\xbcgbare BMW X3\\xb0Konfigurieren & Preise\\xb0Fahrzeuginformationen\\xb0BMW X3 M Automobile\\xb0Benziner\\xb0\\\\xe2\\\\x80\\\\xa2\\xb0Diesel\\xb0ab 75.550,00 \\\\xe2\\\\x82\\\\xac*\\xb0Sofort verf\\\\xc3\\\\xbcgbare BMW X3 M\\xb0Konfigurieren & Preise\\xb0Fahrzeuginformationen\\xb0BMW X2\\xb0Benziner\\xb0\\\\xe2\\\\x80\\\\xa2\\xb0Diesel\\xb0\\\\xe2\\\\x80\\\\xa2\\xb0Plug-in-Hybrid\\xb0ab 36.150,00 \\\\xe2\\\\x82\\\\xac*\\xb0Sofort verf\\\\xc3\\\\xbcgbare BMW X2\\xb0Konfigurieren & Preise\\xb0Fahrzeuginformationen\\xb0BMW X2 M Automobil\\xb0Benziner\\xb0ab 58.200,00 \\\\xe2\\\\x82\\\\xac*\\xb0Sofort verf\\\\xc3\\\\xbcgbare BMW X2 M\\xb0Konfigurieren & Preise\\xb0Fahrzeuginformationen\\xb0Neu\\xb0BMW X1\\xb0Benziner\\xb0\\\\xe2\\\\x80\\\\xa2\\xb0Diesel\\xb0\\\\xe2\\\\x80\\\\xa2\\xb0Plug-in-Hybrid\\xb0ab 41.400,00 \\\\xe2\\\\x82\\\\xac*\\xb0Konfigurieren & Preise\\xb0Fahrzeuginformationen\\xb0Neu\\xb0BMW iX\\xb0Vollelektrisch\\xb0ab 77.300,00 \\\\xe2\\\\x82\\\\xac*\\xb0Sofort verf\\\\xc3\\\\xbcgbare BMW iX\\xb0Konfigurieren & Preise\\xb0Fahrzeuginformationen\\xb0Neu\\xb0BMW iX M60\\xb0Vollelektrisch\\xb0ab 136.100,00 \\\\xe2\\\\x82\\\\xac*\\xb0Konfigurieren & Preise\\xb0Fahrzeuginformationen\\xb0BMW iX3\\xb0Vollelektrisch\\xb0ab 67.300,00 \\\\xe2\\\\x82\\\\xac*\\xb0Sofort verf\\\\xc3\\\\xbcgbare BMW iX3\\xb0Konfigurieren & Preise\\xb0Fahrzeuginformationen\\xb0Neu\\xb0BMW iX1\\xb0Vollelektrisch\\xb0ab 55.000,00 \\\\xe2\\\\x82\\\\xac*\\xb0Konfigurieren & Preise\\xb0Fahrzeuginformationen\\xb0Neu\\xb0BMW XM\\xb0Plug-in-Hybrid\\xb0ab 170.000,00 \\\\xe2\\\\x82\\\\xac*\\xb0Konfigurieren & Preise\\xb0Fahrzeuginformationen\\xb0Neu\\xb0BMW X7 M Automobil\\xb0Benziner\\xb0ab 127.200,00 \\\\xe2\\\\x82\\\\xac*\\xb0Sofort verf\\\\xc3\\\\xbcgbare BMW X7 M\\xb0Konfigurieren & Preise\\xb0Fahrzeuginformationen\\xb0BMW X6 M Automobile\\xb0Benziner\\xb0ab 106.800,00 \\\\xe2\\\\x82\\\\xac*\\xb0Sofort verf\\\\xc3\\\\xbcgbare BMW X6 M\\xb0Konfigurieren & Preise\\xb0Fahrzeuginformationen\\xb0BMW X5 M Automobile\\xb0Benziner\\xb0ab 104.000,00 \\\\xe2\\\\x82\\\\xac*\\xb0Sofort verf\\\\xc3\\\\xbcgbare BMW X5 M\\xb0Konfigurieren & Preise\\xb0Fahrzeuginformationen\\xb0BMW X4 M Automobile\\xb0Benziner\\xb0\\\\xe2\\\\x80\\\\xa2\\xb0Diesel\\xb0ab 77.850,00 \\\\xe2\\\\x82\\\\xac*\\xb0Sofort verf\\\\xc3\\\\xbcgbare BMW X4 M\\xb0Konfigurieren & Preise\\xb0Fahrzeuginformationen\\xb0BMW X3 M Automobile\\xb0Benziner\\xb0\\\\xe2\\\\x80\\\\xa2\\xb0Diesel\\xb0ab 75.550,00 \\\\xe2\\\\x82\\\\xac*\\xb0Sofort verf\\\\xc3\\\\xbcgbare BMW X3 M\\xb0Konfigurieren & Preise\\xb0Fahrzeuginformationen\\xb0BMW X2 M Automobil\\xb0Benziner\\xb0ab 58.200,00 \\\\xe2\\\\x82\\\\xac*\\xb0Sofort verf\\\\xc3\\\\xbcgbare BMW X2 M\\xb0Konfigurieren & Preise\\xb0Fahrzeuginformationen\\xb0Neu\\xb0BMW 8er Gran Coup\\\\xc3\\\\xa9 M Automobile\\xb0Benziner\\xb0ab 129.000,00 \\\\xe2\\\\x82\\\\xac*\\xb0Sofort verf\\\\xc3\\\\xbcgbare BMW 8er Gran Coup\\\\xc3\\\\xa9 M\\xb0Konfigurieren & Preise\\xb0Fahrzeuginformationen\\xb0Neu\\xb0BMW 8er Cabriolet M Automobile\\xb0Benziner\\xb0ab 140.000,00 \\\\xe2\\\\x82\\\\xac*\\xb0Sofort verf\\\\xc3\\\\xbcgbare BMW 8er Cabriolet M\\xb0Konfigurieren & Preise\\xb0Fahrzeuginformationen\\xb0Neu\\xb0BMW 8er Coup\\\\xc3\\\\xa9 M Automobile\\xb0Benziner\\xb0ab 132.000,00 \\\\xe2\\\\x82\\\\xac*\\xb0Sofort verf\\\\xc3\\\\xbcgbare BMW 8er Coup\\\\xc3\\\\xa9 M\\xb0Konfigurieren & Preise\\xb0Fahrzeuginformationen\\xb0Neu\\xb0BMW 7er Limousine M Automobil\\xb0Plug-in-Hybrid\\xb0ab 144.000,00 \\\\xe2\\\\x82\\\\xac*\\xb0Konfigurieren & Preise\\xb0Fahrzeuginformationen\\xb0BMW 5er Limousine M Automobile\\xb0Benziner\\xb0ab 94.700,00 \\\\xe2\\\\x82\\\\xac*\\xb0Sofort verf\\\\xc3\\\\xbcgbare BMW 5er Limousine M\\xb0Konfigurieren & Preise\\xb0Fahrzeuginformationen\\xb0Neu\\xb0BMW 4er Gran Coup\\\\xc3\\\\xa9 M Automobil\\xb0Benziner\\xb0ab 68.900,00 \\\\xe2\\\\x82\\\\xac*\\xb0Sofort verf\\\\xc3\\\\xbcgbare BMW 4er Gran Coup\\\\xc3\\\\xa9 M\\xb0Konfigurieren & Preise\\xb0Fahrzeuginformationen\\xb0BMW 4er Cabrio M Automobile\\xb0Benziner\\xb0\\\\xe2\\\\x80\\\\xa2\\xb0Diesel\\xb0ab 76.400,00 \\\\xe2\\\\x82\\\\xac\\xb0Sofort verf\\\\xc3\\\\xbcgbare BMW 4er Cabrio M\\xb0Konfigurieren & Preise\\xb0Fahrzeuginformationen\\xb0Neu\\xb0BMW 4er Coup\\\\xc3\\\\xa9 M Automobile\\xb0Benziner\\xb0\\\\xe2\\\\x80\\\\xa2\\xb0Diesel\\xb0ab 68.900,00 \\\\xe2\\\\x82\\\\xac*\\xb0Sofort verf\\\\xc3\\\\xbcgbare BMW 4er Coup\\\\xc3\\\\xa9 M\\xb0Konfigurieren & Preise\\xb0Fahrzeuginformationen\\xb0Neu\\xb0BMW 3er Touring M Automobile\\xb0Benziner\\xb0\\\\xe2\\\\x80\\\\xa2\\xb0Diesel\\xb0ab 72.300,00 \\\\xe2\\\\x82\\\\xac*\\xb0Konfigurieren & Preise\\xb0Fahrzeuginformationen\\xb0Neu\\xb0BMW 3er Limousine M Automobile\\xb0Benziner\\xb0\\\\xe2\\\\x80\\\\xa2\\xb0Diesel\\xb0ab 71.300,00 \\\\xe2\\\\x82\\\\xac*\\xb0Konfigurieren & Preise\\xb0Fahrzeuginformationen\\xb0BMW 2er Gran Coup\\\\xc3\\\\xa9 M Automobil\\xb0Benziner\\xb0ab 56.450,00 \\\\xe2\\\\x82\\\\xac*\\xb0Sofort verf\\\\xc3\\\\xbcgbare BMW 2er Gran Coup\\\\xc3\\\\xa9 M\\xb0Konfigurieren & Preise\\xb0Fahrzeuginformationen\\xb0Neu\\xb0BMW 2er Coup\\\\xc3\\\\xa9 M Automobile\\xb0Benziner\\xb0ab 56.200,00 \\\\xe2\\\\x82\\\\xac*\\xb0Konfigurieren & Preise\\xb0Fahrzeuginformationen\\xb0BMW 1er M Automobil\\xb0Benziner\\xb0ab 53.650,00 \\\\xe2\\\\x82\\\\xac*\\xb0Sofort verf\\\\xc3\\\\xbcgbare BMW 1er M\\xb0Konfigurieren & Preise\\xb0Fahrzeuginformationen\\xb0Neu\\xb0BMW i4 M50\\xb0Vollelektrisch\\xb0ab 70.800,00 \\\\xe2\\\\x82\\\\xac*\\xb0Konfigurieren & Preise\\xb0Fahrzeuginformationen\\xb0Neu\\xb0BMW iX M60\\xb0Vollelektrisch\\xb0ab 136.100,00 \\\\xe2\\\\x82\\\\xac*\\xb0Konfigurieren & Preise\\xb0Fahrzeuginformationen\\xb0Neu\\xb0BMW Z4 M Automobil\\xb0Benziner\\xb0ab 66.900,00 \\\\xe2\\\\x82\\\\xac*\\xb0Konfigurieren & Preise\\xb0Fahrzeuginformationen\\xb0Neu\\xb0BMW 8er Coup\\\\xc3\\\\xa9\\xb0Benziner\\xb0\\\\xe2\\\\x80\\\\xa2\\xb0Diesel\\xb0ab 102.000,00 \\\\xe2\\\\x82\\\\xac*\\xb0Sofort verf\\\\xc3\\\\xbcgbare BMW 8er Coup\\\\xc3\\\\xa9\\xb0Konfigurieren & Preise\\xb0Fahrzeuginformationen\\xb0Neu\\xb0BMW 8er Coup\\\\xc3\\\\xa9 M Automobile\\xb0Benziner\\xb0ab 132.000,00 \\\\xe2\\\\x82\\\\xac*\\xb0Sofort verf\\\\xc3\\\\xbcgbare BMW 8er Coup\\\\xc3\\\\xa9 M\\xb0Konfigurieren & Preise\\xb0Fahrzeuginformationen\\xb0Neu\\xb0BMW 8er Cabriolet\\xb0Benziner\\xb0\\\\xe2\\\\x80\\\\xa2\\xb0Diesel\\xb0ab 110.000,00 \\\\xe2\\\\x82\\\\xac*\\xb0Sofort verf\\\\xc3\\\\xbcgbare BMW 8er Cabriolet\\xb0Konfigurieren & Preise\\xb0Fahrzeuginformationen\\xb0Neu\\xb0BMW 8er Cabriolet M Automobile\\xb0Benziner\\xb0ab 140.000,00 \\\\xe2\\\\x82\\\\xac*\\xb0Sofort verf\\\\xc3\\\\xbcgbare BMW 8er Cabriolet M\\xb0Konfigurieren & Preise\\xb0Fahrzeuginformationen\\xb0Neu\\xb0BMW 8er Gran Coup\\\\xc3\\\\xa9\\xb0Benziner\\xb0\\\\xe2\\\\x80\\\\xa2\\xb0Diesel\\xb0ab 99.000,00 \\\\xe2\\\\x82\\\\xac*\\xb0Sofort verf\\\\xc3\\\\xbcgbare BMW 8er Gran Coup\\\\xc3\\\\xa9\\xb0Konfigurieren & Preise\\xb0Fahrzeuginformationen\\xb0Neu\\xb0BMW 8er Gran Coup\\\\xc3\\\\xa9 M Automobile\\xb0Benziner\\xb0ab 129.000,00 \\\\xe2\\\\x82\\\\xac*\\xb0Sofort verf\\\\xc3\\\\xbcgbare BMW 8er Gran Coup\\\\xc3\\\\xa9 M\\xb0Konfigurieren & Preise\\xb0Fahrzeuginformationen\\xb0Neu\\xb0BMW 7er Limousine\\xb0Diesel\\xb0\\\\xe2\\\\x80\\\\xa2\\xb0Plug-in-Hybrid\\xb0ab 114.300,00 \\\\xe2\\\\x82\\\\xac\\xb0Konfigurieren & Preise\\xb0Fahrzeuginformationen\\xb0Neu\\xb0BMW 7er Limousine M Automobil\\xb0Plug-in-Hybrid\\xb0ab 144.000,00 \\\\xe2\\\\x82\\\\xac*\\xb0Konfigurieren & Preise\\xb0Fahrzeuginformationen\\xb0Neu\\xb0BMW i7\\xb0Vollelektrisch\\xb0ab 135.900,00 \\\\xe2\\\\x82\\\\xac*\\xb0Konfigurieren & Preise\\xb0Fahrzeuginformationen\\xb0BMW 6er Gran Turismo\\xb0Benziner\\xb0\\\\xe2\\\\x80\\\\xa2\\xb0Diesel\\xb0ab 67.300,00 \\\\xe2\\\\x82\\\\xac*\\xb0Sofort verf\\\\xc3\\\\xbcgbare BMW 6er Gran Turismo\\xb0Konfigurieren & Preise\\xb0Fahrzeuginformationen\\xb0BMW 5er Limousine\\xb0Benziner\\xb0\\\\xe2\\\\x80\\\\xa2\\xb0Diesel\\xb0\\\\xe2\\\\x80\\\\xa2\\xb0Plug-in-Hybrid\\xb0ab 53.700,00 \\\\xe2\\\\x82\\\\xac*\\xb0Sofort verf\\\\xc3\\\\xbcgbare BMW 5er Limousine\\xb0Konfigurieren & Preise\\xb0Fahrzeuginformationen\\xb0BMW 5er Limousine M Automobile\\xb0Benziner\\xb0ab 94.700,00 \\\\xe2\\\\x82\\\\xac*\\xb0Sofort verf\\\\xc3\\\\xbcgbare BMW 5er Limousine M\\xb0Konfigurieren & Preise\\xb0Fahrzeuginformationen\\xb0BMW 5er Touring\\xb0Benziner\\xb0\\\\xe2\\\\x80\\\\xa2\\xb0Diesel\\xb0\\\\xe2\\\\x80\\\\xa2\\xb0Plug-in-Hybrid\\xb0ab 55.900,00 \\\\xe2\\\\x82\\\\xac*\\xb0Sofort verf\\\\xc3\\\\xbcgbare BMW 5er Touring\\xb0Konfigurieren & Preise\\xb0Fahrzeuginformationen\\xb0BMW 4er Coup\\\\xc3\\\\xa9\\xb0Benziner\\xb0\\\\xe2\\\\x80\\\\xa2\\xb0Diesel\\xb0ab 49.200,00 \\\\xe2\\\\x82\\\\xac*\\xb0Sofort verf\\\\xc3\\\\xbcgbare BMW 4er Coup\\\\xc3\\\\xa9\\xb0Konfigurieren & Preise\\xb0Fahrzeuginformationen\\xb0Neu\\xb0BMW 4er Coup\\\\xc3\\\\xa9 M Automobile\\xb0Benziner\\xb0\\\\xe2\\\\x80\\\\xa2\\xb0Diesel\\xb0ab 68.900,00 \\\\xe2\\\\x82\\\\xac*\\xb0Sofort verf\\\\xc3\\\\xbcgbare BMW 4er Coup\\\\xc3\\\\xa9 M\\xb0Konfigurieren & Preise\\xb0Fahrzeuginformationen\\xb0BMW 4er Cabrio\\xb0Benziner\\xb0\\\\xe2\\\\x80\\\\xa2\\xb0Diesel\\xb0ab 56.700,00 \\\\xe2\\\\x82\\\\xac*\\xb0Sofort verf\\\\xc3\\\\xbcgbare BMW 4er Cabrio\\xb0Konfigurieren & Preise\\xb0Fahrzeuginformationen\\xb0BMW 4er Cabrio M Automobile\\xb0Benziner\\xb0\\\\xe2\\\\x80\\\\xa2\\xb0Diesel\\xb0ab 76.400,00 \\\\xe2\\\\x82\\\\xac\\xb0Sofort verf\\\\xc3\\\\xbcgbare BMW 4er Cabrio M\\xb0Konfigurieren & Preise\\xb0Fahrzeuginformationen\\xb0Neu\\xb0BMW 4er Gran Coup\\\\xc3\\\\xa9\\xb0Benziner\\xb0\\\\xe2\\\\x80\\\\xa2\\xb0Diesel\\xb0ab 49.500,00 \\\\xe2\\\\x82\\\\xac*\\xb0Sofort verf\\\\xc3\\\\xbcgbare BMW 4er Gran Coup\\\\xc3\\\\xa9\\xb0Konfigurieren & Preise\\xb0Fahrzeuginformationen\\xb0Neu\\xb0BMW 4er Gran Coup\\\\xc3\\\\xa9 M Automobil\\xb0Benziner\\xb0ab 68.900,00 \\\\xe2\\\\x82\\\\xac*\\xb0Sofort verf\\\\xc3\\\\xbcgbare BMW 4er Gran Coup\\\\xc3\\\\xa9 M\\xb0Konfigurieren & Preise\\xb0Fahrzeuginformationen\\xb0Neu\\xb0BMW i4\\xb0Vollelektrisch\\xb0ab 56.500,00 \\\\xe2\\\\x82\\\\xac*\\xb0Konfigurieren & Preise\\xb0Fahrzeuginformationen\\xb0Neu\\xb0BMW i4 M50\\xb0Vollelektrisch\\xb0ab 70.800,00 \\\\xe2\\\\x82\\\\xac*\\xb0Konfigurieren & Preise\\xb0Fahrzeuginformationen\\xb0Neu\\xb0BMW 3er Limousine\\xb0Benziner\\xb0\\\\xe2\\\\x80\\\\xa2\\xb0Diesel\\xb0\\\\xe2\\\\x80\\\\xa2\\xb0Plug-in-Hybrid\\xb0ab 43.900,00 \\\\xe2\\\\x82\\\\xac*\\xb0Konfigurieren & Preise\\xb0Fahrzeuginformationen\\xb0Neu\\xb0BMW 3er Limousine M Automobile\\xb0Benziner\\xb0\\\\xe2\\\\x80\\\\xa2\\xb0Diesel\\xb0ab 71.300,00 \\\\xe2\\\\x82\\\\xac*\\xb0Konfigurieren & Preise\\xb0Fahrzeuginformationen\\xb0Neu\\xb0BMW 3er Touring\\xb0Benziner\\xb0\\\\xe2\\\\x80\\\\xa2\\xb0Diesel\\xb0\\\\xe2\\\\x80\\\\xa2\\xb0Plug-in-Hybrid\\xb0ab 45.000,00 \\\\xe2\\\\x82\\\\xac\\xb0Konfigurieren & Preise\\xb0Fahrzeuginformationen\\xb0Neu\\xb0BMW 3er Touring M Automobile\\xb0Benziner\\xb0\\\\xe2\\\\x80\\\\xa2\\xb0Diesel\\xb0ab 72.300,00 \\\\xe2\\\\x82\\\\xac*\\xb0Konfigurieren & Preise\\xb0Fahrzeuginformationen\\xb0Neu\\xb0BMW 2er Coup\\\\xc3\\\\xa9\\xb0Benziner\\xb0\\\\xe2\\\\x80\\\\xa2\\xb0Diesel\\xb0ab 39.400,00 \\\\xe2\\\\x82\\\\xac*\\xb0Konfigurieren & Preise\\xb0Fahrzeuginformationen\\xb0Neu\\xb0BMW 2er Coup\\\\xc3\\\\xa9 M Automobile\\xb0Benziner\\xb0ab 56.200,00 \\\\xe2\\\\x82\\\\xac*\\xb0Konfigurieren & Preise\\xb0Fahrzeuginformationen\\xb0Neu\\xb0BMW 2er Gran Coup\\\\xc3\\\\xa9\\xb0Benziner\\xb0\\\\xe2\\\\x80\\\\xa2\\xb0Diesel\\xb0ab 35.100,00 \\\\xe2\\\\x82\\\\xac*\\xb0Sofort verf\\\\xc3\\\\xbcgbare BMW 2er Gran Coup\\\\xc3\\\\xa9\\xb0Konfigurieren & Preise\\xb0Fahrzeuginformationen\\xb0BMW 2er Gran Coup\\\\xc3\\\\xa9 M Automobil\\xb0Benziner\\xb0ab 56.450,00 \\\\xe2\\\\x82\\\\xac*\\xb0Sofort verf\\\\xc3\\\\xbcgbare BMW 2er Gran Coup\\\\xc3\\\\xa9 M\\xb0Konfigurieren & Preise\\xb0Fahrzeuginformationen\\xb0Neu\\xb0BMW 2er Active Tourer\\xb0Benziner\\xb0\\\\xe2\\\\x80\\\\xa2\\xb0Diesel\\xb0\\\\xe2\\\\x80\\\\xa2\\xb0Plug-in-Hybrid\\xb0ab 34.000,00 \\\\xe2\\\\x82\\\\xac*\\xb0Sofort verf\\\\xc3\\\\xbcgbare BMW 2er Active Tourer\\xb0Konfigurieren & Preise\\xb0Fahrzeuginformationen\\xb0BMW 2er Gran Tourer\\xb0Benziner\\xb0\\\\xe2\\\\x80\\\\xa2\\xb0Diesel\\xb0ab 31.000,00 \\\\xe2\\\\x82\\\\xac*\\xb0Sofort verf\\\\xc3\\\\xbcgbare BMW 2er Gran Tourer\\xb0Fahrzeuginformationen\\xb0Neu\\xb0BMW 1er\\xb0Benziner\\xb0\\\\xe2\\\\x80\\\\xa2\\xb0Diesel\\xb0ab 29.500,00 \\\\xe2\\\\x82\\\\xac*\\xb0Sofort verf\\\\xc3\\\\xbcgbare BMW 1er\\xb0Konfigurieren & Preise\\xb0Fahrzeuginformationen\\xb0BMW 1er M Automobil\\xb0Benziner\\xb0ab 53.650,00 \\\\xe2\\\\x82\\\\xac*\\xb0Sofort verf\\\\xc3\\\\xbcgbare BMW 1er M\\xb0Konfigurieren & Preise\\xb0Fahrzeuginformationen\\xb0Neu\\xb0BMW Z4 Roadster\\xb0Benziner\\xb0ab 48.500,00 \\\\xe2\\\\x82\\\\xac*\\xb0Konfigurieren & Preise\\xb0Fahrzeuginformationen\\xb0Neu\\xb0BMW Z4 M Automobil\\xb0Benziner\\xb0ab 66.900,00 \\\\xe2\\\\x82\\\\xac*\\xb0Konfigurieren & Preise\\xb0Fahrzeuginformationen\\xb0Neu\\xb0BMW 2er Active Tourer Plug-in-Hybride\\xb0Plug-in-Hybrid\\xb0ab 44.950,00 \\\\xe2\\\\x82\\\\xac*\\xb0Konfigurieren & Preise\\xb0Fahrzeuginformationen\\xb0Neu\\xb0BMW 3er Limousine Plug-in-Hybride\\xb0Plug-in-Hybrid\\xb0ab 52.300,00 \\\\xe2\\\\x82\\\\xac\\xb0Konfigurieren & Preise\\xb0Fahrzeuginformationen\\xb0Neu\\xb0BMW 3er Touring Plug-in-Hybride\\xb0Plug-in-Hybrid\\xb0ab 53.600,00 \\\\xe2\\\\x82\\\\xac\\xb0Konfigurieren & Preise\\xb0Fahrzeuginformationen\\xb0BMW 5er Limousine Plug-in-Hybride\\xb0Plug-in-Hybrid\\xb0ab 60.200,00 \\\\xe2\\\\x82\\\\xac*\\xb0Sofort verf\\\\xc3\\\\xbcgbare BMW 5er Limousine Plug-in-Hybride\\xb0Konfigurieren & Preise\\xb0Fahrzeuginformationen\\xb0BMW 5er Touring Plug-in-Hybride\\xb0Plug-in-Hybrid\\xb0ab 62.400,00 \\\\xe2\\\\x82\\\\xac*\\xb0Sofort verf\\\\xc3\\\\xbcgbare BMW 5er Touring Plug-in-Hybride\\xb0Konfigurieren & Preise\\xb0Fahrzeuginformationen\\xb0Neu\\xb0BMW 7er Limousine Plug-in-Hybrid (2022)\\xb0Plug-in-Hybrid\\xb0ab 116.500,00 \\\\xe2\\\\x82\\\\xac\\xb0Konfigurieren & Preise\\xb0Fahrzeuginformationen\\xb0BMW 7er Limousine Plug-in-Hybride\\xb0Plug-in-Hybrid\\xb0ab 111.400,00 \\\\xe2\\\\x82\\\\xac*\\xb0Sofort verf\\\\xc3\\\\xbcgbare BMW 7er Limousine Plug-in-Hybride\\xb0Fahrzeuginformationen\\xb0Neu\\xb0BMW 7er Limousine M Automobil mit M Hybrid\\xb0Plug-in-Hybrid\\xb0ab 139.800,00 \\\\xe2\\\\x82\\\\xac*\\xb0Konfigurieren & Preise\\xb0Fahrzeuginformationen\\xb0Neu\\xb0BMW X1 Plug-in-Hybrid\\xb0Plug-in-Hybrid\\xb0ab 47.550,00 \\\\xe2\\\\x82\\\\xac*\\xb0Konfigurieren & Preise\\xb0Fahrzeuginformationen\\xb0BMW X2 Plug-in-Hybrid\\xb0Plug-in-Hybrid\\xb0ab 48.650,00 \\\\xe2\\\\x82\\\\xac*\\xb0Sofort verf\\\\xc3\\\\xbcgbare BMW X2 Plug-in-Hybride\\xb0Konfigurieren & Preise\\xb0Fahrzeuginformationen\\xb0Neu\\xb0BMW X3 Plug-in-Hybrid\\xb0Plug-in-Hybrid\\xb0ab 62.150,00 \\\\xe2\\\\x82\\\\xac*\\xb0Sofort verf\\\\xc3\\\\xbcgbare BMW X3 Plug-in-Hybride\\xb0Konfigurieren & Preise\\xb0Fahrzeuginformationen\\xb0BMW X5 Plug-in-Hybrid\\xb0Plug-in-Hybrid\\xb0ab 80.000,00 \\\\xe2\\\\x82\\\\xac*\\xb0Sofort verf\\\\xc3\\\\xbcgbare BMW X5 Plug-in-Hybride\\xb0Konfigurieren & Preise\\xb0Fahrzeuginformationen\\xb0BMW Vision M NEXT\\xb0Fahrzeuginformationen\\xb0BMW i Vision Circular\\xb0Fahrzeuginformationen\\xb0Direkt einsteigen.\\xb0Modell ausw\\\\xc3\\\\xa4hlen\\xb0BMW iX\\xb0BMW iX M60\\xb0BMW i7\\xb0BMW i4\\xb0BMW i4 M50\\xb0BMW i3\\xb0BMW iX3\\xb0BMW iX1\\xb0BMW XM\\xb0BMW X7\\xb0BMW X7 M Automobil\\xb0BMW X6\\xb0BMW X6 M Automobile\\xb0BMW X5\\xb0BMW X5 M Automobile\\xb0BMW X4\\xb0BMW X4 M Automobile\\xb0BMW X3\\xb0BMW X3 M Automobile\\xb0BMW X2\\xb0BMW X2 M Automobil\\xb0BMW X1\\xb0BMW 8er Gran Coup\\\\xc3\\\\xa9 M Automobile\\xb0BMW 8er Cabriolet M Automobile\\xb0BMW 8er Coup\\\\xc3\\\\xa9 M Automobile\\xb0BMW 7er Limousine M Automobil\\xb0BMW 5er Limousine M Automobile\\xb0BMW 4er Gran Coup\\\\xc3\\\\xa9 M Automobil\\xb0BMW 4er Cabrio M Automobile\\xb0BMW 4er Coup\\\\xc3\\\\xa9 M Automobile\\xb0BMW 3er Touring M Automobile\\xb0BMW 3er Limousine M Automobile\\xb0BMW 2er Gran Coup\\\\xc3\\\\xa9 M Automobil\\xb0BMW 2er Coup\\\\xc3\\\\xa9 M Automobile\\xb0BMW 1er M Automobil\\xb0BMW Z4 M Automobil\\xb0BMW 8er Coup\\\\xc3\\\\xa9\\xb0BMW 8er Cabriolet\\xb0BMW 8er Gran Coup\\\\xc3\\\\xa9\\xb0BMW 7er Limousine\\xb0BMW 6er Gran Turismo\\xb0BMW 5er Limousine\\xb0BMW 5er Touring\\xb0BMW 4er Coup\\\\xc3\\\\xa9\\xb0BMW 4er Cabrio\\xb0BMW 4er Gran Coup\\\\xc3\\\\xa9\\xb0BMW 3er Limousine\\xb0BMW 3er Touring\\xb0BMW 2er Coup\\\\xc3\\\\xa9\\xb0BMW 2er Gran Coup\\\\xc3\\\\xa9\\xb0BMW 2er Active Tourer\\xb0BMW 2er Gran Tourer\\xb0BMW 1er\\xb0BMW Z4 Roadster\\xb0BMW 2er Active Tourer Plug-in-Hybride\\xb0BMW 3er Limousine Plug-in-Hybride\\xb0BMW 3er Touring Plug-in-Hybride\\xb0BMW 5er Limousine Plug-in-Hybride\\xb0BMW 5er Touring Plug-in-Hybride\\xb0BMW 7er Limousine Plug-in-Hybrid (2022)\\xb0BMW 7er Limousine M Automobil mit M Hybrid\\xb0BMW X1 Plug-in-Hybrid\\xb0BMW X2 Plug-in-Hybrid\\xb0BMW X3 Plug-in-Hybrid\\xb0Konfigurieren & Preise\\xb0Neuwagensuche\\xb0Gebrauchtwagensuche\\xb0IHRE LETZTE KONFIGURATION.\\xb0Jetzt fortsetzen\\xb0Jetzt fortsetzen\\xb0KONFIGURATIONS\\\\xc2\\\\xadVORSCHL\\\\xc3\\\\x84GE F\\\\xc3\\\\x9cR DEN\\xb0BMW X3.\\xb0BMW iX3\\xb0DER VOLL\\\\xc2\\\\xadELEKTRISCHE\\xb0Weiter konfigurieren\\xb0Modell Impressive\\xb0Sonnenschutzverglasung\\xb0Anh\\\\xc3\\\\xa4ngerkupplung mit schwenkbarem Kugelkopf\\xb0Stromverbrauch\\xa0kombiniert in kWh/100 km:\\xa0- (NEFZ) / 18,9-18,5 (WLTP)\\xb0\\\\r\\\\nElektrische Reichweite (WLTP) in km:\\xa0453-461\\xb0\\\\r\\\\n\\xb0\\\\r\\\\n\\xb0BMW X3 xDrive30e\\xb0DER\\xb0VIELSEITIGE\\xb0Weiter konfigurieren\\xb0Modell M Sport\\xb0Business Paket Professional\\xb0Innovationspaket\\xb0Kraftstoffverbrauch gewichtet kombiniert in l/100 km: - (NEFZ) / 2,6-2,0 (WLTP)\\xb0\\\\r\\\\nCO2-Emissionen gewichtet kombiniert in g/km: - (NEFZ) / 59-45 (WLTP)\\xb0\\\\r\\\\nStromverbrauch gewichtet kombiniert in kWh/100 km: - (NEFZ) / 20,5-18,9 (WLTP)\\xb0\\\\r\\\\nElektrische Reichweite (WLTP) in km:\\xa042-50\\xb0\\\\r\\\\n\\xb0BMW X3 xDrive20d\\xb0DER\\xb0ABENTEURER\\xb0Weiter konfigurieren\\xb0Modell xLine\\xb0Business Paket Professional\\xb0Parking Assistant\\xb0Kraftstoffverbrauch kombiniert in l/100 km: - (NEFZ) /\\xa06,5-5,8 (WLTP)\\xb0\\\\r\\\\nCO2-Emissionen kombiniert in g/km:\\xa0- (NEFZ) / 171-151 (WLTP)\\xb0\\\\r\\\\n\\xb0BENZIN, DIESEL ODER ELEKTRO?\\xb0Finden Sie die f\\\\xc3\\\\xbcr Sie passende Antriebsvariante.\\xb0Jetzt starten\\xb0ORIGINAL DACHBOXEN.\\xb0Entdecken Sie Design und Funktion in Perfektion - im BMW Online Shop.\\xb0Jetzt kaufen\\xb0JETZT ORIGINAL BMW ZUBEH\\\\xc3\\\\x96R GEWINNEN.\\xb0Verbinden Sie Ihren BMW mit der My BMW App** und gewinnen Sie mit etwas Gl\\\\xc3\\\\xbcck eine BMW Wallbox oder einen BMW Fahrradhecktr\\\\xc3\\\\xa4ger.\\xb0Jetzt teilnehmen\\xb0GEWINNEN SIE LUXUS UND KRAFTVOLLE PERFORMANCE.\\xb0Nehmen Sie jetzt an unserem Gewinnspiel teil, w\\\\xc3\\\\xa4hlen Sie Ihr BMW M850i xDrive*** Wunschmodell und mit ein bisschen Gl\\\\xc3\\\\xbcck erleben Sie sechs Monate unvergleichliche Fahrdynamik und h\\\\xc3\\\\xb6chste Exklusivit\\\\xc3\\\\xa4t.\\xb0Jetzt teilnehmen\\xb0LOCKER FINANZIEREN\\xb0AB 1,99% P.A. \\\\xc2\\\\xb9 */**.\\xb0Holen Sie sich Ihren Jungen Gebrauchten**** von BMW.\\xb0Fahrzeug finden\\xb0NEFZ- UND WLTP-WERTE IM VERGLEICH.\\xb0Kraftstoffverbrauch, CO2-Emissionen, Stromverbrauch und elektrische Reichweite aller aktuellen BMW Modelle.\\xb0Mehr erfahren\\xb0\\\\xe2\\\\x80\\\\x8b\\xb0* Bei den Preisangaben handelt es sich um unverbindliche Empfehlungen des Herstellers inkl. 19 % MwSt. und exklusive \\\\xc3\\\\x9cberf\\\\xc3\\\\xbchrungskosten. \\\\xc3\\\\x84nderungen und Irrt\\\\xc3\\\\xbcmer vorbehalten. Umf\\\\xc3\\\\xa4nge und Kombinationsm\\\\xc3\\\\xb6glichkeiten k\\\\xc3\\\\xb6nnen variieren. Verbindliche Ausk\\\\xc3\\\\xbcnfte gibt Ihnen gern Ihr BMW Partner.\\xb0\\\\r\\\\n\\xb0\\\\r\\\\n\\xb0** Die My BMW App ist mit allen BMW Fahrzeugen ab dem Modelljahr 2014 kompatibel. Voraussetzung sind die Ausstattung ConnectedDrive Services und ein passendes Smartphone. Die Verf\\\\xc3\\\\xbcgbarkeit und Funktionen der My BMW App sind marktabh\\\\xc3\\\\xa4ngig.\\xb0*** BMW M850i xDrive Cabriolet: Kraftstoffverbrauch kombiniert in l/100 km: - (NEFZ) / 11-10,7 (WLTP); CO2-Emission kombiniert in g/km: - (NEFZ) / 249-243 (WLTP)\\xb0BMW M850i xDrive Coup\\\\xc3\\\\xa9: Kraftstoffverbrauch kombiniert in l/100 km: - (NEFZ) / 10,8-10,5 (WLTP); CO2-Emissionen kombiniert in g/km: - (NEFZ) / 245-239 (WLTP)\\xb0BMW M850i xDrive Gran Coup\\\\xc3\\\\xa9: Kraftstoffverbrauch kombiniert in l/100 km: - (NEFZ) / 11,0-10,7 (WLTP); CO2-Emissionen kombiniert in g/km: - (NEFZ) / 251-243 (WLTP)\\xb0BMW i7 xDrive60: Stromverbrauch in kWh/100 km: - (NEFZ) / 19,6-18,4 (WLTP); Elektrische Reichweite (WLTP) in km: 591-625.\\xb0\\\\r\\\\n\\xb0\\\\xc2\\\\xb9Hol dir deinen Jungen Gebrauchten**** von BMW.\\xb0\\\\r\\\\n\\xb0\\\\r\\\\n\\xb0**** Erh\\\\xc3\\\\xa4ltlich bei allen Niederlassungen der BMW AG. Weitere Angebote bei Ihrem BMW Vertragsh\\\\xc3\\\\xa4ndler. Abgebildete Fahrzeuge entsprechen nicht dem Finanzierungsbeispiel.\\xb0\\\\r\\\\n\\xb0* Finanzierungsbeispiel der BMW Bank GmbH, Lilienthalallee 26, 80939 M\\\\xc3\\\\xbcnchen: BMW 320i Touring, Erstzulassung: 02/2021, KM-Leistung: 17.397, Fahrzeugpreis 34.995,00 \\\\xe2\\\\x82\\\\xac, Anzahlung: 6.999,00 \\\\xe2\\\\x82\\\\xac, Laufzeit: 36 Monate, 35 monatliche Finanzierungsraten \\\\xc3\\\\xa0: 309,35 \\\\xe2\\\\x82\\\\xac, zzgl. Zielrate (36. Rate): 18.547,35 \\\\xe2\\\\x82\\\\xac, Nettodarlehensbetrag: 27.996,00 \\\\xe2\\\\x82\\\\xac, Sollzinssatz gebunden p.a.: 1,97%***, Effektiver Jahreszins: 1,99%**, Darlehensgesamtbetrag: 29.374,60 \\\\xe2\\\\x82\\\\xac.\\xb0\\\\r\\\\n\\xb0\\xb0\\\\r\\\\n\\xb0Ein unverbindliches Finanzierungsbeispiel der BMW Bank GmbH, Lilienthalallee 26, 80939 M\\\\xc3\\\\xbcnchen; Alle Preise inkl. der gegebenenfalls gesetzlich anfallenden Umsatzsteuer; Stand 10/2022. Ist der Darlehensnehmer Verbraucher, besteht nach Vertragsschluss ein gesetzliches Widerrufsrecht. Nach den Darlehensbedingungen besteht die Verpflichtung, f\\\\xc3\\\\xbcr das Fahrzeug eine Vollkaskoversicherung abzuschlie\\\\xc3\\\\x9fen.\\xb0\\\\r\\\\n\\xb0Wir vermitteln Leasingvertr\\\\xc3\\\\xa4ge und Finanzierungsvertr\\\\xc3\\\\xa4ge ausschl. an die BMW Bank GmbH, Lilienthalallee 26, 80939 M\\\\xc3\\\\xbcnchen.\\xb0\\\\r\\\\n\\xb0\\xb0\\\\r\\\\n\\xb0** Die Sonderaktion mit 1,99% effektivem Jahreszins ist nur erh\\\\xc3\\\\xa4ltlich f\\\\xc3\\\\xbcr den BMW 1er (Benziner und Diesel) Produktionsdatum 07/2019 \\\\xe2\\\\x80\\\\x93 08/2022 und den BMW 3er (Benziner und Diesel) Produktionsdatum 11/2018 \\\\xe2\\\\x80\\\\x93 08/2022 (Limousine) bzw. 11/2019 \\\\xe2\\\\x80\\\\x93 08/2022 (Touring) bei Abschluss eines Finanzierungsvertrags mit der BMW Bank GmbH bis 01.01.2023, Zulassung bis 30.09.2023.\\xb0\\\\r\\\\n\\xb0\\xb0\\\\r\\\\n\\xb0*** Gebunden f\\\\xc3\\\\xbcr die gesamte Vertragslaufzeit.\\xb0\\\\r\\\\n\\xb0Offizielle Angaben zu Kraftstoffverbrauch, CO2-Emissionen, Stromverbrauch und elektrischer Reichweite wurden nach dem vorgeschriebenen Messverfahren ermittelt und entsprechen der VO (EU) 715/2007 in der jeweils geltenden Fassung. Angaben im NEFZ ber\\\\xc3\\\\xbccksichtigen bei Spannbreiten Unterschiede in der gew\\\\xc3\\\\xa4hlten Rad- und Reifengr\\\\xc3\\\\xb6\\\\xc3\\\\x9fe, im WLTP jeglicher Sonderausstattung. F\\\\xc3\\\\xbcr die Bemessung von Steuern und anderen fahrzeugbezogenen Abgaben, die (auch) auf den CO2-Aussto\\\\xc3\\\\x9f abstellen, sowie ggf. f\\\\xc3\\\\xbcr die Zwecke von fahrzeugspezifischen F\\\\xc3\\\\xb6rderungen werden WLTP-Werte verwendet. Aufgef\\\\xc3\\\\xbchrte NEFZ-Werte wurden ggf. auf Basis des neuen WLTP-Messverfahrens ermittelt und zur Vergleichbarkeit auf das NEFZ-Messverfahren zur\\\\xc3\\\\xbcckgerechnet. F\\\\xc3\\\\xbcr seit 01.01.2021 neu typgepr\\\\xc3\\\\xbcfte Fahrzeuge existieren die offiziellen Angaben nur noch nach WLTP. Zudem entfallen laut EU-Verordnung 2022/195 ab 01.01.2023 in den EG-\\\\xc3\\\\x9cbereinstimmungsbescheinigungen die NEFZ-Werte. Weitere Informationen zu den Messverfahren NEFZ und WLTP finden Sie unter\\xb0www.bmw.de/wltp\\xb0sowie eine Vergleichstabelle zu Kraftstoffverbrauch, CO2-Emissionen, Stromverbrauch und elektrischer Reichweite aller aktuellen BMW Modelle unter\\xb0www.bmw.de/nefz-wltp-vergleich\\xb0.\\xb0\\\\r\\\\n\\xb0Weitere Informationen zum offiziellen Kraftstoffverbrauch und den offiziellen spezifischen CO2-Emissionen neuer Personenkraftwagen k\\\\xc3\\\\xb6nnen dem \\\\'Leitfaden \\\\xc3\\\\xbcber den Kraftstoffverbrauch, die CO2-Emissionen und den Stromverbrauch neuer Personenkraftwagen\\\\' entnommen werden, der an allen Verkaufsstellen, bei der Deutschen Automobil Treuhand GmbH (DAT), Hellmuth-Hirth-Str. 1, 73760 Ostfildern-Scharnhausen, und unter\\xb0https://www.dat.de/co2/\\xb0unentgeltlich erh\\\\xc3\\\\xa4ltlich ist.\\xa0Abbildung/en zeigt/en Sonderausstattungen.\\xb0\\\\r\\\\n\\xb0Konfigurieren & Preise\\xb0Neuwagensuche\\xb0Infomaterial anfordern\\xb0BMW Partner & Online Termin\\xb0BITTE COOKIES AKTIVIEREN.\\xb0Bitte aktivieren Sie Cookies.\\xb0Diese Website verwendet Cookies, um Ihr Online-Erlebnis und die von uns angebotenen Dienstleistungen zu verbessern. Wenn Sie die Website weiterhin nutzen m\\\\xc3\\\\xb6chten, aktivieren Sie bitte Cookies in Ihrem Browser, so dass Ihnen alle Funktionen in vollem Umfang zur Verf\\\\xc3\\\\xbcgung stehen.\\xb0Mehr Informationen\\xb0OK\\xb0DIESER INHALT IST NUR MIT COOKIES VERF\\\\xc3\\\\x9cGBAR.\\xb0Wir ben\\\\xc3\\\\xb6tigen Ihre Einwilligung zur Verwendung einer oder mehrerer Cookie-Kategorien, um diesen Inhalt aktivieren zu k\\\\xc3\\\\xb6nnen. Bitte beachten Sie, dass Sie mit der Zustimmung zum Setzen von Cookies f\\\\xc3\\\\xbcr diesen Inhalt automatisch allen Cookies auf der gesamten Webseite zustimmen. Wenn Sie mehr Informationen hierzu erhalten m\\\\xc3\\\\xb6chten, besuchen Sie bitte die Seite zu unseren Cookie Richtlinien. Bitte beachten Sie, dass mit Ihrer Zustimmung zu den Cookies automatisch allen Cookies auf der Website zugestimmt wird. F\\\\xc3\\\\xbcr mehr Informationen besuche Sie bitte unsere Cookie-Richtlinienseite.\\xb0COOKIES ZUSTIMMEN\\xb0Outdated browser version\\xb0You are using an outdated version of\\xb0your Browser\\xb0.\\xb0This website is optimized for\\xb0your Browser\\xb0versions\\xb0(unknwon)\\xb0and higher.\\xb0Get an up-to-date version of\\xb0your Browser\\xb0Konfigurieren & Preise\\xb0Neuwagensuche\\xb0BMW Partner finden\\xb0FAQ\\xb0Die Preisangabe bezieht sich auf den BMW iX\\xb0\\\\r\\\\nxDrive40.\\xb0\\\\r\\\\nAbbildungen zeigen Sonderausstattung gegen Mehrpreis. Bei den Preisangaben handelt es sich um unverbindliche Empfehlungen des Herstellers inkl. 19% MwSt. und exklusive \\\\xc3\\\\x9cberf\\\\xc3\\\\xbchrungskosten. \\\\xc3\\\\x84nderungen und Irrt\\\\xc3\\\\xbcmer vorbehalten. Verbindliche Preisausk\\\\xc3\\\\xbcnfte gibt Ihnen gern Ihr BMW Partner.\\xb0\\\\r\\\\n\\xb0\\\\r\\\\n\\xb0Abbildungen zeigen Sonderausstattung gegen Mehrpreis. Bei den Preisangaben handelt es sich um unverbindliche Empfehlungen des Herstellers inkl. 19% MwSt. und exklusive \\\\xc3\\\\x9cberf\\\\xc3\\\\xbchrungskosten. \\\\xc3\\\\x84nderungen und Irrt\\\\xc3\\\\xbcmer vorbehalten. Verbindliche Preisausk\\\\xc3\\\\xbcnfte gibt Ihnen gern Ihr BMW Partner.\\xb0\\\\r\\\\n\\xb0\\\\r\\\\n\\xb0Abbildungen zeigen Sonderausstattung gegen Mehrpreis. Bei den Preisangaben handelt es sich um unverbindliche Empfehlungen des Herstellers inkl. 19% MwSt. und exklusive \\\\xc3\\\\x9cberf\\\\xc3\\\\xbchrungskosten. \\\\xc3\\\\x84nderungen und Irrt\\\\xc3\\\\xbcmer vorbehalten. Verbindliche Preisausk\\\\xc3\\\\xbcnfte gibt Ihnen gern Ihr BMW Partner.\\xb0\\\\r\\\\n\\xb0\\\\r\\\\n\\xb0Die Preisangabe bezieht sich auf den BMW i4 eDrive35.\\xb0\\\\r\\\\nAbbildungen zeigen Sonderausstattung gegen Mehrpreis. Bei den Preisangaben handelt es sich um unverbindliche Empfehlungen des Herstellers inkl. 19% MwSt. und exklusive \\\\xc3\\\\x9cberf\\\\xc3\\\\xbchrungskosten. \\\\xc3\\\\x84nderungen und Irrt\\\\xc3\\\\xbcmer vorbehalten. Verbindliche Preisausk\\\\xc3\\\\xbcnfte gibt Ihnen gern Ihr BMW Partner.\\xb0\\\\r\\\\n\\xb0\\\\r\\\\n\\xb0Abbildungen zeigen Sonderausstattung gegen Mehrpreis. Bei den Preisangaben handelt es sich um unverbindliche Empfehlungen des Herstellers inkl. 19% MwSt. und exklusive \\\\xc3\\\\x9cberf\\\\xc3\\\\xbchrungskosten. \\\\xc3\\\\x84nderungen und Irrt\\\\xc3\\\\xbcmer vorbehalten. Verbindliche Preisausk\\\\xc3\\\\xbcnfte gibt Ihnen gern Ihr BMW Partner.\\xb0\\\\r\\\\n\\xb0\\\\r\\\\n\\xb0Die Preisangabe bezieht sich auf den BMW iX3 Modell \\\\xe2\\\\x80\\\\x9eInspiring\\\\xe2\\\\x80\\\\x9c.\\xb0\\\\r\\\\n\\xb0\\\\r\\\\nAbbildungen zeigen Sonderausstattungen gegen Mehrpreis. Bei den Preisangaben handelt es sich um unverbindliche Empfehlungen des Herstellers inkl. 19% MwSt. und exklusive \\\\xc3\\\\x9cberf\\\\xc3\\\\xbchrungskosten. \\\\xc3\\\\x84nderungen und Irrt\\\\xc3\\\\xbcmer vorbehalten. Verbindliche Preisausk\\\\xc3\\\\xbcnfte gibt Ihnen gern Ihr BMW Partner.\\xb0\\\\r\\\\n\\xb0Abbildungen zeigen Sonderausstattung gegen Mehrpreis. Bei den Preisangaben handelt es sich um unverbindliche Empfehlungen des Herstellers inkl. 19% MwSt. und exklusive \\\\xc3\\\\x9cberf\\\\xc3\\\\xbchrungskosten. \\\\xc3\\\\x84nderungen und Irrt\\\\xc3\\\\xbcmer vorbehalten. Verbindliche Preisausk\\\\xc3\\\\xbcnfte gibt Ihnen gern Ihr BMW Partner.\\xb0\\\\r\\\\n\\xb0\\\\r\\\\n\\xb0Abbildungen zeigen Sonderausstattung gegen Mehrpreis. Bei den Preisangaben handelt es sich um unverbindliche Empfehlungen des Herstellers inkl. 19% MwSt. und exklusive \\\\xc3\\\\x9cberf\\\\xc3\\\\xbchrungskosten. \\\\xc3\\\\x84nderungen und Irrt\\\\xc3\\\\xbcmer vorbehalten. Verbindliche Preisausk\\\\xc3\\\\xbcnfte gibt Ihnen gern Ihr BMW Partner.\\xb0\\\\r\\\\n\\xb0\\\\r\\\\n\\xb0Abbildungen zeigen Sonderausstattung gegen Mehrpreis. Bei den Preisangaben handelt es sich um unverbindliche Empfehlungen des Herstellers inkl. 19% MwSt. und exklusive \\\\xc3\\\\x9cberf\\\\xc3\\\\xbchrungskosten. \\\\xc3\\\\x84nderungen und Irrt\\\\xc3\\\\xbcmer vorbehalten. Verbindliche Preisausk\\\\xc3\\\\xbcnfte gibt Ihnen gern Ihr BMW Partner.\\xb0\\\\r\\\\n\\xb0\\\\r\\\\n\\xb0Abbildungen zeigen Sonderausstattung gegen Mehrpreis. Bei den Preisangaben handelt es sich um unverbindliche Empfehlungen des Herstellers inkl. 19% MwSt. und exklusive \\\\xc3\\\\x9cberf\\\\xc3\\\\xbchrungskosten. \\\\xc3\\\\x84nderungen und Irrt\\\\xc3\\\\xbcmer vorbehalten. Verbindliche Preisausk\\\\xc3\\\\xbcnfte gibt Ihnen gern Ihr BMW Partner.\\xb0\\\\r\\\\n\\xb0\\\\r\\\\n\\xb0Abbildungen zeigen Sonderausstattung gegen Mehrpreis. Bei den Preisangaben handelt es sich um unverbindliche Empfehlungen des Herstellers inkl. 19% MwSt. und exklusive \\\\xc3\\\\x9cberf\\\\xc3\\\\xbchrungskosten. \\\\xc3\\\\x84nderungen und Irrt\\\\xc3\\\\xbcmer vorbehalten. Verbindliche Preisausk\\\\xc3\\\\xbcnfte gibt Ihnen gern Ihr BMW Partner.\\xb0\\\\r\\\\n\\xb0\\\\r\\\\n\\xb0Abbildungen zeigen Sonderausstattung gegen Mehrpreis. Bei den Preisangaben handelt es sich um unverbindliche Empfehlungen des Herstellers inkl. 19% MwSt. und exklusive \\\\xc3\\\\x9cberf\\\\xc3\\\\xbchrungskosten. \\\\xc3\\\\x84nderungen und Irrt\\\\xc3\\\\xbcmer vorbehalten. Verbindliche Preisausk\\\\xc3\\\\xbcnfte gibt Ihnen gern Ihr BMW Partner.\\xb0\\\\r\\\\n\\xb0\\\\r\\\\n\\xb0Abbildungen zeigen Sonderausstattung gegen Mehrpreis. Bei den Preisangaben handelt es sich um unverbindliche Empfehlungen des Herstellers inkl. 19% MwSt. und exklusive \\\\xc3\\\\x9cberf\\\\xc3\\\\xbchrungskosten. \\\\xc3\\\\x84nderungen und Irrt\\\\xc3\\\\xbcmer vorbehalten. Verbindliche Preisausk\\\\xc3\\\\xbcnfte gibt Ihnen gern Ihr BMW Partner.\\xb0\\\\r\\\\n\\xb0\\\\r\\\\n\\xb0Abbildungen zeigen Sonderausstattung gegen Mehrpreis. Bei den Preisangaben handelt es sich um unverbindliche Empfehlungen des Herstellers inkl. 19% MwSt. und exklusive \\\\xc3\\\\x9cberf\\\\xc3\\\\xbchrungskosten. \\\\xc3\\\\x84nderungen und Irrt\\\\xc3\\\\xbcmer vorbehalten. Verbindliche Preisausk\\\\xc3\\\\xbcnfte gibt Ihnen gern Ihr BMW Partner.\\xb0\\\\r\\\\n\\xb0\\\\r\\\\n\\xb0Abbildungen zeigen Sonderausstattung gegen Mehrpreis. Bei den Preisangaben handelt es sich um unverbindliche Empfehlungen des Herstellers inkl. 19% MwSt. und exklusive \\\\xc3\\\\x9cberf\\\\xc3\\\\xbchrungskosten. \\\\xc3\\\\x84nderungen und Irrt\\\\xc3\\\\xbcmer vorbehalten. Verbindliche Preisausk\\\\xc3\\\\xbcnfte gibt Ihnen gern Ihr BMW Partner.\\xb0\\\\r\\\\n\\xb0\\\\r\\\\n\\xb0Abbildungen zeigen Sonderausstattung gegen Mehrpreis. Bei den Preisangaben handelt es sich um unverbindliche Empfehlungen des Herstellers inkl. 19% MwSt. und exklusive \\\\xc3\\\\x9cberf\\\\xc3\\\\xbchrungskosten. \\\\xc3\\\\x84nderungen und Irrt\\\\xc3\\\\xbcmer vorbehalten. Verbindliche Preisausk\\\\xc3\\\\xbcnfte gibt Ihnen gern Ihr BMW Partner.\\xb0\\\\r\\\\n\\xb0\\\\r\\\\n\\xb0Abbildungen zeigen Sonderausstattung gegen Mehrpreis. Bei den Preisangaben handelt es sich um unverbindliche Empfehlungen des Herstellers inkl. 19% MwSt. und exklusive \\\\xc3\\\\x9cberf\\\\xc3\\\\xbchrungskosten. \\\\xc3\\\\x84nderungen und Irrt\\\\xc3\\\\xbcmer vorbehalten. Verbindliche Preisausk\\\\xc3\\\\xbcnfte gibt Ihnen gern Ihr BMW Partner.\\xb0\\\\r\\\\n\\xb0\\\\r\\\\n\\xb0Abbildungen zeigen Sonderausstattung gegen Mehrpreis. Bei den Preisangaben handelt es sich um unverbindliche Empfehlungen des Herstellers inkl. 19% MwSt. und exklusive \\\\xc3\\\\x9cberf\\\\xc3\\\\xbchrungskosten. \\\\xc3\\\\x84nderungen und Irrt\\\\xc3\\\\xbcmer vorbehalten. Verbindliche Preisausk\\\\xc3\\\\xbcnfte gibt Ihnen gern Ihr BMW Partner.\\xb0\\\\r\\\\n\\xb0\\\\r\\\\n\\xb0Abbildungen zeigen Sonderausstattung gegen Mehrpreis. Bei den Preisangaben handelt es sich um unverbindliche Empfehlungen des Herstellers inkl. 19% MwSt. und exklusive \\\\xc3\\\\x9cberf\\\\xc3\\\\xbchrungskosten. \\\\xc3\\\\x84nderungen und Irrt\\\\xc3\\\\xbcmer vorbehalten. Verbindliche Preisausk\\\\xc3\\\\xbcnfte gibt Ihnen gern Ihr BMW Partner.\\xb0\\\\r\\\\n\\xb0\\\\r\\\\n\\xb0Abbildungen zeigen Sonderausstattung gegen Mehrpreis. Bei den Preisangaben handelt es sich um unverbindliche Empfehlungen des Herstellers inkl. 19% MwSt. und exklusive \\\\xc3\\\\x9cberf\\\\xc3\\\\xbchrungskosten. \\\\xc3\\\\x84nderungen und Irrt\\\\xc3\\\\xbcmer vorbehalten. Verbindliche Preisausk\\\\xc3\\\\xbcnfte gibt Ihnen gern Ihr BMW Partner.\\xb0\\\\r\\\\n\\xb0\\\\r\\\\n\\xb0Abbildungen zeigen Sonderausstattung gegen Mehrpreis. Bei den Preisangaben handelt es sich um unverbindliche Empfehlungen des Herstellers inkl. 19% MwSt. und exklusive \\\\xc3\\\\x9cberf\\\\xc3\\\\xbchrungskosten. \\\\xc3\\\\x84nderungen und Irrt\\\\xc3\\\\xbcmer vorbehalten. Verbindliche Preisausk\\\\xc3\\\\xbcnfte gibt Ihnen gern Ihr BMW Partner.\\xb0\\\\r\\\\n\\xb0\\\\r\\\\n\\xb0Die Preisangabe bezieht sich auf den BMW iX\\xb0\\\\r\\\\nxDrive40.\\xb0\\\\r\\\\nAbbildungen zeigen Sonderausstattung gegen Mehrpreis. Bei den Preisangaben handelt es sich um unverbindliche Empfehlungen des Herstellers inkl. 19% MwSt. und exklusive \\\\xc3\\\\x9cberf\\\\xc3\\\\xbchrungskosten. \\\\xc3\\\\x84nderungen und Irrt\\\\xc3\\\\xbcmer vorbehalten. Verbindliche Preisausk\\\\xc3\\\\xbcnfte gibt Ihnen gern Ihr BMW Partner.\\xb0\\\\r\\\\n\\xb0\\\\r\\\\n\\xb0Abbildungen zeigen Sonderausstattung gegen Mehrpreis. Bei den Preisangaben handelt es sich um unverbindliche Empfehlungen des Herstellers inkl. 19% MwSt. und exklusive \\\\xc3\\\\x9cberf\\\\xc3\\\\xbchrungskosten. \\\\xc3\\\\x84nderungen und Irrt\\\\xc3\\\\xbcmer vorbehalten. Verbindliche Preisausk\\\\xc3\\\\xbcnfte gibt Ihnen gern Ihr BMW Partner.\\xb0\\\\r\\\\n\\xb0\\\\r\\\\n\\xb0Die Preisangabe bezieht sich auf den BMW iX3 Modell \\\\xe2\\\\x80\\\\x9eInspiring\\\\xe2\\\\x80\\\\x9c.\\xb0\\\\r\\\\n\\xb0\\\\r\\\\nAbbildungen zeigen Sonderausstattungen gegen Mehrpreis. Bei den Preisangaben handelt es sich um unverbindliche Empfehlungen des Herstellers inkl. 19% MwSt. und exklusive \\\\xc3\\\\x9cberf\\\\xc3\\\\xbchrungskosten. \\\\xc3\\\\x84nderungen und Irrt\\\\xc3\\\\xbcmer vorbehalten. Verbindliche Preisausk\\\\xc3\\\\xbcnfte gibt Ihnen gern Ihr BMW Partner.\\xb0\\\\r\\\\n\\xb0Abbildungen zeigen Sonderausstattung gegen Mehrpreis. Bei den Preisangaben handelt es sich um unverbindliche Empfehlungen des Herstellers inkl. 19% MwSt. und exklusive \\\\xc3\\\\x9cberf\\\\xc3\\\\xbchrungskosten. \\\\xc3\\\\x84nderungen und Irrt\\\\xc3\\\\xbcmer vorbehalten. Verbindliche Preisausk\\\\xc3\\\\xbcnfte gibt Ihnen gern Ihr BMW Partner.\\xb0\\\\r\\\\n\\xb0\\\\r\\\\n\\xb0Abbildungen zeigen Sonderausstattung gegen Mehrpreis. Bei den Preisangaben handelt es sich um unverbindliche Empfehlungen des Herstellers inkl. 19% MwSt. und exklusive \\\\xc3\\\\x9cberf\\\\xc3\\\\xbchrungskosten. \\\\xc3\\\\x84nderungen und Irrt\\\\xc3\\\\xbcmer vorbehalten. Verbindliche Preisausk\\\\xc3\\\\xbcnfte gibt Ihnen gern Ihr BMW Partner.\\xb0\\\\r\\\\n\\xb0\\\\r\\\\n\\xb0Abbildungen zeigen Sonderausstattung gegen Mehrpreis. Bei den Preisangaben handelt es sich um unverbindliche Empfehlungen des Herstellers inkl. 19% MwSt. und exklusive \\\\xc3\\\\x9cberf\\\\xc3\\\\xbchrungskosten. \\\\xc3\\\\x84nderungen und Irrt\\\\xc3\\\\xbcmer vorbehalten. Verbindliche Preisausk\\\\xc3\\\\xbcnfte gibt Ihnen gern Ihr BMW Partner.\\xb0\\\\r\\\\n\\xb0\\\\r\\\\n\\xb0Abbildungen zeigen Sonderausstattung gegen Mehrpreis. Bei den Preisangaben handelt es sich um unverbindliche Empfehlungen des Herstellers inkl. 19% MwSt. und exklusive \\\\xc3\\\\x9cberf\\\\xc3\\\\xbchrungskosten. \\\\xc3\\\\x84nderungen und Irrt\\\\xc3\\\\xbcmer vorbehalten. Verbindliche Preisausk\\\\xc3\\\\xbcnfte gibt Ihnen gern Ihr BMW Partner.\\xb0\\\\r\\\\n\\xb0\\\\r\\\\n\\xb0Abbildungen zeigen Sonderausstattung gegen Mehrpreis. Bei den Preisangaben handelt es sich um unverbindliche Empfehlungen des Herstellers inkl. 19% MwSt. und exklusive \\\\xc3\\\\x9cberf\\\\xc3\\\\xbchrungskosten. \\\\xc3\\\\x84nderungen und Irrt\\\\xc3\\\\xbcmer vorbehalten. Verbindliche Preisausk\\\\xc3\\\\xbcnfte gibt Ihnen gern Ihr BMW Partner.\\xb0\\\\r\\\\n\\xb0\\\\r\\\\n\\xb0Abbildungen zeigen Sonderausstattung gegen Mehrpreis. Bei den Preisangaben handelt es sich um unverbindliche Empfehlungen des Herstellers inkl. 19% MwSt. und exklusive \\\\xc3\\\\x9cberf\\\\xc3\\\\xbchrungskosten. \\\\xc3\\\\x84nderungen und Irrt\\\\xc3\\\\xbcmer vorbehalten. Verbindliche Preisausk\\\\xc3\\\\xbcnfte gibt Ihnen gern Ihr BMW Partner.\\xb0\\\\r\\\\n\\xb0\\\\r\\\\n\\xb0Abbildungen zeigen Sonderausstattung gegen Mehrpreis. Bei den Preisangaben handelt es sich um unverbindliche Empfehlungen des Herstellers inkl. 19% MwSt. und exklusive \\\\xc3\\\\x9cberf\\\\xc3\\\\xbchrungskosten. \\\\xc3\\\\x84nderungen und Irrt\\\\xc3\\\\xbcmer vorbehalten. Verbindliche Preisausk\\\\xc3\\\\xbcnfte gibt Ihnen gern Ihr BMW Partner.\\xb0\\\\r\\\\n\\xb0\\\\r\\\\n\\xb0Abbildungen zeigen Sonderausstattung gegen Mehrpreis. Bei den Preisangaben handelt es sich um unverbindliche Empfehlungen des Herstellers inkl. 19% MwSt. und exklusive \\\\xc3\\\\x9cberf\\\\xc3\\\\xbchrungskosten. \\\\xc3\\\\x84nderungen und Irrt\\\\xc3\\\\xbcmer vorbehalten. Verbindliche Preisausk\\\\xc3\\\\xbcnfte gibt Ihnen gern Ihr BMW Partner.\\xb0\\\\r\\\\n\\xb0\\\\r\\\\n\\xb0Abbildungen zeigen Sonderausstattung gegen Mehrpreis. Bei den Preisangaben handelt es sich um unverbindliche Empfehlungen des Herstellers inkl. 19% MwSt. und exklusive \\\\xc3\\\\x9cberf\\\\xc3\\\\xbchrungskosten. \\\\xc3\\\\x84nderungen und Irrt\\\\xc3\\\\xbcmer vorbehalten. Verbindliche Preisausk\\\\xc3\\\\xbcnfte gibt Ihnen gern Ihr BMW Partner.\\xb0\\\\r\\\\n\\xb0\\\\r\\\\n\\xb0Abbildungen zeigen Sonderausstattung gegen Mehrpreis. Bei den Preisangaben handelt es sich um unverbindliche Empfehlungen des Herstellers inkl. 19% MwSt. und exklusive \\\\xc3\\\\x9cberf\\\\xc3\\\\xbchrungskosten. \\\\xc3\\\\x84nderungen und Irrt\\\\xc3\\\\xbcmer vorbehalten. Verbindliche Preisausk\\\\xc3\\\\xbcnfte gibt Ihnen gern Ihr BMW Partner.\\xb0\\\\r\\\\n\\xb0\\\\r\\\\n\\xb0Abbildungen zeigen Sonderausstattung gegen Mehrpreis. Bei den Preisangaben handelt es sich um unverbindliche Empfehlungen des Herstellers inkl. 19% MwSt. und exklusive \\\\xc3\\\\x9cberf\\\\xc3\\\\xbchrungskosten. \\\\xc3\\\\x84nderungen und Irrt\\\\xc3\\\\xbcmer vorbehalten. Verbindliche Preisausk\\\\xc3\\\\xbcnfte gibt Ihnen gern Ihr BMW Partner.\\xb0\\\\r\\\\n\\xb0\\\\r\\\\n\\xb0Abbildungen zeigen Sonderausstattung gegen Mehrpreis. Bei den Preisangaben handelt es sich um unverbindliche Empfehlungen des Herstellers inkl. 19% MwSt. und exklusive \\\\xc3\\\\x9cberf\\\\xc3\\\\xbchrungskosten. \\\\xc3\\\\x84nderungen und Irrt\\\\xc3\\\\xbcmer vorbehalten. Verbindliche Preisausk\\\\xc3\\\\xbcnfte gibt Ihnen gern Ihr BMW Partner.\\xb0\\\\r\\\\n\\xb0\\\\r\\\\n\\xb0Abbildungen zeigen Sonderausstattung gegen Mehrpreis. Bei den Preisangaben handelt es sich um unverbindliche Empfehlungen des Herstellers inkl. 19% MwSt. und exklusive \\\\xc3\\\\x9cberf\\\\xc3\\\\xbchrungskosten. \\\\xc3\\\\x84nderungen und Irrt\\\\xc3\\\\xbcmer vorbehalten. Verbindliche Preisausk\\\\xc3\\\\xbcnfte gibt Ihnen gern Ihr BMW Partner.\\xb0\\\\r\\\\n\\xb0\\\\r\\\\n\\xb0Abbildungen zeigen Sonderausstattung gegen Mehrpreis. Bei den Preisangaben handelt es sich um unverbindliche Empfehlungen des Herstellers inkl. 19% MwSt. und exklusive \\\\xc3\\\\x9cberf\\\\xc3\\\\xbchrungskosten. \\\\xc3\\\\x84nderungen und Irrt\\\\xc3\\\\xbcmer vorbehalten. Verbindliche Preisausk\\\\xc3\\\\xbcnfte gibt Ihnen gern Ihr BMW Partner.\\xb0\\\\r\\\\n\\xb0\\\\r\\\\n\\xb0Die Preisangabe bezieht sich auf das BMW\\xa0M440i xDrive\\xa0Cabrio.\\xb0\\\\r\\\\nAbbildungen zeigen Sonderausstattung gegen Mehrpreis. Bei den Preisangaben handelt es sich um unverbindliche Empfehlungen des Herstellers inkl. 19% MwSt. und exklusive \\\\xc3\\\\x9cberf\\\\xc3\\\\xbchrungskosten. \\\\xc3\\\\x84nderungen und Irrt\\\\xc3\\\\xbcmer vorbehalten. Verbindliche Preisausk\\\\xc3\\\\xbcnfte gibt Ihnen gern Ihr BMW Partner.\\xb0\\\\r\\\\n\\xb0\\\\r\\\\n\\xb0Abbildungen zeigen Sonderausstattung gegen Mehrpreis. Bei den Preisangaben handelt es sich um unverbindliche Empfehlungen des Herstellers inkl. 19% MwSt. und exklusive \\\\xc3\\\\x9cberf\\\\xc3\\\\xbchrungskosten. \\\\xc3\\\\x84nderungen und Irrt\\\\xc3\\\\xbcmer vorbehalten. Verbindliche Preisausk\\\\xc3\\\\xbcnfte gibt Ihnen gern Ihr BMW Partner.\\xb0\\\\r\\\\n\\xb0\\\\r\\\\n\\xb0Abbildungen zeigen Sonderausstattung gegen Mehrpreis. Bei den Preisangaben handelt es sich um unverbindliche Empfehlungen des Herstellers inkl. 19% MwSt. und exklusive \\\\xc3\\\\x9cberf\\\\xc3\\\\xbchrungskosten. \\\\xc3\\\\x84nderungen und Irrt\\\\xc3\\\\xbcmer vorbehalten. Verbindliche Preisausk\\\\xc3\\\\xbcnfte gibt Ihnen gern Ihr BMW Partner.\\xb0\\\\r\\\\n\\xb0\\\\r\\\\n\\xb0Abbildungen zeigen Sonderausstattung gegen Mehrpreis. Bei den Preisangaben handelt es sich um unverbindliche Empfehlungen des Herstellers inkl. 19% MwSt. und exklusive \\\\xc3\\\\x9cberf\\\\xc3\\\\xbchrungskosten. \\\\xc3\\\\x84nderungen und Irrt\\\\xc3\\\\xbcmer vorbehalten. Verbindliche Preisausk\\\\xc3\\\\xbcnfte gibt Ihnen gern Ihr BMW Partner.\\xb0\\\\r\\\\n\\xb0\\\\r\\\\n\\xb0Abbildungen zeigen Sonderausstattung gegen Mehrpreis. Bei den Preisangaben handelt es sich um unverbindliche Empfehlungen des Herstellers inkl. 19% MwSt. und exklusive \\\\xc3\\\\x9cberf\\\\xc3\\\\xbchrungskosten. \\\\xc3\\\\x84nderungen und Irrt\\\\xc3\\\\xbcmer vorbehalten. Verbindliche Preisausk\\\\xc3\\\\xbcnfte gibt Ihnen gern Ihr BMW Partner.\\xb0\\\\r\\\\n\\xb0\\\\r\\\\n\\xb0Abbildungen zeigen Sonderausstattung gegen Mehrpreis. Bei den Preisangaben handelt es sich um unverbindliche Empfehlungen des Herstellers inkl. 19% MwSt. und exklusive \\\\xc3\\\\x9cberf\\\\xc3\\\\xbchrungskosten. \\\\xc3\\\\x84nderungen und Irrt\\\\xc3\\\\xbcmer vorbehalten. Verbindliche Preisausk\\\\xc3\\\\xbcnfte gibt Ihnen gern Ihr BMW Partner.\\xb0\\\\r\\\\n\\xb0\\\\r\\\\n\\xb0Abbildungen zeigen Sonderausstattung gegen Mehrpreis. Bei den Preisangaben handelt es sich um unverbindliche Empfehlungen des Herstellers inkl. 19% MwSt. und exklusive \\\\xc3\\\\x9cberf\\\\xc3\\\\xbchrungskosten. \\\\xc3\\\\x84nderungen und Irrt\\\\xc3\\\\xbcmer vorbehalten. Verbindliche Preisausk\\\\xc3\\\\xbcnfte gibt Ihnen gern Ihr BMW Partner.\\xb0\\\\r\\\\n\\xb0\\\\r\\\\n\\xb0Abbildungen zeigen Sonderausstattung gegen Mehrpreis. Bei den Preisangaben handelt es sich um unverbindliche Empfehlungen des Herstellers inkl. 19% MwSt. und exklusive \\\\xc3\\\\x9cberf\\\\xc3\\\\xbchrungskosten. \\\\xc3\\\\x84nderungen und Irrt\\\\xc3\\\\xbcmer vorbehalten. Verbindliche Preisausk\\\\xc3\\\\xbcnfte gibt Ihnen gern Ihr BMW Partner.\\xb0\\\\r\\\\n\\xb0\\\\r\\\\n\\xb0Abbildungen zeigen Sonderausstattung gegen Mehrpreis. Bei den Preisangaben handelt es sich um unverbindliche Empfehlungen des Herstellers inkl. 19% MwSt. und exklusive \\\\xc3\\\\x9cberf\\\\xc3\\\\xbchrungskosten. \\\\xc3\\\\x84nderungen und Irrt\\\\xc3\\\\xbcmer vorbehalten. Verbindliche Preisausk\\\\xc3\\\\xbcnfte gibt Ihnen gern Ihr BMW Partner.\\xb0\\\\r\\\\n\\xb0\\\\r\\\\n\\xb0Abbildungen zeigen Sonderausstattung gegen Mehrpreis. Bei den Preisangaben handelt es sich um unverbindliche Empfehlungen des Herstellers inkl. 19% MwSt. und exklusive \\\\xc3\\\\x9cberf\\\\xc3\\\\xbchrungskosten. \\\\xc3\\\\x84nderungen und Irrt\\\\xc3\\\\xbcmer vorbehalten. Verbindliche Preisausk\\\\xc3\\\\xbcnfte gibt Ihnen gern Ihr BMW Partner.\\xb0\\\\r\\\\n\\xb0\\\\r\\\\n\\xb0Abbildungen zeigen Sonderausstattung gegen Mehrpreis. Bei den Preisangaben handelt es sich um unverbindliche Empfehlungen des Herstellers inkl. 19% MwSt. und exklusive \\\\xc3\\\\x9cberf\\\\xc3\\\\xbchrungskosten. \\\\xc3\\\\x84nderungen und Irrt\\\\xc3\\\\xbcmer vorbehalten. Verbindliche Preisausk\\\\xc3\\\\xbcnfte gibt Ihnen gern Ihr BMW Partner.\\xb0\\\\r\\\\n\\xb0\\\\r\\\\n\\xb0Abbildungen zeigen Sonderausstattung gegen Mehrpreis. Bei den Preisangaben handelt es sich um unverbindliche Empfehlungen des Herstellers inkl. 19% MwSt. und exklusive \\\\xc3\\\\x9cberf\\\\xc3\\\\xbchrungskosten. \\\\xc3\\\\x84nderungen und Irrt\\\\xc3\\\\xbcmer vorbehalten. Verbindliche Preisausk\\\\xc3\\\\xbcnfte gibt Ihnen gern Ihr BMW Partner.\\xb0\\\\r\\\\n\\xb0\\\\r\\\\n\\xb0Abbildungen zeigen Sonderausstattung gegen Mehrpreis. Bei den Preisangaben handelt es sich um unverbindliche Empfehlungen des Herstellers inkl. 19% MwSt. und exklusive \\\\xc3\\\\x9cberf\\\\xc3\\\\xbchrungskosten. \\\\xc3\\\\x84nderungen und Irrt\\\\xc3\\\\xbcmer vorbehalten. Verbindliche Preisausk\\\\xc3\\\\xbcnfte gibt Ihnen gern Ihr BMW Partner.\\xb0\\\\r\\\\n\\xb0\\\\r\\\\n\\xb0Abbildungen zeigen Sonderausstattung gegen Mehrpreis. Bei den Preisangaben handelt es sich um unverbindliche Empfehlungen des Herstellers inkl. 19% MwSt. und exklusive \\\\xc3\\\\x9cberf\\\\xc3\\\\xbchrungskosten. \\\\xc3\\\\x84nderungen und Irrt\\\\xc3\\\\xbcmer vorbehalten. Verbindliche Preisausk\\\\xc3\\\\xbcnfte gibt Ihnen gern Ihr BMW Partner.\\xb0\\\\r\\\\n\\xb0\\\\r\\\\n\\xb0Abbildungen zeigen Sonderausstattung gegen Mehrpreis. Bei den Preisangaben handelt es sich um unverbindliche Empfehlungen des Herstellers inkl. 19% MwSt. und exklusive \\\\xc3\\\\x9cberf\\\\xc3\\\\xbchrungskosten. \\\\xc3\\\\x84nderungen und Irrt\\\\xc3\\\\xbcmer vorbehalten. Verbindliche Preisausk\\\\xc3\\\\xbcnfte gibt Ihnen gern Ihr BMW Partner.\\xb0\\\\r\\\\n\\xb0\\\\r\\\\n\\xb0Abbildungen zeigen Sonderausstattung gegen Mehrpreis. Bei den Preisangaben handelt es sich um unverbindliche Empfehlungen des Herstellers inkl. 19% MwSt. und exklusive \\\\xc3\\\\x9cberf\\\\xc3\\\\xbchrungskosten. \\\\xc3\\\\x84nderungen und Irrt\\\\xc3\\\\xbcmer vorbehalten. Verbindliche Preisausk\\\\xc3\\\\xbcnfte gibt Ihnen gern Ihr BMW Partner.\\xb0\\\\r\\\\n\\xb0\\\\r\\\\n\\xb0Abbildungen zeigen Sonderausstattung gegen Mehrpreis. Bei den Preisangaben handelt es sich um unverbindliche Empfehlungen des Herstellers inkl. 19% MwSt. und exklusive \\\\xc3\\\\x9cberf\\\\xc3\\\\xbchrungskosten. \\\\xc3\\\\x84nderungen und Irrt\\\\xc3\\\\xbcmer vorbehalten. Verbindliche Preisausk\\\\xc3\\\\xbcnfte gibt Ihnen gern Ihr BMW Partner.\\xb0\\\\r\\\\n\\xb0\\\\r\\\\n\\xb0Abbildungen zeigen Sonderausstattung gegen Mehrpreis. Bei den Preisangaben handelt es sich um unverbindliche Empfehlungen des Herstellers inkl. 19% MwSt. und exklusive \\\\xc3\\\\x9cberf\\\\xc3\\\\xbchrungskosten. \\\\xc3\\\\x84nderungen und Irrt\\\\xc3\\\\xbcmer vorbehalten. Verbindliche Preisausk\\\\xc3\\\\xbcnfte gibt Ihnen gern Ihr BMW Partner.\\xb0\\\\r\\\\n\\xb0\\\\r\\\\n\\xb0Abbildungen zeigen Sonderausstattung gegen Mehrpreis. Bei den Preisangaben handelt es sich um unverbindliche Empfehlungen des Herstellers inkl. 19% MwSt. und exklusive \\\\xc3\\\\x9cberf\\\\xc3\\\\xbchrungskosten. \\\\xc3\\\\x84nderungen und Irrt\\\\xc3\\\\xbcmer vorbehalten. Verbindliche Preisausk\\\\xc3\\\\xbcnfte gibt Ihnen gern Ihr BMW Partner.\\xb0\\\\r\\\\n\\xb0\\\\r\\\\n\\xb0Abbildungen zeigen Sonderausstattung gegen Mehrpreis. Bei den Preisangaben handelt es sich um unverbindliche Empfehlungen des Herstellers inkl. 19% MwSt. und exklusive \\\\xc3\\\\x9cberf\\\\xc3\\\\xbchrungskosten. \\\\xc3\\\\x84nderungen und Irrt\\\\xc3\\\\xbcmer vorbehalten. Verbindliche Preisausk\\\\xc3\\\\xbcnfte gibt Ihnen gern Ihr BMW Partner.\\xb0\\\\r\\\\n\\xb0\\\\r\\\\n\\xb0Abbildungen zeigen Sonderausstattung gegen Mehrpreis. Bei den Preisangaben handelt es sich um unverbindliche Empfehlungen des Herstellers inkl. 19% MwSt. und exklusive \\\\xc3\\\\x9cberf\\\\xc3\\\\xbchrungskosten. \\\\xc3\\\\x84nderungen und Irrt\\\\xc3\\\\xbcmer vorbehalten. Verbindliche Preisausk\\\\xc3\\\\xbcnfte gibt Ihnen gern Ihr BMW Partner.\\xb0\\\\r\\\\n\\xb0\\\\r\\\\n\\xb0Abbildungen zeigen Sonderausstattung gegen Mehrpreis. Bei den Preisangaben handelt es sich um unverbindliche Empfehlungen des Herstellers inkl. 19% MwSt. und exklusive \\\\xc3\\\\x9cberf\\\\xc3\\\\xbchrungskosten. \\\\xc3\\\\x84nderungen und Irrt\\\\xc3\\\\xbcmer vorbehalten. Verbindliche Preisausk\\\\xc3\\\\xbcnfte gibt Ihnen gern Ihr BMW Partner.\\xb0\\\\r\\\\n\\xb0\\\\r\\\\n\\xb0Abbildungen zeigen Sonderausstattung gegen Mehrpreis. Bei den Preisangaben handelt es sich um unverbindliche Empfehlungen des Herstellers inkl. 19% MwSt. und exklusive \\\\xc3\\\\x9cberf\\\\xc3\\\\xbchrungskosten. \\\\xc3\\\\x84nderungen und Irrt\\\\xc3\\\\xbcmer vorbehalten. Verbindliche Preisausk\\\\xc3\\\\xbcnfte gibt Ihnen gern Ihr BMW Partner.\\xb0\\\\r\\\\n\\xb0\\\\r\\\\n\\xb0Abbildungen zeigen Sonderausstattung gegen Mehrpreis. Bei den Preisangaben handelt es sich um unverbindliche Empfehlungen des Herstellers inkl. 19% MwSt. und exklusive \\\\xc3\\\\x9cberf\\\\xc3\\\\xbchrungskosten. \\\\xc3\\\\x84nderungen und Irrt\\\\xc3\\\\xbcmer vorbehalten. Verbindliche Preisausk\\\\xc3\\\\xbcnfte gibt Ihnen gern Ihr BMW Partner.\\xb0\\\\r\\\\n\\xb0\\\\r\\\\n\\xb0Abbildungen zeigen Sonderausstattung gegen Mehrpreis. Bei den Preisangaben handelt es sich um unverbindliche Empfehlungen des Herstellers inkl. 19% MwSt. und exklusive \\\\xc3\\\\x9cberf\\\\xc3\\\\xbchrungskosten. \\\\xc3\\\\x84nderungen und Irrt\\\\xc3\\\\xbcmer vorbehalten. Verbindliche Preisausk\\\\xc3\\\\xbcnfte gibt Ihnen gern Ihr BMW Partner.\\xb0\\\\r\\\\n\\xb0\\\\r\\\\n\\xb0Abbildungen zeigen Sonderausstattung gegen Mehrpreis. Bei den Preisangaben handelt es sich um unverbindliche Empfehlungen des Herstellers inkl. 19% MwSt. und exklusive \\\\xc3\\\\x9cberf\\\\xc3\\\\xbchrungskosten. \\\\xc3\\\\x84nderungen und Irrt\\\\xc3\\\\xbcmer vorbehalten. Verbindliche Preisausk\\\\xc3\\\\xbcnfte gibt Ihnen gern Ihr BMW Partner.\\xb0\\\\r\\\\n\\xb0\\\\r\\\\n\\xb0Die Preisangabe bezieht sich auf das BMW\\xa0M440i xDrive\\xa0Cabrio.\\xb0\\\\r\\\\nAbbildungen zeigen Sonderausstattung gegen Mehrpreis. Bei den Preisangaben handelt es sich um unverbindliche Empfehlungen des Herstellers inkl. 19% MwSt. und exklusive \\\\xc3\\\\x9cberf\\\\xc3\\\\xbchrungskosten. \\\\xc3\\\\x84nderungen und Irrt\\\\xc3\\\\xbcmer vorbehalten. Verbindliche Preisausk\\\\xc3\\\\xbcnfte gibt Ihnen gern Ihr BMW Partner.\\xb0\\\\r\\\\n\\xb0\\\\r\\\\n\\xb0Abbildungen zeigen Sonderausstattung gegen Mehrpreis. Bei den Preisangaben handelt es sich um unverbindliche Empfehlungen des Herstellers inkl. 19% MwSt. und exklusive \\\\xc3\\\\x9cberf\\\\xc3\\\\xbchrungskosten. \\\\xc3\\\\x84nderungen und Irrt\\\\xc3\\\\xbcmer vorbehalten. Verbindliche Preisausk\\\\xc3\\\\xbcnfte gibt Ihnen gern Ihr BMW Partner.\\xb0\\\\r\\\\n\\xb0\\\\r\\\\n\\xb0Abbildungen zeigen Sonderausstattung gegen Mehrpreis. Bei den Preisangaben handelt es sich um unverbindliche Empfehlungen des Herstellers inkl. 19% MwSt. und exklusive \\\\xc3\\\\x9cberf\\\\xc3\\\\xbchrungskosten. \\\\xc3\\\\x84nderungen und Irrt\\\\xc3\\\\xbcmer vorbehalten. Verbindliche Preisausk\\\\xc3\\\\xbcnfte gibt Ihnen gern Ihr BMW Partner.\\xb0\\\\r\\\\n\\xb0\\\\r\\\\n\\xb0Abbildungen zeigen Sonderausstattung gegen Mehrpreis. Bei den Preisangaben handelt es sich um unverbindliche Empfehlungen des Herstellers inkl. 19% MwSt. und exklusive \\\\xc3\\\\x9cberf\\\\xc3\\\\xbchrungskosten. \\\\xc3\\\\x84nderungen und Irrt\\\\xc3\\\\xbcmer vorbehalten. Verbindliche Preisausk\\\\xc3\\\\xbcnfte gibt Ihnen gern Ihr BMW Partner.\\xb0\\\\r\\\\n\\xb0\\\\r\\\\n\\xb0Abbildungen zeigen Sonderausstattung gegen Mehrpreis. Bei den Preisangaben handelt es sich um unverbindliche Empfehlungen des Herstellers inkl. 19% MwSt. und exklusive \\\\xc3\\\\x9cberf\\\\xc3\\\\xbchrungskosten. \\\\xc3\\\\x84nderungen und Irrt\\\\xc3\\\\xbcmer vorbehalten. Verbindliche Preisausk\\\\xc3\\\\xbcnfte gibt Ihnen gern Ihr BMW Partner.\\xb0\\\\r\\\\n\\xb0\\\\r\\\\n\\xb0Abbildungen zeigen Sonderausstattung gegen Mehrpreis. Bei den Preisangaben handelt es sich um unverbindliche Empfehlungen des Herstellers inkl. 19% MwSt. und exklusive \\\\xc3\\\\x9cberf\\\\xc3\\\\xbchrungskosten. \\\\xc3\\\\x84nderungen und Irrt\\\\xc3\\\\xbcmer vorbehalten. Verbindliche Preisausk\\\\xc3\\\\xbcnfte gibt Ihnen gern Ihr BMW Partner.\\xb0\\\\r\\\\n\\xb0\\\\r\\\\n\\xb0Abbildungen zeigen Sonderausstattung gegen Mehrpreis. Bei den Preisangaben handelt es sich um unverbindliche Empfehlungen des Herstellers inkl. 19% MwSt. und exklusive \\\\xc3\\\\x9cberf\\\\xc3\\\\xbchrungskosten. \\\\xc3\\\\x84nderungen und Irrt\\\\xc3\\\\xbcmer vorbehalten. Verbindliche Preisausk\\\\xc3\\\\xbcnfte gibt Ihnen gern Ihr BMW Partner.\\xb0\\\\r\\\\n\\xb0\\\\r\\\\n\\xb0Abbildungen zeigen Sonderausstattung gegen Mehrpreis. Bei den Preisangaben handelt es sich um unverbindliche Empfehlungen des Herstellers inkl. 19% MwSt. und exklusive \\\\xc3\\\\x9cberf\\\\xc3\\\\xbchrungskosten. \\\\xc3\\\\x84nderungen und Irrt\\\\xc3\\\\xbcmer vorbehalten. Verbindliche Preisausk\\\\xc3\\\\xbcnfte gibt Ihnen gern Ihr BMW Partner.\\xb0\\\\r\\\\n\\xb0\\\\r\\\\n\\xb0Abbildungen zeigen Sonderausstattung gegen Mehrpreis. Bei den Preisangaben handelt es sich um unverbindliche Empfehlungen des Herstellers inkl. 19% MwSt. und exklusive \\\\xc3\\\\x9cberf\\\\xc3\\\\xbchrungskosten. \\\\xc3\\\\x84nderungen und Irrt\\\\xc3\\\\xbcmer vorbehalten. Verbindliche Preisausk\\\\xc3\\\\xbcnfte gibt Ihnen gern Ihr BMW Partner.\\xb0\\\\r\\\\n\\xb0\\\\r\\\\n\\xb0Abbildungen zeigen Sonderausstattung gegen Mehrpreis. Bei den Preisangaben handelt es sich um unverbindliche Empfehlungen des Herstellers inkl. 19% MwSt. und exklusive \\\\xc3\\\\x9cberf\\\\xc3\\\\xbchrungskosten. \\\\xc3\\\\x84nderungen und Irrt\\\\xc3\\\\xbcmer vorbehalten. Verbindliche Preisausk\\\\xc3\\\\xbcnfte gibt Ihnen gern Ihr BMW Partner.\\xb0\\\\r\\\\n\\xb0\\\\r\\\\n\\xb0Abbildungen zeigen Sonderausstattung gegen Mehrpreis. Bei den Preisangaben handelt es sich um unverbindliche Empfehlungen des Herstellers inkl. 19% MwSt. und exklusive \\\\xc3\\\\x9cberf\\\\xc3\\\\xbchrungskosten. \\\\xc3\\\\x84nderungen und Irrt\\\\xc3\\\\xbcmer vorbehalten. Verbindliche Preisausk\\\\xc3\\\\xbcnfte gibt Ihnen gern Ihr BMW Partner.\\xb0\\\\r\\\\n\\xb0\\\\r\\\\n\\xb0Abbildungen zeigen Sonderausstattung gegen Mehrpreis. Bei den Preisangaben handelt es sich um unverbindliche Empfehlungen des Herstellers inkl. 19% MwSt. und exklusive \\\\xc3\\\\x9cberf\\\\xc3\\\\xbchrungskosten. \\\\xc3\\\\x84nderungen und Irrt\\\\xc3\\\\xbcmer vorbehalten. Verbindliche Preisausk\\\\xc3\\\\xbcnfte gibt Ihnen gern Ihr BMW Partner.\\xb0\\\\r\\\\n\\xb0\\\\r\\\\n\\xb0Abbildungen zeigen Sonderausstattung gegen Mehrpreis. Bei den Preisangaben handelt es sich um unverbindliche Empfehlungen des Herstellers inkl. 19% MwSt. und exklusive \\\\xc3\\\\x9cberf\\\\xc3\\\\xbchrungskosten. \\\\xc3\\\\x84nderungen und Irrt\\\\xc3\\\\xbcmer vorbehalten. Verbindliche Preisausk\\\\xc3\\\\xbcnfte gibt Ihnen gern Ihr BMW Partner.\\xb0\\\\r\\\\n\\xb0\\\\r\\\\n\\xb0Die Plug-in-Hybrid Modelle BMW 225e xDrive und BMW\\xa0230e\\xa0xDrive Active\\xa0Tourer\\xa0sind\\xa0voraussichtlich ab 7/2022 verf\\\\xc3\\\\xbcgbar.\\xa0Abbildungen zeigen Sonderausstattung gegen Mehrpreis. Bei den Preisangaben handelt es sich um unverbindliche Empfehlungen des Herstellers inkl. 19% MwSt. und exklusive \\\\xc3\\\\x9cberf\\\\xc3\\\\xbchrungskosten. \\\\xc3\\\\x84nderungen und Irrt\\\\xc3\\\\xbcmer vorbehalten. Verbindliche Preisausk\\\\xc3\\\\xbcnfte gibt Ihnen gern Ihr BMW Partner.\\xb0\\\\r\\\\n\\xb0Abbildungen zeigen Sonderausstattung gegen Mehrpreis. Bei den Preisangaben handelt es sich um unverbindliche Empfehlungen des Herstellers inkl. 19% MwSt. und exklusive \\\\xc3\\\\x9cberf\\\\xc3\\\\xbchrungskosten. \\\\xc3\\\\x84nderungen und Irrt\\\\xc3\\\\xbcmer vorbehalten. Verbindliche Preisausk\\\\xc3\\\\xbcnfte gibt Ihnen gern Ihr BMW Partner.\\xb0\\\\r\\\\n\\xb0\\\\r\\\\n\\xb0Abbildungen zeigen Sonderausstattung gegen Mehrpreis. Bei den Preisangaben handelt es sich um unverbindliche Empfehlungen des Herstellers inkl. 19% MwSt. und exklusive \\\\xc3\\\\x9cberf\\\\xc3\\\\xbchrungskosten. \\\\xc3\\\\x84nderungen und Irrt\\\\xc3\\\\xbcmer vorbehalten. Verbindliche Preisausk\\\\xc3\\\\xbcnfte gibt Ihnen gern Ihr BMW Partner.\\xb0\\\\r\\\\n\\xb0\\\\r\\\\n\\xb0Abbildungen zeigen Sonderausstattung gegen Mehrpreis. Bei den Preisangaben handelt es sich um unverbindliche Empfehlungen des Herstellers inkl. 19% MwSt. und exklusive \\\\xc3\\\\x9cberf\\\\xc3\\\\xbchrungskosten. \\\\xc3\\\\x84nderungen und Irrt\\\\xc3\\\\xbcmer vorbehalten. Verbindliche Preisausk\\\\xc3\\\\xbcnfte gibt Ihnen gern Ihr BMW Partner.\\xb0\\\\r\\\\n\\xb0\\\\r\\\\n\\xb0Abbildungen zeigen Sonderausstattung gegen Mehrpreis. Bei den Preisangaben handelt es sich um unverbindliche Empfehlungen des Herstellers inkl. 19% MwSt. und exklusive \\\\xc3\\\\x9cberf\\\\xc3\\\\xbchrungskosten. \\\\xc3\\\\x84nderungen und Irrt\\\\xc3\\\\xbcmer vorbehalten. Verbindliche Preisausk\\\\xc3\\\\xbcnfte gibt Ihnen gern Ihr BMW Partner.\\xb0\\\\r\\\\n\\xb0\\\\r\\\\n\\xb0Abbildungen zeigen Sonderausstattung gegen Mehrpreis. Bei den Preisangaben handelt es sich um unverbindliche Empfehlungen des Herstellers inkl. 19% MwSt. und exklusive \\\\xc3\\\\x9cberf\\\\xc3\\\\xbchrungskosten. \\\\xc3\\\\x84nderungen und Irrt\\\\xc3\\\\xbcmer vorbehalten. Verbindliche Preisausk\\\\xc3\\\\xbcnfte gibt Ihnen gern Ihr BMW Partner.\\xb0\\\\r\\\\n\\xb0\\\\r\\\\n\\xb0Abbildungen zeigen Sonderausstattung gegen Mehrpreis. Bei den Preisangaben handelt es sich um unverbindliche Empfehlungen des Herstellers inkl. 19% MwSt. und exklusive \\\\xc3\\\\x9cberf\\\\xc3\\\\xbchrungskosten. \\\\xc3\\\\x84nderungen und Irrt\\\\xc3\\\\xbcmer vorbehalten. Verbindliche Preisausk\\\\xc3\\\\xbcnfte gibt Ihnen gern Ihr BMW Partner.\\xb0\\\\r\\\\n\\xb0\\\\r\\\\n\\xb0Abbildungen zeigen Sonderausstattung gegen Mehrpreis. Bei den Preisangaben handelt es sich um unverbindliche Empfehlungen des Herstellers inkl. 19% MwSt. und exklusive \\\\xc3\\\\x9cberf\\\\xc3\\\\xbchrungskosten. \\\\xc3\\\\x84nderungen und Irrt\\\\xc3\\\\xbcmer vorbehalten. Verbindliche Preisausk\\\\xc3\\\\xbcnfte gibt Ihnen gern Ihr BMW Partner.\\xb0\\\\r\\\\n\\xb0\\\\r\\\\n\\xb0Abbildungen zeigen Sonderausstattung gegen Mehrpreis. Bei den Preisangaben handelt es sich um unverbindliche Empfehlungen des Herstellers inkl. 19% MwSt. und exklusive \\\\xc3\\\\x9cberf\\\\xc3\\\\xbchrungskosten. \\\\xc3\\\\x84nderungen und Irrt\\\\xc3\\\\xbcmer vorbehalten. Verbindliche Preisausk\\\\xc3\\\\xbcnfte gibt Ihnen gern Ihr BMW Partner.\\xb0\\\\r\\\\n\\xb0\\\\r\\\\n\\xb0Abbildungen zeigen Sonderausstattung gegen Mehrpreis. Bei den Preisangaben handelt es sich um unverbindliche Empfehlungen des Herstellers inkl. 19% MwSt. und exklusive \\\\xc3\\\\x9cberf\\\\xc3\\\\xbchrungskosten. \\\\xc3\\\\x84nderungen und Irrt\\\\xc3\\\\xbcmer vorbehalten. Verbindliche Preisausk\\\\xc3\\\\xbcnfte gibt Ihnen gern Ihr BMW Partner.\\xb0\\\\r\\\\n\\xb0\\\\r\\\\n\\xb0Abbildungen zeigen Sonderausstattung gegen Mehrpreis. Bei den Preisangaben handelt es sich um unverbindliche Empfehlungen des Herstellers inkl. 19% MwSt. und exklusive \\\\xc3\\\\x9cberf\\\\xc3\\\\xbchrungskosten. \\\\xc3\\\\x84nderungen und Irrt\\\\xc3\\\\xbcmer vorbehalten. Verbindliche Preisausk\\\\xc3\\\\xbcnfte gibt Ihnen gern Ihr BMW Partner.\\xb0\\\\r\\\\n\\xb0\\\\r\\\\n\\xb0Abbildungen zeigen Sonderausstattung gegen Mehrpreis. Bei den Preisangaben handelt es sich um unverbindliche Empfehlungen des Herstellers inkl. 19% MwSt. und exklusive \\\\xc3\\\\x9cberf\\\\xc3\\\\xbchrungskosten. \\\\xc3\\\\x84nderungen und Irrt\\\\xc3\\\\xbcmer vorbehalten. Verbindliche Preisausk\\\\xc3\\\\xbcnfte gibt Ihnen gern Ihr BMW Partner.\\xb0\\\\r\\\\n\\xb0\\\\r\\\\n\\xb0Abbildungen zeigen Sonderausstattung gegen Mehrpreis. Bei den Preisangaben handelt es sich um unverbindliche Empfehlungen des Herstellers inkl. 19% MwSt. und exklusive \\\\xc3\\\\x9cberf\\\\xc3\\\\xbchrungskosten. \\\\xc3\\\\x84nderungen und Irrt\\\\xc3\\\\xbcmer vorbehalten. Verbindliche Preisausk\\\\xc3\\\\xbcnfte gibt Ihnen gern Ihr BMW Partner.\\xb0\\\\r\\\\n\\xb0\\\\r\\\\n\\xb0Abbildungen zeigen Sonderausstattung gegen Mehrpreis. Bei den Preisangaben handelt es sich um unverbindliche Empfehlungen des Herstellers inkl. 19% MwSt. und exklusive \\\\xc3\\\\x9cberf\\\\xc3\\\\xbchrungskosten. \\\\xc3\\\\x84nderungen und Irrt\\\\xc3\\\\xbcmer vorbehalten. Verbindliche Preisausk\\\\xc3\\\\xbcnfte gibt Ihnen gern Ihr BMW Partner.\\xb0\\\\r\\\\n\\xb0\\\\r\\\\n\\xb0Abbildungen zeigen Sonderausstattung gegen Mehrpreis. Bei den Preisangaben handelt es sich um unverbindliche Empfehlungen des Herstellers inkl. 19% MwSt. und exklusive \\\\xc3\\\\x9cberf\\\\xc3\\\\xbchrungskosten. \\\\xc3\\\\x84nderungen und Irrt\\\\xc3\\\\xbcmer vorbehalten. Verbindliche Preisausk\\\\xc3\\\\xbcnfte gibt Ihnen gern Ihr BMW Partner.\\xb0\\\\r\\\\n\\xb0\\\\r\\\\n\\xb0Abbildungen zeigen Sonderausstattung gegen Mehrpreis. Bei den Preisangaben handelt es sich um unverbindliche Empfehlungen des Herstellers inkl. 19% MwSt. und exklusive \\\\xc3\\\\x9cberf\\\\xc3\\\\xbchrungskosten. \\\\xc3\\\\x84nderungen und Irrt\\\\xc3\\\\xbcmer vorbehalten. Verbindliche Preisausk\\\\xc3\\\\xbcnfte gibt Ihnen gern Ihr BMW Partner.\\xb0\\\\r\\\\n\\xb0\\\\r\\\\n\\xb0Abbildungen zeigen Sonderausstattung gegen Mehrpreis. Bei den Preisangaben handelt es sich um unverbindliche Empfehlungen des Herstellers inkl. 19% MwSt. und exklusive \\\\xc3\\\\x9cberf\\\\xc3\\\\xbchrungskosten. \\\\xc3\\\\x84nderungen und Irrt\\\\xc3\\\\xbcmer vorbehalten. Verbindliche Preisausk\\\\xc3\\\\xbcnfte gibt Ihnen gern Ihr BMW Partner.\\xb0\\\\r\\\\n\\xb0\\\\r\\\\n\\xb0Abbildungen zeigen Sonderausstattung gegen Mehrpreis. Bei den Preisangaben handelt es sich um unverbindliche Empfehlungen des Herstellers inkl. 19% MwSt. und exklusive \\\\xc3\\\\x9cberf\\\\xc3\\\\xbchrungskosten. \\\\xc3\\\\x84nderungen und Irrt\\\\xc3\\\\xbcmer vorbehalten. Verbindliche Preisausk\\\\xc3\\\\xbcnfte gibt Ihnen gern Ihr BMW Partner.\\xb0\\\\r\\\\n\\xb0\\\\r\\\\n\\xb0SOCIAL MEDIA\\xb0KONTAKT\\xb0Kundenbetreuung\\xb0Infomaterial anfordern\\xb0BMW Partner finden\\xb0FAQ\\xb0\\\\xc3\\\\x9cBER BMW\\xb0Unternehmen\\xb0Karriere\\xb0Impressum\\xb0Datenschutz\\xb0Rechtlicher Hinweis\\xb0Cookies\\xb0\\\\xc2\\\\xa9 BMW AG 2022\\xb0JavaScript not activated\\xb0Website momentan nicht verf\\\\xc3\\\\xbcgbar\\xb0Unser Tool zur Verwaltung Ihrer Zustimmung f\\\\xc3\\\\xbcr unsere Cookie-Verwendung ist vor\\\\xc3\\\\xbcbergehend offline. Daher fehlen wom\\\\xc3\\\\xb6glich einige Funktionen, die Ihre Zustimmung zur Verwendung von Cookies erfordern.\\xb0'\"\n"
          ]
        }
      ],
      "source": [
        "s = df.loc[4, \"site_text\"] \n",
        "bs = s.encode('raw-unicode-escape')  # encode to bytes without double-encoding\n",
        "print(bs)"
      ]
    },
    {
      "cell_type": "code",
      "execution_count": 211,
      "metadata": {
        "colab": {
          "base_uri": "https://localhost:8080/"
        },
        "id": "Zi4l6N88X9vP",
        "outputId": "b45276e8-2eea-46ad-9c46-ef5ca382a900"
      },
      "outputs": [
        {
          "output_type": "stream",
          "name": "stdout",
          "text": [
            "b'und m\\xc3\\xb6glicherweise'\n"
          ]
        }
      ],
      "source": [
        "s = 'und m\\xc3\\xb6glicherweise'\n",
        "bs = s.encode('raw-unicode-escape')  # encode to bytes without double-encoding\n",
        "print(bs)\n"
      ]
    },
    {
      "cell_type": "code",
      "execution_count": 212,
      "metadata": {
        "colab": {
          "base_uri": "https://localhost:8080/"
        },
        "id": "pkZV154XkDgS",
        "outputId": "e3847ee4-1ee9-47c7-814e-141bec24ef43"
      },
      "outputs": [
        {
          "output_type": "stream",
          "name": "stdout",
          "text": [
            "und möglicherweise\n"
          ]
        }
      ],
      "source": [
        "decoded = bs.decode('utf-8')\n",
        "print(decoded)"
      ]
    },
    {
      "cell_type": "markdown",
      "metadata": {
        "id": "3f3Uub0I0v_w"
      },
      "source": [
        "### Cleanen"
      ]
    },
    {
      "cell_type": "code",
      "execution_count": 213,
      "metadata": {
        "id": "p2lPKPSFb09k"
      },
      "outputs": [],
      "source": [
        "df['full_text'] = df['site_text'] + ' ' + df['description'] + ' ' + df['keywords']\n",
        "df['full_text_raw'] = df['site_text'] + ' ' + df['description'] + ' ' + df['keywords']"
      ]
    },
    {
      "cell_type": "code",
      "execution_count": 214,
      "metadata": {
        "id": "pzWTjA9FXcXp"
      },
      "outputs": [],
      "source": [
        "def clean(text):\n",
        "    text = text.replace('\\n',' ')\n",
        "    text = text.replace('\\\\n',' ')\n",
        "    text = text.replace('html','')\n",
        "    text = re.sub('°', ' ', str(text))\n",
        "    text = re.sub('  ', ' ', str(text))\n",
        "    text = re.sub(',+', ',', str(text))\n",
        "    text = re.sub(\"'\", \"\", str(text))\n",
        "    text = re.sub(\"\\b(\\w)\\b\", \"\", str(text))\n",
        "    return text"
      ]
    },
    {
      "cell_type": "code",
      "execution_count": 215,
      "metadata": {
        "id": "5rW764ZWgZ88"
      },
      "outputs": [],
      "source": [
        "def remove_words(text, char_list):\n",
        "    flag = 0\n",
        "    in_list = text.split()\n",
        "    new_list = []\n",
        "    for line in in_list:\n",
        "        new_words = ' '.join([word for word in line.split() if not any([phrase in word for phrase in char_list])])\n",
        "        new_list.append(new_words)\n",
        "        new_text = \" \".join(new_list)\n",
        "        flag = 1\n",
        "    if flag == 1:\n",
        "        return new_text\n",
        "    else:\n",
        "        return text"
      ]
    },
    {
      "cell_type": "code",
      "execution_count": 216,
      "metadata": {
        "id": "ct0J7PIcjUWr"
      },
      "outputs": [],
      "source": [
        "def clean_sonderzeichen(text):\n",
        "    text = re.sub(\"(\\W)+\", \" \", str(text))\n",
        "    return text"
      ]
    },
    {
      "cell_type": "code",
      "execution_count": 217,
      "metadata": {
        "id": "JDRKfJ2n6129"
      },
      "outputs": [],
      "source": [
        "def remove_special_words(text):\n",
        "    text = text.replace('inkl','')\n",
        "    text = text.replace('mwst','')\n",
        "    return text"
      ]
    },
    {
      "cell_type": "code",
      "execution_count": 218,
      "metadata": {
        "id": "DMRmfS17kzK3"
      },
      "outputs": [],
      "source": [
        "# allmögliches\n",
        "df['full_text'] = df['full_text'].apply(lambda row: clean(row))"
      ]
    },
    {
      "cell_type": "code",
      "execution_count": 219,
      "metadata": {
        "colab": {
          "base_uri": "https://localhost:8080/"
        },
        "id": "h8hKpvfCeL-1",
        "outputId": "9506c2a4-9349-4803-b272-52849987abfe"
      },
      "outputs": [
        {
          "output_type": "stream",
          "name": "stderr",
          "text": [
            "100%|██████████| 114/114 [00:03<00:00, 29.75it/s]\n"
          ]
        }
      ],
      "source": [
        "# remove words die bestimmte Sonderzeichen enthalten\n",
        "char_list = [\"\\\\\", \"{\", \"1\", \"2\", \"3\",  \"4\",  \"5\",  \"6\",  \"7\",  \"8\",  \"9\", \"0\"]\n",
        "df['full_text'] = df['full_text'].progress_apply(lambda row: remove_words(row, char_list))"
      ]
    },
    {
      "cell_type": "code",
      "execution_count": 220,
      "metadata": {
        "id": "x-WLJWYajBPh"
      },
      "outputs": [],
      "source": [
        "# remove alle speziellen Zeichen und Zahlen\n",
        "df['full_text'] = df['full_text'].apply(lambda row: clean_sonderzeichen(row))"
      ]
    },
    {
      "cell_type": "code",
      "execution_count": 221,
      "metadata": {
        "colab": {
          "base_uri": "https://localhost:8080/"
        },
        "id": "cfeiOkKRXitH",
        "outputId": "c7ed706d-a179-4375-988d-6d1306bbe1f9"
      },
      "outputs": [
        {
          "output_type": "stream",
          "name": "stderr",
          "text": [
            "100%|██████████| 114/114 [00:17<00:00,  6.53it/s]\n"
          ]
        }
      ],
      "source": [
        "# angepasstes preprocessing\n",
        "df['full_text'] = df.progress_apply(lambda row: opt_preprocess(row['full_text']), axis=1)"
      ]
    },
    {
      "cell_type": "code",
      "execution_count": 222,
      "metadata": {
        "colab": {
          "base_uri": "https://localhost:8080/"
        },
        "id": "zjBgIGeosJCy",
        "outputId": "3293ac32-5e50-446b-bf9e-b0beafb00712"
      },
      "outputs": [
        {
          "output_type": "stream",
          "name": "stderr",
          "text": [
            "100%|██████████| 114/114 [00:09<00:00, 11.63it/s]\n"
          ]
        }
      ],
      "source": [
        "# tolowercase oder Funktion lemma mit Lemmatizing nutzen\n",
        "# lemmatizing verbessert F1-Score um 0,01 Prozentpunkte\n",
        "df['full_text'] = df.full_text.apply(lambda text: text.lower())\n",
        "df['full_text'] = df.full_text.progress_apply(lambda text: lemma(text)) "
      ]
    },
    {
      "cell_type": "code",
      "execution_count": 223,
      "metadata": {
        "colab": {
          "base_uri": "https://localhost:8080/"
        },
        "id": "MOX9uajwWvh-",
        "outputId": "493e479a-aafc-4d51-bf35-cfabda10b9de"
      },
      "outputs": [
        {
          "output_type": "stream",
          "name": "stderr",
          "text": [
            "100%|██████████| 114/114 [00:00<00:00, 5433.53it/s]\n"
          ]
        }
      ],
      "source": [
        "# einzelne letter entfernen\n",
        "df['full_text'] = df.progress_apply(lambda row: remove_letter(row['full_text']), axis=1)"
      ]
    },
    {
      "cell_type": "code",
      "execution_count": 224,
      "metadata": {
        "colab": {
          "base_uri": "https://localhost:8080/"
        },
        "id": "bIcuGC1-ZV3y",
        "outputId": "c86b05b2-e852-4167-eceb-075abf713800"
      },
      "outputs": [
        {
          "output_type": "stream",
          "name": "stderr",
          "text": [
            "100%|██████████| 114/114 [00:00<00:00, 7869.89it/s]\n"
          ]
        }
      ],
      "source": [
        "# einzelne letter entfernen (2), weil nach (1) immernoch einzelne letter enthalten sind\n",
        "def kill_single_letter(text):\n",
        "\n",
        "    new_text = ' '.join( [w for w in text.split() if len(w)>1] )\n",
        "\n",
        "    return new_text\n",
        "\n",
        "df['full_text'] = df.progress_apply(lambda row: kill_single_letter(row['full_text']), axis=1)"
      ]
    },
    {
      "cell_type": "code",
      "execution_count": 225,
      "metadata": {
        "colab": {
          "base_uri": "https://localhost:8080/"
        },
        "id": "ojgGHCgA6Dqp",
        "outputId": "0cd12869-5fb5-46fd-a158-9dbd82ff2afe"
      },
      "outputs": [
        {
          "output_type": "stream",
          "name": "stderr",
          "text": [
            "100%|██████████| 114/114 [00:00<00:00, 5015.11it/s]\n"
          ]
        }
      ],
      "source": [
        "# final strip\n",
        "df['full_text'] = df.full_text.progress_apply(lambda text: re.sub(' +', ' ', text)) "
      ]
    },
    {
      "cell_type": "code",
      "execution_count": 226,
      "metadata": {
        "id": "MhQ6Fq_26_8-"
      },
      "outputs": [],
      "source": [
        "# remove special words\n",
        "# df['full_text'] = df.full_text.progress_apply(lambda text: remove_special_words(text)) \n",
        "# !besser nicht, haben Aussagekraft"
      ]
    },
    {
      "cell_type": "markdown",
      "metadata": {
        "id": "tsfSPbpmtU_O"
      },
      "source": [
        "## Classify Website"
      ]
    },
    {
      "cell_type": "code",
      "execution_count": 227,
      "metadata": {
        "colab": {
          "base_uri": "https://localhost:8080/"
        },
        "id": "b-CoWowqtbgH",
        "outputId": "b98303ae-c5fb-4085-9780-c9c3030b975c"
      },
      "outputs": [
        {
          "output_type": "stream",
          "name": "stderr",
          "text": [
            "\r  0%|          | 0/114 [00:00<?, ?it/s]/usr/local/lib/python3.8/dist-packages/transformers/pipelines/base.py:1043: UserWarning: You seem to be using the pipelines sequentially on GPU. In order to maximize efficiency please use a dataset\n",
            "  warnings.warn(\n",
            "100%|██████████| 114/114 [00:02<00:00, 55.15it/s]\n"
          ]
        }
      ],
      "source": [
        "df['web_pred'] = df.progress_apply(lambda row: pipe_old(row['full_text'])[0]['label'].replace('LABEL_',''), axis=1)\n",
        "df['web_pred'] = df['web_pred'].astype(int)"
      ]
    },
    {
      "cell_type": "code",
      "execution_count": 228,
      "metadata": {
        "colab": {
          "base_uri": "https://localhost:8080/"
        },
        "id": "zdMIhaIotblM",
        "outputId": "db1bf1fc-455c-4866-9b7f-508c51793705"
      },
      "outputs": [
        {
          "output_type": "stream",
          "name": "stdout",
          "text": [
            "Accuracy: 0.6491\n",
            "F1-score: 0.6184\n",
            "Precision: 0.6759\n",
            "Recall: 0.6491\n"
          ]
        }
      ],
      "source": [
        "y_true = df['label_int']\n",
        "y_pred = df['web_pred']\n",
        "\n",
        "accuracy = balanced_accuracy_score(y_true, y_pred)\n",
        "f1_metric = f1_score(y_true, y_pred, average=\"weighted\")\n",
        "precision = precision_score(y_true, y_pred, average=\"weighted\")\n",
        "recall = recall_score(y_true, y_pred, average=\"weighted\")\n",
        "\n",
        "print(\"Accuracy: {:.4f}\".format(accuracy))\n",
        "print(\"F1-score: {:.4f}\".format(f1_metric))\n",
        "print(\"Precision: {:.4f}\".format(precision))\n",
        "print(\"Recall: {:.4f}\".format(recall))"
      ]
    },
    {
      "cell_type": "code",
      "execution_count": 229,
      "metadata": {
        "colab": {
          "base_uri": "https://localhost:8080/"
        },
        "id": "0NmTNXtR0uKJ",
        "outputId": "e7eddede-e962-465d-dc13-41675bc6eb5e"
      },
      "outputs": [
        {
          "output_type": "stream",
          "name": "stdout",
          "text": [
            "                                      precision    recall  f1-score   support\n",
            "\n",
            "                          Automotive       0.71      0.83      0.77         6\n",
            "                        Construction       1.00      0.83      0.91         6\n",
            "                      Consumer Goods       0.00      0.00      0.00         6\n",
            "                  Financial Services       1.00      0.67      0.80         6\n",
            "                     Human Resources       0.67      1.00      0.80         6\n",
            " Information Technology and Services       0.42      0.83      0.56         6\n",
            "                           Insurance       1.00      1.00      1.00         6\n",
            "                      Legal Services       1.00      0.50      0.67         6\n",
            "           Leisure, Travel & Tourism       0.50      0.50      0.50         6\n",
            "          Logistics and Supply Chain       1.00      0.83      0.91         6\n",
            "               Management Consulting       0.42      0.83      0.56         6\n",
            "           Marketing and Advertising       0.46      1.00      0.63         6\n",
            "Mechanical or Industrial Engineering       0.00      0.00      0.00         6\n",
            "                    Medical Practice       0.67      1.00      0.80         6\n",
            "                         Real Estate       0.83      0.83      0.83         6\n",
            "Recreational Facilities and Services       1.00      0.17      0.29         6\n",
            "            Renewables & Environment       0.67      0.67      0.67         6\n",
            "                  Telecommunications       1.00      0.50      0.67         6\n",
            "                           Wholesale       0.50      0.33      0.40         6\n",
            "\n",
            "                            accuracy                           0.65       114\n",
            "                           macro avg       0.68      0.65      0.62       114\n",
            "                        weighted avg       0.68      0.65      0.62       114\n",
            "\n"
          ]
        }
      ],
      "source": [
        "df['web_pred_txt'] = df['web_pred'].replace(di_int_to_label)\n",
        "print(classification_report(df['label'].to_list(), df['web_pred_txt'].to_list()))"
      ]
    },
    {
      "cell_type": "code",
      "execution_count": 230,
      "metadata": {
        "colab": {
          "base_uri": "https://localhost:8080/",
          "height": 892
        },
        "id": "NR2bDKZq1P6l",
        "outputId": "898aae7c-cbc3-4051-a217-ccfdf90db234"
      },
      "outputs": [
        {
          "output_type": "display_data",
          "data": {
            "text/plain": [
              "<Figure size 864x864 with 2 Axes>"
            ],
            "image/png": "[encoded data removed]"
          },
          "metadata": {
            "needs_background": "light"
          }
        }
      ],
      "source": [
        "labels = list(di_int_to_label.values())\n",
        "fig, ax = plt.subplots(figsize=(12,12)) \n",
        "cm = confusion_matrix(df_all['label'], df_all['web_pred_txt'] )\n",
        "f = sns.heatmap(cm, annot=True, fmt='d', xticklabels=labels, yticklabels=labels)\n",
        "plt.ylabel('Actual')\n",
        "plt.xlabel('Predicted')\n",
        "plt.savefig('cm_website.svg', bbox_inches='tight',\n",
        "            dpi=300)"
      ]
    },
    {
      "cell_type": "markdown",
      "metadata": {
        "id": "pUpIA2EbtYe1"
      },
      "source": [
        "## Classify Combi"
      ]
    },
    {
      "cell_type": "code",
      "execution_count": 231,
      "metadata": {
        "id": "Vr18EfYItayF"
      },
      "outputs": [],
      "source": [
        "df['combi_text'] = df['gegenstand'] + ' ' + df['full_text'] "
      ]
    },
    {
      "cell_type": "code",
      "execution_count": 232,
      "metadata": {
        "colab": {
          "base_uri": "https://localhost:8080/"
        },
        "id": "weFUZ1WEwKD9",
        "outputId": "fe2727bc-8742-4781-b475-c10236408527"
      },
      "outputs": [
        {
          "output_type": "stream",
          "name": "stderr",
          "text": [
            "  0%|          | 0/114 [00:00<?, ?it/s]/usr/local/lib/python3.8/dist-packages/transformers/pipelines/base.py:1043: UserWarning: You seem to be using the pipelines sequentially on GPU. In order to maximize efficiency please use a dataset\n",
            "  warnings.warn(\n",
            "100%|██████████| 114/114 [00:02<00:00, 53.39it/s]\n"
          ]
        }
      ],
      "source": [
        "df['combi_pred'] = df.progress_apply(lambda row: pipe_old(row['combi_text'])[0]['label'].replace('LABEL_',''), axis=1)\n",
        "df['combi_pred'] = df['combi_pred'].astype(int)"
      ]
    },
    {
      "cell_type": "code",
      "execution_count": 233,
      "metadata": {
        "id": "GO21brrTwKGN",
        "colab": {
          "base_uri": "https://localhost:8080/"
        },
        "outputId": "00ef89e0-a303-464b-eeeb-40bdda25b73f"
      },
      "outputs": [
        {
          "output_type": "stream",
          "name": "stdout",
          "text": [
            "Accuracy: 0.7193\n",
            "F1-score: 0.6860\n",
            "Precision: 0.6972\n",
            "Recall: 0.7193\n"
          ]
        },
        {
          "output_type": "stream",
          "name": "stderr",
          "text": [
            "/usr/local/lib/python3.8/dist-packages/sklearn/metrics/_classification.py:1318: UndefinedMetricWarning: Precision is ill-defined and being set to 0.0 in labels with no predicted samples. Use `zero_division` parameter to control this behavior.\n",
            "  _warn_prf(average, modifier, msg_start, len(result))\n"
          ]
        }
      ],
      "source": [
        "y_true = df['label_int']\n",
        "y_pred = df['combi_pred']\n",
        "\n",
        "accuracy = balanced_accuracy_score(y_true, y_pred)\n",
        "f1_metric = f1_score(y_true, y_pred, average='weighted')\n",
        "precision = precision_score(y_true, y_pred, average='weighted')\n",
        "recall = recall_score(y_true, y_pred, average='weighted')\n",
        "\n",
        "print(\"Accuracy: {:.4f}\".format(accuracy))\n",
        "print(\"F1-score: {:.4f}\".format(f1_metric))\n",
        "print(\"Precision: {:.4f}\".format(precision))\n",
        "print(\"Recall: {:.4f}\".format(recall))"
      ]
    },
    {
      "cell_type": "code",
      "execution_count": 234,
      "metadata": {
        "id": "gmKr2iua1kIi",
        "colab": {
          "base_uri": "https://localhost:8080/"
        },
        "outputId": "cfb6f761-6ef5-4b14-c75f-ffc8e7f42f2f"
      },
      "outputs": [
        {
          "output_type": "stream",
          "name": "stdout",
          "text": [
            "                                      precision    recall  f1-score   support\n",
            "\n",
            "                          Automotive       0.71      0.83      0.77         6\n",
            "                        Construction       0.83      0.83      0.83         6\n",
            "                      Consumer Goods       0.00      0.00      0.00         6\n",
            "                  Financial Services       1.00      1.00      1.00         6\n",
            "                     Human Resources       0.75      1.00      0.86         6\n",
            " Information Technology and Services       0.62      0.83      0.71         6\n",
            "                           Insurance       1.00      1.00      1.00         6\n",
            "                      Legal Services       0.83      0.83      0.83         6\n",
            "           Leisure, Travel & Tourism       0.75      0.50      0.60         6\n",
            "          Logistics and Supply Chain       1.00      0.83      0.91         6\n",
            "               Management Consulting       0.60      1.00      0.75         6\n",
            "           Marketing and Advertising       0.55      1.00      0.71         6\n",
            "Mechanical or Industrial Engineering       0.00      0.00      0.00         6\n",
            "                    Medical Practice       0.67      1.00      0.80         6\n",
            "                         Real Estate       0.83      0.83      0.83         6\n",
            "Recreational Facilities and Services       1.00      0.33      0.50         6\n",
            "            Renewables & Environment       0.67      0.67      0.67         6\n",
            "                  Telecommunications       1.00      0.67      0.80         6\n",
            "                           Wholesale       0.43      0.50      0.46         6\n",
            "\n",
            "                            accuracy                           0.72       114\n",
            "                           macro avg       0.70      0.72      0.69       114\n",
            "                        weighted avg       0.70      0.72      0.69       114\n",
            "\n"
          ]
        },
        {
          "output_type": "stream",
          "name": "stderr",
          "text": [
            "/usr/local/lib/python3.8/dist-packages/sklearn/metrics/_classification.py:1318: UndefinedMetricWarning: Precision and F-score are ill-defined and being set to 0.0 in labels with no predicted samples. Use `zero_division` parameter to control this behavior.\n",
            "  _warn_prf(average, modifier, msg_start, len(result))\n",
            "/usr/local/lib/python3.8/dist-packages/sklearn/metrics/_classification.py:1318: UndefinedMetricWarning: Precision and F-score are ill-defined and being set to 0.0 in labels with no predicted samples. Use `zero_division` parameter to control this behavior.\n",
            "  _warn_prf(average, modifier, msg_start, len(result))\n",
            "/usr/local/lib/python3.8/dist-packages/sklearn/metrics/_classification.py:1318: UndefinedMetricWarning: Precision and F-score are ill-defined and being set to 0.0 in labels with no predicted samples. Use `zero_division` parameter to control this behavior.\n",
            "  _warn_prf(average, modifier, msg_start, len(result))\n"
          ]
        }
      ],
      "source": [
        "df['combi_pred_txt'] = df['combi_pred'].replace(di_int_to_label)\n",
        "print(classification_report(df['label'].to_list(), df['combi_pred_txt'].to_list()))"
      ]
    },
    {
      "cell_type": "code",
      "execution_count": 235,
      "metadata": {
        "id": "H1Odv17L24g-",
        "colab": {
          "base_uri": "https://localhost:8080/",
          "height": 892
        },
        "outputId": "b56b8dcd-ce49-45c0-a961-d3e0f86d923e"
      },
      "outputs": [
        {
          "output_type": "display_data",
          "data": {
            "text/plain": [
              "<Figure size 864x864 with 2 Axes>"
            ],
            "image/png": "[encoded data removed]"
          },
          "metadata": {
            "needs_background": "light"
          }
        }
      ],
      "source": [
        "labels = list(di_int_to_label.values())\n",
        "fig, ax = plt.subplots(figsize=(12,12)) \n",
        "cm = confusion_matrix(df_all['label'], df_all['combi_pred_txt'] )\n",
        "f = sns.heatmap(cm, annot=True, fmt='d', xticklabels=labels, yticklabels=labels)\n",
        "plt.ylabel('Actual')\n",
        "plt.xlabel('Predicted')\n",
        "plt.savefig('cm_combi.svg', bbox_inches='tight',\n",
        "            dpi=300)"
      ]
    },
    {
      "cell_type": "code",
      "execution_count": 236,
      "metadata": {
        "id": "3oBj4el412Z8"
      },
      "outputs": [],
      "source": [
        "# # Plot Precision-Recall curve for each class and iso-f1 curves\n",
        "# # von https://scikit-learn.org/stable/auto_examples/model_selection/plot_precision_recall.html\n",
        "\n",
        "# import matplotlib.pyplot as plt\n",
        "# from itertools import cycle\n",
        "\n",
        "# # setup plot details\n",
        "# colors = cycle([\"navy\", \"turquoise\", \"darkorange\", \"cornflowerblue\", \"teal\"])\n",
        "\n",
        "# _, ax = plt.subplots(figsize=(7, 8))\n",
        "\n",
        "# f_scores = np.linspace(0.2, 0.8, num=4)\n",
        "# lines, labels = [], []\n",
        "# for f_score in f_scores:\n",
        "#     x = np.linspace(0.01, 1)\n",
        "#     y = f_score * x / (2 * x - f_score)\n",
        "#     (l,) = plt.plot(x[y >= 0], y[y >= 0], color=\"gray\", alpha=0.2)\n",
        "#     plt.annotate(\"f1={0:0.1f}\".format(f_score), xy=(0.9, y[45] + 0.02))\n",
        "\n",
        "# display = PrecisionRecallDisplay(\n",
        "#     recall=recall[\"micro\"],\n",
        "#     precision=precision[\"micro\"],\n",
        "#     average_precision=average_precision[\"micro\"],\n",
        "# )\n",
        "# display.plot(ax=ax, name=\"Micro-average precision-recall\", color=\"gold\")\n",
        "\n",
        "# for i, color in zip(range(n_classes), colors):\n",
        "#     display = PrecisionRecallDisplay(\n",
        "#         recall=recall[i],\n",
        "#         precision=precision[i],\n",
        "#         average_precision=average_precision[i],\n",
        "#     )\n",
        "#     display.plot(ax=ax, name=f\"Precision-recall for class {i}\", color=color)\n",
        "\n",
        "# # add the legend for the iso-f1 curves\n",
        "# handles, labels = display.ax_.get_legend_handles_labels()\n",
        "# handles.extend([l])\n",
        "# labels.extend([\"iso-f1 curves\"])\n",
        "# # set the legend and the axes\n",
        "# ax.set_xlim([0.0, 1.0])\n",
        "# ax.set_ylim([0.0, 1.05])\n",
        "# ax.legend(handles=handles, labels=labels, loc=\"best\")\n",
        "# ax.set_title(\"Extension of Precision-Recall curve to multi-class\")\n",
        "\n",
        "# plt.show()"
      ]
    },
    {
      "cell_type": "markdown",
      "metadata": {
        "id": "fnVVmZFwxpV8"
      },
      "source": [
        "# Combine seperate Classifiers"
      ]
    },
    {
      "cell_type": "code",
      "execution_count": 237,
      "metadata": {
        "id": "D4jcJ3_sxsCN"
      },
      "outputs": [],
      "source": [
        "# direkt argmax der W'keiten beider Classifier\n",
        "# oder erst Durchschnitt der W'keiten beider Classifier bilden, dann argmax\n",
        "# weitere? was sagt die Literatur?\n",
        "# Trainieren separeter Modelle \n",
        "# wie können mehrer DL Modelle kombiniert werden?"
      ]
    },
    {
      "cell_type": "markdown",
      "metadata": {
        "id": "VqPDyVu4YhMA"
      },
      "source": [
        "# Wordcloud\n",
        "\n",
        "Wordcloud und Transformer laufen nicht mehr im gleichen Environment"
      ]
    },
    {
      "cell_type": "code",
      "execution_count": 238,
      "metadata": {
        "id": "42vWptr_Qh4F",
        "colab": {
          "base_uri": "https://localhost:8080/",
          "height": 288
        },
        "outputId": "8716c244-418b-4e3c-d2ec-54640c892d9c"
      },
      "outputs": [
        {
          "output_type": "stream",
          "name": "stdout",
          "text": [
            "Looking in indexes: https://pypi.org/simple, https://us-python.pkg.dev/colab-wheels/public/simple/\n",
            "Requirement already satisfied: pillow in /usr/local/lib/python3.8/dist-packages (9.0.0)\n",
            "Collecting pillow\n",
            "  Using cached Pillow-9.3.0-cp38-cp38-manylinux_2_17_x86_64.manylinux2014_x86_64.whl (3.2 MB)\n",
            "Installing collected packages: pillow\n",
            "  Attempting uninstall: pillow\n",
            "    Found existing installation: Pillow 9.0.0\n",
            "    Uninstalling Pillow-9.0.0:\n",
            "      Successfully uninstalled Pillow-9.0.0\n",
            "Successfully installed pillow-9.3.0\n"
          ]
        },
        {
          "output_type": "display_data",
          "data": {
            "application/vnd.colab-display-data+json": {
              "pip_warning": {
                "packages": [
                  "PIL"
                ]
              }
            }
          },
          "metadata": {}
        }
      ],
      "source": [
        "!pip install -U pillow"
      ]
    }
  ],
  "metadata": {
    "accelerator": "GPU",
    "colab": {
      "collapsed_sections": [
        "0WB0WoF94i4R"
      ],
      "provenance": [],
      "toc_visible": true,
      "mount_file_id": "1Lv-UEf3zMmOhzFW8zOKFE_67Nc0KCdSv",
      "authorship_tag": "ABX9TyP5PxWtJw3XWZJwLR5POiiK",
      "include_colab_link": true
    },
    "gpuClass": "standard",
    "kernelspec": {
      "display_name": "Python 3",
      "name": "python3"
    },
    "language_info": {
      "name": "python"
    },
    "widgets": {
      "application/vnd.jupyter.widget-state+json": {
        "5581484eb62b4f5d8404e0314894a42d": {
          "model_module": "@jupyter-widgets/controls",
          "model_name": "HBoxModel",
          "model_module_version": "1.5.0",
          "state": {
            "_dom_classes": [],
            "_model_module": "@jupyter-widgets/controls",
            "_model_module_version": "1.5.0",
            "_model_name": "HBoxModel",
            "_view_count": null,
            "_view_module": "@jupyter-widgets/controls",
            "_view_module_version": "1.5.0",
            "_view_name": "HBoxView",
            "box_style": "",
            "children": [
              "IPY_MODEL_af23b2a55f5b4e498a634fac3c7cbd4d",
              "IPY_MODEL_de18180a054d48e1a5d315e89d89d8d6",
              "IPY_MODEL_557fc67e21e64592835636abfcad117b"
            ],
            "layout": "IPY_MODEL_00ae432028ba4e4bbeed2c5c1bea4507"
          }
        },
        "af23b2a55f5b4e498a634fac3c7cbd4d": {
          "model_module": "@jupyter-widgets/controls",
          "model_name": "HTMLModel",
          "model_module_version": "1.5.0",
          "state": {
            "_dom_classes": [],
            "_model_module": "@jupyter-widgets/controls",
            "_model_module_version": "1.5.0",
            "_model_name": "HTMLModel",
            "_view_count": null,
            "_view_module": "@jupyter-widgets/controls",
            "_view_module_version": "1.5.0",
            "_view_name": "HTMLView",
            "description": "",
            "description_tooltip": null,
            "layout": "IPY_MODEL_bc8f8e812a8d40f7947e3dff9d7365ac",
            "placeholder": "​",
            "style": "IPY_MODEL_9e6c57bb9f214b14ba33c37c91944605",
            "value": "100%"
          }
        },
        "de18180a054d48e1a5d315e89d89d8d6": {
          "model_module": "@jupyter-widgets/controls",
          "model_name": "FloatProgressModel",
          "model_module_version": "1.5.0",
          "state": {
            "_dom_classes": [],
            "_model_module": "@jupyter-widgets/controls",
            "_model_module_version": "1.5.0",
            "_model_name": "FloatProgressModel",
            "_view_count": null,
            "_view_module": "@jupyter-widgets/controls",
            "_view_module_version": "1.5.0",
            "_view_name": "ProgressView",
            "bar_style": "success",
            "description": "",
            "description_tooltip": null,
            "layout": "IPY_MODEL_612284e1c46642b7b1d32ef9f95869d9",
            "max": 1,
            "min": 0,
            "orientation": "horizontal",
            "style": "IPY_MODEL_bb1969f5f9f4451aa457d086913530a1",
            "value": 1
          }
        },
        "557fc67e21e64592835636abfcad117b": {
          "model_module": "@jupyter-widgets/controls",
          "model_name": "HTMLModel",
          "model_module_version": "1.5.0",
          "state": {
            "_dom_classes": [],
            "_model_module": "@jupyter-widgets/controls",
            "_model_module_version": "1.5.0",
            "_model_name": "HTMLModel",
            "_view_count": null,
            "_view_module": "@jupyter-widgets/controls",
            "_view_module_version": "1.5.0",
            "_view_name": "HTMLView",
            "description": "",
            "description_tooltip": null,
            "layout": "IPY_MODEL_d2f1381339ab4b97bdaded27bc3cb8c4",
            "placeholder": "​",
            "style": "IPY_MODEL_15057dd2fad84792b29afa548cef03f1",
            "value": " 1/1 [00:05&lt;00:00,  5.84s/ba]"
          }
        },
        "00ae432028ba4e4bbeed2c5c1bea4507": {
          "model_module": "@jupyter-widgets/base",
          "model_name": "LayoutModel",
          "model_module_version": "1.2.0",
          "state": {
            "_model_module": "@jupyter-widgets/base",
            "_model_module_version": "1.2.0",
            "_model_name": "LayoutModel",
            "_view_count": null,
            "_view_module": "@jupyter-widgets/base",
            "_view_module_version": "1.2.0",
            "_view_name": "LayoutView",
            "align_content": null,
            "align_items": null,
            "align_self": null,
            "border": null,
            "bottom": null,
            "display": null,
            "flex": null,
            "flex_flow": null,
            "grid_area": null,
            "grid_auto_columns": null,
            "grid_auto_flow": null,
            "grid_auto_rows": null,
            "grid_column": null,
            "grid_gap": null,
            "grid_row": null,
            "grid_template_areas": null,
            "grid_template_columns": null,
            "grid_template_rows": null,
            "height": null,
            "justify_content": null,
            "justify_items": null,
            "left": null,
            "margin": null,
            "max_height": null,
            "max_width": null,
            "min_height": null,
            "min_width": null,
            "object_fit": null,
            "object_position": null,
            "order": null,
            "overflow": null,
            "overflow_x": null,
            "overflow_y": null,
            "padding": null,
            "right": null,
            "top": null,
            "visibility": null,
            "width": null
          }
        },
        "bc8f8e812a8d40f7947e3dff9d7365ac": {
          "model_module": "@jupyter-widgets/base",
          "model_name": "LayoutModel",
          "model_module_version": "1.2.0",
          "state": {
            "_model_module": "@jupyter-widgets/base",
            "_model_module_version": "1.2.0",
            "_model_name": "LayoutModel",
            "_view_count": null,
            "_view_module": "@jupyter-widgets/base",
            "_view_module_version": "1.2.0",
            "_view_name": "LayoutView",
            "align_content": null,
            "align_items": null,
            "align_self": null,
            "border": null,
            "bottom": null,
            "display": null,
            "flex": null,
            "flex_flow": null,
            "grid_area": null,
            "grid_auto_columns": null,
            "grid_auto_flow": null,
            "grid_auto_rows": null,
            "grid_column": null,
            "grid_gap": null,
            "grid_row": null,
            "grid_template_areas": null,
            "grid_template_columns": null,
            "grid_template_rows": null,
            "height": null,
            "justify_content": null,
            "justify_items": null,
            "left": null,
            "margin": null,
            "max_height": null,
            "max_width": null,
            "min_height": null,
            "min_width": null,
            "object_fit": null,
            "object_position": null,
            "order": null,
            "overflow": null,
            "overflow_x": null,
            "overflow_y": null,
            "padding": null,
            "right": null,
            "top": null,
            "visibility": null,
            "width": null
          }
        },
        "9e6c57bb9f214b14ba33c37c91944605": {
          "model_module": "@jupyter-widgets/controls",
          "model_name": "DescriptionStyleModel",
          "model_module_version": "1.5.0",
          "state": {
            "_model_module": "@jupyter-widgets/controls",
            "_model_module_version": "1.5.0",
            "_model_name": "DescriptionStyleModel",
            "_view_count": null,
            "_view_module": "@jupyter-widgets/base",
            "_view_module_version": "1.2.0",
            "_view_name": "StyleView",
            "description_width": ""
          }
        },
        "612284e1c46642b7b1d32ef9f95869d9": {
          "model_module": "@jupyter-widgets/base",
          "model_name": "LayoutModel",
          "model_module_version": "1.2.0",
          "state": {
            "_model_module": "@jupyter-widgets/base",
            "_model_module_version": "1.2.0",
            "_model_name": "LayoutModel",
            "_view_count": null,
            "_view_module": "@jupyter-widgets/base",
            "_view_module_version": "1.2.0",
            "_view_name": "LayoutView",
            "align_content": null,
            "align_items": null,
            "align_self": null,
            "border": null,
            "bottom": null,
            "display": null,
            "flex": null,
            "flex_flow": null,
            "grid_area": null,
            "grid_auto_columns": null,
            "grid_auto_flow": null,
            "grid_auto_rows": null,
            "grid_column": null,
            "grid_gap": null,
            "grid_row": null,
            "grid_template_areas": null,
            "grid_template_columns": null,
            "grid_template_rows": null,
            "height": null,
            "justify_content": null,
            "justify_items": null,
            "left": null,
            "margin": null,
            "max_height": null,
            "max_width": null,
            "min_height": null,
            "min_width": null,
            "object_fit": null,
            "object_position": null,
            "order": null,
            "overflow": null,
            "overflow_x": null,
            "overflow_y": null,
            "padding": null,
            "right": null,
            "top": null,
            "visibility": null,
            "width": null
          }
        },
        "bb1969f5f9f4451aa457d086913530a1": {
          "model_module": "@jupyter-widgets/controls",
          "model_name": "ProgressStyleModel",
          "model_module_version": "1.5.0",
          "state": {
            "_model_module": "@jupyter-widgets/controls",
            "_model_module_version": "1.5.0",
            "_model_name": "ProgressStyleModel",
            "_view_count": null,
            "_view_module": "@jupyter-widgets/base",
            "_view_module_version": "1.2.0",
            "_view_name": "StyleView",
            "bar_color": null,
            "description_width": ""
          }
        },
        "d2f1381339ab4b97bdaded27bc3cb8c4": {
          "model_module": "@jupyter-widgets/base",
          "model_name": "LayoutModel",
          "model_module_version": "1.2.0",
          "state": {
            "_model_module": "@jupyter-widgets/base",
            "_model_module_version": "1.2.0",
            "_model_name": "LayoutModel",
            "_view_count": null,
            "_view_module": "@jupyter-widgets/base",
            "_view_module_version": "1.2.0",
            "_view_name": "LayoutView",
            "align_content": null,
            "align_items": null,
            "align_self": null,
            "border": null,
            "bottom": null,
            "display": null,
            "flex": null,
            "flex_flow": null,
            "grid_area": null,
            "grid_auto_columns": null,
            "grid_auto_flow": null,
            "grid_auto_rows": null,
            "grid_column": null,
            "grid_gap": null,
            "grid_row": null,
            "grid_template_areas": null,
            "grid_template_columns": null,
            "grid_template_rows": null,
            "height": null,
            "justify_content": null,
            "justify_items": null,
            "left": null,
            "margin": null,
            "max_height": null,
            "max_width": null,
            "min_height": null,
            "min_width": null,
            "object_fit": null,
            "object_position": null,
            "order": null,
            "overflow": null,
            "overflow_x": null,
            "overflow_y": null,
            "padding": null,
            "right": null,
            "top": null,
            "visibility": null,
            "width": null
          }
        },
        "15057dd2fad84792b29afa548cef03f1": {
          "model_module": "@jupyter-widgets/controls",
          "model_name": "DescriptionStyleModel",
          "model_module_version": "1.5.0",
          "state": {
            "_model_module": "@jupyter-widgets/controls",
            "_model_module_version": "1.5.0",
            "_model_name": "DescriptionStyleModel",
            "_view_count": null,
            "_view_module": "@jupyter-widgets/base",
            "_view_module_version": "1.2.0",
            "_view_name": "StyleView",
            "description_width": ""
          }
        },
        "93620ee33a9b4fe4a99bf8db286383fe": {
          "model_module": "@jupyter-widgets/controls",
          "model_name": "HBoxModel",
          "model_module_version": "1.5.0",
          "state": {
            "_dom_classes": [],
            "_model_module": "@jupyter-widgets/controls",
            "_model_module_version": "1.5.0",
            "_model_name": "HBoxModel",
            "_view_count": null,
            "_view_module": "@jupyter-widgets/controls",
            "_view_module_version": "1.5.0",
            "_view_name": "HBoxView",
            "box_style": "",
            "children": [
              "IPY_MODEL_d6d1545e708a4c30a54419196bd60a07",
              "IPY_MODEL_7929fa67823e4eaf97be05cd82a0bfdd",
              "IPY_MODEL_05129919a697416bbb09653b14c602b7"
            ],
            "layout": "IPY_MODEL_706087f2e2f44c0ea1649f9fe9b3cc93"
          }
        },
        "d6d1545e708a4c30a54419196bd60a07": {
          "model_module": "@jupyter-widgets/controls",
          "model_name": "HTMLModel",
          "model_module_version": "1.5.0",
          "state": {
            "_dom_classes": [],
            "_model_module": "@jupyter-widgets/controls",
            "_model_module_version": "1.5.0",
            "_model_name": "HTMLModel",
            "_view_count": null,
            "_view_module": "@jupyter-widgets/controls",
            "_view_module_version": "1.5.0",
            "_view_name": "HTMLView",
            "description": "",
            "description_tooltip": null,
            "layout": "IPY_MODEL_439bdbf98f9442c68b655397d509a984",
            "placeholder": "​",
            "style": "IPY_MODEL_1288d949c22746f194b8f07f0ab5d5ef",
            "value": "100%"
          }
        },
        "7929fa67823e4eaf97be05cd82a0bfdd": {
          "model_module": "@jupyter-widgets/controls",
          "model_name": "FloatProgressModel",
          "model_module_version": "1.5.0",
          "state": {
            "_dom_classes": [],
            "_model_module": "@jupyter-widgets/controls",
            "_model_module_version": "1.5.0",
            "_model_name": "FloatProgressModel",
            "_view_count": null,
            "_view_module": "@jupyter-widgets/controls",
            "_view_module_version": "1.5.0",
            "_view_name": "ProgressView",
            "bar_style": "success",
            "description": "",
            "description_tooltip": null,
            "layout": "IPY_MODEL_5220c7c56525456f85baf90864474155",
            "max": 1,
            "min": 0,
            "orientation": "horizontal",
            "style": "IPY_MODEL_e357de9aa97543019304a67bff3c77fb",
            "value": 1
          }
        },
        "05129919a697416bbb09653b14c602b7": {
          "model_module": "@jupyter-widgets/controls",
          "model_name": "HTMLModel",
          "model_module_version": "1.5.0",
          "state": {
            "_dom_classes": [],
            "_model_module": "@jupyter-widgets/controls",
            "_model_module_version": "1.5.0",
            "_model_name": "HTMLModel",
            "_view_count": null,
            "_view_module": "@jupyter-widgets/controls",
            "_view_module_version": "1.5.0",
            "_view_name": "HTMLView",
            "description": "",
            "description_tooltip": null,
            "layout": "IPY_MODEL_1eafbfcabe53459994bf9cd14f3427b1",
            "placeholder": "​",
            "style": "IPY_MODEL_6a78adc1ac1b4bd0a843591f0f68ff31",
            "value": " 1/1 [00:01&lt;00:00,  1.18s/ba]"
          }
        },
        "706087f2e2f44c0ea1649f9fe9b3cc93": {
          "model_module": "@jupyter-widgets/base",
          "model_name": "LayoutModel",
          "model_module_version": "1.2.0",
          "state": {
            "_model_module": "@jupyter-widgets/base",
            "_model_module_version": "1.2.0",
            "_model_name": "LayoutModel",
            "_view_count": null,
            "_view_module": "@jupyter-widgets/base",
            "_view_module_version": "1.2.0",
            "_view_name": "LayoutView",
            "align_content": null,
            "align_items": null,
            "align_self": null,
            "border": null,
            "bottom": null,
            "display": null,
            "flex": null,
            "flex_flow": null,
            "grid_area": null,
            "grid_auto_columns": null,
            "grid_auto_flow": null,
            "grid_auto_rows": null,
            "grid_column": null,
            "grid_gap": null,
            "grid_row": null,
            "grid_template_areas": null,
            "grid_template_columns": null,
            "grid_template_rows": null,
            "height": null,
            "justify_content": null,
            "justify_items": null,
            "left": null,
            "margin": null,
            "max_height": null,
            "max_width": null,
            "min_height": null,
            "min_width": null,
            "object_fit": null,
            "object_position": null,
            "order": null,
            "overflow": null,
            "overflow_x": null,
            "overflow_y": null,
            "padding": null,
            "right": null,
            "top": null,
            "visibility": null,
            "width": null
          }
        },
        "439bdbf98f9442c68b655397d509a984": {
          "model_module": "@jupyter-widgets/base",
          "model_name": "LayoutModel",
          "model_module_version": "1.2.0",
          "state": {
            "_model_module": "@jupyter-widgets/base",
            "_model_module_version": "1.2.0",
            "_model_name": "LayoutModel",
            "_view_count": null,
            "_view_module": "@jupyter-widgets/base",
            "_view_module_version": "1.2.0",
            "_view_name": "LayoutView",
            "align_content": null,
            "align_items": null,
            "align_self": null,
            "border": null,
            "bottom": null,
            "display": null,
            "flex": null,
            "flex_flow": null,
            "grid_area": null,
            "grid_auto_columns": null,
            "grid_auto_flow": null,
            "grid_auto_rows": null,
            "grid_column": null,
            "grid_gap": null,
            "grid_row": null,
            "grid_template_areas": null,
            "grid_template_columns": null,
            "grid_template_rows": null,
            "height": null,
            "justify_content": null,
            "justify_items": null,
            "left": null,
            "margin": null,
            "max_height": null,
            "max_width": null,
            "min_height": null,
            "min_width": null,
            "object_fit": null,
            "object_position": null,
            "order": null,
            "overflow": null,
            "overflow_x": null,
            "overflow_y": null,
            "padding": null,
            "right": null,
            "top": null,
            "visibility": null,
            "width": null
          }
        },
        "1288d949c22746f194b8f07f0ab5d5ef": {
          "model_module": "@jupyter-widgets/controls",
          "model_name": "DescriptionStyleModel",
          "model_module_version": "1.5.0",
          "state": {
            "_model_module": "@jupyter-widgets/controls",
            "_model_module_version": "1.5.0",
            "_model_name": "DescriptionStyleModel",
            "_view_count": null,
            "_view_module": "@jupyter-widgets/base",
            "_view_module_version": "1.2.0",
            "_view_name": "StyleView",
            "description_width": ""
          }
        },
        "5220c7c56525456f85baf90864474155": {
          "model_module": "@jupyter-widgets/base",
          "model_name": "LayoutModel",
          "model_module_version": "1.2.0",
          "state": {
            "_model_module": "@jupyter-widgets/base",
            "_model_module_version": "1.2.0",
            "_model_name": "LayoutModel",
            "_view_count": null,
            "_view_module": "@jupyter-widgets/base",
            "_view_module_version": "1.2.0",
            "_view_name": "LayoutView",
            "align_content": null,
            "align_items": null,
            "align_self": null,
            "border": null,
            "bottom": null,
            "display": null,
            "flex": null,
            "flex_flow": null,
            "grid_area": null,
            "grid_auto_columns": null,
            "grid_auto_flow": null,
            "grid_auto_rows": null,
            "grid_column": null,
            "grid_gap": null,
            "grid_row": null,
            "grid_template_areas": null,
            "grid_template_columns": null,
            "grid_template_rows": null,
            "height": null,
            "justify_content": null,
            "justify_items": null,
            "left": null,
            "margin": null,
            "max_height": null,
            "max_width": null,
            "min_height": null,
            "min_width": null,
            "object_fit": null,
            "object_position": null,
            "order": null,
            "overflow": null,
            "overflow_x": null,
            "overflow_y": null,
            "padding": null,
            "right": null,
            "top": null,
            "visibility": null,
            "width": null
          }
        },
        "e357de9aa97543019304a67bff3c77fb": {
          "model_module": "@jupyter-widgets/controls",
          "model_name": "ProgressStyleModel",
          "model_module_version": "1.5.0",
          "state": {
            "_model_module": "@jupyter-widgets/controls",
            "_model_module_version": "1.5.0",
            "_model_name": "ProgressStyleModel",
            "_view_count": null,
            "_view_module": "@jupyter-widgets/base",
            "_view_module_version": "1.2.0",
            "_view_name": "StyleView",
            "bar_color": null,
            "description_width": ""
          }
        },
        "1eafbfcabe53459994bf9cd14f3427b1": {
          "model_module": "@jupyter-widgets/base",
          "model_name": "LayoutModel",
          "model_module_version": "1.2.0",
          "state": {
            "_model_module": "@jupyter-widgets/base",
            "_model_module_version": "1.2.0",
            "_model_name": "LayoutModel",
            "_view_count": null,
            "_view_module": "@jupyter-widgets/base",
            "_view_module_version": "1.2.0",
            "_view_name": "LayoutView",
            "align_content": null,
            "align_items": null,
            "align_self": null,
            "border": null,
            "bottom": null,
            "display": null,
            "flex": null,
            "flex_flow": null,
            "grid_area": null,
            "grid_auto_columns": null,
            "grid_auto_flow": null,
            "grid_auto_rows": null,
            "grid_column": null,
            "grid_gap": null,
            "grid_row": null,
            "grid_template_areas": null,
            "grid_template_columns": null,
            "grid_template_rows": null,
            "height": null,
            "justify_content": null,
            "justify_items": null,
            "left": null,
            "margin": null,
            "max_height": null,
            "max_width": null,
            "min_height": null,
            "min_width": null,
            "object_fit": null,
            "object_position": null,
            "order": null,
            "overflow": null,
            "overflow_x": null,
            "overflow_y": null,
            "padding": null,
            "right": null,
            "top": null,
            "visibility": null,
            "width": null
          }
        },
        "6a78adc1ac1b4bd0a843591f0f68ff31": {
          "model_module": "@jupyter-widgets/controls",
          "model_name": "DescriptionStyleModel",
          "model_module_version": "1.5.0",
          "state": {
            "_model_module": "@jupyter-widgets/controls",
            "_model_module_version": "1.5.0",
            "_model_name": "DescriptionStyleModel",
            "_view_count": null,
            "_view_module": "@jupyter-widgets/base",
            "_view_module_version": "1.2.0",
            "_view_name": "StyleView",
            "description_width": ""
          }
        },
        "adef53b290e245f1812703babcff3f43": {
          "model_module": "@jupyter-widgets/controls",
          "model_name": "HBoxModel",
          "model_module_version": "1.5.0",
          "state": {
            "_dom_classes": [],
            "_model_module": "@jupyter-widgets/controls",
            "_model_module_version": "1.5.0",
            "_model_name": "HBoxModel",
            "_view_count": null,
            "_view_module": "@jupyter-widgets/controls",
            "_view_module_version": "1.5.0",
            "_view_name": "HBoxView",
            "box_style": "",
            "children": [
              "IPY_MODEL_eb717b687c544da182c04dd38964092f",
              "IPY_MODEL_37bffb1cfd2a466992df3a516be40334",
              "IPY_MODEL_b81f5303d3b446c8ac1e981782c00703"
            ],
            "layout": "IPY_MODEL_94888cc43a3046408e9091cbd719624e"
          }
        },
        "eb717b687c544da182c04dd38964092f": {
          "model_module": "@jupyter-widgets/controls",
          "model_name": "HTMLModel",
          "model_module_version": "1.5.0",
          "state": {
            "_dom_classes": [],
            "_model_module": "@jupyter-widgets/controls",
            "_model_module_version": "1.5.0",
            "_model_name": "HTMLModel",
            "_view_count": null,
            "_view_module": "@jupyter-widgets/controls",
            "_view_module_version": "1.5.0",
            "_view_name": "HTMLView",
            "description": "",
            "description_tooltip": null,
            "layout": "IPY_MODEL_7f3c4c7550744ec188aabbd3994cc3a6",
            "placeholder": "​",
            "style": "IPY_MODEL_ca2d0b71270248a0ac5ad3fc5cfa9ab0",
            "value": "100%"
          }
        },
        "37bffb1cfd2a466992df3a516be40334": {
          "model_module": "@jupyter-widgets/controls",
          "model_name": "FloatProgressModel",
          "model_module_version": "1.5.0",
          "state": {
            "_dom_classes": [],
            "_model_module": "@jupyter-widgets/controls",
            "_model_module_version": "1.5.0",
            "_model_name": "FloatProgressModel",
            "_view_count": null,
            "_view_module": "@jupyter-widgets/controls",
            "_view_module_version": "1.5.0",
            "_view_name": "ProgressView",
            "bar_style": "success",
            "description": "",
            "description_tooltip": null,
            "layout": "IPY_MODEL_d1c43029fd694a9fb322fd5687ea4229",
            "max": 1,
            "min": 0,
            "orientation": "horizontal",
            "style": "IPY_MODEL_91c42d8bfbf649f19d10df2078798c68",
            "value": 1
          }
        },
        "b81f5303d3b446c8ac1e981782c00703": {
          "model_module": "@jupyter-widgets/controls",
          "model_name": "HTMLModel",
          "model_module_version": "1.5.0",
          "state": {
            "_dom_classes": [],
            "_model_module": "@jupyter-widgets/controls",
            "_model_module_version": "1.5.0",
            "_model_name": "HTMLModel",
            "_view_count": null,
            "_view_module": "@jupyter-widgets/controls",
            "_view_module_version": "1.5.0",
            "_view_name": "HTMLView",
            "description": "",
            "description_tooltip": null,
            "layout": "IPY_MODEL_42ab50b96f21439fad9a16b584a65759",
            "placeholder": "​",
            "style": "IPY_MODEL_441b5f0b0d484e15a22821f62ecc9782",
            "value": " 1/1 [00:00&lt;00:00,  2.69ba/s]"
          }
        },
        "94888cc43a3046408e9091cbd719624e": {
          "model_module": "@jupyter-widgets/base",
          "model_name": "LayoutModel",
          "model_module_version": "1.2.0",
          "state": {
            "_model_module": "@jupyter-widgets/base",
            "_model_module_version": "1.2.0",
            "_model_name": "LayoutModel",
            "_view_count": null,
            "_view_module": "@jupyter-widgets/base",
            "_view_module_version": "1.2.0",
            "_view_name": "LayoutView",
            "align_content": null,
            "align_items": null,
            "align_self": null,
            "border": null,
            "bottom": null,
            "display": null,
            "flex": null,
            "flex_flow": null,
            "grid_area": null,
            "grid_auto_columns": null,
            "grid_auto_flow": null,
            "grid_auto_rows": null,
            "grid_column": null,
            "grid_gap": null,
            "grid_row": null,
            "grid_template_areas": null,
            "grid_template_columns": null,
            "grid_template_rows": null,
            "height": null,
            "justify_content": null,
            "justify_items": null,
            "left": null,
            "margin": null,
            "max_height": null,
            "max_width": null,
            "min_height": null,
            "min_width": null,
            "object_fit": null,
            "object_position": null,
            "order": null,
            "overflow": null,
            "overflow_x": null,
            "overflow_y": null,
            "padding": null,
            "right": null,
            "top": null,
            "visibility": null,
            "width": null
          }
        },
        "7f3c4c7550744ec188aabbd3994cc3a6": {
          "model_module": "@jupyter-widgets/base",
          "model_name": "LayoutModel",
          "model_module_version": "1.2.0",
          "state": {
            "_model_module": "@jupyter-widgets/base",
            "_model_module_version": "1.2.0",
            "_model_name": "LayoutModel",
            "_view_count": null,
            "_view_module": "@jupyter-widgets/base",
            "_view_module_version": "1.2.0",
            "_view_name": "LayoutView",
            "align_content": null,
            "align_items": null,
            "align_self": null,
            "border": null,
            "bottom": null,
            "display": null,
            "flex": null,
            "flex_flow": null,
            "grid_area": null,
            "grid_auto_columns": null,
            "grid_auto_flow": null,
            "grid_auto_rows": null,
            "grid_column": null,
            "grid_gap": null,
            "grid_row": null,
            "grid_template_areas": null,
            "grid_template_columns": null,
            "grid_template_rows": null,
            "height": null,
            "justify_content": null,
            "justify_items": null,
            "left": null,
            "margin": null,
            "max_height": null,
            "max_width": null,
            "min_height": null,
            "min_width": null,
            "object_fit": null,
            "object_position": null,
            "order": null,
            "overflow": null,
            "overflow_x": null,
            "overflow_y": null,
            "padding": null,
            "right": null,
            "top": null,
            "visibility": null,
            "width": null
          }
        },
        "ca2d0b71270248a0ac5ad3fc5cfa9ab0": {
          "model_module": "@jupyter-widgets/controls",
          "model_name": "DescriptionStyleModel",
          "model_module_version": "1.5.0",
          "state": {
            "_model_module": "@jupyter-widgets/controls",
            "_model_module_version": "1.5.0",
            "_model_name": "DescriptionStyleModel",
            "_view_count": null,
            "_view_module": "@jupyter-widgets/base",
            "_view_module_version": "1.2.0",
            "_view_name": "StyleView",
            "description_width": ""
          }
        },
        "d1c43029fd694a9fb322fd5687ea4229": {
          "model_module": "@jupyter-widgets/base",
          "model_name": "LayoutModel",
          "model_module_version": "1.2.0",
          "state": {
            "_model_module": "@jupyter-widgets/base",
            "_model_module_version": "1.2.0",
            "_model_name": "LayoutModel",
            "_view_count": null,
            "_view_module": "@jupyter-widgets/base",
            "_view_module_version": "1.2.0",
            "_view_name": "LayoutView",
            "align_content": null,
            "align_items": null,
            "align_self": null,
            "border": null,
            "bottom": null,
            "display": null,
            "flex": null,
            "flex_flow": null,
            "grid_area": null,
            "grid_auto_columns": null,
            "grid_auto_flow": null,
            "grid_auto_rows": null,
            "grid_column": null,
            "grid_gap": null,
            "grid_row": null,
            "grid_template_areas": null,
            "grid_template_columns": null,
            "grid_template_rows": null,
            "height": null,
            "justify_content": null,
            "justify_items": null,
            "left": null,
            "margin": null,
            "max_height": null,
            "max_width": null,
            "min_height": null,
            "min_width": null,
            "object_fit": null,
            "object_position": null,
            "order": null,
            "overflow": null,
            "overflow_x": null,
            "overflow_y": null,
            "padding": null,
            "right": null,
            "top": null,
            "visibility": null,
            "width": null
          }
        },
        "91c42d8bfbf649f19d10df2078798c68": {
          "model_module": "@jupyter-widgets/controls",
          "model_name": "ProgressStyleModel",
          "model_module_version": "1.5.0",
          "state": {
            "_model_module": "@jupyter-widgets/controls",
            "_model_module_version": "1.5.0",
            "_model_name": "ProgressStyleModel",
            "_view_count": null,
            "_view_module": "@jupyter-widgets/base",
            "_view_module_version": "1.2.0",
            "_view_name": "StyleView",
            "bar_color": null,
            "description_width": ""
          }
        },
        "42ab50b96f21439fad9a16b584a65759": {
          "model_module": "@jupyter-widgets/base",
          "model_name": "LayoutModel",
          "model_module_version": "1.2.0",
          "state": {
            "_model_module": "@jupyter-widgets/base",
            "_model_module_version": "1.2.0",
            "_model_name": "LayoutModel",
            "_view_count": null,
            "_view_module": "@jupyter-widgets/base",
            "_view_module_version": "1.2.0",
            "_view_name": "LayoutView",
            "align_content": null,
            "align_items": null,
            "align_self": null,
            "border": null,
            "bottom": null,
            "display": null,
            "flex": null,
            "flex_flow": null,
            "grid_area": null,
            "grid_auto_columns": null,
            "grid_auto_flow": null,
            "grid_auto_rows": null,
            "grid_column": null,
            "grid_gap": null,
            "grid_row": null,
            "grid_template_areas": null,
            "grid_template_columns": null,
            "grid_template_rows": null,
            "height": null,
            "justify_content": null,
            "justify_items": null,
            "left": null,
            "margin": null,
            "max_height": null,
            "max_width": null,
            "min_height": null,
            "min_width": null,
            "object_fit": null,
            "object_position": null,
            "order": null,
            "overflow": null,
            "overflow_x": null,
            "overflow_y": null,
            "padding": null,
            "right": null,
            "top": null,
            "visibility": null,
            "width": null
          }
        },
        "441b5f0b0d484e15a22821f62ecc9782": {
          "model_module": "@jupyter-widgets/controls",
          "model_name": "DescriptionStyleModel",
          "model_module_version": "1.5.0",
          "state": {
            "_model_module": "@jupyter-widgets/controls",
            "_model_module_version": "1.5.0",
            "_model_name": "DescriptionStyleModel",
            "_view_count": null,
            "_view_module": "@jupyter-widgets/base",
            "_view_module_version": "1.2.0",
            "_view_name": "StyleView",
            "description_width": ""
          }
        }
      }
    }
  },
  "nbformat": 4,
  "nbformat_minor": 0
}